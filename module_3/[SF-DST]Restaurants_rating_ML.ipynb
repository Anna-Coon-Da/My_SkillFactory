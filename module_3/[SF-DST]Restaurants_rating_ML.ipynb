{
 "cells": [
  {
   "cell_type": "markdown",
   "metadata": {},
   "source": [
    "# Рейтинг ресторанов по версии Trip Advisor\n",
    "## Задание к Юниту 3 \"Проект о вкусной  и здоровой пище\" \n",
    "### Анна Журавлёва, группа DST-16\n",
    "\n",
    "В данном ноутбуке на основании предложенных датасетов выполняется предсказаниие рейтинга ресторанов по версии Trip Advisor с помощью модели Random Forest."
   ]
  },
  {
   "cell_type": "markdown",
   "metadata": {},
   "source": [
    "### Загружаем необходимые для работы библиотеки"
   ]
  },
  {
   "cell_type": "code",
   "execution_count": 1,
   "metadata": {},
   "outputs": [],
   "source": [
    "import pandas as pd\n",
    "import numpy as np\n",
    "import re\n",
    "import ast\n",
    "from datetime import datetime, timedelta\n",
    "import matplotlib.pyplot as plt\n",
    "import seaborn as sns \n",
    "%matplotlib inline"
   ]
  },
  {
   "cell_type": "markdown",
   "metadata": {},
   "source": [
    "## Настройки представления"
   ]
  },
  {
   "cell_type": "code",
   "execution_count": 2,
   "metadata": {},
   "outputs": [],
   "source": [
    "pd.set_option('display.max_rows', 50) # показывать больше строк\n",
    "pd.set_option('display.max_columns', 50) # показывать больше колонок"
   ]
  },
  {
   "cell_type": "markdown",
   "metadata": {},
   "source": [
    "## Зафиксируем random seed для воспроизводимости экспериментов"
   ]
  },
  {
   "cell_type": "code",
   "execution_count": 3,
   "metadata": {},
   "outputs": [],
   "source": [
    "RANDOM_SEED = 42"
   ]
  },
  {
   "cell_type": "markdown",
   "metadata": {},
   "source": [
    "## Зафиксируем версию пакетов"
   ]
  },
  {
   "cell_type": "code",
   "execution_count": 4,
   "metadata": {},
   "outputs": [],
   "source": [
    "!pip freeze > requirements.txt"
   ]
  },
  {
   "cell_type": "markdown",
   "metadata": {},
   "source": [
    "## Загрузка, обзор и преобразование данных\n",
    "Данные представлены в виде выложенных на kaggle двух датасетов c данными и одного датасета для представления на соревнование. Все датасеты предложены  в формате csv."
   ]
  },
  {
   "cell_type": "markdown",
   "metadata": {},
   "source": [
    "Загрузим датасеты:"
   ]
  },
  {
   "cell_type": "code",
   "execution_count": 5,
   "metadata": {},
   "outputs": [],
   "source": [
    "df_train = pd.read_csv('main_task.csv')\n",
    "df_test = pd.read_csv('kaggle_task.csv')\n",
    "sample_submission = pd.read_csv('sample_submission.csv')"
   ]
  },
  {
   "cell_type": "markdown",
   "metadata": {},
   "source": [
    "Рассмотрим первый датасет"
   ]
  },
  {
   "cell_type": "code",
   "execution_count": 6,
   "metadata": {},
   "outputs": [
    {
     "data": {
      "text/html": [
       "<div>\n",
       "<style scoped>\n",
       "    .dataframe tbody tr th:only-of-type {\n",
       "        vertical-align: middle;\n",
       "    }\n",
       "\n",
       "    .dataframe tbody tr th {\n",
       "        vertical-align: top;\n",
       "    }\n",
       "\n",
       "    .dataframe thead th {\n",
       "        text-align: right;\n",
       "    }\n",
       "</style>\n",
       "<table border=\"1\" class=\"dataframe\">\n",
       "  <thead>\n",
       "    <tr style=\"text-align: right;\">\n",
       "      <th></th>\n",
       "      <th>Restaurant_id</th>\n",
       "      <th>City</th>\n",
       "      <th>Cuisine Style</th>\n",
       "      <th>Ranking</th>\n",
       "      <th>Rating</th>\n",
       "      <th>Price Range</th>\n",
       "      <th>Number of Reviews</th>\n",
       "      <th>Reviews</th>\n",
       "      <th>URL_TA</th>\n",
       "      <th>ID_TA</th>\n",
       "    </tr>\n",
       "  </thead>\n",
       "  <tbody>\n",
       "    <tr>\n",
       "      <th>0</th>\n",
       "      <td>id_5569</td>\n",
       "      <td>Paris</td>\n",
       "      <td>['European', 'French', 'International']</td>\n",
       "      <td>5570.0</td>\n",
       "      <td>3.5</td>\n",
       "      <td>$$ - $$$</td>\n",
       "      <td>194.0</td>\n",
       "      <td>[['Good food at your doorstep', 'A good hotel ...</td>\n",
       "      <td>/Restaurant_Review-g187147-d1912643-Reviews-R_...</td>\n",
       "      <td>d1912643</td>\n",
       "    </tr>\n",
       "    <tr>\n",
       "      <th>1</th>\n",
       "      <td>id_1535</td>\n",
       "      <td>Stockholm</td>\n",
       "      <td>NaN</td>\n",
       "      <td>1537.0</td>\n",
       "      <td>4.0</td>\n",
       "      <td>NaN</td>\n",
       "      <td>10.0</td>\n",
       "      <td>[['Unique cuisine', 'Delicious Nepalese food']...</td>\n",
       "      <td>/Restaurant_Review-g189852-d7992032-Reviews-Bu...</td>\n",
       "      <td>d7992032</td>\n",
       "    </tr>\n",
       "    <tr>\n",
       "      <th>2</th>\n",
       "      <td>id_352</td>\n",
       "      <td>London</td>\n",
       "      <td>['Japanese', 'Sushi', 'Asian', 'Grill', 'Veget...</td>\n",
       "      <td>353.0</td>\n",
       "      <td>4.5</td>\n",
       "      <td>$$$$</td>\n",
       "      <td>688.0</td>\n",
       "      <td>[['Catch up with friends', 'Not exceptional'],...</td>\n",
       "      <td>/Restaurant_Review-g186338-d8632781-Reviews-RO...</td>\n",
       "      <td>d8632781</td>\n",
       "    </tr>\n",
       "    <tr>\n",
       "      <th>3</th>\n",
       "      <td>id_3456</td>\n",
       "      <td>Berlin</td>\n",
       "      <td>NaN</td>\n",
       "      <td>3458.0</td>\n",
       "      <td>5.0</td>\n",
       "      <td>NaN</td>\n",
       "      <td>3.0</td>\n",
       "      <td>[[], []]</td>\n",
       "      <td>/Restaurant_Review-g187323-d1358776-Reviews-Es...</td>\n",
       "      <td>d1358776</td>\n",
       "    </tr>\n",
       "    <tr>\n",
       "      <th>4</th>\n",
       "      <td>id_615</td>\n",
       "      <td>Munich</td>\n",
       "      <td>['German', 'Central European', 'Vegetarian Fri...</td>\n",
       "      <td>621.0</td>\n",
       "      <td>4.0</td>\n",
       "      <td>$$ - $$$</td>\n",
       "      <td>84.0</td>\n",
       "      <td>[['Best place to try a Bavarian food', 'Nice b...</td>\n",
       "      <td>/Restaurant_Review-g187309-d6864963-Reviews-Au...</td>\n",
       "      <td>d6864963</td>\n",
       "    </tr>\n",
       "  </tbody>\n",
       "</table>\n",
       "</div>"
      ],
      "text/plain": [
       "  Restaurant_id       City                                      Cuisine Style  \\\n",
       "0       id_5569      Paris            ['European', 'French', 'International']   \n",
       "1       id_1535  Stockholm                                                NaN   \n",
       "2        id_352     London  ['Japanese', 'Sushi', 'Asian', 'Grill', 'Veget...   \n",
       "3       id_3456     Berlin                                                NaN   \n",
       "4        id_615     Munich  ['German', 'Central European', 'Vegetarian Fri...   \n",
       "\n",
       "   Ranking  Rating Price Range  Number of Reviews  \\\n",
       "0   5570.0     3.5    $$ - $$$              194.0   \n",
       "1   1537.0     4.0         NaN               10.0   \n",
       "2    353.0     4.5        $$$$              688.0   \n",
       "3   3458.0     5.0         NaN                3.0   \n",
       "4    621.0     4.0    $$ - $$$               84.0   \n",
       "\n",
       "                                             Reviews  \\\n",
       "0  [['Good food at your doorstep', 'A good hotel ...   \n",
       "1  [['Unique cuisine', 'Delicious Nepalese food']...   \n",
       "2  [['Catch up with friends', 'Not exceptional'],...   \n",
       "3                                           [[], []]   \n",
       "4  [['Best place to try a Bavarian food', 'Nice b...   \n",
       "\n",
       "                                              URL_TA     ID_TA  \n",
       "0  /Restaurant_Review-g187147-d1912643-Reviews-R_...  d1912643  \n",
       "1  /Restaurant_Review-g189852-d7992032-Reviews-Bu...  d7992032  \n",
       "2  /Restaurant_Review-g186338-d8632781-Reviews-RO...  d8632781  \n",
       "3  /Restaurant_Review-g187323-d1358776-Reviews-Es...  d1358776  \n",
       "4  /Restaurant_Review-g187309-d6864963-Reviews-Au...  d6864963  "
      ]
     },
     "execution_count": 6,
     "metadata": {},
     "output_type": "execute_result"
    }
   ],
   "source": [
    "df_train.head()"
   ]
  },
  {
   "cell_type": "code",
   "execution_count": 7,
   "metadata": {},
   "outputs": [
    {
     "name": "stdout",
     "output_type": "stream",
     "text": [
      "<class 'pandas.core.frame.DataFrame'>\n",
      "RangeIndex: 40000 entries, 0 to 39999\n",
      "Data columns (total 10 columns):\n",
      " #   Column             Non-Null Count  Dtype  \n",
      "---  ------             --------------  -----  \n",
      " 0   Restaurant_id      40000 non-null  object \n",
      " 1   City               40000 non-null  object \n",
      " 2   Cuisine Style      30717 non-null  object \n",
      " 3   Ranking            40000 non-null  float64\n",
      " 4   Rating             40000 non-null  float64\n",
      " 5   Price Range        26114 non-null  object \n",
      " 6   Number of Reviews  37457 non-null  float64\n",
      " 7   Reviews            40000 non-null  object \n",
      " 8   URL_TA             40000 non-null  object \n",
      " 9   ID_TA              40000 non-null  object \n",
      "dtypes: float64(3), object(7)\n",
      "memory usage: 3.1+ MB\n"
     ]
    }
   ],
   "source": [
    "df_train.info()"
   ]
  },
  {
   "cell_type": "markdown",
   "metadata": {},
   "source": [
    "В первом датасете 40000 записей и 10 колонок с информацией. Пустые значения явным образом содержатся в трёх колонках.\n",
    "\n",
    "Рассмотрим второй датасет"
   ]
  },
  {
   "cell_type": "code",
   "execution_count": 8,
   "metadata": {},
   "outputs": [
    {
     "data": {
      "text/html": [
       "<div>\n",
       "<style scoped>\n",
       "    .dataframe tbody tr th:only-of-type {\n",
       "        vertical-align: middle;\n",
       "    }\n",
       "\n",
       "    .dataframe tbody tr th {\n",
       "        vertical-align: top;\n",
       "    }\n",
       "\n",
       "    .dataframe thead th {\n",
       "        text-align: right;\n",
       "    }\n",
       "</style>\n",
       "<table border=\"1\" class=\"dataframe\">\n",
       "  <thead>\n",
       "    <tr style=\"text-align: right;\">\n",
       "      <th></th>\n",
       "      <th>Restaurant_id</th>\n",
       "      <th>City</th>\n",
       "      <th>Cuisine Style</th>\n",
       "      <th>Ranking</th>\n",
       "      <th>Price Range</th>\n",
       "      <th>Number of Reviews</th>\n",
       "      <th>Reviews</th>\n",
       "      <th>URL_TA</th>\n",
       "      <th>ID_TA</th>\n",
       "    </tr>\n",
       "  </thead>\n",
       "  <tbody>\n",
       "    <tr>\n",
       "      <th>0</th>\n",
       "      <td>id_0</td>\n",
       "      <td>Paris</td>\n",
       "      <td>['Bar', 'Pub']</td>\n",
       "      <td>12963.0</td>\n",
       "      <td>$$ - $$$</td>\n",
       "      <td>4.0</td>\n",
       "      <td>[[], []]</td>\n",
       "      <td>/Restaurant_Review-g187147-d10746918-Reviews-L...</td>\n",
       "      <td>d10746918</td>\n",
       "    </tr>\n",
       "    <tr>\n",
       "      <th>1</th>\n",
       "      <td>id_1</td>\n",
       "      <td>Helsinki</td>\n",
       "      <td>['European', 'Scandinavian', 'Gluten Free Opti...</td>\n",
       "      <td>106.0</td>\n",
       "      <td>$$ - $$$</td>\n",
       "      <td>97.0</td>\n",
       "      <td>[['Very good reviews!', 'Fine dining in Hakani...</td>\n",
       "      <td>/Restaurant_Review-g189934-d6674944-Reviews-Ra...</td>\n",
       "      <td>d6674944</td>\n",
       "    </tr>\n",
       "    <tr>\n",
       "      <th>2</th>\n",
       "      <td>id_2</td>\n",
       "      <td>Edinburgh</td>\n",
       "      <td>['Vegetarian Friendly']</td>\n",
       "      <td>810.0</td>\n",
       "      <td>$$ - $$$</td>\n",
       "      <td>28.0</td>\n",
       "      <td>[['Better than the Links', 'Ivy Black'], ['12/...</td>\n",
       "      <td>/Restaurant_Review-g186525-d13129638-Reviews-B...</td>\n",
       "      <td>d13129638</td>\n",
       "    </tr>\n",
       "    <tr>\n",
       "      <th>3</th>\n",
       "      <td>id_3</td>\n",
       "      <td>London</td>\n",
       "      <td>['Italian', 'Mediterranean', 'European', 'Vege...</td>\n",
       "      <td>1669.0</td>\n",
       "      <td>$$$$</td>\n",
       "      <td>202.0</td>\n",
       "      <td>[['Most exquisite', 'Delicious and authentic']...</td>\n",
       "      <td>/Restaurant_Review-g186338-d680417-Reviews-Qui...</td>\n",
       "      <td>d680417</td>\n",
       "    </tr>\n",
       "    <tr>\n",
       "      <th>4</th>\n",
       "      <td>id_4</td>\n",
       "      <td>Bratislava</td>\n",
       "      <td>['Italian', 'Mediterranean', 'European', 'Seaf...</td>\n",
       "      <td>37.0</td>\n",
       "      <td>$$$$</td>\n",
       "      <td>162.0</td>\n",
       "      <td>[['Always the best in bratislava', 'Very good ...</td>\n",
       "      <td>/Restaurant_Review-g274924-d1112354-Reviews-Ma...</td>\n",
       "      <td>d1112354</td>\n",
       "    </tr>\n",
       "  </tbody>\n",
       "</table>\n",
       "</div>"
      ],
      "text/plain": [
       "  Restaurant_id        City  \\\n",
       "0          id_0       Paris   \n",
       "1          id_1    Helsinki   \n",
       "2          id_2   Edinburgh   \n",
       "3          id_3      London   \n",
       "4          id_4  Bratislava   \n",
       "\n",
       "                                       Cuisine Style  Ranking Price Range  \\\n",
       "0                                     ['Bar', 'Pub']  12963.0    $$ - $$$   \n",
       "1  ['European', 'Scandinavian', 'Gluten Free Opti...    106.0    $$ - $$$   \n",
       "2                            ['Vegetarian Friendly']    810.0    $$ - $$$   \n",
       "3  ['Italian', 'Mediterranean', 'European', 'Vege...   1669.0        $$$$   \n",
       "4  ['Italian', 'Mediterranean', 'European', 'Seaf...     37.0        $$$$   \n",
       "\n",
       "   Number of Reviews                                            Reviews  \\\n",
       "0                4.0                                           [[], []]   \n",
       "1               97.0  [['Very good reviews!', 'Fine dining in Hakani...   \n",
       "2               28.0  [['Better than the Links', 'Ivy Black'], ['12/...   \n",
       "3              202.0  [['Most exquisite', 'Delicious and authentic']...   \n",
       "4              162.0  [['Always the best in bratislava', 'Very good ...   \n",
       "\n",
       "                                              URL_TA      ID_TA  \n",
       "0  /Restaurant_Review-g187147-d10746918-Reviews-L...  d10746918  \n",
       "1  /Restaurant_Review-g189934-d6674944-Reviews-Ra...   d6674944  \n",
       "2  /Restaurant_Review-g186525-d13129638-Reviews-B...  d13129638  \n",
       "3  /Restaurant_Review-g186338-d680417-Reviews-Qui...    d680417  \n",
       "4  /Restaurant_Review-g274924-d1112354-Reviews-Ma...   d1112354  "
      ]
     },
     "execution_count": 8,
     "metadata": {},
     "output_type": "execute_result"
    }
   ],
   "source": [
    "df_test.head()"
   ]
  },
  {
   "cell_type": "code",
   "execution_count": 9,
   "metadata": {},
   "outputs": [
    {
     "name": "stdout",
     "output_type": "stream",
     "text": [
      "<class 'pandas.core.frame.DataFrame'>\n",
      "RangeIndex: 10000 entries, 0 to 9999\n",
      "Data columns (total 9 columns):\n",
      " #   Column             Non-Null Count  Dtype  \n",
      "---  ------             --------------  -----  \n",
      " 0   Restaurant_id      10000 non-null  object \n",
      " 1   City               10000 non-null  object \n",
      " 2   Cuisine Style      7693 non-null   object \n",
      " 3   Ranking            10000 non-null  float64\n",
      " 4   Price Range        6525 non-null   object \n",
      " 5   Number of Reviews  9343 non-null   float64\n",
      " 6   Reviews            9998 non-null   object \n",
      " 7   URL_TA             10000 non-null  object \n",
      " 8   ID_TA              10000 non-null  object \n",
      "dtypes: float64(2), object(7)\n",
      "memory usage: 703.2+ KB\n"
     ]
    }
   ],
   "source": [
    "df_test.info()"
   ]
  },
  {
   "cell_type": "markdown",
   "metadata": {},
   "source": [
    "Во втором датасете 10000 записей и 9 колонок с информацией. Пропуски в явном виде содержатся в 4 колонках. По заголовкам колонок и примерному содержанию согласно информации, видимой в head, датасеты совпадают за исключением столбца Rating, который и должен быть рассчитан по алгоритму, обученному из тестовых данных.\n",
    "\n",
    "Рассмотрим третий датасет"
   ]
  },
  {
   "cell_type": "code",
   "execution_count": 10,
   "metadata": {},
   "outputs": [
    {
     "data": {
      "text/html": [
       "<div>\n",
       "<style scoped>\n",
       "    .dataframe tbody tr th:only-of-type {\n",
       "        vertical-align: middle;\n",
       "    }\n",
       "\n",
       "    .dataframe tbody tr th {\n",
       "        vertical-align: top;\n",
       "    }\n",
       "\n",
       "    .dataframe thead th {\n",
       "        text-align: right;\n",
       "    }\n",
       "</style>\n",
       "<table border=\"1\" class=\"dataframe\">\n",
       "  <thead>\n",
       "    <tr style=\"text-align: right;\">\n",
       "      <th></th>\n",
       "      <th>Restaurant_id</th>\n",
       "      <th>Rating</th>\n",
       "    </tr>\n",
       "  </thead>\n",
       "  <tbody>\n",
       "    <tr>\n",
       "      <th>0</th>\n",
       "      <td>id_0</td>\n",
       "      <td>2.0</td>\n",
       "    </tr>\n",
       "    <tr>\n",
       "      <th>1</th>\n",
       "      <td>id_1</td>\n",
       "      <td>2.5</td>\n",
       "    </tr>\n",
       "    <tr>\n",
       "      <th>2</th>\n",
       "      <td>id_2</td>\n",
       "      <td>4.0</td>\n",
       "    </tr>\n",
       "    <tr>\n",
       "      <th>3</th>\n",
       "      <td>id_3</td>\n",
       "      <td>1.0</td>\n",
       "    </tr>\n",
       "    <tr>\n",
       "      <th>4</th>\n",
       "      <td>id_4</td>\n",
       "      <td>4.0</td>\n",
       "    </tr>\n",
       "  </tbody>\n",
       "</table>\n",
       "</div>"
      ],
      "text/plain": [
       "  Restaurant_id  Rating\n",
       "0          id_0     2.0\n",
       "1          id_1     2.5\n",
       "2          id_2     4.0\n",
       "3          id_3     1.0\n",
       "4          id_4     4.0"
      ]
     },
     "execution_count": 10,
     "metadata": {},
     "output_type": "execute_result"
    }
   ],
   "source": [
    "sample_submission.head()"
   ]
  },
  {
   "cell_type": "code",
   "execution_count": 11,
   "metadata": {},
   "outputs": [
    {
     "name": "stdout",
     "output_type": "stream",
     "text": [
      "<class 'pandas.core.frame.DataFrame'>\n",
      "RangeIndex: 10000 entries, 0 to 9999\n",
      "Data columns (total 2 columns):\n",
      " #   Column         Non-Null Count  Dtype  \n",
      "---  ------         --------------  -----  \n",
      " 0   Restaurant_id  10000 non-null  object \n",
      " 1   Rating         10000 non-null  float64\n",
      "dtypes: float64(1), object(1)\n",
      "memory usage: 156.4+ KB\n"
     ]
    }
   ],
   "source": [
    "sample_submission.info()"
   ]
  },
  {
   "cell_type": "markdown",
   "metadata": {},
   "source": [
    "Файл представляет собой список рейтингов ресторанов в привязке к ID. Он потребуется в финальной части для предоставления данных на Kaggle.\n",
    "\n",
    "Для корректной обработки признаков объединяем трейн и тест в один датасет."
   ]
  },
  {
   "cell_type": "code",
   "execution_count": 12,
   "metadata": {},
   "outputs": [],
   "source": [
    "df_train['sample'] = 1 # помечаем где у нас трейн\n",
    "df_test['sample'] = 0 # помечаем где у нас тест\n",
    "df_test['Rating'] = 0 # в тесте у нас нет значения Rating, мы его должны предсказать, по этому пока просто заполняем нулями\n",
    "\n",
    "data = df_test.append(df_train, sort=False).reset_index(drop=True) # объединяем"
   ]
  },
  {
   "cell_type": "code",
   "execution_count": 13,
   "metadata": {},
   "outputs": [
    {
     "name": "stdout",
     "output_type": "stream",
     "text": [
      "<class 'pandas.core.frame.DataFrame'>\n",
      "RangeIndex: 50000 entries, 0 to 49999\n",
      "Data columns (total 11 columns):\n",
      " #   Column             Non-Null Count  Dtype  \n",
      "---  ------             --------------  -----  \n",
      " 0   Restaurant_id      50000 non-null  object \n",
      " 1   City               50000 non-null  object \n",
      " 2   Cuisine Style      38410 non-null  object \n",
      " 3   Ranking            50000 non-null  float64\n",
      " 4   Price Range        32639 non-null  object \n",
      " 5   Number of Reviews  46800 non-null  float64\n",
      " 6   Reviews            49998 non-null  object \n",
      " 7   URL_TA             50000 non-null  object \n",
      " 8   ID_TA              50000 non-null  object \n",
      " 9   sample             50000 non-null  int64  \n",
      " 10  Rating             50000 non-null  float64\n",
      "dtypes: float64(3), int64(1), object(7)\n",
      "memory usage: 4.2+ MB\n"
     ]
    }
   ],
   "source": [
    "data.info()"
   ]
  },
  {
   "cell_type": "markdown",
   "metadata": {},
   "source": [
    "Подробнее по признакам:\n",
    "\n",
    "- City: Город\n",
    "- Cuisine Style: Кухня\n",
    "- Ranking: Ранг ресторана относительно других ресторанов в этом городе\n",
    "- Price Range: Цены в ресторане в 3 категориях\n",
    "- Number of Reviews: Количество отзывов\n",
    "- Reviews: 2 последних отзыва и даты этих отзывов\n",
    "- URL_TA: страница ресторана на 'www.tripadvisor.com'\n",
    "- ID_TA: ID ресторана в TripAdvisor\n",
    "- Rating: Рейтинг ресторана\n",
    "\n",
    "Признаки требуют заполнения пропусков, преобразования и обработки.\n",
    "\n",
    "## Очистка и преобразование данных\n",
    "Рассмотрим данные в комплексе и по столбцам.\n",
    "Оценим данные на наличие повторов. Функцию,высчитывающую процент пустых значений, запускать не будем, т.к. пустые значения удалению не подлежат."
   ]
  },
  {
   "cell_type": "code",
   "execution_count": 14,
   "metadata": {},
   "outputs": [
    {
     "data": {
      "text/plain": [
       "Restaurant_id        13094\n",
       "City                    31\n",
       "Cuisine Style        10732\n",
       "Ranking              12975\n",
       "Price Range              4\n",
       "Number of Reviews     1574\n",
       "Reviews              41858\n",
       "URL_TA               49963\n",
       "ID_TA                49963\n",
       "sample                   2\n",
       "Rating                  10\n",
       "dtype: int64"
      ]
     },
     "execution_count": 14,
     "metadata": {},
     "output_type": "execute_result"
    }
   ],
   "source": [
    "data.nunique(dropna=False)"
   ]
  },
  {
   "cell_type": "markdown",
   "metadata": {},
   "source": [
    "Интересно, что в категории Restaurant_id не все значения уникальны. \n",
    "Начнём рассмотрение с этой категории."
   ]
  },
  {
   "cell_type": "code",
   "execution_count": 15,
   "metadata": {},
   "outputs": [
    {
     "data": {
      "text/plain": [
       "id_871      19\n",
       "id_436      19\n",
       "id_633      19\n",
       "id_227      19\n",
       "id_321      18\n",
       "            ..\n",
       "id_11623     1\n",
       "id_6715      1\n",
       "id_10217     1\n",
       "id_11761     1\n",
       "id_14788     1\n",
       "Name: Restaurant_id, Length: 13094, dtype: int64"
      ]
     },
     "execution_count": 15,
     "metadata": {},
     "output_type": "execute_result"
    }
   ],
   "source": [
    "data['Restaurant_id'].value_counts()"
   ]
  },
  {
   "cell_type": "markdown",
   "metadata": {},
   "source": [
    "Действительно, некоторые позиции повторяются почти 20 раз. Профильтруем датасет по топовому значению, возможно, что-то увидим."
   ]
  },
  {
   "cell_type": "code",
   "execution_count": 16,
   "metadata": {},
   "outputs": [
    {
     "data": {
      "text/html": [
       "<div>\n",
       "<style scoped>\n",
       "    .dataframe tbody tr th:only-of-type {\n",
       "        vertical-align: middle;\n",
       "    }\n",
       "\n",
       "    .dataframe tbody tr th {\n",
       "        vertical-align: top;\n",
       "    }\n",
       "\n",
       "    .dataframe thead th {\n",
       "        text-align: right;\n",
       "    }\n",
       "</style>\n",
       "<table border=\"1\" class=\"dataframe\">\n",
       "  <thead>\n",
       "    <tr style=\"text-align: right;\">\n",
       "      <th></th>\n",
       "      <th>Restaurant_id</th>\n",
       "      <th>City</th>\n",
       "      <th>Cuisine Style</th>\n",
       "      <th>Ranking</th>\n",
       "      <th>Price Range</th>\n",
       "      <th>Number of Reviews</th>\n",
       "      <th>Reviews</th>\n",
       "      <th>URL_TA</th>\n",
       "      <th>ID_TA</th>\n",
       "      <th>sample</th>\n",
       "      <th>Rating</th>\n",
       "    </tr>\n",
       "  </thead>\n",
       "  <tbody>\n",
       "    <tr>\n",
       "      <th>436</th>\n",
       "      <td>id_436</td>\n",
       "      <td>Lisbon</td>\n",
       "      <td>['European', 'Portuguese']</td>\n",
       "      <td>2904.0</td>\n",
       "      <td>NaN</td>\n",
       "      <td>2.0</td>\n",
       "      <td>[[], []]</td>\n",
       "      <td>/Restaurant_Review-g189158-d5003144-Reviews-Gu...</td>\n",
       "      <td>d5003144</td>\n",
       "      <td>0</td>\n",
       "      <td>0.0</td>\n",
       "    </tr>\n",
       "    <tr>\n",
       "      <th>12955</th>\n",
       "      <td>id_436</td>\n",
       "      <td>Barcelona</td>\n",
       "      <td>['Seafood', 'Mediterranean', 'Spanish', 'Glute...</td>\n",
       "      <td>437.0</td>\n",
       "      <td>$$ - $$$</td>\n",
       "      <td>546.0</td>\n",
       "      <td>[['Fresh Fish', 'Perfect concept'], ['01/03/20...</td>\n",
       "      <td>/Restaurant_Review-g187497-d1592613-Reviews-La...</td>\n",
       "      <td>d1592613</td>\n",
       "      <td>1</td>\n",
       "      <td>4.5</td>\n",
       "    </tr>\n",
       "    <tr>\n",
       "      <th>14674</th>\n",
       "      <td>id_436</td>\n",
       "      <td>Copenhagen</td>\n",
       "      <td>['European', 'Spanish', 'Mediterranean', 'Vege...</td>\n",
       "      <td>437.0</td>\n",
       "      <td>$$ - $$$</td>\n",
       "      <td>89.0</td>\n",
       "      <td>[['Lovely restaurant', 'Great atmosphere and g...</td>\n",
       "      <td>/Restaurant_Review-g189541-d8738362-Reviews-To...</td>\n",
       "      <td>d8738362</td>\n",
       "      <td>1</td>\n",
       "      <td>4.0</td>\n",
       "    </tr>\n",
       "    <tr>\n",
       "      <th>16118</th>\n",
       "      <td>id_436</td>\n",
       "      <td>Oporto</td>\n",
       "      <td>['European', 'Portuguese', 'Soups', 'Cafe', 'V...</td>\n",
       "      <td>437.0</td>\n",
       "      <td>$</td>\n",
       "      <td>71.0</td>\n",
       "      <td>[['Super nice healthy and good', 'Great lunch ...</td>\n",
       "      <td>/Restaurant_Review-g189180-d9463122-Reviews-Ca...</td>\n",
       "      <td>d9463122</td>\n",
       "      <td>1</td>\n",
       "      <td>4.5</td>\n",
       "    </tr>\n",
       "    <tr>\n",
       "      <th>16215</th>\n",
       "      <td>id_436</td>\n",
       "      <td>Budapest</td>\n",
       "      <td>['American', 'Vegetarian Friendly', 'Vegan Opt...</td>\n",
       "      <td>437.0</td>\n",
       "      <td>$</td>\n",
       "      <td>68.0</td>\n",
       "      <td>[['Excellent', 'Best burger ever!'], ['12/05/2...</td>\n",
       "      <td>/Restaurant_Review-g274887-d10438365-Reviews-B...</td>\n",
       "      <td>d10438365</td>\n",
       "      <td>1</td>\n",
       "      <td>4.5</td>\n",
       "    </tr>\n",
       "    <tr>\n",
       "      <th>17377</th>\n",
       "      <td>id_436</td>\n",
       "      <td>Luxembourg</td>\n",
       "      <td>['Asian']</td>\n",
       "      <td>437.0</td>\n",
       "      <td>NaN</td>\n",
       "      <td>2.0</td>\n",
       "      <td>[['ZEN'], ['06/11/2016']]</td>\n",
       "      <td>/Restaurant_Review-g190356-d743888-Reviews-Zen...</td>\n",
       "      <td>d743888</td>\n",
       "      <td>1</td>\n",
       "      <td>4.5</td>\n",
       "    </tr>\n",
       "    <tr>\n",
       "      <th>18168</th>\n",
       "      <td>id_436</td>\n",
       "      <td>Oslo</td>\n",
       "      <td>['European', 'Scandinavian']</td>\n",
       "      <td>437.0</td>\n",
       "      <td>$$$$</td>\n",
       "      <td>51.0</td>\n",
       "      <td>[['Stunning views over Oslo', 'Brilliant break...</td>\n",
       "      <td>/Restaurant_Review-g190479-d2036436-Reviews-Re...</td>\n",
       "      <td>d2036436</td>\n",
       "      <td>1</td>\n",
       "      <td>4.0</td>\n",
       "    </tr>\n",
       "    <tr>\n",
       "      <th>18497</th>\n",
       "      <td>id_436</td>\n",
       "      <td>Milan</td>\n",
       "      <td>['Italian', 'Pizza', 'Mediterranean', 'Vegetar...</td>\n",
       "      <td>437.0</td>\n",
       "      <td>$$ - $$$</td>\n",
       "      <td>855.0</td>\n",
       "      <td>[['Nice Napoli style pizza place', 'Great Neap...</td>\n",
       "      <td>/Restaurant_Review-g187849-d1553645-Reviews-Il...</td>\n",
       "      <td>d1553645</td>\n",
       "      <td>1</td>\n",
       "      <td>4.0</td>\n",
       "    </tr>\n",
       "    <tr>\n",
       "      <th>22554</th>\n",
       "      <td>id_436</td>\n",
       "      <td>Ljubljana</td>\n",
       "      <td>NaN</td>\n",
       "      <td>437.0</td>\n",
       "      <td>NaN</td>\n",
       "      <td>14.0</td>\n",
       "      <td>[['Terrible staff and service', 'Disrespectful...</td>\n",
       "      <td>/Restaurant_Review-g274873-d12607480-Reviews-C...</td>\n",
       "      <td>d12607480</td>\n",
       "      <td>1</td>\n",
       "      <td>3.0</td>\n",
       "    </tr>\n",
       "    <tr>\n",
       "      <th>23313</th>\n",
       "      <td>id_436</td>\n",
       "      <td>Krakow</td>\n",
       "      <td>['Vegetarian Friendly']</td>\n",
       "      <td>437.0</td>\n",
       "      <td>$$ - $$$</td>\n",
       "      <td>18.0</td>\n",
       "      <td>[['Great find, 100% recommend', 'Amazing brunc...</td>\n",
       "      <td>/Restaurant_Review-g274772-d12404722-Reviews-R...</td>\n",
       "      <td>d12404722</td>\n",
       "      <td>1</td>\n",
       "      <td>4.5</td>\n",
       "    </tr>\n",
       "    <tr>\n",
       "      <th>26973</th>\n",
       "      <td>id_436</td>\n",
       "      <td>Stockholm</td>\n",
       "      <td>['Italian', 'Pizza', 'Vegetarian Friendly', 'G...</td>\n",
       "      <td>437.0</td>\n",
       "      <td>$$ - $$$</td>\n",
       "      <td>30.0</td>\n",
       "      <td>[['Awesome pizza', 'Meno male- a nice discover...</td>\n",
       "      <td>/Restaurant_Review-g189852-d12519439-Reviews-M...</td>\n",
       "      <td>d12519439</td>\n",
       "      <td>1</td>\n",
       "      <td>4.5</td>\n",
       "    </tr>\n",
       "    <tr>\n",
       "      <th>29686</th>\n",
       "      <td>id_436</td>\n",
       "      <td>Berlin</td>\n",
       "      <td>['Mediterranean', 'European', 'Italian', 'Seaf...</td>\n",
       "      <td>437.0</td>\n",
       "      <td>$$ - $$$</td>\n",
       "      <td>84.0</td>\n",
       "      <td>[['Excellent food', 'Buonissimo'], ['12/15/201...</td>\n",
       "      <td>/Restaurant_Review-g187323-d8087299-Reviews-In...</td>\n",
       "      <td>d8087299</td>\n",
       "      <td>1</td>\n",
       "      <td>4.5</td>\n",
       "    </tr>\n",
       "    <tr>\n",
       "      <th>31302</th>\n",
       "      <td>id_436</td>\n",
       "      <td>London</td>\n",
       "      <td>['Seafood', 'European', 'British', 'Soups', 'V...</td>\n",
       "      <td>437.0</td>\n",
       "      <td>$$$$</td>\n",
       "      <td>1606.0</td>\n",
       "      <td>[['Expensive but still worthwhile', 'Personali...</td>\n",
       "      <td>/Restaurant_Review-g186338-d733537-Reviews-Ben...</td>\n",
       "      <td>d733537</td>\n",
       "      <td>1</td>\n",
       "      <td>4.0</td>\n",
       "    </tr>\n",
       "    <tr>\n",
       "      <th>31861</th>\n",
       "      <td>id_436</td>\n",
       "      <td>Rome</td>\n",
       "      <td>['Italian', 'Cafe', 'Vegetarian Friendly', 'Ve...</td>\n",
       "      <td>437.0</td>\n",
       "      <td>$</td>\n",
       "      <td>374.0</td>\n",
       "      <td>[['A hidden gem!', 'Highly recommended!!'], ['...</td>\n",
       "      <td>/Restaurant_Review-g187791-d3340828-Reviews-Ba...</td>\n",
       "      <td>d3340828</td>\n",
       "      <td>1</td>\n",
       "      <td>4.5</td>\n",
       "    </tr>\n",
       "    <tr>\n",
       "      <th>33452</th>\n",
       "      <td>id_436</td>\n",
       "      <td>Munich</td>\n",
       "      <td>['Cafe', 'Mediterranean', 'European', 'Central...</td>\n",
       "      <td>440.0</td>\n",
       "      <td>$$ - $$$</td>\n",
       "      <td>83.0</td>\n",
       "      <td>[['fantastissimo', 'Excellent food und service...</td>\n",
       "      <td>/Restaurant_Review-g187309-d1837048-Reviews-L_...</td>\n",
       "      <td>d1837048</td>\n",
       "      <td>1</td>\n",
       "      <td>4.5</td>\n",
       "    </tr>\n",
       "    <tr>\n",
       "      <th>33799</th>\n",
       "      <td>id_436</td>\n",
       "      <td>Athens</td>\n",
       "      <td>['American', 'Bar', 'Central American', 'Veget...</td>\n",
       "      <td>437.0</td>\n",
       "      <td>$$ - $$$</td>\n",
       "      <td>207.0</td>\n",
       "      <td>[['Past its prime', 'Nice to be back'], ['11/2...</td>\n",
       "      <td>/Restaurant_Review-g189400-d789069-Reviews-TGI...</td>\n",
       "      <td>d789069</td>\n",
       "      <td>1</td>\n",
       "      <td>4.0</td>\n",
       "    </tr>\n",
       "    <tr>\n",
       "      <th>36902</th>\n",
       "      <td>id_436</td>\n",
       "      <td>Hamburg</td>\n",
       "      <td>['European', 'Swedish', 'Scandinavian', 'Danis...</td>\n",
       "      <td>437.0</td>\n",
       "      <td>$$ - $$$</td>\n",
       "      <td>47.0</td>\n",
       "      <td>[['Scandi cafe in hamburg', 'Scandinavian want...</td>\n",
       "      <td>/Restaurant_Review-g187331-d1962984-Reviews-Ka...</td>\n",
       "      <td>d1962984</td>\n",
       "      <td>1</td>\n",
       "      <td>4.0</td>\n",
       "    </tr>\n",
       "    <tr>\n",
       "      <th>41248</th>\n",
       "      <td>id_436</td>\n",
       "      <td>Vienna</td>\n",
       "      <td>['Japanese', 'Asian', 'Vegetarian Friendly', '...</td>\n",
       "      <td>437.0</td>\n",
       "      <td>$$ - $$$</td>\n",
       "      <td>119.0</td>\n",
       "      <td>[['Japan in Austria', 'Real Japanese food in V...</td>\n",
       "      <td>/Restaurant_Review-g190454-d788089-Reviews-Kui...</td>\n",
       "      <td>d788089</td>\n",
       "      <td>1</td>\n",
       "      <td>4.5</td>\n",
       "    </tr>\n",
       "    <tr>\n",
       "      <th>41298</th>\n",
       "      <td>id_436</td>\n",
       "      <td>Madrid</td>\n",
       "      <td>['Georgian', 'Vegetarian Friendly']</td>\n",
       "      <td>437.0</td>\n",
       "      <td>$</td>\n",
       "      <td>120.0</td>\n",
       "      <td>[['Authentic and delicious', 'Khachapuri is am...</td>\n",
       "      <td>/Restaurant_Review-g187514-d10536551-Reviews-K...</td>\n",
       "      <td>d10536551</td>\n",
       "      <td>1</td>\n",
       "      <td>4.5</td>\n",
       "    </tr>\n",
       "  </tbody>\n",
       "</table>\n",
       "</div>"
      ],
      "text/plain": [
       "      Restaurant_id        City  \\\n",
       "436          id_436      Lisbon   \n",
       "12955        id_436   Barcelona   \n",
       "14674        id_436  Copenhagen   \n",
       "16118        id_436      Oporto   \n",
       "16215        id_436    Budapest   \n",
       "17377        id_436  Luxembourg   \n",
       "18168        id_436        Oslo   \n",
       "18497        id_436       Milan   \n",
       "22554        id_436   Ljubljana   \n",
       "23313        id_436      Krakow   \n",
       "26973        id_436   Stockholm   \n",
       "29686        id_436      Berlin   \n",
       "31302        id_436      London   \n",
       "31861        id_436        Rome   \n",
       "33452        id_436      Munich   \n",
       "33799        id_436      Athens   \n",
       "36902        id_436     Hamburg   \n",
       "41248        id_436      Vienna   \n",
       "41298        id_436      Madrid   \n",
       "\n",
       "                                           Cuisine Style  Ranking Price Range  \\\n",
       "436                           ['European', 'Portuguese']   2904.0         NaN   \n",
       "12955  ['Seafood', 'Mediterranean', 'Spanish', 'Glute...    437.0    $$ - $$$   \n",
       "14674  ['European', 'Spanish', 'Mediterranean', 'Vege...    437.0    $$ - $$$   \n",
       "16118  ['European', 'Portuguese', 'Soups', 'Cafe', 'V...    437.0           $   \n",
       "16215  ['American', 'Vegetarian Friendly', 'Vegan Opt...    437.0           $   \n",
       "17377                                          ['Asian']    437.0         NaN   \n",
       "18168                       ['European', 'Scandinavian']    437.0        $$$$   \n",
       "18497  ['Italian', 'Pizza', 'Mediterranean', 'Vegetar...    437.0    $$ - $$$   \n",
       "22554                                                NaN    437.0         NaN   \n",
       "23313                            ['Vegetarian Friendly']    437.0    $$ - $$$   \n",
       "26973  ['Italian', 'Pizza', 'Vegetarian Friendly', 'G...    437.0    $$ - $$$   \n",
       "29686  ['Mediterranean', 'European', 'Italian', 'Seaf...    437.0    $$ - $$$   \n",
       "31302  ['Seafood', 'European', 'British', 'Soups', 'V...    437.0        $$$$   \n",
       "31861  ['Italian', 'Cafe', 'Vegetarian Friendly', 'Ve...    437.0           $   \n",
       "33452  ['Cafe', 'Mediterranean', 'European', 'Central...    440.0    $$ - $$$   \n",
       "33799  ['American', 'Bar', 'Central American', 'Veget...    437.0    $$ - $$$   \n",
       "36902  ['European', 'Swedish', 'Scandinavian', 'Danis...    437.0    $$ - $$$   \n",
       "41248  ['Japanese', 'Asian', 'Vegetarian Friendly', '...    437.0    $$ - $$$   \n",
       "41298                ['Georgian', 'Vegetarian Friendly']    437.0           $   \n",
       "\n",
       "       Number of Reviews                                            Reviews  \\\n",
       "436                  2.0                                           [[], []]   \n",
       "12955              546.0  [['Fresh Fish', 'Perfect concept'], ['01/03/20...   \n",
       "14674               89.0  [['Lovely restaurant', 'Great atmosphere and g...   \n",
       "16118               71.0  [['Super nice healthy and good', 'Great lunch ...   \n",
       "16215               68.0  [['Excellent', 'Best burger ever!'], ['12/05/2...   \n",
       "17377                2.0                          [['ZEN'], ['06/11/2016']]   \n",
       "18168               51.0  [['Stunning views over Oslo', 'Brilliant break...   \n",
       "18497              855.0  [['Nice Napoli style pizza place', 'Great Neap...   \n",
       "22554               14.0  [['Terrible staff and service', 'Disrespectful...   \n",
       "23313               18.0  [['Great find, 100% recommend', 'Amazing brunc...   \n",
       "26973               30.0  [['Awesome pizza', 'Meno male- a nice discover...   \n",
       "29686               84.0  [['Excellent food', 'Buonissimo'], ['12/15/201...   \n",
       "31302             1606.0  [['Expensive but still worthwhile', 'Personali...   \n",
       "31861              374.0  [['A hidden gem!', 'Highly recommended!!'], ['...   \n",
       "33452               83.0  [['fantastissimo', 'Excellent food und service...   \n",
       "33799              207.0  [['Past its prime', 'Nice to be back'], ['11/2...   \n",
       "36902               47.0  [['Scandi cafe in hamburg', 'Scandinavian want...   \n",
       "41248              119.0  [['Japan in Austria', 'Real Japanese food in V...   \n",
       "41298              120.0  [['Authentic and delicious', 'Khachapuri is am...   \n",
       "\n",
       "                                                  URL_TA      ID_TA  sample  \\\n",
       "436    /Restaurant_Review-g189158-d5003144-Reviews-Gu...   d5003144       0   \n",
       "12955  /Restaurant_Review-g187497-d1592613-Reviews-La...   d1592613       1   \n",
       "14674  /Restaurant_Review-g189541-d8738362-Reviews-To...   d8738362       1   \n",
       "16118  /Restaurant_Review-g189180-d9463122-Reviews-Ca...   d9463122       1   \n",
       "16215  /Restaurant_Review-g274887-d10438365-Reviews-B...  d10438365       1   \n",
       "17377  /Restaurant_Review-g190356-d743888-Reviews-Zen...    d743888       1   \n",
       "18168  /Restaurant_Review-g190479-d2036436-Reviews-Re...   d2036436       1   \n",
       "18497  /Restaurant_Review-g187849-d1553645-Reviews-Il...   d1553645       1   \n",
       "22554  /Restaurant_Review-g274873-d12607480-Reviews-C...  d12607480       1   \n",
       "23313  /Restaurant_Review-g274772-d12404722-Reviews-R...  d12404722       1   \n",
       "26973  /Restaurant_Review-g189852-d12519439-Reviews-M...  d12519439       1   \n",
       "29686  /Restaurant_Review-g187323-d8087299-Reviews-In...   d8087299       1   \n",
       "31302  /Restaurant_Review-g186338-d733537-Reviews-Ben...    d733537       1   \n",
       "31861  /Restaurant_Review-g187791-d3340828-Reviews-Ba...   d3340828       1   \n",
       "33452  /Restaurant_Review-g187309-d1837048-Reviews-L_...   d1837048       1   \n",
       "33799  /Restaurant_Review-g189400-d789069-Reviews-TGI...    d789069       1   \n",
       "36902  /Restaurant_Review-g187331-d1962984-Reviews-Ka...   d1962984       1   \n",
       "41248  /Restaurant_Review-g190454-d788089-Reviews-Kui...    d788089       1   \n",
       "41298  /Restaurant_Review-g187514-d10536551-Reviews-K...  d10536551       1   \n",
       "\n",
       "       Rating  \n",
       "436       0.0  \n",
       "12955     4.5  \n",
       "14674     4.0  \n",
       "16118     4.5  \n",
       "16215     4.5  \n",
       "17377     4.5  \n",
       "18168     4.0  \n",
       "18497     4.0  \n",
       "22554     3.0  \n",
       "23313     4.5  \n",
       "26973     4.5  \n",
       "29686     4.5  \n",
       "31302     4.0  \n",
       "31861     4.5  \n",
       "33452     4.5  \n",
       "33799     4.0  \n",
       "36902     4.0  \n",
       "41248     4.5  \n",
       "41298     4.5  "
      ]
     },
     "execution_count": 16,
     "metadata": {},
     "output_type": "execute_result"
    }
   ],
   "source": [
    "data[data['Restaurant_id']=='id_436']"
   ]
  },
  {
   "cell_type": "markdown",
   "metadata": {},
   "source": [
    "В других позициях совпадения не прослеживаются. Для дальнейшей обработки этот столбец проще всего будет просто отбросить.\n",
    "\n",
    "### Рассмотрим города\n",
    "В датасете нет явных пропусков и представлен 31 город. Посмотрим на них поближе. "
   ]
  },
  {
   "cell_type": "code",
   "execution_count": 17,
   "metadata": {},
   "outputs": [
    {
     "data": {
      "text/plain": [
       "London        7193\n",
       "Paris         6108\n",
       "Madrid        3813\n",
       "Barcelona     3395\n",
       "Berlin        2705\n",
       "Milan         2694\n",
       "Rome          2589\n",
       "Prague        1816\n",
       "Lisbon        1647\n",
       "Vienna        1443\n",
       "Amsterdam     1372\n",
       "Brussels      1314\n",
       "Hamburg       1186\n",
       "Munich        1145\n",
       "Lyon          1126\n",
       "Stockholm     1033\n",
       "Budapest      1021\n",
       "Warsaw         925\n",
       "Dublin         836\n",
       "Copenhagen     819\n",
       "Athens         776\n",
       "Edinburgh      745\n",
       "Zurich         685\n",
       "Oporto         642\n",
       "Geneva         590\n",
       "Krakow         554\n",
       "Oslo           488\n",
       "Helsinki       475\n",
       "Bratislava     380\n",
       "Luxembourg     263\n",
       "Ljubljana      222\n",
       "Name: City, dtype: int64"
      ]
     },
     "execution_count": 17,
     "metadata": {},
     "output_type": "execute_result"
    }
   ],
   "source": [
    "data['City'].value_counts()"
   ]
  },
  {
   "cell_type": "markdown",
   "metadata": {},
   "source": [
    "Из перечня следует, что это действительно европейские города, как и следует из датасета. Создадим дополнительный столбец Capital, в котором присвоим категории Столица (Capital) или Город (Town)."
   ]
  },
  {
   "cell_type": "code",
   "execution_count": 18,
   "metadata": {},
   "outputs": [
    {
     "data": {
      "text/plain": [
       "31"
      ]
     },
     "execution_count": 18,
     "metadata": {},
     "output_type": "execute_result"
    }
   ],
   "source": [
    "cities=set(list(data['City']))\n",
    "len(cities)"
   ]
  },
  {
   "cell_type": "code",
   "execution_count": 19,
   "metadata": {},
   "outputs": [],
   "source": [
    "#Создаём словарь, где ключами являются наименования городов\n",
    "cit_cap={'London': 'Capital', 'Paris': 'Capital', 'Madrid': 'Capital','Barcelona': 'Town', 'Berlin': 'Capital', \n",
    " 'Milan': 'Town', 'Rome': 'Capital','Prague': 'Capital','Lisbon': 'Capital', 'Vienna': 'Capital', \n",
    " 'Amsterdam': 'Capital', 'Brussels': 'Capital', 'Hamburg': 'Town', 'Munich': 'Town', 'Lyon': 'Town', \n",
    " 'Stockholm': 'Capital', 'Budapest': 'Capital', 'Warsaw': 'Capital', 'Dublin': 'Town', 'Copenhagen': 'Capital', \n",
    " 'Athens': 'Capital', 'Edinburgh': 'Town', 'Zurich': 'Town', 'Oporto': 'Town', 'Geneva': 'Capital',  'Krakow': 'Town',\n",
    " 'Oslo': 'Capital', 'Helsinki': 'Capital', 'Bratislava': 'Capital',  'Luxembourg': 'Capital', 'Ljubljana': 'Town'}\n"
   ]
  },
  {
   "cell_type": "code",
   "execution_count": 20,
   "metadata": {},
   "outputs": [
    {
     "data": {
      "text/plain": [
       "31"
      ]
     },
     "execution_count": 20,
     "metadata": {},
     "output_type": "execute_result"
    }
   ],
   "source": [
    "len(cit_cap)"
   ]
  },
  {
   "cell_type": "code",
   "execution_count": 21,
   "metadata": {},
   "outputs": [
    {
     "data": {
      "text/plain": [
       "Capital    36770\n",
       "Town       13230\n",
       "Name: Capital, dtype: int64"
      ]
     },
     "execution_count": 21,
     "metadata": {},
     "output_type": "execute_result"
    }
   ],
   "source": [
    "#Создаём новый столбец, значения которого являются значениями созданного словаря по ключам из колонки City\n",
    "data['Capital']=data['City'].map(cit_cap)\n",
    "data['Capital'].value_counts()"
   ]
  },
  {
   "cell_type": "markdown",
   "metadata": {},
   "source": [
    "Чтобы не плодить dummy-переменные, заменим Capital на 1, а Town на 0"
   ]
  },
  {
   "cell_type": "code",
   "execution_count": 22,
   "metadata": {},
   "outputs": [],
   "source": [
    "cit_cap_0 = {'Capital':1, 'Town':0}\n",
    "data['Capital']=data['Capital'].map(cit_cap_0)"
   ]
  },
  {
   "cell_type": "markdown",
   "metadata": {},
   "source": [
    "В интернете удалось найти данные о количестве посещений туристами европейских городов. К сожалению, сайта, где были представлены все города из датасета, не нашлось, поэтому разные таблицы пришлось сводить в файл csv. Преобразуем их в датафрейм и объединим датафреймы по наименованию города"
   ]
  },
  {
   "cell_type": "code",
   "execution_count": 23,
   "metadata": {},
   "outputs": [
    {
     "data": {
      "text/html": [
       "<div>\n",
       "<style scoped>\n",
       "    .dataframe tbody tr th:only-of-type {\n",
       "        vertical-align: middle;\n",
       "    }\n",
       "\n",
       "    .dataframe tbody tr th {\n",
       "        vertical-align: top;\n",
       "    }\n",
       "\n",
       "    .dataframe thead th {\n",
       "        text-align: right;\n",
       "    }\n",
       "</style>\n",
       "<table border=\"1\" class=\"dataframe\">\n",
       "  <thead>\n",
       "    <tr style=\"text-align: right;\">\n",
       "      <th></th>\n",
       "      <th>City</th>\n",
       "      <th>1000 tourist arrivals</th>\n",
       "    </tr>\n",
       "  </thead>\n",
       "  <tbody>\n",
       "    <tr>\n",
       "      <th>0</th>\n",
       "      <td>London</td>\n",
       "      <td>15.640</td>\n",
       "    </tr>\n",
       "    <tr>\n",
       "      <th>1</th>\n",
       "      <td>Bangkok</td>\n",
       "      <td>10.350</td>\n",
       "    </tr>\n",
       "    <tr>\n",
       "      <th>2</th>\n",
       "      <td>Paris</td>\n",
       "      <td>9.700</td>\n",
       "    </tr>\n",
       "    <tr>\n",
       "      <th>3</th>\n",
       "      <td>Singapore</td>\n",
       "      <td>9.502</td>\n",
       "    </tr>\n",
       "    <tr>\n",
       "      <th>4</th>\n",
       "      <td>Dubai</td>\n",
       "      <td>6.120</td>\n",
       "    </tr>\n",
       "  </tbody>\n",
       "</table>\n",
       "</div>"
      ],
      "text/plain": [
       "        City  1000 tourist arrivals\n",
       "0     London                 15.640\n",
       "1    Bangkok                 10.350\n",
       "2      Paris                  9.700\n",
       "3  Singapore                  9.502\n",
       "4      Dubai                  6.120"
      ]
     },
     "execution_count": 23,
     "metadata": {},
     "output_type": "execute_result"
    }
   ],
   "source": [
    "df_c = pd.read_csv('Tourism.csv')\n",
    "df_c.head()"
   ]
  },
  {
   "cell_type": "code",
   "execution_count": 24,
   "metadata": {},
   "outputs": [
    {
     "name": "stdout",
     "output_type": "stream",
     "text": [
      "<class 'pandas.core.frame.DataFrame'>\n",
      "Int64Index: 50000 entries, 0 to 49999\n",
      "Data columns (total 13 columns):\n",
      " #   Column                 Non-Null Count  Dtype  \n",
      "---  ------                 --------------  -----  \n",
      " 0   Restaurant_id          50000 non-null  object \n",
      " 1   City                   50000 non-null  object \n",
      " 2   Cuisine Style          38410 non-null  object \n",
      " 3   Ranking                50000 non-null  float64\n",
      " 4   Price Range            32639 non-null  object \n",
      " 5   Number of Reviews      46800 non-null  float64\n",
      " 6   Reviews                49998 non-null  object \n",
      " 7   URL_TA                 50000 non-null  object \n",
      " 8   ID_TA                  50000 non-null  object \n",
      " 9   sample                 50000 non-null  int64  \n",
      " 10  Rating                 50000 non-null  float64\n",
      " 11  Capital                50000 non-null  int64  \n",
      " 12  1000 tourist arrivals  50000 non-null  float64\n",
      "dtypes: float64(4), int64(2), object(7)\n",
      "memory usage: 5.3+ MB\n"
     ]
    }
   ],
   "source": [
    "data = pd.merge(data, df_c, on='City')\n",
    "data.info()"
   ]
  },
  {
   "cell_type": "markdown",
   "metadata": {},
   "source": [
    "## Типы кухни - 'Cuisine style'\n",
    "Визуально содержимое выглядит как список. Также в наличии имеются пропуски. Прежде чем начать заниматься анализом датасета определим тип ячеек и решим, как заполнить пропуски."
   ]
  },
  {
   "cell_type": "code",
   "execution_count": 25,
   "metadata": {},
   "outputs": [
    {
     "data": {
      "text/plain": [
       "\"['Bar', 'Pub']\""
      ]
     },
     "execution_count": 25,
     "metadata": {},
     "output_type": "execute_result"
    }
   ],
   "source": [
    "data['Cuisine Style'][0]"
   ]
  },
  {
   "cell_type": "code",
   "execution_count": 26,
   "metadata": {},
   "outputs": [
    {
     "data": {
      "text/plain": [
       "str"
      ]
     },
     "execution_count": 26,
     "metadata": {},
     "output_type": "execute_result"
    }
   ],
   "source": [
    "type(data['Cuisine Style'][0])"
   ]
  },
  {
   "cell_type": "markdown",
   "metadata": {},
   "source": [
    "В настоящий момент каждая ячейка представляет собой не список, а строку. Преобразуем их в \"настоящий\" список. Для этого предварительно заполним пропуски строкой '[]', тогда она будет преобразована в пустой список. Данные утеряны не будут."
   ]
  },
  {
   "cell_type": "code",
   "execution_count": 27,
   "metadata": {},
   "outputs": [],
   "source": [
    "data['Cuisine Style'].fillna(\"[]\",inplace=True)\n",
    "#Функция, автоматически оценивающая строку и преобразующая её в предполагаемый формат\n",
    "data['Cuisine Style']=data['Cuisine Style'].apply(lambda x: ast.literal_eval(x))"
   ]
  },
  {
   "cell_type": "markdown",
   "metadata": {},
   "source": [
    "Вставим дополнительный столбец Cuisines, показывающий, сколько позиций в списке категорий. Поскольку пустые значения теперь отображаются как пустой список, то их значение будет равняться 0. В дальнейшем это может пригодиться для анализа, т.к. можно будет посмотреть, какой рейтинг имеют рестораны, о которых нечего сказать."
   ]
  },
  {
   "cell_type": "code",
   "execution_count": 28,
   "metadata": {},
   "outputs": [
    {
     "data": {
      "text/plain": [
       "0     11590\n",
       "1      9154\n",
       "2      7794\n",
       "3      6638\n",
       "4      5948\n",
       "5      4482\n",
       "6      2611\n",
       "7      1294\n",
       "8       363\n",
       "9        93\n",
       "10       26\n",
       "11        4\n",
       "21        1\n",
       "15        1\n",
       "13        1\n",
       "Name: Cuisines, dtype: int64"
      ]
     },
     "execution_count": 28,
     "metadata": {},
     "output_type": "execute_result"
    }
   ],
   "source": [
    "data['Cuisines'] = data['Cuisine Style'].apply(lambda x: len(x))\n",
    "data['Cuisines'].value_counts()"
   ]
  },
  {
   "cell_type": "markdown",
   "metadata": {},
   "source": [
    "Теперь посмотрим, какие же категории определяют рестораны в рейтинге. Для этого циклом пройдём по каждому элементу каждого списка, запишем их в сет. Длина сета даст уникальныые значения, его содержание задаст дальнейшее направление анализа."
   ]
  },
  {
   "cell_type": "code",
   "execution_count": 29,
   "metadata": {},
   "outputs": [
    {
     "data": {
      "text/plain": [
       "125"
      ]
     },
     "execution_count": 29,
     "metadata": {},
     "output_type": "execute_result"
    }
   ],
   "source": [
    "cus_set=set() #Создаём пустой сет\n",
    "for c in data['Cuisine Style']:\n",
    "    for i in c: #Проходим по элементам списка в каждой записи\n",
    "        cus_set.add(i) #Добавляем элемент в сет, повторяющиеся значения \"схлопнутся\"\n",
    "len(cus_set)"
   ]
  },
  {
   "cell_type": "code",
   "execution_count": 30,
   "metadata": {},
   "outputs": [
    {
     "name": "stdout",
     "output_type": "stream",
     "text": [
      "{'Uzbek', 'Scottish', 'Street Food', 'Egyptian', 'Central American', 'Korean', 'Caribbean', 'Dutch', 'Canadian', 'Vegetarian Friendly', 'Japanese', 'Brew Pub', 'Singaporean', 'Fujian', 'Polish', 'Israeli', 'New Zealand', 'Chilean', 'American', 'Ukrainian', 'Slovenian', 'Filipino', 'Scandinavian', 'Eastern European', 'Pub', 'Arabic', 'Asian', 'Salvadoran', 'Turkish', 'Spanish', 'Xinjiang', 'French', 'Grill', 'Norwegian', 'Healthy', 'Tibetan', 'Caucasian', 'Brazilian', 'Indian', 'Indonesian', 'Cuban', 'Balti', 'Croatian', 'Pakistani', 'Cambodian', 'Irish', 'British', 'African', 'Argentinean', 'Hungarian', 'Fusion', 'Russian', 'Steakhouse', 'Latvian', 'Soups', 'Cafe', 'Central Asian', 'Seafood', 'Ethiopian', 'Delicatessen', 'Fast Food', 'Italian', 'Romanian', 'Sri Lankan', 'Cajun & Creole', 'Jamaican', 'Middle Eastern', 'Diner', 'South American', 'Tunisian', 'Greek', 'Mediterranean', 'Wine Bar', 'Afghani', 'Burmese', 'Vietnamese', 'Welsh', 'International', 'Malaysian', 'Nepali', 'Hawaiian', 'Minority Chinese', 'Latin', 'Taiwanese', 'Peruvian', 'Georgian', 'Swiss', 'Bar', 'Danish', 'Australian', 'Lebanese', 'Sushi', 'Colombian', 'Venezuelan', 'Czech', 'Native American', 'Thai', 'Halal', 'Albanian', 'Pizza', 'German', 'Central European', 'Gastropub', 'Southwestern', 'Portuguese', 'Ecuadorean', 'Yunnan', 'Barbecue', 'Austrian', 'Mongolian', 'Gluten Free Options', 'Belgian', 'Armenian', 'Persian', 'Contemporary', 'Azerbaijani', 'Polynesian', 'European', 'Mexican', 'Vegan Options', 'Kosher', 'Moroccan', 'Bangladeshi', 'Chinese', 'Swedish'}\n"
     ]
    }
   ],
   "source": [
    "print(cus_set)"
   ]
  },
  {
   "cell_type": "markdown",
   "metadata": {},
   "source": [
    "Всего в сете получилось 125 уникальных позиций, указывающих как на принадлежность кухни, в том числе весьа экзотические типы, так и дополнительные опции типа бара или вегетарианских блюд. Попробуем вытащить эти признаки, создав дополнительные столбцы. Для начала создадим списки с географическими категориями, распределив их приблизительно. Логично выделить европейскую кухню (eur), арабскую (arab), паназиатскую (asian), средиземноморскую (medter), латиноамериканскую (latin). Все виды трудноопределяемых или слишком самобытных кухонь,  а также прямо указанные позиции International и Fusion можно вложить в категорию интернациональной кухни (inter). После создания списков создадим соответствующие столбцы, а также столбцы для баров и вегетарианских/веганских опциий. По умолчанию присвоим им значение 0."
   ]
  },
  {
   "cell_type": "code",
   "execution_count": 31,
   "metadata": {},
   "outputs": [],
   "source": [
    "asian = ['Yunnan',  'Vietnamese',  'Japanese',  'Tibetan',  'Bangladeshi',  'Asian',  'Thai',  'Malaysian','Xinjiang',\n",
    "          'Burmese',  'Pakistani',  'Taiwanese',  'Nepali',  'Korean',  'Mongolian',  'Southwestern', 'Chinese', \n",
    "          'Indian',  'Sri Lankan',   'Central Asian',   'Filipino','Sushi',  'Singaporean','Indonesian',  \n",
    "          'Minority Chinese',  'Fujian',  'Cambodian',  'Asian']\n",
    "latin = ['Argentinean',  'Latin',  'South American',  'Venezuelan',  'Mexican',  'Central American',  'Ecuadorean', \n",
    "          'Cuban', 'Brazilian',  'Colombian',  'Salvadoran',  'Chilean',  'Peruvian']\n",
    "inter = ['African',  'Fusion',  'Caribbean',  'Caucasian',   'International',  'New Zealand',  'Hungarian',  \n",
    "          'Russian',  'Georgian',   'Polynesian',  'Cajun & Creole',   'American',  'Azerbaijani',  'Israeli', \n",
    "          'Afghani',  'Caribbean',   'Armenian',   'Jamaican',   'Hawaiian',   'Uzbek',   'Ethiopian',  'Albanian',  \n",
    "          'Native American',  'Australian',   'Canadian', 'International']\n",
    "eur = ['French',  'Latvian',  'Swiss', 'Polish',  'Scottish',  'Central European', 'Scandinavian',  'German', \n",
    "        'Danish', 'Belgian', 'Austrian', 'Ukrainian',  'Norwegian',  'Czech',  'Dutch', 'British',  'Croatian',  \n",
    "        'Swedish',  'Slovenian',  'Irish',  'Eastern European',  'Romanian',   'Welsh', 'European']\n",
    "arab = ['Arabic',  'Middle Eastern',  'Egyptian',  'Tunisian',  'Lebanese',   'Moroccan']\n",
    "medter = ['Persian',  'Greek',  'Spanish',  'Portuguese',   'Italian',   'Turkish',  'Mediterranean']\n"
   ]
  },
  {
   "cell_type": "code",
   "execution_count": 32,
   "metadata": {},
   "outputs": [
    {
     "name": "stdout",
     "output_type": "stream",
     "text": [
      "<class 'pandas.core.frame.DataFrame'>\n",
      "Int64Index: 50000 entries, 0 to 49999\n",
      "Data columns (total 22 columns):\n",
      " #   Column                 Non-Null Count  Dtype  \n",
      "---  ------                 --------------  -----  \n",
      " 0   Restaurant_id          50000 non-null  object \n",
      " 1   City                   50000 non-null  object \n",
      " 2   Cuisine Style          50000 non-null  object \n",
      " 3   Ranking                50000 non-null  float64\n",
      " 4   Price Range            32639 non-null  object \n",
      " 5   Number of Reviews      46800 non-null  float64\n",
      " 6   Reviews                49998 non-null  object \n",
      " 7   URL_TA                 50000 non-null  object \n",
      " 8   ID_TA                  50000 non-null  object \n",
      " 9   sample                 50000 non-null  int64  \n",
      " 10  Rating                 50000 non-null  float64\n",
      " 11  Capital                50000 non-null  int64  \n",
      " 12  1000 tourist arrivals  50000 non-null  float64\n",
      " 13  Cuisines               50000 non-null  int64  \n",
      " 14  Arab                   50000 non-null  int64  \n",
      " 15  Asian                  50000 non-null  int64  \n",
      " 16  Europe                 50000 non-null  int64  \n",
      " 17  Inter                  50000 non-null  int64  \n",
      " 18  Latin                  50000 non-null  int64  \n",
      " 19  Mediter                50000 non-null  int64  \n",
      " 20  Vegetarian             50000 non-null  int64  \n",
      " 21  Bar                    50000 non-null  int64  \n",
      "dtypes: float64(4), int64(11), object(7)\n",
      "memory usage: 10.0+ MB\n"
     ]
    }
   ],
   "source": [
    "data['Arab'] = 0\n",
    "data['Asian'] = 0 \n",
    "data['Europe']=0 \n",
    "data['Inter']= 0 \n",
    "data['Latin']=0 \n",
    "data['Mediter']=0\n",
    "data['Vegetarian']=0\n",
    "data['Bar']=0\n",
    "data.info()"
   ]
  },
  {
   "cell_type": "markdown",
   "metadata": {},
   "source": [
    "Теперь циклом заполним значениями все позиции новых колоном. Логика будет следующая: при заполнении географических категорий значением позиции будет длина списка уникальных значений, совпавших как в позиции из колонки 'Cuisine Style' так и в соответствующем списке. Если совпадений не будет, длина списка будет равна нулю. Что касается колонки про бар и вегетарианские опции, то проверка будет по условию: если в списке из позиции есть одно из заданных значений, то позиции в колонке присваивается 1. \n",
    "\n",
    "Я намеренно не создаю для этого функцию, т.к. запуск функции для каждого заполнения заставит прокрутить цикл 8 раз."
   ]
  },
  {
   "cell_type": "code",
   "execution_count": 33,
   "metadata": {},
   "outputs": [
    {
     "name": "stderr",
     "output_type": "stream",
     "text": [
      "C:\\Users\\Anna\\anaconda3\\lib\\site-packages\\ipykernel_launcher.py:7: SettingWithCopyWarning: \n",
      "A value is trying to be set on a copy of a slice from a DataFrame\n",
      "\n",
      "See the caveats in the documentation: https://pandas.pydata.org/pandas-docs/stable/user_guide/indexing.html#returning-a-view-versus-a-copy\n",
      "  import sys\n",
      "C:\\Users\\Anna\\anaconda3\\lib\\site-packages\\ipykernel_launcher.py:8: SettingWithCopyWarning: \n",
      "A value is trying to be set on a copy of a slice from a DataFrame\n",
      "\n",
      "See the caveats in the documentation: https://pandas.pydata.org/pandas-docs/stable/user_guide/indexing.html#returning-a-view-versus-a-copy\n",
      "  \n",
      "C:\\Users\\Anna\\anaconda3\\lib\\site-packages\\ipykernel_launcher.py:9: SettingWithCopyWarning: \n",
      "A value is trying to be set on a copy of a slice from a DataFrame\n",
      "\n",
      "See the caveats in the documentation: https://pandas.pydata.org/pandas-docs/stable/user_guide/indexing.html#returning-a-view-versus-a-copy\n",
      "  if __name__ == '__main__':\n",
      "C:\\Users\\Anna\\anaconda3\\lib\\site-packages\\ipykernel_launcher.py:10: SettingWithCopyWarning: \n",
      "A value is trying to be set on a copy of a slice from a DataFrame\n",
      "\n",
      "See the caveats in the documentation: https://pandas.pydata.org/pandas-docs/stable/user_guide/indexing.html#returning-a-view-versus-a-copy\n",
      "  # Remove the CWD from sys.path while we load stuff.\n",
      "C:\\Users\\Anna\\anaconda3\\lib\\site-packages\\ipykernel_launcher.py:11: SettingWithCopyWarning: \n",
      "A value is trying to be set on a copy of a slice from a DataFrame\n",
      "\n",
      "See the caveats in the documentation: https://pandas.pydata.org/pandas-docs/stable/user_guide/indexing.html#returning-a-view-versus-a-copy\n",
      "  # This is added back by InteractiveShellApp.init_path()\n",
      "C:\\Users\\Anna\\anaconda3\\lib\\site-packages\\ipykernel_launcher.py:12: SettingWithCopyWarning: \n",
      "A value is trying to be set on a copy of a slice from a DataFrame\n",
      "\n",
      "See the caveats in the documentation: https://pandas.pydata.org/pandas-docs/stable/user_guide/indexing.html#returning-a-view-versus-a-copy\n",
      "  if sys.path[0] == '':\n",
      "C:\\Users\\Anna\\anaconda3\\lib\\site-packages\\ipykernel_launcher.py:16: SettingWithCopyWarning: \n",
      "A value is trying to be set on a copy of a slice from a DataFrame\n",
      "\n",
      "See the caveats in the documentation: https://pandas.pydata.org/pandas-docs/stable/user_guide/indexing.html#returning-a-view-versus-a-copy\n",
      "  app.launch_new_instance()\n",
      "C:\\Users\\Anna\\anaconda3\\lib\\site-packages\\ipykernel_launcher.py:14: SettingWithCopyWarning: \n",
      "A value is trying to be set on a copy of a slice from a DataFrame\n",
      "\n",
      "See the caveats in the documentation: https://pandas.pydata.org/pandas-docs/stable/user_guide/indexing.html#returning-a-view-versus-a-copy\n",
      "  \n"
     ]
    }
   ],
   "source": [
    "v='Vegetarian Friendly' #Строковые переменные\n",
    "vg='Vegan Options'\n",
    "b='Bar'\n",
    "wb='Wine Bar'\n",
    "for i in range(50000):\n",
    "    s=set(data['Cuisine Style'][i]) #Переменная, создающая сет из списка стилей кухни\n",
    "    data['Arab'][i]=len(list(s&set(arab)))\n",
    "    data['Asian'][i]=len(list(s&set(asian)))\n",
    "    data['Europe'][i]=len(list(s&set(eur)))\n",
    "    data['Inter'][i]=len(list(s&set(inter)))\n",
    "    data['Mediter'][i]=len(list(s&set(medter)))\n",
    "    data['Latin'][i]=len(list(s&set(latin)))\n",
    "    if v in data['Cuisine Style'][i] or vg in data['Cuisine Style'][i]:\n",
    "        data['Vegetarian'][i]=1\n",
    "    elif b in data['Cuisine Style'][i] or wb in data['Cuisine Style'][i]:\n",
    "        data['Bar'][i]=1\n"
   ]
  },
  {
   "cell_type": "code",
   "execution_count": 34,
   "metadata": {},
   "outputs": [
    {
     "data": {
      "text/plain": [
       "0    45013\n",
       "1     4453\n",
       "2      510\n",
       "3       20\n",
       "4        4\n",
       "Name: Inter, dtype: int64"
      ]
     },
     "execution_count": 34,
     "metadata": {},
     "output_type": "execute_result"
    }
   ],
   "source": [
    "data['Inter'].value_counts()"
   ]
  },
  {
   "cell_type": "code",
   "execution_count": 35,
   "metadata": {},
   "outputs": [
    {
     "data": {
      "text/plain": [
       "0    35041\n",
       "1     8546\n",
       "2     6278\n",
       "3      130\n",
       "4        4\n",
       "5        1\n",
       "Name: Mediter, dtype: int64"
      ]
     },
     "execution_count": 35,
     "metadata": {},
     "output_type": "execute_result"
    }
   ],
   "source": [
    "data['Mediter'].value_counts()"
   ]
  },
  {
   "cell_type": "code",
   "execution_count": 36,
   "metadata": {},
   "outputs": [
    {
     "data": {
      "text/plain": [
       "0    48724\n",
       "1      608\n",
       "2      443\n",
       "3      172\n",
       "4       41\n",
       "5       11\n",
       "8        1\n",
       "Name: Latin, dtype: int64"
      ]
     },
     "execution_count": 36,
     "metadata": {},
     "output_type": "execute_result"
    }
   ],
   "source": [
    "data['Latin'].value_counts()"
   ]
  },
  {
   "cell_type": "code",
   "execution_count": 37,
   "metadata": {},
   "outputs": [
    {
     "data": {
      "text/plain": [
       "0    43578\n",
       "2     2586\n",
       "1     2352\n",
       "3     1220\n",
       "4      203\n",
       "5       49\n",
       "6       11\n",
       "7        1\n",
       "Name: Asian, dtype: int64"
      ]
     },
     "execution_count": 37,
     "metadata": {},
     "output_type": "execute_result"
    }
   ],
   "source": [
    "data['Asian'].value_counts()"
   ]
  },
  {
   "cell_type": "markdown",
   "metadata": {},
   "source": [
    "### Рассмотрим столбцы Ranking и Rating \n",
    "В столбца нет пропусков, значения имеют числовое представление. Преобразований а этом не требуется. Рассмотрим каждый на предмет распределения значений."
   ]
  },
  {
   "cell_type": "code",
   "execution_count": 38,
   "metadata": {},
   "outputs": [
    {
     "data": {
      "text/plain": [
       "93.0       22\n",
       "842.0      21\n",
       "491.0      21\n",
       "72.0       21\n",
       "1013.0     20\n",
       "           ..\n",
       "16021.0     1\n",
       "14222.0     1\n",
       "4288.0      1\n",
       "13760.0     1\n",
       "11264.0     1\n",
       "Name: Ranking, Length: 12975, dtype: int64"
      ]
     },
     "execution_count": 38,
     "metadata": {},
     "output_type": "execute_result"
    }
   ],
   "source": [
    "data.Ranking.value_counts()"
   ]
  },
  {
   "cell_type": "code",
   "execution_count": 39,
   "metadata": {},
   "outputs": [
    {
     "data": {
      "text/plain": [
       "4.0    13692\n",
       "4.5    10929\n",
       "0.0    10000\n",
       "3.5     6824\n",
       "5.0     3879\n",
       "3.0     2955\n",
       "2.5      915\n",
       "2.0      466\n",
       "1.0      201\n",
       "1.5      139\n",
       "Name: Rating, dtype: int64"
      ]
     },
     "execution_count": 39,
     "metadata": {},
     "output_type": "execute_result"
    }
   ],
   "source": [
    "data.Rating.value_counts()"
   ]
  },
  {
   "cell_type": "markdown",
   "metadata": {},
   "source": [
    "### Столбец Price range\n",
    "требует преобразования. В нём есть пропуски, значения имеют тип object. Посмотрим на уникальные значения и решим, как это преобразовать."
   ]
  },
  {
   "cell_type": "code",
   "execution_count": 40,
   "metadata": {},
   "outputs": [
    {
     "data": {
      "text/plain": [
       "$$ - $$$    23041\n",
       "$            7816\n",
       "$$$$         1782\n",
       "Name: Price Range, dtype: int64"
      ]
     },
     "execution_count": 40,
     "metadata": {},
     "output_type": "execute_result"
    }
   ],
   "source": [
    "data['Price Range'].value_counts()"
   ]
  },
  {
   "cell_type": "markdown",
   "metadata": {},
   "source": [
    "В столбце всего три категории, обозначающие цену. Заменить данные можно, записав их в словарь. Обозначим значения цифрами, где 1 - дешёвые рестораны, 2 - средняя ценовая категория, 3 - дорогие. К сожалению, алгоритм, автоматически присваивающий ключу необходимое значение, получится слишком длинный. Проще задать категории вручную. "
   ]
  },
  {
   "cell_type": "code",
   "execution_count": 41,
   "metadata": {},
   "outputs": [
    {
     "data": {
      "text/plain": [
       "{'$': 1, '$$ - $$$': 2, '$$$$': 3}"
      ]
     },
     "execution_count": 41,
     "metadata": {},
     "output_type": "execute_result"
    }
   ],
   "source": [
    "dct_pr = {} #Пустой словарь для ценовых категорий\n",
    "dct_pr['$']=1\n",
    "dct_pr['$$ - $$$']=2\n",
    "dct_pr['$$$$']=3\n",
    "dct_pr"
   ]
  },
  {
   "cell_type": "markdown",
   "metadata": {},
   "source": [
    "Заменим значения по словарю и посмотрим, что получилось."
   ]
  },
  {
   "cell_type": "code",
   "execution_count": 42,
   "metadata": {},
   "outputs": [
    {
     "data": {
      "text/plain": [
       "2.0    23041\n",
       "1.0     7816\n",
       "3.0     1782\n",
       "Name: Price Range, dtype: int64"
      ]
     },
     "execution_count": 42,
     "metadata": {},
     "output_type": "execute_result"
    }
   ],
   "source": [
    "data['Price Range']=data['Price Range'].map(dct_pr)\n",
    "data['Price Range'].value_counts()"
   ]
  },
  {
   "cell_type": "markdown",
   "metadata": {},
   "source": [
    "В категории очень много пропущенных значений. Их можно заполнить нулями, но для целей достоверности попробуем заполнить средней ценовой категорией для ресторанов в ***соответствующем городе***. "
   ]
  },
  {
   "cell_type": "code",
   "execution_count": 43,
   "metadata": {},
   "outputs": [
    {
     "name": "stderr",
     "output_type": "stream",
     "text": [
      "C:\\Users\\Anna\\anaconda3\\lib\\site-packages\\ipykernel_launcher.py:5: SettingWithCopyWarning: \n",
      "A value is trying to be set on a copy of a slice from a DataFrame\n",
      "\n",
      "See the caveats in the documentation: https://pandas.pydata.org/pandas-docs/stable/user_guide/indexing.html#returning-a-view-versus-a-copy\n",
      "  \"\"\"\n"
     ]
    },
    {
     "data": {
      "text/plain": [
       "2.0    25565\n",
       "1.0    22653\n",
       "3.0     1782\n",
       "Name: Price Range, dtype: int64"
      ]
     },
     "execution_count": 43,
     "metadata": {},
     "output_type": "execute_result"
    }
   ],
   "source": [
    "data['Price Range'].fillna(0, inplace=True) #Записываем в пропуски нули для условия\n",
    "for i in range(50000):\n",
    "    if data['Price Range'][i]==0:\n",
    "        x=round(data[data['City']==data['City'][i]]['Price Range'].mean()) #Среднее округлённое значение\n",
    "        data['Price Range'][i]=x\n",
    "data['Price Range'].value_counts()"
   ]
  },
  {
   "cell_type": "markdown",
   "metadata": {},
   "source": [
    "### Столбцы Number of Reviews и Reviews\n",
    "стоит рассмотреть совместно, т.к. они связаны даже судя по названиям. При этом в столбце Количество отзывов есть пропуски, а вот в самих отзывах таких пропусков почти нет. 2 случая на 50000 не считаются. Посмотрим, что там происходит."
   ]
  },
  {
   "cell_type": "code",
   "execution_count": 44,
   "metadata": {},
   "outputs": [
    {
     "data": {
      "text/plain": [
       "2.0       2403\n",
       "3.0       2042\n",
       "4.0       1707\n",
       "5.0       1471\n",
       "6.0       1258\n",
       "          ... \n",
       "1082.0       1\n",
       "1741.0       1\n",
       "2175.0       1\n",
       "2174.0       1\n",
       "1543.0       1\n",
       "Name: Number of Reviews, Length: 1573, dtype: int64"
      ]
     },
     "execution_count": 44,
     "metadata": {},
     "output_type": "execute_result"
    }
   ],
   "source": [
    "data['Number of Reviews'].value_counts()"
   ]
  },
  {
   "cell_type": "code",
   "execution_count": 45,
   "metadata": {},
   "outputs": [
    {
     "data": {
      "text/plain": [
       "[[], []]                                                                                                                          8112\n",
       "[['ok for beer, not for dinner'], ['12/20/2017']]                                                                                    2\n",
       "[['Healthy vegan doughnuts are posible', 'Best Vegan Donut in the world !!!'], ['11/17/2017', '11/16/2017']]                         2\n",
       "[['Great food, service and atmosphere', 'Decor and food'], ['11/06/2017', '10/22/2017']]                                             2\n",
       "[['Thursday snack', 'Good value for money & good food!'], ['03/13/2017', '06/20/2016']]                                              2\n",
       "                                                                                                                                  ... \n",
       "[['A goo selection of lagers and keg beers, w...', 'Now called The Beer House. Disappointing.'], ['08/23/2017', '01/15/2017']]       1\n",
       "[['Order at your own risk ...', 'Terrible delivery experience, strongly NOT...'], ['11/19/2016', '08/28/2016']]                      1\n",
       "[['This place is never good', 'healthy food'], ['06/06/2017', '07/27/2016']]                                                         1\n",
       "[['Best local pizza', 'Best pizza in Edinburgh'], ['10/24/2016', '01/01/2015']]                                                      1\n",
       "[['Super chicken gyros', 'Gyro greatness'], ['12/02/2017', '11/19/2017']]                                                            1\n",
       "Name: Reviews, Length: 41857, dtype: int64"
      ]
     },
     "execution_count": 45,
     "metadata": {},
     "output_type": "execute_result"
    }
   ],
   "source": [
    "data['Reviews'].value_counts()"
   ]
  },
  {
   "cell_type": "code",
   "execution_count": 46,
   "metadata": {},
   "outputs": [
    {
     "data": {
      "text/plain": [
       "str"
      ]
     },
     "execution_count": 46,
     "metadata": {},
     "output_type": "execute_result"
    }
   ],
   "source": [
    "type(data['Reviews'][0])"
   ]
  },
  {
   "cell_type": "markdown",
   "metadata": {},
   "source": [
    "В отзывах мы видим ту же ловушку, что и в стилях кухни: визуально это выглядит как список из списков, но по факту это строка. Также недоумение по поводу отсутствия пропусков в данной колонке неслучайно. На самом деле вместо настоящего пропуска - пустые скобки. \n",
    "\n",
    "Также интересно и то, что некоторые позиции дублируются. Посмотрим, что это значит для первого такого дубля."
   ]
  },
  {
   "cell_type": "code",
   "execution_count": 47,
   "metadata": {},
   "outputs": [
    {
     "data": {
      "text/html": [
       "<div>\n",
       "<style scoped>\n",
       "    .dataframe tbody tr th:only-of-type {\n",
       "        vertical-align: middle;\n",
       "    }\n",
       "\n",
       "    .dataframe tbody tr th {\n",
       "        vertical-align: top;\n",
       "    }\n",
       "\n",
       "    .dataframe thead th {\n",
       "        text-align: right;\n",
       "    }\n",
       "</style>\n",
       "<table border=\"1\" class=\"dataframe\">\n",
       "  <thead>\n",
       "    <tr style=\"text-align: right;\">\n",
       "      <th></th>\n",
       "      <th>Restaurant_id</th>\n",
       "      <th>City</th>\n",
       "      <th>Cuisine Style</th>\n",
       "      <th>Ranking</th>\n",
       "      <th>Price Range</th>\n",
       "      <th>Number of Reviews</th>\n",
       "      <th>Reviews</th>\n",
       "      <th>URL_TA</th>\n",
       "      <th>ID_TA</th>\n",
       "      <th>sample</th>\n",
       "      <th>Rating</th>\n",
       "      <th>Capital</th>\n",
       "      <th>1000 tourist arrivals</th>\n",
       "      <th>Cuisines</th>\n",
       "      <th>Arab</th>\n",
       "      <th>Asian</th>\n",
       "      <th>Europe</th>\n",
       "      <th>Inter</th>\n",
       "      <th>Latin</th>\n",
       "      <th>Mediter</th>\n",
       "      <th>Vegetarian</th>\n",
       "      <th>Bar</th>\n",
       "    </tr>\n",
       "  </thead>\n",
       "  <tbody>\n",
       "    <tr>\n",
       "      <th>35451</th>\n",
       "      <td>id_6140</td>\n",
       "      <td>Madrid</td>\n",
       "      <td>[Chinese, Asian, Vegetarian Friendly, Vegan Op...</td>\n",
       "      <td>3053.0</td>\n",
       "      <td>2.0</td>\n",
       "      <td>148.0</td>\n",
       "      <td>[['Good service and clean', 'Chinese fusion cu...</td>\n",
       "      <td>/Restaurant_Review-g187514-d4748208-Reviews-Re...</td>\n",
       "      <td>d4748208</td>\n",
       "      <td>0</td>\n",
       "      <td>0.0</td>\n",
       "      <td>1</td>\n",
       "      <td>3.921</td>\n",
       "      <td>4</td>\n",
       "      <td>0</td>\n",
       "      <td>2</td>\n",
       "      <td>0</td>\n",
       "      <td>0</td>\n",
       "      <td>0</td>\n",
       "      <td>0</td>\n",
       "      <td>1</td>\n",
       "      <td>0</td>\n",
       "    </tr>\n",
       "    <tr>\n",
       "      <th>38061</th>\n",
       "      <td>id_2988</td>\n",
       "      <td>Madrid</td>\n",
       "      <td>[Chinese, Asian, Vegetarian Friendly, Vegan Op...</td>\n",
       "      <td>2990.0</td>\n",
       "      <td>2.0</td>\n",
       "      <td>148.0</td>\n",
       "      <td>[['Good service and clean', 'Chinese fusion cu...</td>\n",
       "      <td>/Restaurant_Review-g187514-d4748208-Reviews-Re...</td>\n",
       "      <td>d4748208</td>\n",
       "      <td>1</td>\n",
       "      <td>3.5</td>\n",
       "      <td>1</td>\n",
       "      <td>3.921</td>\n",
       "      <td>4</td>\n",
       "      <td>0</td>\n",
       "      <td>2</td>\n",
       "      <td>0</td>\n",
       "      <td>0</td>\n",
       "      <td>0</td>\n",
       "      <td>0</td>\n",
       "      <td>1</td>\n",
       "      <td>0</td>\n",
       "    </tr>\n",
       "  </tbody>\n",
       "</table>\n",
       "</div>"
      ],
      "text/plain": [
       "      Restaurant_id    City  \\\n",
       "35451       id_6140  Madrid   \n",
       "38061       id_2988  Madrid   \n",
       "\n",
       "                                           Cuisine Style  Ranking  \\\n",
       "35451  [Chinese, Asian, Vegetarian Friendly, Vegan Op...   3053.0   \n",
       "38061  [Chinese, Asian, Vegetarian Friendly, Vegan Op...   2990.0   \n",
       "\n",
       "       Price Range  Number of Reviews  \\\n",
       "35451          2.0              148.0   \n",
       "38061          2.0              148.0   \n",
       "\n",
       "                                                 Reviews  \\\n",
       "35451  [['Good service and clean', 'Chinese fusion cu...   \n",
       "38061  [['Good service and clean', 'Chinese fusion cu...   \n",
       "\n",
       "                                                  URL_TA     ID_TA  sample  \\\n",
       "35451  /Restaurant_Review-g187514-d4748208-Reviews-Re...  d4748208       0   \n",
       "38061  /Restaurant_Review-g187514-d4748208-Reviews-Re...  d4748208       1   \n",
       "\n",
       "       Rating  Capital  1000 tourist arrivals  Cuisines  Arab  Asian  Europe  \\\n",
       "35451     0.0        1                  3.921         4     0      2       0   \n",
       "38061     3.5        1                  3.921         4     0      2       0   \n",
       "\n",
       "       Inter  Latin  Mediter  Vegetarian  Bar  \n",
       "35451      0      0        0           1    0  \n",
       "38061      0      0        0           1    0  "
      ]
     },
     "execution_count": 47,
     "metadata": {},
     "output_type": "execute_result"
    }
   ],
   "source": [
    "data[data['Reviews']==\"[['Good service and clean', 'Chinese fusion cuisine - ok to try if you...'], ['11/21/2017', '05/23/2017']]\"]"
   ]
  },
  {
   "cell_type": "markdown",
   "metadata": {},
   "source": [
    "Получается, что это один и тот же ресторан, но в разных датасетах: тренировочном и итоговом. Интересно, что совпадает всё, кроме ранкинга. \n",
    "Начнём обработку данных. Для начала заполним пропуски в столбце Reviews строковым выраежением [[], []], которое в данном случае означает невыгруженные отзывы или их полное отсутствие."
   ]
  },
  {
   "cell_type": "code",
   "execution_count": 48,
   "metadata": {},
   "outputs": [],
   "source": [
    "data['Reviews'].fillna('[[], []]', inplace=True)"
   ]
  },
  {
   "cell_type": "markdown",
   "metadata": {},
   "source": [
    "Теперь заполним пропуски в столбце Number of Reviews. Если при этом в столбце с отзывами действительно пустые скобки, то будем считать, что отзывов нет. Если другое значение, то как минимум 1 должен быть."
   ]
  },
  {
   "cell_type": "code",
   "execution_count": 49,
   "metadata": {},
   "outputs": [
    {
     "name": "stderr",
     "output_type": "stream",
     "text": [
      "C:\\Users\\Anna\\anaconda3\\lib\\site-packages\\pandas\\core\\generic.py:6245: SettingWithCopyWarning: \n",
      "A value is trying to be set on a copy of a slice from a DataFrame\n",
      "\n",
      "See the caveats in the documentation: https://pandas.pydata.org/pandas-docs/stable/user_guide/indexing.html#returning-a-view-versus-a-copy\n",
      "  self._update_inplace(new_data)\n"
     ]
    }
   ],
   "source": [
    "data[data['Reviews']== '[[], []]']['Number of Reviews'].fillna(0, inplace=True)\n",
    "data['Number of Reviews'].fillna(1, inplace=True)"
   ]
  },
  {
   "cell_type": "markdown",
   "metadata": {},
   "source": [
    "Добавим столбец с количеством отзывов в городе."
   ]
  },
  {
   "cell_type": "code",
   "execution_count": 50,
   "metadata": {},
   "outputs": [
    {
     "name": "stderr",
     "output_type": "stream",
     "text": [
      "C:\\Users\\Anna\\anaconda3\\lib\\site-packages\\ipykernel_launcher.py:3: SettingWithCopyWarning: \n",
      "A value is trying to be set on a copy of a slice from a DataFrame\n",
      "\n",
      "See the caveats in the documentation: https://pandas.pydata.org/pandas-docs/stable/user_guide/indexing.html#returning-a-view-versus-a-copy\n",
      "  This is separate from the ipykernel package so we can avoid doing imports until\n"
     ]
    }
   ],
   "source": [
    "data['Number of Reviews city']=0\n",
    "for i in range(len(data['Reviews'])):\n",
    "    data['Number of Reviews city'][i]=data[data['City']==data['City'][i]]['Number of Reviews'].sum()"
   ]
  },
  {
   "cell_type": "markdown",
   "metadata": {},
   "source": [
    "Проведём преобразованиие столбца в список по такой же методике, как и со стилями кухни. Но теперь у нас должен получиться список из двух списков: в первом первые строки отзыва, во втором - даты этих отзывов. Поскольку при первичном запуске выходила ошибка, поиск её причин выявил несколько строк в которых текст отзыва не подтянулся, а было записано nan, в строковом формате. Для начала заменим это выражением 'no review'."
   ]
  },
  {
   "cell_type": "code",
   "execution_count": 51,
   "metadata": {},
   "outputs": [
    {
     "name": "stderr",
     "output_type": "stream",
     "text": [
      "C:\\Users\\Anna\\anaconda3\\lib\\site-packages\\ipykernel_launcher.py:3: SettingWithCopyWarning: \n",
      "A value is trying to be set on a copy of a slice from a DataFrame\n",
      "\n",
      "See the caveats in the documentation: https://pandas.pydata.org/pandas-docs/stable/user_guide/indexing.html#returning-a-view-versus-a-copy\n",
      "  This is separate from the ipykernel package so we can avoid doing imports until\n"
     ]
    },
    {
     "name": "stdout",
     "output_type": "stream",
     "text": [
      "[['Will certainly be back', 'no review'], ['11/26/2017', '07/27/2017']]\n",
      "[['no review', 'Good food with decent service'], ['11/21/2017', '07/21/2017']]\n"
     ]
    }
   ],
   "source": [
    "for i in range(50000):\n",
    "    if data['Reviews'][i].find('nan]')>0 or data['Reviews'][i].find('nan,')>0:\n",
    "        data['Reviews'][i]=data['Reviews'][i].replace('nan',\"'no review'\")\n",
    "        print(data['Reviews'][i])"
   ]
  },
  {
   "cell_type": "code",
   "execution_count": 52,
   "metadata": {},
   "outputs": [
    {
     "name": "stderr",
     "output_type": "stream",
     "text": [
      "C:\\Users\\Anna\\anaconda3\\lib\\site-packages\\ipykernel_launcher.py:2: SettingWithCopyWarning: \n",
      "A value is trying to be set on a copy of a slice from a DataFrame\n",
      "\n",
      "See the caveats in the documentation: https://pandas.pydata.org/pandas-docs/stable/user_guide/indexing.html#returning-a-view-versus-a-copy\n",
      "  \n"
     ]
    }
   ],
   "source": [
    "for i in range(50000):\n",
    "    data['Reviews'][i]=ast.literal_eval(data['Reviews'][i])\n"
   ]
  },
  {
   "cell_type": "markdown",
   "metadata": {},
   "source": [
    "Получившиеся списки списков разделим на два столбца. В столбце Review_text будет список из двух отзывов, в столбце Review_Date - список дат в текстовом формате."
   ]
  },
  {
   "cell_type": "code",
   "execution_count": 53,
   "metadata": {},
   "outputs": [],
   "source": [
    "data['Review_text']=data['Reviews'].apply(lambda x: x[0])"
   ]
  },
  {
   "cell_type": "markdown",
   "metadata": {},
   "source": [
    "Посмотрим тип получившейся позиции в новом столбце"
   ]
  },
  {
   "cell_type": "code",
   "execution_count": 54,
   "metadata": {},
   "outputs": [
    {
     "data": {
      "text/plain": [
       "list"
      ]
     },
     "execution_count": 54,
     "metadata": {},
     "output_type": "execute_result"
    }
   ],
   "source": [
    "type(data['Review_text'][1])"
   ]
  },
  {
   "cell_type": "code",
   "execution_count": 55,
   "metadata": {},
   "outputs": [
    {
     "data": {
      "text/plain": [
       "str"
      ]
     },
     "execution_count": 55,
     "metadata": {},
     "output_type": "execute_result"
    }
   ],
   "source": [
    "type(data['Review_text'][1][0])"
   ]
  },
  {
   "cell_type": "markdown",
   "metadata": {},
   "source": [
    "У нас получился список из строк, которые на самом деле представляют собой предложение/заголовок отзыва, текст которого , видимо, представлен на сайте. Попробуем посчитать количество слов в каждом таком заголовке, а также по аналогии с видами кухонь попытаетмся посмотреть на список слов."
   ]
  },
  {
   "cell_type": "code",
   "execution_count": 56,
   "metadata": {},
   "outputs": [],
   "source": [
    "# Вставим столбец Review_words со значением по умолчанию 0.\n",
    "data['Review_words']=0"
   ]
  },
  {
   "cell_type": "markdown",
   "metadata": {},
   "source": [
    "Почистим записи от лишних символов и знаков препинания, посчитаем количество слов и создадим перечень встречающихся слов. "
   ]
  },
  {
   "cell_type": "code",
   "execution_count": 57,
   "metadata": {},
   "outputs": [
    {
     "name": "stderr",
     "output_type": "stream",
     "text": [
      "C:\\Users\\Anna\\anaconda3\\lib\\site-packages\\ipykernel_launcher.py:29: SettingWithCopyWarning: \n",
      "A value is trying to be set on a copy of a slice from a DataFrame\n",
      "\n",
      "See the caveats in the documentation: https://pandas.pydata.org/pandas-docs/stable/user_guide/indexing.html#returning-a-view-versus-a-copy\n",
      "C:\\Users\\Anna\\anaconda3\\lib\\site-packages\\ipykernel_launcher.py:41: SettingWithCopyWarning: \n",
      "A value is trying to be set on a copy of a slice from a DataFrame\n",
      "\n",
      "See the caveats in the documentation: https://pandas.pydata.org/pandas-docs/stable/user_guide/indexing.html#returning-a-view-versus-a-copy\n"
     ]
    }
   ],
   "source": [
    "i = -1 #Счётчик\n",
    "words = [] #Пока пустое множество слов\n",
    "for reviews in data['Review_text']:\n",
    "    i += 1\n",
    "    a = 0 # Обнуляем количество слов в первом и втором элементе списка\n",
    "    b = 0\n",
    "    if len(reviews)==2:\n",
    "        # Удаляем все небуквенные символы\n",
    "        word1 = re.sub(r'\\W', ' ', reviews[0])\n",
    "        word2 = re.sub(r'\\W', ' ', reviews[1])\n",
    "        # Удаляем все одиночные буквы (могли остаться от удаления апострофа)\n",
    "        word1 = re.sub(r'\\s+[a-zA-Z]\\s+', ' ', word1)\n",
    "        word2 = re.sub(r'\\s+[a-zA-Z]\\s+', ' ', word2)\n",
    "        # Удаляем одиночные символы с начала\n",
    "        word1 = re.sub(r'\\^[a-zA-Z]\\s+', ' ', word1)\n",
    "        word2 = re.sub(r'\\^[a-zA-Z]\\s+', ' ', word2)\n",
    "        # Заменяем множественные пробелы одним\n",
    "        word1 = re.sub(r'\\s+', ' ', word1, flags=re.I)\n",
    "        word2 = re.sub(r'\\s+', ' ', word2, flags=re.I)\n",
    "        # Удаляем префикс 'b'\n",
    "        word1 = re.sub(r'^b\\s+', '', word1)\n",
    "        word2 = re.sub(r'^b\\s+', '', word2)\n",
    "        # Переводим все слова в строчной регистр\n",
    "        word1 = word1.lower()\n",
    "        word2 = word2.lower()\n",
    "        # Считаем количество слов по принципу количество пробелов +1\n",
    "        a = word1.count(' ') + 1\n",
    "        b = word2.count(' ') + 1\n",
    "        data['Review_words'][i] = a + b \n",
    "        word = word1 + ' ' + word2\n",
    "        word_list = list(map(str, word.split()))\n",
    "        words.extend(word_list)\n",
    "    elif len(reviews)==1:\n",
    "        word1 = re.sub(r'\\W', ' ', reviews[0])\n",
    "        word1 = re.sub(r'\\s+[a-zA-Z]\\s+', ' ', word1)\n",
    "        word1 = re.sub(r'\\^[a-zA-Z]\\s+', ' ', word1)\n",
    "        word1 = re.sub(r'\\s+', ' ', word1, flags=re.I)\n",
    "        word1 = re.sub(r'^b\\s+', '', word1)\n",
    "        word1 = word1.lower()\n",
    "        a = word1.count(' ') + 1\n",
    "        data['Review_words'][i] = a\n",
    "        word_list = list(map(str, word1.split()))\n",
    "        words.extend(word_list)\n"
   ]
  },
  {
   "cell_type": "code",
   "execution_count": 58,
   "metadata": {},
   "outputs": [
    {
     "data": {
      "text/plain": [
       "305806"
      ]
     },
     "execution_count": 58,
     "metadata": {},
     "output_type": "execute_result"
    }
   ],
   "source": [
    "len(words)\n"
   ]
  },
  {
   "cell_type": "code",
   "execution_count": 59,
   "metadata": {},
   "outputs": [
    {
     "data": {
      "text/plain": [
       "0     8114\n",
       "7     5196\n",
       "8     4780\n",
       "6     4773\n",
       "9     4381\n",
       "5     4181\n",
       "10    3576\n",
       "4     3180\n",
       "11    2774\n",
       "12    2146\n",
       "3     1868\n",
       "13    1518\n",
       "2     1113\n",
       "14     935\n",
       "15     548\n",
       "16     329\n",
       "1      301\n",
       "17     173\n",
       "18      77\n",
       "19      28\n",
       "20       8\n",
       "21       1\n",
       "Name: Review_words, dtype: int64"
      ]
     },
     "execution_count": 59,
     "metadata": {},
     "output_type": "execute_result"
    }
   ],
   "source": [
    "data['Review_words'].value_counts()"
   ]
  },
  {
   "cell_type": "code",
   "execution_count": 60,
   "metadata": {},
   "outputs": [
    {
     "name": "stdout",
     "output_type": "stream",
     "text": [
      "14948 {'kebabs', 'express', 'rudely', 'cozy', 'le', 'stars', 'bayerisch', 'freezing', 'foodcourt', 'dei', 'paneria', 'medium', 'popular', 'fragrant', 'schanzenviertel', 'heathy', 'siam', 'watch', 'khoshmazeh', 'sirenas', 'crave', 'picturesque', 'cuban', 'inexpensive', 'europ', 'directly', 'solution', 'mmmust', 'divebar', 'bette', 'improvised', 'ropey', 'neiborhood', 'avera', 'yearly', 'martinigansl', 'excel', 'underperforming', 'notre', 'snac', 'lines', 'sarchbar', 'japanese', 'niice', 'seafront', 'brave', 'gyros', 'feltman', 'saumon', 'worked', 'portugalia', 'bedford', 'accomadating', 'medal', 'herzlich', 'woolwich', '000', 'feel', 'frustrating', 'rapide', 'pretend', 'sham', 'hazard', 'decieved', 'wasabi', 'tentazioni', 'grump', 'homolje', '9th', 'sandra', 'serivceminded', 'disagree', 'tooo', 'nearest', 'brinch', 'whenever', 'newyear', 'seafood', 'muslims', 'sail', 'sightsee', 'laietana', 'reminder', 'helsinki', 'forman', 'bust', 'krakau', 'lacks', 'méat', 'tongue', 'ramey', 'inconsistent', 'kajak', 'yummmmm', 'discreet', 'duty', 'rappo', 'comment', 'buddha', 'oost', 'graefekiez', 'det', 'diffe', 'potat', 'loose', 'feeling', 'potatoe', 'fischbrötchen', 'defenitly', 'costa', 'judge', 'phone', 'helsi', 'qualità', 'por', 'joes', 'domestic', 'details', 'downhi', 'hittin', 'old', 'sizes', 'advised', 'statio', 'dre', 'canicule', 'fringes', 'pinta', 'plazz', 'heiniken', 'after', 'sono', 'mucha', 'greyhound', 'cancel', 'christine', 'kit', 'backside', 'hustling', 'muy', 'penge', 'unbelivably', 'embassy', 'wurst', 'exquisit', 'sandes', 'se1', 'pera', 'reward', 'coal', 'rushing', 'surprized', 'ireland', 'meatlovers', 'bloemenconcert', 'msg', 'flattered', 'mondoo', 'gang', 'nyhavn', 'suzette', 'eating', 'ranging', 'absolutly', 'sharptooth', 'caipirinhas', 'rna', 'medina', 'crusty', 'let', 'satisfactory', 'book', 'bitterballen', 'sherwama', 'adam', 'usa', 'flintstone', 'drunk', 'flawless', 'recent', 'funniest', 'cebiches', 'tranitional', 'plain', 'pounds', 'refused', 'solomillo', 'seafoody', 'outstanging', 'largevportions', 'location', 'previous', 'forreigners', 'fix', 'posti', 'victim', 'bistr', 'craftbeer', 'legendary', 'poulet', 'henan', 'preferito', 'clients', 'lasagnas', 'ghanouj', 'yugh', 'di', '龍蝦好吃', 'december', 'minu', 'picking', 'holloway', 'jewels', 'now', 'fado', 'mingin', 'charmin', 'tarder', 'iberian', 'borrel', 'slow', 'somethi', 'leafy', 'fallen', 'sambuca', 'beijing', 'indonesia', 'toward', 'junaa', 'felafels', 'spicey', 'tirolean', 'damm', 'citizen', 'drumcondra', 'breadsticks', 'games', 'jelly', 'decision', 'surrou', 'susan', 'vegana', 'considering', 'whethe', 'friendlly', 'laughs', 'plesant', 'exhibition', 'haggis', 'defrauda', 'negroni', 'rendang', 'salsiccia', 'composition', 'dying', 'holding', 'indo', 'yo', 'assembly', 'aft', 'musique', 'weekday', 'skilled', 'disguise', 'mousse', 'decwnt', 'pamper', 'equally', 'wholesale', 'pig', 'fan', 'recommending', 'comparing', 'economy', 'harringa', 'izakaya', 'personal', 'fashiones', 'slowe', 'enthusiasts', 'bever', '22', 'suggest', 'foregners', 'dungeon', 'pra', 'thats', 'ox', 'valve', 'att', 'taberna', 'attentiveness', 'alfresco', 'positano', 'vee', 'maccarons', 'weekend', 'approx', 'tourism', 'backyard', 'travel', 'martim', 'opposi', 'tablet', 'ic', 'charged', 'fastest', 'nsw', 'quisinen', 'kurd', 'find', 'locati', 'scots', 'fashione', 'amazinggggg', 'fishh', 'metro', 'worthy', 'hundred', 'handmade', 'kola', 'prize', 'hearthfully', 'culture', 'sums', 'tastecard', 'lik', 'sicily', 'row', 'coastal', 'atti', 'avearage', 'furhter', 'fireworks', 'art', '10ur', 'pictu', 'filled', 'encountered', 'squeeze', 'uneventful', 'lunching', 'fill', 'praga', 'mistake', 'bld', 'longest', 'frien', 'printed', 'loveee', 'mandarin', 'ceasar', 'socks', 'milvio', 'spiced', 'meny', 'spensive', 'france', 'groce', 'ook', 'temple', 'rome', 'crouch', 'chamberí', 'distinction', 'apulian', 'afriad', 'fresher', 'londoner', 'celebrations', 'lunch', 'nea', 'eck', 'precisely', 'aux', 'sadhya', 'taken', 'pla', 'citytrip', 'craic', 'custome', 'major', 'along', 'holy', 'noblesse', 'rame', 'seaview', 'fatto', 'animals', 'decouvrir', 'ra', 'requiem', 'salsa', 'drug', 'gret', 'latin', 'understanding', 'kindly', 'y', 'quarti', 'delicios', 'own', 'walthams', 'recommendable', 'gutted', 'especial', 'cliquot', 'breakdown', 'raviola', 'wel', 'kaffe', 'ecellent', 'vermouth', 'cuisines', 'atmoshpere', 'sted', 'terrazzo', 'croquet', 'dauphine', 'honestly', 'punchline', 'exe', 'gva', 'hearts', 'grandsons', 'spotting', 'gyozas', 'italian', 'jimbo', 'saki', 'cocina', '20th', 'sitting', 'creation', 'goddess', 'italiaans', 'tastevin', 'charmig', 'hanburger', 'exquisito', 'kuchen', 'lovey', 'fashion', 'luna', 'ducks', 'ole', 'onest', 'outlandish', 'runni', 'slider', 'faux', 'enormus', 'ru', 'back', 'breakfas', 'dated', 'higene', 'moabe', 'peine', 'hoping', 'oyster', 'calzone', 'class', 'stal', 'ltd', 'raving', 'alice', 'queu', 'greek', 'idea', 'lewisham', 'dahlem', 'bayswater', 'reception', 'slecht', 'times', 'afterno', 'alamada', 'colosseum', 'foie', 'reputation', 'updating', 'waw', 'não', 'insufficiently', 'afterwards', 'centric', 'unfussy', 'unas', 'factory', 'gastatte', 'steamed', 'offerd', 'te', 'fla', 'deal', 'prussure', 'relaxation', 'terras', 'wher', 'hell', 'moijto', 'zio', 'montemartini', 'refugee', 'botani', 'duri', 'landed', 'son', 'nighmare', 'steves', 'sardinian', 'iunch', 'lambeth', 'seems', 'glorie', 'enthusiast', 'everest', 'hofbrauhaus', 'singapore', 'tranquil', 'li', 'coworking', 'ceil', 'bottles', 'retu', 'esquivocais', 'byriani', 'goosey', 'japonese', 'giratorio', 'styrian', 'merca', 'hosted', 'fantastische', 'fantastissimo', 'zack', 'dancing', 'delicatessens', 'freundlich', 'barc', 'casera', 'changing', 'fooding1', 'carvery', 'cashew', 'libanese', 'skirt', 'gastronomically', 'gourmet', 'tenaba', 'lubzer', 'goodwill', 'poggio', 'microbrew', 'theatres', 'yes', 'quai', 'suler', 'deisgn', 'stand', 'indulgence', 'fanily', 'gruzinskie', 'hyde', 'onions', 'alla', 'took', 'appearence', 'uber', 'roam', 'tacos', 'abusoltely', 'mmm', 'primrose', 'envronment', 'fami', 'notice', 'pasing', 'treasure', 'americ', 'crowdy', 'chique', 'infuriating', 'telephone', 'chabada', 'referral', 'hammersmith', 'atmopspheric', 'joyful', 'waou', 'dessert', 'autentic', 'enchantment', 'tika', 'pizzette', 'pleasurably', 'manhattans', 'use', 'educated', 'bonne', 'montmatre', 'pigalle', '20', 'es', 'sm', 'decide', 'latest', 'neutral', 'wantan', 'wilde', 'mums', 'ger', 'wiedikon', 'outst', 'serendipitous', 'gaulois', 'deliciou', 'sweetest', 'simpler', 'phon', 'navona', 'e', 'measure', 'reap', 'affordable', 'butchers', 'overprice', 'thaifood', 'cappucino', 'pasa', 'slack', 'child', 'assured', 'eccentr', 'schöneberg', 'treasury', 'tabl', 'neighbo', 'religion', 'streets', 'expertise', 'kencék', 'broccoli', 'ripe', 'decor', 'compensates', 'delivers', 'soberbo', 'même', 'rapport', 'investment', 'artistry', 'disgusti', 'prfect', 'gullible', 'alway', 'advisory', 'family', 'milliklubi', 'portuguese', 'potato', 'shoppe', 'oiled', 'fleischmarkt', 'fullfill', 'friendly', 'campari', 'corte', 'salad', 'tentación', 'pric', 'brest', 'moqueca', 'trainstation', 'globes', 'hitchcock', 'unprofitable', 'maritim', 'expecte', 'lgtb', 'web', 'wijn', 'limoncello', 'ciriola', 'deliveries', 'huertas', 'matriciana', 'eccccccezionale', 'lucerne', 'payi', 'schlager', 'memories', 'unpolite', 'drop', 'loosing', 'lukewarm', 'kroket', 'our', 'viziorgona', 'egg', 'escalde', 'brasil', 'unrushed', 'ullevalseter', 'bustro', 'celler', 'bratislava', 'corpor', 'crowd', 'edible', 'amasing', '4', 'looooved', 'dissapointed', 'memory', 'tagines', 'improvem', 'appetizing', 'cheerful', 'churro', 'tasty', 'boheme', 'lillys', 'ex', 'bin', 'dots', 'heuriger', 'freddo', 'viño', 'see', 'complete', 'brackenbury', 'rosat', 'standout', 'awsome', 'fursty', 'john', 'freshness', 'gozleme', 'munkkiniemi', 'spoils', 'avo', 'quelle', 'touris', 'ceiling', 'faliro', 'gâteaux', 'praet', 'pedestrian', 'scene', 'peeeeeerfect', 'tasy', 'ly', 'wath', 'coort', 'cotoletta', 'mange', 'promising', 'richard', 'funny', 'servis', 'natural', 'játék', 'akerbrygge', 'freta', 'athentic', 'waaaaaay', 'raising', 'surro', 'draught', 'loca', 'brushed', 'bianco', 'arkady', 'gimmicks', 'jasmine', 'neihgbor', 'refer', 'infinite', 'vietnamite', 'triomphe', 'montesacro', 'orange', 'suntan', 'inter', 'burbs', 'streetside', 'niebe', 'freshly', 'wellington', 'cohier', 'atmousphere', 'shocker', 'averege', 'payments', 'rani', 'accept', 'manana', 'authenthic', 'decoration', 'neighther', 'spur', 'weekly', 'convi', 'reconstructing', 'barça', 'four', 'sing', 'yah', 'limonchello', 'café', 'roasting', 'llevar', 'awesome', 'fam', 'healthy', 'bornemisza', 'meta', 'personality', '16eme', 'phö', 'capsule', '乾淨日式料理', 'trop', 'wasn', 'poorly', 'vegeterian', 'lottery', 'unpretent', 'unsatisfying', 'parfait', 'escapes', 'gorzej', 'cannon', 'allergens', 'bookstore', 'goan', 'din', 'poem', 'burhers', 'burn', 'bourdain', 'meaning', 'amusing', 'thi', 'sandwitches', 'cheeseburgers', 'masterchef', 'barma', 'stagf', 'dominican', 'vergüenza', 'cracking', 'guten', 'were', 'greenhouse', 'ribs', 'sorrounding', 'spectacukar', 'krugers', 'nic', 'roi', 'indicated', 'hint', 'balances', 'breakfasts', 'clubbing', 'defeated', 'loeve', 'caesar', '51', 'fr', 'chodov', 'excuse', 'antique', 'provide', 'latge', 'carribean', 'prizes', 'twis', 'schnitzels', 'fishmonger', 'dereliction', 'baristas', 'gloves', 'glutamat', 'crisps', 'larger', 'neighborhoo', 'disgraceful', 'mor', 'or', 'brooklyn', 'dissappointm', 'fetish', 'restaurant', 'loa', 'teatret', 'notch', 'oprorto', 'delights', 'coque', 'aut', 'hunt', 'picasso', 'garden', 'donc', 'humiliated', 'strongly', 'aga', 'atmosfere', 'empanada', 'tafelspitz', 'shawarma', 'sweetness', 'bangers', 'hotdog', 'pret', 'choccolate', 'artfull', 'harrod', 'buffe', 'excit', 'eww', 'fry', 'fodder', 'peru', 'x3', 'intolerants', 'denmark', 'strips', 'buy', 'vigneronne', 'churchtown', 'nonsense', 'three', 'maker', 'giles', 'misurati', 'ii', 'warn', 'chatting', 'mic', 'unicorn', 'effo', 'duy', 'how', 'gestures', 'midi', 'relics', 'by', 'producer', 'appreciated', 'smashing', 'bk', 'côte', 'dobré', 'quaity', 'correctly', 'jack', 'relative', 'piano', 'escale', 'pricey', 'retreat', 'wollzeile', 'speci', 'dimly', 'gree', 'spanish', 'eiffetower', 'supporters', 'parsian', 'veeeery', 'blood', 'favolosa', 'block', 'gf', 'unfrie', 'angleterre', 'gallinejas', 'comidas', 'ballet', 'hungrarian', 'lekker', 'afghani', 'funtastic', 'chicchi', 'rising', 'nicos', 'peasant', 'brewed', 'seaside', 'queues', 'slowly', 'ambitions', 'convenie', 'edge', 'kangaroo', 'deshi', 'horrendous', '5', 'discovering', 'moussaka', 'que', 'lond', 'culinary', 'polpette', 'spea', 'kilo', 'nou', 'liguria', 'gujarati', 'patrick', 'britannia', 'lebanon', 'malt', 'ossobucco', 'pastel', 'flights', 'germain', 'gosia', 'tigre', 'knobbly', 'quaffing', 'confident', 'aimlessly', 'bustl', 'helan', 'lonely', 'caffeteria', 'beguette', 'hesburger', 'mad', 'peacock', 'charcoal', 'pe', 'restraunt', 'affordab', 'chili', 'sluggish', 'buzz', 'bacalhau', 'singular', 'spolied', 'talent', 'taverne', 'wasteland', 'ple', 'riviera', 'salted', 'theif', 'bridge', 'zappeion', 'meunière', 'neasden', 'ikki', 'im', 'ears', 'trustworthy', 'upgraded', 'allergic', 'lob', 'mea', 'salade', 'birner', 'rocha', 'br', 'pullman', 'polynesian', 'mondays', 'nostalgia', 'haul', 'omar', 'casual', 'kan', 'scope', 'unseen', 'resturaunt', 'tanya', 'pinchos', 'anitpasti', 'bimimpap', 'eatery', 'welcoming', 'towers', 'pataniscas', 'clientel', '5mn', 'dum', 'literature', 'darsena', 'promised', 'managemen', 'madd', 'expens', 'thousands', 'holland', 'midtown', 'powerboost', 'bucco', 'homemade', 'stairs', 'unfriendly', 'wawiwa', 'altitude', 'ghanaian', 'deapointet', 'restaurand', 'gla', 'gro', 'traiteur', 'neighb', 'impressions', 'perie', 'tiffanys', 'pubs', 'snak', 'dongle', 'glacier', 'down', 'prie', 'sam', 'traditionnal', 'barbican', 'dependably', 'improvements', 'wished', 'thursdays', 'hiding', 'vanna', 'disap', 'parkgate', 'stereotypically', 'stake', 'huta', 'rman', 'cromwell', 'ancestor', 'hamburg', 'smith', 'wheelchair', 'afte', 'is', 'econimical', 'lid', 'pitty', 'unexpectedly', 'yak', 'barrett', 'sympatico', 'neighbirhood', 'colleagues', 'amazingness', 'families', 'pat', 'couple', 'bands', 'daytime', 'enjoyable', 'children', 'rodizio', 'asua', 'mothwateringly', 'piv', 'effect', 'regularly', 'sichaun', 'someone', 'absoultley', 'grimey', 'claude', 'drool', 'mexicana', 'bec', 'silver', 'essential', 'vaugarid', 'refurbished', 'copenhague', 'sandwic', 'authent', 'pulled', 'afterwork', 'blåsut', 'basics', 'bark', 'delhi', 'wareho', 'fuet', 'becasue', 'though', 'detail', 'fi', 'parisians', 'collisuem', 'bougatsa', 'squid', 'suspicious', 'eventually', 'siclian', 'tartare', 'unfair', 'sloveni', 'efficiënt', 'takeaway', 'pesci', 'madrono', 'patricks', 'whilst', 'prado', 'falling', 'quattro', 'ammmmazzzzingggg', 'theat', 'tiramusu', 'priceworthy', 'behavior', 'impressive', 'modern', 'garratt', 'smk', 'clodaghs', 'tottenham', 'entert', 'woww', 'awkward', 'kebabz', 'cometacinc', 'grande', 'poached', 'pota', 'luzia', 'glace', 'punjab', 'tipica', 'tank', 'ordering', 'alright', 'passable', 'cardboard', 'gelato', 'worldwide', 'prises', 'lactose', 'cordon', 'sundae', 'conditioning', 'goof', 'ah', 'coupon', 'atr', 'crepegarden', 'secon', 'mousy', 'betterable', 'pubfood', 'früstück', 'globe', 'drum', 'xaritos', 'reach', 'shared', 'aske', 'nearly', 'mouse', 'confluence', 'kales', 'superficial', 'motel', 'worth', 'investigating', 'styria', 'mamma', 'outstand', 'drinks', 'bravo', 'luxembourgish', 'sub', 'instead', 'foid', 'aver', 'publ', 'garlic', 'andel', 'atmosphere', 'keeping', 'equal', 'adress', 'luciano', 'wonderful', 'lacontenta', 'maggiore', 'igno', 'neve', 'openminded', '30min', 'diversion', 'daiquiri', 'gno', 'molto', 'ikonen', 'söder', 'absol', 'unprepossessing', 'dissappinting', 'shard', 'chased', 'basta', 'clebratory', 'dumas', 'hype', 'shoe', 'personnel', 'eq', 'intresting', 'localización', 'moved', 'carefully', 'comfy', 'tarsy', 'wars', 'ouro', 'lecker', 'avocados', 'kleparz', 'flammenkuchen', 'unstated', 'appeltaart', 'resistance', 'hovno', 'spoon', 'mocha', 'with', 'lol', 'hustle', 'sumatera', 'bo', 'bottega', 'gaulo', 'lissana', 'borneo', 'chokolatier', 'doubt', 'tvs', 'ham', 'kastanjen', 'sandwich', 'sorg', 'rissoto', 'todella', 'tonigh', 'altho', 'midweek', 'certified', 'broodzaak', 'outage', 'particoular', 'bah', 'slovakia', 'surely', 'fetch', 'gets', 'woul', 'mogador', 'día', 'dire', 'alive', 'exce', '468', 'numerous', 'verticale', 'hö', 'meringaie', 'next', 'delicacie', 'created', 'vietname', 'achiever', 'hysterically', 'ronald', 'unique', 'noted', 'law', 'practically', 'modernista', 'ponche', 'buts', 'lock', 'pokes', 'edges', 'stovies', 'visut', 'toi', 'eexpected', 'käse', 'restaurnt', 'suitab', 'absurdly', 'styled', 'drinkable', 'prefer', 'hart', 'catala', 'public', 'uniq', 'wholeheartedly', 'hokejka', 'val', 'nathalie', 'marevllous', 'still', 'frankie', 'setting', 'stoped', 'surprises', 'chinas', 'ottolenghi', 'bombay', 'heavenly', 'bangin', 'regulars', 'imbiss', 'sipping', 'deceiving', 'sendling', 'fala', 'literally', 'that', 'sept', 'founde', 'luv', 'divine', 'in', 'relations', 'trastavere', 'right', '마인드가', 'boscolo', 'clubs', 'recommende', 'essence', 'hand', 'snitzel', 'trifecta', 'ponte', 'artesanal', 'relazing', 'onze', 'napoli', 'north', 'argentine', 'minestrone', 'soccer', 'cooked', 'unstuffy', 'fabulius', 'buster', 'kai', 'pão', 'season', 'baji', 'wi', 'discrimination', 'piped', 'crossiants', 'alsace', 'falls', 'jewel', 'southwoodford', 'version', 'wowza', 'blindern', 'thoug', 'meeting', 'arcade', 'buger', 'clumsy', 'source', 'nes', 'slammabam', 'experi', 'missleading', 'disgra', 'foxes', 'k', 'activity', 'jar', 'veggy', 'ease', 'internal', 'quirkiest', 'islands', 'classical', 'speaking', 'dk', 'populari', 'informative', 'giant', 'andreu', 'shoppers', 'tutto', 'norther', 'possibility', 'symphony', 'fromag', 'sososososo', 'brockley', 'jalebi', 'love', 'orient', 'aspava', 'piadina', 'tremendously', 'pump', 'networking', 'offering', 'pampered', 'pijp', 'equiped', 'airport', 'she', 'popul', 'chez', 'cidra', 'zeer', 'über', 'alert', 'vero', 'bho', 'dziką', 'vindos', 'burnt', 'evergreen', 'kofte', 'neukölln', 'quickly', 'aperetivo', 'mankind', 'chris', 'theatrical', 'miles', 'tonkotsu', 'remarkable', 'coctail', 'piggies', '88', '70', 'bagel', 'venezuelan', 'reccomendation', 'pride', 'specialist', 'pastrami', 'pill', 'gorgious', 'snooker', 'pannini', 'mzuri', 'fisher', 'workspace', 'busy', 'hampstead', 'itlaian', 'kook', '30th', 'id', 'collecti', 'brigante', 'cp', 'cr', 'tabán', 'chane', 'madeira', 'lieu', 'romance', 'très', 'betwe', 'york', 'nadal', 'disgustingly', 'popularit', 'tertre', 'reserve', 'banal', 'inattentive', 'boqueria', 'optima', 'isteni', 'website', 'godsend', 'terrible', 'stews', 'madrileño', 'vietnamis', 'nivalgi', 'expec', 'stelle', 'udvar', 'assumed', 'nightmare', 'veri', 'cleanse', 'fares', 'rendezvous', 'espr', 'effects', 'closed', 'component', 'inf', 'johnson', 'lässig', 'oily', 'succour', 'eber', 'texas', '安定感ある最高の鮨', 'info', 'malos', 'awesomer', 'd', 'kodila', 'pierre', 'experienced', 'duet', 'fl', 'skip', 'mediterra', 'pinoy', 'amibance', 'wynants', '1hour', 'pates', 'brotteaux', 'advertisement', 'excellant', 'tapes', 'poisoning', 'musi', 'ama', 'neo', 'vittorio', '00', 'pasteleria', 'across', 'convenient', 'vegans', 'birthday', 'hiked', 'j', 'floating', 'recommend', 'smokers', 'ask', 'catches', 'annoying', 'animation', 'fuel', 'late', 'garde', 'pension', 'austen', 'sush', 'barcelon', 'fare', 'doorstep', 'congenial', 'exprimental', 'ecxcellent', 'guacamole', 'happen', 'paninno', 'queen', 'rrstaurant', 'schmiede', 'seafarer', 'network', 'tim', 'excellente', 'forum', 'iroon', 'kafka', 'perignon', 'pope', 'boom', 'vor', 'vakantiesfeer', 'correction', 'explore', 'escargots', 'ed', 'buck', 'hippy', 'ancha', 'hold', 'chip', 'lece', 'sprawling', 'settin', 'coukd', 'franz', 'deserve', '1', 'villanueva', 'mangal', 'difference', 'thai', 'gouging', 'contents', 'hard', 'amaaaaaaazing', 'slightly', 'seriously', 'organik', 'bitter', 'indoor', 'tabakkes', 'colour', 'consume', 'positively', 'smaller', 'stella', 'amazin', 'aweaome', 'lan', 'wee', 'grans', 'compromise', 'smoothi', 'deco', 'cannot', 'machine', 'ran', 'inconvenient', 'kolapata', 'inedible', 'dangerous', 'shortcomings', 'bière', 'mas', 'pupusas', 'christoph', 'ima', 'comics', 'molitor', 'ensure', 'haven', 'promissing', 'fantastically', 'chair', 'shake', 'empty', 'pot', 'fringey', 'yippie', 'kramy', 'straff', 'suprise', 'yeares', 'colazione', 'roubao', 'revamp', 'pre', 'donuts', 'choise', 'churros', 'snazzy', 'mesmerised', 'elk', 'macdonalds', 'passionate', 'heaters', 'scam', 'costumer', 'customers', 'tirmisu', 'carmine', 'agreeable', 'valu', 'ambit', 'concert', 'brunch', 'nut', 'préféré', 'wounln', 'martinis', 'leyton', 'broule', 'brasseri', 'mont', 'winebar', 'cash', 'latino', 'criminally', 'charismatic', 'compl', 'onwers', 'frendly', 'incl', 'no', 'iceman', 'interrupted', 'achieve', 'fault', 'cheers', 'cavern', 'etta', 'evitare', 'fairly', 'impromptu', 'great', 'aubergines', 'polisius', 'pastries', 'duck', 'burges', 'viennese', 'spicy', 'da', 'amatriciana', 'márvány', 'uncomfortable', 'u', 'linka', 'format', 'vibes', 'continues', 'neck', 'cuise', 'brixt', 'trav', 'charming', 'easily', 'attenti', 'austriaco', 'ave', 'billbo', 'ko', 'huitzilin', 'traveller', 'cœur', 'day', 'kefta', 'camilya', 'unbelievably', 'horror', 'gift', 'device', 'basically', 'thearre', 'stood', 'osterman', 'tanti', 'til', 'blaustern', 'glutamate', 'solo', 'becareful', 'emp', 'ashamed', 'faster', 'gypsy', 'licken', 'finest', 'milkshakes', 'wonderul', 'mondadori', 'cam', 'potatos', 'appetizers', 'bocado', 'horrid', 'gl', 'assortment', 'selfservise', 'blai', 'ideally', 'creeam', 'garnelen', 'stingy', 'excelente', 'homesick', 'hurry', 'milady', 'gemütlich', 'microscopic', 'exactly', 'robust', 'idyla', 'mniam', 'fared', 'entries', 'respons', 'sauces', 'chineese', 'västertorp', 'snapped', 'expecting', 'freshwater', 'shy', 'true', 'uniqueness', 'wonder', 'elsewher', 'bilow', 'wc1', 'exaltation', 'gastrochic', 'paper', 'assiettes', 'gallerie', 'panache', 'braised', 'nouve', 'rotterdam', 'combin', 'gamble', 'league', 'watery', 'sip', 'safe', '46', 'comparison', 'leon', 'chinees', 'half', 'tamil', 'boco', 'fáilte', 'lugar', 'recomended', 'albani', 'belive', 'bernabeu', 'cravings', 'genieten', 'haphazard', 'lovel', 'ofbeat', 'lasts', 'lovi', '75', 'auténtico', 'gogo', 'spectacle', 'febo', 'alejandro', 'norm', 'clientele', 'nav', 'taxi', 'horton', 'established', 'possi', 'happy', 'speculos', 'sunday', 'dipping', 'inflated', 'crazily', 'big', 'southbank', 'davy', 'tortelloni', 'bleu', 'bières', 'neigh', 'boy', 'cern', 'scons', 'tapas', 'jus', 'waaay', 'frinds', 'responsive', 'antonin', 'dood', 'quinet', 'brilliance', 'event', 'plce', 'hesitate', 'showing', 'mountain', 'palmyra', 'subs', 'extras', 'argentinean', 'wish', 'délicieuse', 'deserted', 'outdoorsy', 'compr', 'sev', 'fongs', 'inner', 'compa', 'retail', 'frango', 'menti', 'desperation', 'egyptian', 'read', 'noodles', 'treffen', 'hideout', 'spread', 'discovere', 'bags', 'eatingplace', 'jonesing', 'crush', 'torta', 'vinho', 'woooww', 'delicatesse', 'sarnie', 'disappearing', 'mercure', 'proberbly', 'been', 'mmmm', 'miguel', 'charm', 'aftermath', 'pizza', 'sauce', 'malga', 'damn', 'guaranteed', 'little', 'suited', 'weatherspoonsx2', 'als', 'preshow', 'salty', 'kingsland', 'luxurious', 'yeah', 'locl', 'educational', 'zugló', 'earlier', '7e', 'poslední', 'jedzeniem', 'distr', 'agora', 'serbian', 'featuring', 'unexciting', 'relaxe', 'goals', 'abs', 'distanc', 'aussie', 'gaf', 'naught', 'outright', 'vera', 'cen', 'grrek', 'sharing', 'switzerland', 'perbacco', 'cleaning', 'enticed', 'sicilian', 'strolling', 'hassle', 'char', 'rhe', 'guidance', 'ricos', 'dilbeek', 'invasive', 'milkshake', 'slooooow', 'helpful', 'owe', 'appointment', 'juicce', 'did', 'feijoada', 'revolution', 'schm', 'nearby', 'advice', 'capuchino', 'bimbambap', 'retrò', 'resta', 'basque', 'mokhtar', 'weeks', 'variations', 'surprize', 'chills', 'worest', 'coffe', 'stepping', 'subtle', 'appetizer', 'plan', 'cappuccinos', 'whiskybar', 'beethoven', 'appreciate', 'sodermalm', 'stephen', 'cafferino', 'presentat', 'friend', 'tzazik', 'не', 'cinco', 'mcgees', 'medieval', 'villa', 'flavoursome', 'start', 'palaio', 'pantry', 'mouthfull', 'banh', 'calamaretti', 'within', 'fantastic', 'botega', 'wait', 'existent', 'older', 'atmophere', 'tracking', 'captivating', 'patch', 'fideuà', 'formule', 'murphy', 'rabbit', 'longer', 'blackrock', 'surprisingly', 'breathe', 'seitan', 'sheraton', 'labriego', 'chicken', 'cheat', 'prosseco', 'maxvorstadt', 'unacceptable', '16th', 'aspirations', 'cha', 'marché', 'freisen', 'piadinas', 'jusst', 'tullut', 'bocadillos', 'gastronomical', 'bob', 'schlemmer', 'surprised', 'rainbow', 'inexplicably', 'außenalster', 'saska', 'bigger', 'gaff', 'uninspiring', 'mixture', 'definite', 'match', 'wettest', 'kicked', 'questionable', 'rocks', 'crayfish', 'kitchens', 'jummie', 'abrupt', 'indigestive', 'chocoholics', 'connaisseur', 'grandaughters', 'convenience', 'ni', 'pall', 'internet', 'knows', 'hummous', 'glu', 'infront', 'intentions', 'ruga', 'combinations', 'suplli', 'welcomed', 'offish', 'seeing', 'especia', 'ter', 'nightclub', 'war', 'aussies', 'cheep', 'way', 'vox', 'rato', 'influe', 'aren', 'raan', 'weddi', 'nationa', 'warming', 'amaaazing', 'congee', 'lightly', 'saltyyyyyyyy', 'rebuf', 'tonight', 'sampl', 'average', 'dlhe', 'gru', 'knees', 'boss', 'volonte', 'convenable', 'caring', 'prices', 'mughlai', 'smoker', 'problem', 'gotten', 'gesunde', 'windy', 'cesare', 'veeery', 'affirdable', 'barce', 'tostas', 'environnement', 'nadu', 'madame', 'spagetti', 'thanks', 'hideous', 'konstytucji', 'prayer', 'kudo', 'seen', 'spontaneous', 'bookng', 'lovelylittletiki', 'bello', 'obliging', 'potentially', 'pattie', 'steglitz', 'lassie', 'ample', 'atmospgere', 'colombo', 'marek', 'every', 'eis', 'mall', 'molina', 'jedzenie', 'sooooooo', 'bell', 'qu', 'unsophisticated', 'ĺovely', 'burgun', 'hernesaari', 'perfekt', 'silvest', 'sparse', 'gastrobar', 'averag', 'pisto', 'pièce', 'supposed', 'comp', 'greg', 'viihtyisä', 'fairy', 'humourless', 'preiswert', 'hindu', 'hands', 'calabrese', 'dunati', 'inexprienced', 'ottima', 'fot', 'julbord', 'pengest', 'prettiest', 'overcooked', 'curate', 'overpr', 'liking', 'juicer', 'iberico', 'ford', 'smack', 'tzars', 'rices', 'caution', 'hoxton', 'lawn', 'semi', 'slipped', 'pressed', 'tadoussac', 'living', 'dips', 'low', 'appropriately', 'mccafe', 'thali', 'pastis', 'pleasantly', 'mr', 'train', 'parks', 'combined', 'sta', 'concentrate', 'oysters', 'walnut', 'racecourse', 'palestine', 'rushed', 'pardo', 'neukolln', 'stakes', 'martin', 'sorbillo', 'stree', 'tutaska', 'picks', 'knowleg', 'colonia', 'grunewald', 'super', 'profess', 'jamón', 'left', 'inexpenssive', 'hygenic', 'oper', 'christening', 'foundation', 'rambla', 'legacy', 'freimachen', 'often', 'pasty', 'tortilla', 'barnet', 'surroundin', 'crumble', 'malmi', 'sake', 'wonde', 'cannol', 'manglerud', 'muscles', 'francs', 'camilo', 'paolo', 'two', 'although', 'chocola', 'hendrik', 'n8ice', 'achingl', 'god', 'confort', 'jain', 'abbeys', 'coppedè', 'fresco', 'hygge', 'lantern', 'smoothy', 'verde', 'madrileno', 'non', 'warning', 'travelling', 'tio', 'cevice', 'flav', 'reloca', 'nation', 'subject', 'immersion', 'proscuitto', 'hearty', 'brow', 'ristora', 'popularity', 'last', 'animado', 'muamba', 'wham', 'saves', 'bomb', 'colonnade', 'buon', 'hawaii', 'reveller', 'teracce', 'caffe', 'flamenco', 'revolting', 'better', 'entrecampos', 'narsi', 'creativity', 'pattisserie', 'india', 'convient', 'rossini', 'gioconda', 'lobos', 'organico', 'obse', 'bedeutungslos', 'mistu', 'await', 'charges', 'melkweg', 'robbed', 'promises', 'expirience', 'cyclists', 'fringe', 'overprized', 'toppings', 'lent', 'peak', 'paaartyyyy', 'poorest', 'platz', 'haussmann', 'switch', 'unimpressive', 'iously', 'commune', 'trat', 'box', 'scared', 'overwhelmingly', 'supreme', 'poisoned', 'foreigners', 'butter', 'hal', 'rubs', 'gambler', 'nights', 'cocktials', 'immedi', 'bartenders', 'cramped', 'scandinavia', 'foodie', 'chines', 'packaged', 'inexpnsive', 'gluten', 'balinese', 'relief', 'adventures', 'scrummy', 'tyical', 'unmet', 'wuality', 'geared', 'germa', 'double', 'bxl', 'aplenty', 'basic', 'terraza', 'training', 'wienerwald', 'midday', 'gods', 'swinging', 'pescheria', 'yumy', 'faves', 'eater', 'cramps', 'afraid', 'abrasador', 'araki', 'syötyä', 'reustrant', 'doesnt', 'request', 'lenguado', 'wagamama', 'mongolian', 'water', 'deights', 'favor', 'vig', 'gelateria', 'greeeaaaaaattt', 'unfrien', 'cacio', 'michelin', 'errrrr', 'revisiting', 'quimera', 'lewi', 'berlim', 'adventurous', 'tickles', 'shwarma', 'vrey', 'decorated', 'pretensions', 'zouzou', 'hx46', 'duncan', 'overch', 'enge', 'gentle', 'hambuger', 'overwhelmed', 'sir', 'themed', 'bifanas', 'belly', 'denish', 'siro', 'gut', 'hav', 'töölön', 'sometime', 'competit', 'vrai', 'disorganised', 'mines', 'choclate', 'server', 'emma', 'worn', 'betsy', 'pire', 'murallie', 'worried', 'flavourso', 'lux', 'institutio', 'supplier', 'astoundingly', 'provides', 'enjoyabl', 'tiramassu', 'walked', 'cherrytree', 'wursts', 'plate', 'amatures', 'raj', 'ales', 'buen', 'ordered', 'baars', 'oriental', 'ravioli', 'ladvi', 'sek', 'jenkins', 'tastebuds', 'cusine', 'restaurantes', 'interested', 'pastelaria', 'twice', 'galaktompoureko', 'mexi', 'ther', 'fakt', 'lollies', 'avenue', 'quite', 'rita', 'soogy', 'superbo', 'meant', 'copas', 'eaterie', 'indische', 'correct', 'unpredictable', 'atmosp', 'candy', 'canned', 'foccacia', 'utterly', 'straba', 'all', 'caracola', 'galicien', 'masterpiec', 'foodies', 'par', 'covenant', 'perfecto', 'picked', 'qeue', 'tequila', 'knee', 'simpel', 'tadka', 'granit', 'steroids', 'unagi', 'carrot', 'loaction', 'creams', 'freshii', 'momos', 'birhday', 'hace', 'ratskeller', 'vouc', 'imperial', 'senior', '40', '90th', 'asador', 'bodegon', 'chicke', 'defo', 'carrbonara', 'dear', 'superior', 'burgalicious', 'quinoa', 'paddington', 'sat', 'gracias', 'iffy', 'sounds', 'ups', 'boniface', 'sofas', 'cassata', 'ronantic', 'buds', 'takeawy', 'mauritian', 'advertising', '35', 'vindaloo', 'tas', 'offsite', 'abbey', 'town', 'establish', 'unstable', 'verta', 'hangouts', 'linked', 'wannabes', 'sark', 'yoghurt', 'gems', 'alkohoo', 'neni', 'goodddd', 'godo', 'mercury', 'celebrating', 'form', 'yuck', 'suburbia', 'cater', 'taste', 'tonic', 'would', 'festive', 'blaah', 'nonetheless', 'pottyo', 'barbecue', 'reading', '21', 'demise', 'coziness', 'bought', 'israeli', '1124', 'roofed', 'fantastica', 'imaginative', 'offerings', 'asking', 'foody', 'grey', 'iced', 'flavered', 'itison', 'table', 'boats', 'dominion', 'wuji', 'craziness', 'opposite', 'monceau', 'maps', 'surpised', 'europe', 'ripoff', 'tavola', 'maintained', 'behaviour', 'tease', 'atmopher', 'magic', 'boxing', 'certitude', 'monparnasse', 'vaticano', 'supposedly', 'chana', 'customized', 'oder', 'pae', 'rental', 'rev', 'jour', 'crackling', 'coffelovers', 'excellet', 'devin', 'robbing', 'genre', 'dragon', '30pm', 'intended', 'lights', 'shouldnt', 'touches', 'rum', 'gozsdu', 'vauxhall', 'brilliant', 'eusebio', 'o2', 'deteriorating', 'decouvert', 'fst', 'anymo', 'throwing', 'availabil', 'execllent', 'world', 'meandering', 'attractio', 'ganz', 'note', 'malayali', 'unhappy', 'ov', 'spit', 'reasnoble', 'cart', 'shame', 'tube', 'pull', 'pistachios', 'elsewhere', 'fail', 'töölö', 'restaraunt', 'bella', 'best', '6eur', 'bourgogne', 'nostaligic', 'stole', 'hamlets', 'addictive', 'cassa', 'dubai', 'smoothly', 'mmmmmmhh', 'laid', 'michel', 'ranking', 'disappointmen', 'buyclub', 'vegetari', 'innovation', 'onex', 'värdelöst', 'hidde', 'taproom', 'beats', 'possible', 'chilled', 'exploitative', 'mistakes', 'agreable', 'entry', 'commo', 'excellency', 'ethnic', 'italiano', 'alfred', 'life', 'pastas', 'trying', 'axel', 'touristed', 'benny', 'tradition', 'moto', 'anchored', 'manga', 'boarding', 'hordes', 'mirto', 'original', 'untapped', 'destination', 'clear', 'heartly', 'callos', 'ju', 'lived', 'loved', 'marry', 'hottest', 'tpical', 'cristianhavn', 'siz', 'obscene', 'absolutey', 'baguette', 'haute', 'upgrade', 'italie', 'se', 'memorab', 'movies', 'bog', 'detected', 'imperson', 'nosily', 'strictly', 'scenery', 'greenwich', 'empanadas', 'schweinhaxe', 'twists', 'hannes', 'guided', 'moldy', 'ajiaco', 'study', 'yam', 'stones', 'cheeky', 'maccy', 'glyfada', 'restauratn', 'astrid', 'domus', 'grille', 'grossich', 'italianrestaurant', 'milantransport', 'roshi', 'a1', 'servic', 'clo', 'foodgasm', 'hooked', 'dive', 'airbnb', 'atmo', 'drag', 'mensa', 'różą', 'lihiniya', 'concept', 'rekommend', 'arrangements', 'chippys', 'genuin', 'uggh', 'competitors', 'enoteca', 'craftmanship', 'craving', 'pseud', 'macht', 'substandard', 'tokyo', 'australia', 'fingerlickin', 'hon', 'noi', 'baldrick', 'convivio', 'defune', 'nordic', 'au', 'vine', 'mirrors', 'usel', 'foodtrend', 'probs', 'elucidate', 'fridays', 'vive', 'emmeli', 'kazimir', 'seasons', 'gara', 'gibsy', 'quel', 'continuing', 'famil', 'frankfurt', 'orig', 'tattinger', 'proprietres', 'bahraini', 'interi', 'ruined', 'cars', 'yearling', 'an', 'riz', 'pretent', 'pairots', 'tent', 'oporto', 'hilltop', 'game', 'urin', 'braitslava', 'banker', 'grecian', 'glasgow', 'interio', 'ixelles', 'mulinu', 'roug', 'yummmmmm', 'grandparents', 'vegetarian', 'bueno', 'relaunched', 'budd', 'sud', 'centred', 'painfully', 'turist', 'buda', 'aka', 'port', 'f', 'cuppa', 'steps', 'henriksdalshamnen', 'corts', 'tipple', 'veneto', 'tub', 'rear', 'mal', 'clubb', 'highlights', 'confortable', 'travessera', 'goooood', 'dropping', 'prague', 'royalty', 'can', 'mixology', 'pho', 'fajitas', 'pala', 'tat', 'balham', 'defiantly', 'rockin', 'texan', 'away', 'lira', 'behind', 'glorious', 'stinginess', 'frutti', 'amidst', 'childhood', 'mug', 'slower', 'visa', 'woluwe', 'eye', 'cockail', 'desc', 'socialist', 'sug', '8', 'krakowskie', 'ingles', 'upper', 'gallega', 'formed', 'indochine', 'risk', 'hamburgerplace', 'caterin', 'colonial', 'salv', 'beer', 'fantasic', 'aften', 'centraal', 'kaviron', 'maximum', 'ancêtres', 'postres', 'accepted', 'refreshingly', 'kop', 'building', 'subu', 'pancia', 'serves', 'dahl', 'etterem', 'dommage', 'alibaba', 'shall', 'execellent', 'galician', 'story', 'maintains', 'ronseal', 'vietnam', 'ingredi', 'relaxibg', 'gastro', 'ariund', 'maureen', 'naviglio', 'auto', 'springtime', 'expresso', 'burtillo', 'sons', 'souk', 'watson', 'crunchy', 'voucher', 'versatile', 'kadawe', 'lanternen', 'classics', 'supri', 'brutal', 'presecco', 'stops', 'scattered', 'linger', 'crown', 'mobdy', 'topped', 'freinds', 'preferidos', 'hoped', 'ug', 'americaine', 'banana', 'grilled', 'experienc', 'spotlessly', 'giving', 'humble', 'macd', 'figs', 'microwave', 'ciro', 'preparation', 'smarter', 'gulyash', 'host', 'pedido', 'catchup', 'schniztel', 'deserves', 'smiles', 'unadulterated', 'brought', 'explosions', 'faultless', 'june', 'souless', '26', 'theatre', 'luigi', 'aus', 'elysee', 'region', 'rapid', 'recharge', 'gaufres', 'dark', 'wine', 'sassy', 'availability', 'walkinstown', 'purse', '70s', 'sp', 'chandeleur', 'pintxos', 'rica', 'cheesburger', 'guardian', 'unbelivable', 'arriving', 'skippers', 'beast', 'cemetary', 'atmoosph', 'quedubon', 'uninterested', 'goto', 'buggers', 'hawk', 'jerk', 'kudamm', 'che', 'backs', 'protein', 'easier', 'foodwise', 'gata', 'unprofessional', 'micheline', 'c', 'testaurant', 'papaya', 'schabowy', 'assignment', 'simplistic', 'guilt', 'environemnt', 'jalfrezi', 'moder', 'some', 'hygene', 'shepherds', 'takes', 'neighbourh', 'untouched', 'tech', 'sautéed', 'truffles', 'montmarte', 'cons', 'marguerita', 'ages', 'catalans', 'shocking', 'pusher', 'account', 'crucial', 'kid', 'afordable', 'administration', 'jewish', 'people', 'jiaozi', 'knock', 'silohuette', 'vivantes', 'unlimited', 'multi', 'on', 'engaged', 'pricier', 'bait', 'uninspired', 'évit', 'vietanamese', 'warmest', 'rijstaffel', '36', 'mezcal', 'phở', 'wake', 'wonderfu', 'wie', 'blankenese', 'calmness', 'sad', 'espresson', 'iran', 'ambie', 'bibimbap', 'ansome', 'clerkenwell', 'dom', 'wash', 'ditirambo', 'may', 'gaft', 'moms', 'croquetaria', 'unintereste', 'teréz', 'trove', 'boar', 'careful', 'inefficient', 'adult', 'mon', 'cantina', 'trends', 'atmosph', 'barra', 'meat', 'nope', 'fusi', 'research', 'slace', 'wordt', 'yourself', 'boisterous', 'des', 'patchy', 'wahaay', 'hour', 'durin', 'seafo', 'bratwurst', 'groupon', 'libanaise', 'daughters', 'soaked', 'adresse', 'vodkas', 'spores', 'syne', 'thevery', 'retired', 'happening', 'cheats', 'heiskanen', 'vietnamesian', 'necessary', 'meilleure', 'grumpiest', 'carluccios', 'halves', 'anexcellent', 'pankcake', 'crawded', 'everr', '13h', 'bank', 'summ', 'splendour', 'dribbling', 'prop', 'overpri', 'costes', 'succulent', '9', 'orchestra', 'runways', 'el', 'uau', 'ufo', 'attempt', 'bagelling', 'paul', 'amazlingly', 'pizzaria', 'italians', 'teatros', 'hither', 'tibetan', 'deliciousmeql', 'lomo', 'unending', 'rolling', 'erithrean', 'gar', 'hey', 'anno', 'butcher', 'frillsexperience', 'schriefer', 'georgina', 'keema', 'inos', 'oiu', 'particularlt', 'sensatempo', '_ï', 'platter', 'farol', 'granola', 'journey', 'prefear', 'tomates', 'beyond', 'opti', 'persuaded', 'kensal', 'important', 'sri', 'aug', 'grafton', 'pints', 'puglia', 'ceas', 'scone', 'several', 'purkua', 'ref', 'delicatessen', 'elegantly', 'hb', 'kepab', 'silly', 'muntaner', 'another', 'keep', 'gins', 'karaok', 'afternoon', 'kama', 'ber', 'choucroute', 'beautifu', 'nationalist', 'voyeuristic', 'stefania', 'bunga', 'grateful', 'bing', 'ruins', 'outsid', '5hrs', 'bryg', 'intimate', 'incoherent', 'unico', 'falalfel', 'homestyle', 'spec', 'sashimi', 'drinker', 'catman', 'barrandov', 'brats', 'rock', 'given', 'buonísimo', 'title', 'basis', 'looking', 'péssimo', 'flandkuhen', 'thames', 'shakes', 'copenhag', 'creations', 'guess', 'thrilling', 'bookshop', 'agradable', 'gen', 'superheroes', 'wondrful', 'byob', 'mond', 'nigerian', 'shangrila', 'tryp', 'haringey', 'greco', 'falloumi', 'couldnt', 'why', 'excellient', 'bun', 'bush', 'lebane', 'means', 'ljubl', 'appetite', 'extremly', 'digestive', 'manag', 'österreicher', 'jamie', 'mari', 'monti', 'pint', 'fooled', 'perfectoon', 'suresh', 'grazie', 'rissotto', 'charts', 'mediocer', 'restsurant', 'haché', 'dönerkebab', 'belgian', 'passeig', 'flutes', 'miso', 'bermondsey', 'softdrink', 'overlooked', 'here', 'default', 'pricin', 'select', 'specialized', '296', 'heritage', 'lip', 'easter', 'omelet', 'hamburguers', 'palate', 'wimbledon', 'christian', 'lemon', 'restaurants', 'ugly', 'hous', 'seiner', '11pm', 'ravissant', 'procey', 'bacalao', 'exotische', 'neun', 'normandy', 'sleep', 'sofisticated', 'theft', 'cana', 'linguine', 'astrono', 'urlaub', 'blinis', 'exten', 'rossz', 'confusio', 'dins', 'reopenning', 'facilitie', 'processed', 'cholent', 'vege', 'storm', 'pleasnt', 'mosaic', 'veggie', 'lookin', 'smily', 'problems', 'blended', 'halal', 'sause', 'thomas', 'metropolitano', 'fining', 'disney', 'orchata', 'visitors', 'weary', 'patient', 'conmen', 'fartingdon', 'delicous', 'inviting', 'smokey', 'lime', 'warsaw', 'enfants', 'break', 'layout', 'soo', 'prosecco', 'rd', 'yummm', 'coun', '125', 'emperor', 'nothings', 'barbaresco', 'aperativos', 'dolla', 'pros', 'hearted', 'fake', 'vat', 'sportsbar', 'revisited', 'spinach', 'competitive', 'ticking', 'essen', 'ouates', 'hq', 'conference', 'scores', 'hangry', 'wort', 'bavaria', 'hits', 'dat', 'spoiled', 'pudding', 'pure', 'emotionaly', 'playing', 'nacho', 'figured', 'park', 'quarter', 'noises', 'steam', 'dolce', 've', 'munich', 'bangladeshi', 'faire', 'pasticeria', 'selection', 'fabukous', 'proportion', 'chilli', 'cigar', 'palais', 'contended', 'eberswalderstrasse', 'pesce', 'outrageous', 'sales', 'starving', 'έξοχος', 'wannabe', 'germai', 'vastly', 'brava', 'inv', 'redeemed', 'sours', 'indeed', 'payback', 'tunisian', 'reataurant', 'delic', 'crewmembers', 'indonesian', 'humiliating', 'sensationnel', 'unlike', 'architectural', 'apathetic', 'dumpling', 'mine', 'shalimar', 'interlude', 't', 'macaron', 'malasana', 'cerdit', 'bulli', 'states', 'suits', 'views', 'cheated', 'wholefoods', 'kléber', 'parisian', 'tonta', 'vietamese', 'zaventem', 'cuis', 'monthly', 'petite', 'recovery', 'histo', 'spennende', 'cassidys', 'batata', 'stroopwafels', 'chihuahua', 'alternative', 'wiking', 'conflictual', 'nicoise', 'pete', 'dribks', 'fogo', 'novotel', 'basi', 'risotto', 'cak', 'honour', 'survived', 'struggling', 'cours', 'vacation', 'budg', 'artisan', 'spell', 'asun', 'sweetened', 'truffe', 'tabaccheria', 'routine', 'stop', 'famiky', 'zèbre', 'yas', 'wear', 'value', 'then', 'pricy', 'djurgarden', 'hub', 'ultimate', '12pm', 'variado', 'poor', 'accommodation', 'tarte', 'variation', 'fröccs', 'lenka', 'roland', 'spectacularly', 'scraps', 'petit', 'gloriously', 'fo', 'piazzo', 'jazzy', 'confectionery', 'peice', 'profect', 'lamentable', 'snacks', 'specific', 'fu', 'yummi', 'leonardo', 'rezalla', 'philomenis', 'georgia', 'cata', 'natas', 'yummmm', 'negociants', 'sincere', 'stauffacher', 'sushii', 'mittagessen', 'ridiculous', 'vicente', 'honest', 'adriatico', 'onl', 'cream', 'ago', 'kirchberg', 'naple', 'microwaved', 'somewhere', 'ethic', 'available', 'hazelnut', 'astmoshere', 'fri', 'kind', 'porchetta', 'divani', 'smi', 'à', 'ams', 'apperotivo', 'thoughts', 'schnitzel', 'suprisingly', 'ador', 'sorry', 'champagne', 'dinner', 'fraud', 'baseless', 'frie', 'kacsa', 'magano', 'muchness', 'ful', 'pol', 'chat', 'ingredients', 'dr', 'specialit', 'priz', 'finny', '90', 'espace', 'kaza', 'chech', 'visihon', 'majorstuen', 'takeawa', 'parody', 'rings', 'mythic', 'atiram', '05', 'yummyy', 'dick', 'ganha', 'bobby', 'gr8', 'mustard', 'estrela', 'po', 'holida', 'practical', 'romanian', 'swish', 'slip', 'stupendous', 'amalienborgmuseet', 'pangs', 'aperitif', 'sould', 'miriam', 'discovery', 'chi', 'okishhh', 'areos', 'kerameikos', 'hospitable', 'conditioned', '400', 'untrained', 'boyfriends', 'migu', 'corkage', 'flamms', 'laksa', 'quixote', 'supppeerrr', 'probable', 'it', 'peruvian', 'completly', 'altern', 'film', 'well', 'adore', 'brook', 'gengis', 'hafencity', 'domowym', 'dependable', 'servife', 'brother', 'edi', 'english', 'selction', 'yugoslavian', 'lido', 'infernetto', 'baker', 'catastrophic', 'roseteych', 'resturant', 'pastry', 'atmosfera', 'cremated', 'perfetto', 'polish', 'restorant', 'clos', 'glas', 'recommandable', 'mezedomachies', 'trdelník', 'hanwell', 'expensi', 'feathers', 'mold', 'parathas', 'supernice', 'bond', 'frantigek', 'fly', 'monroe', 'guides', 'brands', 'gong', 'neares', 'cherry', 'spices', 'ossobuc', 'expre', 'person', 'shows', 'valentines', 'bavar', 'idol', 'plural', 'ja', 'incred', 'arshad', 'tax', 'singing', 'locale', 'havet', 'converted', 'muchos', 'hipe', 'tourn', 'gustavsberg', 'cat', '27', 'setup', 'deserv', 'grounds', 'jumpy', 'suzaan', 'booth', 'zuhause', 'perferct', 'unhel', 'boroug', 'nem', 'below', 'palm', 'rooftop', 'kozel', 'tête', 'törökbálinti', 'gulash', '91st', 'vaults', '25', 'emergency', 'ipa', 'residenti', 'cide', 'eccellent', 'surpr', 'meno', 'gathering', 'refurbishment', 'adjusted', 'juecy', 'salmon', 'unbelieve', 'benchmark', 'crafted', 'andalucia', 'something', 'maremagnum', 'mek', 'bahnhof', 'bit', 'bonnevoie', 'stockmann', 'tableside', 'uni', 'buffet', 'handsome', 'beaut', 'viet', 'souvl', 'understand', 'dusk', 'effective', 'hooters', 'boycie297', 'johnny', 'cause', 'letter', 'florence', 'end', 'restaurent', 'videos', 'vidi', 'zoliborz', 'leaves', 'brutti', 'cider', 'keeps', 'toile', 'hermes', 'wrong', 'wors', 'definition', 'flavor', 'shahed', 'shaped', 'gooood', 'peor', 'thiefs', 'ranked', 'p', 'darts', 'chf', 'don', 'necessitated', 'amis', 'doesn', 'amables', '13e', 'köftes', 'entrecote', 'beergarten', 'peaceful', 'armospher', 'bcak', 'executives', 'brighten', 'cooki', 'dove', 'regul', 'pers', 'animosity', 'impulse', 'mathias', 'sacher', 'sardines', 'helpfull', 'probability', 'attracted', 'vysocany', 'husban', 'uninteresting', 'atmosohere', 'tastebud', 'cielo', 'treatment', 'grate', 'restarant', 'bu', 'smazing', 'cather', '2011', 'teeny', 'usua', 'quisine', 'costillas', 'kababs', 'lyonnais', 'dalla', 'hmmmm', 'ruby', 'superthai', 'обман', 'sefl', 'saver', 'choice', 'november', 'buono', 'rip', 'brasileiros', 'rare', 'tastyyy', 'bre', 'negative', 'dainty', 'flavours', 'vintage', 'tend', 'peppers', 'kitche', 'boulangerie', 'walk', 'cuscus', 'depending', 'till', 'triumph', 'woudln', 'affa', 'hangout', 'qualitybreakfast', 'sfizio', '1500', 'negra', 'ambiente', 'tucker', 'eali', 'hangover', 'highlifht', 'intriguing', 'features', 'deliciously', 'payment', 'rockstar', 'places', 'foos', 'lavish', 'fumes', 'mexico', 'pudd', 'spotted', 'eventlocation', 'tastey', 'um', 'decently', 'savour', 'ven', 'quest', 'shepherd', 'cappucinno', 'duplicite', 'refuel', 'melted', 'holandés', 'parisien', 'sants', 'everyday', 'hungary', 'nepali', 'crepexarchia', 'singaporean', 'insignificant', 'toasties', 'fab', 'bud', 'cuitadella', 'laim', 'tues', 'unlikely', 'shebeen', 'mouthwatering', 'camden', 'chps', 'poland', 'elj', 'intro', 'volun', 'unhelpful', 'brief', 'slows', 'stöckerl', 'gambas', '16', 'sumptuous', 'memorable', 'king', 'electronic', 'baklava', 'disappointment', 'peri', 'alexandra', 'lamp', 'tardis', 'köpenick', 'meh', 'follow', 'offerin', 'hyper', 'pirogues', 'service', 'brekkie', 'century', 'harbour', 'suey', 'expected', 'plsce', 'porrige', 'majestic', 'advantage', 'rival', 'm5', 'emilia', 'intere', 'woest', 'balard', 'omelete', 'wonderdful', 'yummy', 'system', 'unhygenic', 'lentil', 'opining', 'worry', 'guac', 'departure', 'hyderabadi', 'shooping', 'grapes', 'tastic', 'salami', 'cof', 'braverian', 'wspaniale', 'istrian', 'treats', 'noisey', 'shar', 'pleasu', 'translation', 'midrange', 'baja', 'championships', 'cookies', 'hybrid', 'only', 'synagogue', 'disastrous', 'alexand', '34', 'monstrosity', 'soupe', 'mamá', 'olives', 'prof', 'guy', 'exhausted', 'cheapeats', 'natasha', 'nomen', 'celebra', 'outskirts', 'resturent', 'blvd', 'awayta', 'theater', 'surinamese', 'spectacular', 'acasa', 'catalon', 'pining', 'bl', 'ichiban', 'trucks', 'unap', 'virws', 'výběr', 'tabernacle', 'catford', 'radice', 'schindler', 'brusse', 'hanworth', 'plusses', 'ting', 'tri', 'campsite', 'familiarity', 'doctor', 'ordinary', 'scarfed', 'hola', 'fuir', 'tha', 'hawelka', 'porn', 'brilliantly', 'relieved', 'countryside', 'experiance', 'attiki', 'dictionary', 'eve', 'flavourful', 'liver', 'no1', 'untap', 'macrofood', 'gilles', 'oscars', 'houdini', 'about', 'buswells', 'pockets', 'sponsor', 'dhal', 'facts', 'come', 'crusted', 'amazing', 'gatehouse', 'ciabatta', 'atmospere', 'creamy', 'donauzentrum', 'lier', 'owners', 'taurina', 'pas', 'athletics', 'waaaannngggssss', 'won', 'niss', 'wagu', 'prawnika', 'car', 'nonsens', 'vaul', '1breaded', 'functional', 'simple', 'reastaurant', 'pessah', 'burned', 'grotti', 'doubling', 'mention', 'moors', 'quartier', 'ďáblicích', 'caprese', 'ep', 'georgian', 'friéndly', 'r', 'fenomenal', 'rebate', 'atitude', 'guimard', 'antipasti', 'slug', 'tres', 'oruces', 'druggie', 'vips', 'horrible', 'tricked', 'prima', 'teapot', 'oerlikon', 'endroit', 'panoramic', 'copenhage', 'yummii', 'dover', 'spip', 'packaging', 'délicate', 'bear', 'appeal', 'excitingly', 'presen', 'airb', 'allright', 'xxl', 'undercooked', 'ideapark', 'bitoque', 'natio', 'obligatory', 'suggestive', 'rooms', 'manageme', 'gam', 'otion', 'sightseein', 'bratkartoffelen', 'possibly', 'pari', 'signature', 'clamato', 'seine', 'stupidity', 'geneve', 'kiosk', 'brownies', 'lows', 'tunes', 'perfo', 'southwest', 'afl', 'mcmeal', 'busienss', 'incontournable', 'champiñón', 'tourists', 'kellemes', 'outfi', 'job', 'authenticity', 'retro', 'peters', 'vaches', 'guide', 'schoolhouse', 'sundyberg', 'grenache', 'underrated', 'cold', 'sunspot', 'becsiszelet', 'routes', 'term', 'kalmar', 'west', 'bubble', 'brewery', 'napoleon', 'jenever', 'heartily', 'montse', 'easygoing', 'glovo', 'tun', 'buzzed', 'surreal', 'nig', 'exceedingly', 'personale', 'decorum', 'exspencive', 'japanise', 'rus', 'città', 'camperio', 'stir', 'biologic', 'charisma', 'residin', 'seven', 'austrian', 'candle', 'brioche', 'ijburg', 'artists', 'asado', 'meglia', 'texmex', 'makes', 'rijksmuseum', 'bestt', 'jackfruit', 'kiwi', 'nudo', 'employees', 'wellcome', 'titl', 'ownership', 'er', 'airpor', 'posh', 'gherkin', 'arossa', 'what', 'crêpe', 'paria', 'sidedish', 'authenticate', 'pelikan', 'finl', 'alfredo', 'ambien', 'cantine', 'zürich', 'cevapcici', 'panshi', 'couples', 'stiffchen', 'quaint', 'halls', 'akward', '43', 'organisation', 'clothe', 'decorat', 'slovenian', 'delightful', 'stuffy', 'manners', 'ferry', 'excellect', 'jó', 'temperature', 'greet', 'newbies', 'hang', 'smidge', 'dinin', 'bow', 'botanico', 'mahiki', 'expanded', 'periperi', '10min', 'kissed', 'muc', 'santander', 'ann', 'variety', 'siene', 'zehlendor', 'apperitive', 'awsom', 'lair', 'minded', 'z', 'alessio', 'ala', 'museum', 'cashier', 'schaarbeek', 'house', 'croquett', 'dare', 'pinxtos', 'bellisima', 'gentil', 'refueling', 'smacking', 'sound', 'enthusiastic', 'numb', 'padella', 'maryebone', 'ravel', 'famu', 'muddled', 'wooow', 'fondest', 'bahnho', 'oops', 'mediochre', 'bourg', 'motcomb', 'bustling', 'waltham', 'mynich', 'granger', 'shipping', 'cascina', 'tired', 'walki', 'hats', 'toger', 'restuarante', 'gre', 'winning', 't4', 'be', 'barca', 'traditions', 'plaka', 'landsnecht', 'reliving', 'brixto', 'exclusive', 'accommodating', '15eme', 'blessed', 'ove', 'ambian', 'frills', 'carte', 'interier', 'macarons', 'vertigo', 'aaaaamazing', 'athens', 'swiss', 'unexpe', 'dinnerless', 'mmmmmmmm', 'shoebox', 'front', 'ambitious', 'cannibalize', 'brace', 'sacre', 'bast', 'knuckle', 'tragic', 'charmed', 'oldiest', 'act', 'suriname', 'becomes', 'tiffin', 'covered', 'crumbs', 'being', 'senses', 'basement', 'timer', 'soeurs', 'respect', 'sherry', 'chickens', 'discovered', 'because', 'mekong', 'overh', 'university', 'marketp', 'lasgane', 'waited', 'maultaschen', 'rumbling', 'clean', 'celeb', 'prosper', 'erm', 'roman', 'trays', 'seemingly', 'ped', 'fronted', 'slide', 'grid', 'beerlovers', 'cloth', 'third', 'classic', 'germany', 'harmonious', 'rudeness', 'pub', 'economical', 'deceitful', 'shouted', 'underwhelming', 'unpleasant', 'fastly', 'esmeralda', 'westin', 'hunger', 'parla', 'refurb', 'thumb', 'circumstances', 'vinebar', 'expirence', 'partner', 'ceviche', 'chalereuse', 'froyo', 'serata', 'jj', 'surroun', 'purest', '8pm', 'kwakow', 'overlooking', 'rarebit', 'corner', 'carouge', 'pictured', 'parchment', 'liqueur', 'potrebbe', 'possibl', 'confortável', 'praise', 'ratat', 'vienesse', 'excitement', 'verademing', 'bolivian', 'barcelona', 'home', 'tiki', 'schnaps', 'déjeuner', 'grani', 'japa', 'apperitivo', 'absolutelly', 'lanakn', 'likely', 'essent', 'philip', 'rsca', 'spend', 'adana', 'prejudice', 'andalucía', 'chopstix', 'flower', 'germanic', 'visual', 'matchday', 'serv', 'bra', 'soulvaki', 'rico', 'pajeon', 'goudi', 'tourist', 'cz', 'bagdadi', 'vis', 'dough', 'peruv', 'champion', 'word', 'sevice', 'klimatem', 'stallone', 'could', 'miche', 'whopper', 'buzzing', 'unexpected', 'resist', 'finger', 'asiatic', 'charmy', 'glitzy', 'meets', 'benedict', 'monika', 'mill', 'otherw', 'tiramisu', 'visiti', 'fired', 'layover', 'shore', 'weddings', 'miiddle', 'suneer', 'mostowa', 'swing', 'von', 'sheen', 'fixed', 'blackheath', 'prawn', 'mayoral', 'scandic', 'coli', 'gamle', 'krakov', 'lunches', 'exceeded', 'pearl', '2x', 'pâtés', 'wowww', 'chivos', 'drivers', 'argentini', 'cachapa', 'ind', 'madding', 'importance', 'nestled', 'speed', 'attraction', 'whatsoever', 'extraordinarily', 'odotellessa', 'naughty', 'dia', 'honeymoon', 'recomendations', 'hote', 'sagrad', 'scruffy', 'taverna', 'mig', 'traditi', 'trash', 'française', 'pinsa', 'feuille', 'amybe', 'thyssen', 'radar', 'décor', 'flatter', 'jonathan', 'fabe', 'comida', 'contadino', 'fruhstuck', 'wiener', 'grandour', 'cut', 'tunisienne', 'county', 'braci', 'luxury', 'sweden', 'insid', 'soaking', 'delishes', 'liben', 'lina', 'amzing', 'truck', 'portion', 'western', 'pao', 'amuseme', 'gasworks', 'oxf', 'caters', 'relocate', 'dispointed', 'itallian', 'lisbo', 'inspired', 'large', 'call', 'verdi', 'amazingly', 'doing', 'restaurante', 'frietjes', 'tight', 'wildly', 'favorites', 'crêperie', 'sommelier', 'mislead', 'bui', 'chefs', 'container', 'nose', 'ballsbridge', 'reunion', 'madrileños', 'cataplana', 'hausgemachte', 'gyoza', 'tranquility', 'eggs', 'matas', 'navigli', 'typically', 'pleasure', 'ads', 'report', 'mildred', 'vienna', 'suflaki', 'aya', 'tomatoes', 'river', 'brandy', 'fantástica', 'perf', 'av', 'reccommend', 'through', 'ate', 'dram', 'auntie', 'product', 'undiscovered', '61', 'diavolo', 'ones', 'palatschinken', 'maybe', 'drumsticks', 'panini', 'requires', 'venetian', 'exemplary', 'ship', 'tyle', 'turpin', 'austrain', 'erzsébet', 'lingering', 'pleaser', 'additions', 'grilling', 'pak', 'las', 'substitutes', 'dodgy', 'bones', 'foood', 'disappointed', 'freshmade', 'sumptious', 'ma', 'barceloneta', 'museumplein', 'reasobale', 'brekfast', 'oaradise', 'write', 'tarbouche', 'neptuna', 'steret', 'improvable', 'insight', 'overcharging', 'på', 'nacoes', 'cheeseburger', 'espana', 'friendlier', '101', 'renewing', 'uk', 'rudlofsheim', 'flavoury', 'mayfair', 'grotto', 'dir', 'markt', 'renaissance', 'krt', 'exclusi', 'serve', 'klein', 'happenin', 'definatly', 'gras', 'twi', 'casa', 'drugs', 'reasonably', 'racetrack', 'toucan', 'diagonal', 'betw', 'scen', 'standing', 'jt', 'pairs', 'tastety', 'deliver', 'mrs', 'sushi4you', 'cordially', 'brasserie', 'director', 'migl', 'bleak', 'altar', 'chino', 'champ', 'amamzing', 'gastronomique', 'enchanting', 'jolly', 'uses', 'neihbourho', 'surround', 'superfoods', 'rott', 'meatball', 'edgar', 'suculento', 'disappoint', 'furnit', 'actually', 'garam', 'sulpice', 'selections', 'musee', 'position', 'hug', 'fried', 'generation', 'kendy', 'prenzlauer', 'reliever', 'google', '5pm', 'meera', 'exchange', 'sundays', 'jane', 'japanesefood', 'dolci', 'fusion', 'mcflurry', 'buckstone', 'francesinhas', 'harvey', 'pasta', 'quenelles', 'slick', 'towie', 'garlik', 'fresg', 'goula', 'hairdresser', 'deutsche', 'kidney', 'wondefully', 'the', 'balkans', 'rain', 'bouattour', 'kolonaki', 'acton', 'cellar', 'entrecoté', 'castilian', 'calçotada', 'goss', 'universal', 'waitres', 'antoni', 'cousy', 'whioe', 'pergamon', 'kinds', 'savory', 'serving', 'deliberately', 'langnese', 'urinals', 'amico', 'aperitivo', 'complai', 'organic', 'slight', 'prompt', 'bedtime', 'fries', 'charge', 'oleron', 'drin', 'downstairs', 'having', 'undisputedly', 'mens', 'brim', 'zloty', 'anyway', 'oush', 'ad', 'pernil', 'breakfa', 'pfffffft', 'grenade', 'islington', 'usine', 'jam', 'quain', 'daulphinois', 'duormo', 'quail', 'cava', 'corn', 'cho', 'noires', 'sc', 'frankly', 'ritual', 'vietnameese', 'gràcia', 'gay', 'mellow', 'ornate', 'assado', 'proprietress', 'djs', 'coffees', 'kreuzberg', 'concenien', 'swim', 'celebrat', 'tiber', '23downtown', 'driven', 'fantas', 'kebabrulle', 'ombination', 'resturanr', 'dining', 'ordianry', 'waves', 'unlucky', 'cachorrinhos', 'name', 'whelk', 'gifts', 'olimpia', 'pacos', 'abroad', 'elevenses', 'botequinho', 'maria', 'add', 'deliciousness', 'talkin', 'uncaring', 'vita', 'pan', 'rules', 'kaarna', 'menü', 'corsica', 'package', 'suppli', 'mu', 'catherine', 'crazy', 'partys', 'archbishop', 'nowhere', 'discover', 'entree', 'landmann', 'bistrotype', 'regulín', 'nachspiel', 'micheln', 'history', 'referb', 'scandinav', 'delica', 'incredible', 'haired', 'truly', 'existant', 'frenc', 'glut', 'currently', 'schokolade', 'simpatic', 'steaming', 'moustache', 'witty', 'valladolid', 'apot', 'celebration', 'loin', 'green', 'improvme', 'deals', 'fresh', 'flavour', 'bolognese', 'freezin', 'nee', 'metamorphosis', 'niiii', 'practices', 'allday', 'invsisble', 'lissabon', 'ottiᗰo', 'dull', 'inauthentic', 'orrible', 'radhuset', 'sizzler', 'nussdorf', 'portugese', 'shout', 'usefully', 'delcious', 'trick', 'yakitori', 'smoke', 'tacu', 'annotated', 'emphysema', 'ilicious', 'serene', 'dickens', 'terasse', 'economico', 'oases', 'malaysian', 'sot', 'contribution', 'il', 'chalet', 'hong', 'patron', 'variable', 'espectacular', 'cutlet', 'santalo', 'favoitite', 'ethn', 'palác', 'n22', 'respects', 'additional', 'healthyish', 'horrific', 'hotter', 'phew', 'histor', 'gerbaud', 'gunk', 'smelled', 'following', 'gorgeoua', 'plaisir', 'anym', 'federica', 'rugby', 'alcohol', 'grat', 'palvelu', 'vermuteriya', 'ki', 'rather', 'disappear', 'specialities', 'douceurs', 'astro', 'gossamer', 'parents', 'escalope', 'lovvely', 'southern', 'yoo', 'sport', 'rips', 'straight', 'wacky', 'desert', 'chineses', 'mids', 'rubish', 'dorma', 'robin', 'trivial', 'restaurange', 'b', 'inte', 'order', 'wipkingen', 'anto', 'babette', 'perk', 'returning', 'subpar', 'wasting', 'zoo', 'mudam', 'able', 'grit', 'positi', 'brreakfast', 'cheaters', 'decided', 'profit', 'called', 'bucket', 'sandwichez', 'würstelstand', 'turistic', 'tram', 'wont', 'whim', 'zeroed', 'hid', 'doo', 'airplan', 'vagon', 'skvelé', 'fourchette', 'waiting', 'celebrity', 'expiernce', 'restuarant', 'barcelonian', 'enterainment', 'untasetiness', 'expertly', 'prople', 'pies', 'cara', 'rstaurant', 'forge', 'knowledgeable', 'matinee', 'less', 'mediterran', 'core', 'skyline', 'stein', 'dou', 'plaza', 'choic', 'graet', 'nasty', 'gourmande', 'embarrassing', 'goody', 'abomination', 'miquel', 'explain', 'fesch', 'adopted', 'chinesse', 'players', 'ville', 'maschu', 'exzellent', '6', 'lambert', 'caribbean', 'pilgrim', 'taut', 'forgettable', 'gockhausen', 'opportunity', 'experien', 'como', 'ultimately', 'restauracja', 'professi', 'caf', 'trust', '95', 'bcn', 'bartnder', 'diabetic', 'disappointme', 'adventure', 'belondrade', 'translator', 'beans', 'salads', 'sports', 'spartan', 'loss', 'cutest', 'presa', 'fantastischer', 'butttt', 'rituals', 'catfish', 'pretheatre', 'milano', 'authenti', 'moment', 'lovin', 'honte', 'briffard', 'rewar', 'sheesha', 'daguerre', 'trad', 'bifina', 'sites', 'subterranean', 'nottingham', 'professionals', 'seating', 'commu', 'wines', 'due', 'easy', 'palce', '5yo', 'pound', 'restaurtant', 'bellissimo', 'branch', 'chocolate', 'dreams', 'hake', 'los', 'panzarotti', 'parioli', 'spe', 'subw', 'pubilla', 'marseille', 'sits', 'neighbor', 'maccys', 'summeer', 'budapes', 'booked', 'goodies', 'paprikash', 'stiff', 'engagement', 'legit', 'conventional', 'juice', 'amazed', 'saint', 'vltava', 'looooong', 'tearoom', 'muhle', 'movie', 'goodprice', 'hamburger', 'kecskemét', 'matchi', 'nobu', 'bliss', 'croque', 'eyes', 'munchen', 'conversations', 'fleur', 'consistency', 'ggod', 'connotation', 'lousy', 'remodeling', 'enor', 'lovelyest', 'iñ', 'czech', 'lunchtray', 'opted', 'christma', 'viewpoint', 'anika', 'arm', 'spo', 'highway', 'sucker', 'influence', 'i̇talian', 'decline', 'šmik', 'chocolateria', 'appealing', 'barato', 'biggest', 'canteen', 'fenchurch', 'candlelight', 'frrom', 'shandong', 'con', 'manel', 'snug', 'purple', 'chipotle', 'bring', 'burritomaniaaaa', 'chimichurri', 'surprisingl', 'updat', 'viceroy', 'teenagers', 'organ', '5euro', 'pennies', 'grinzing', 'valuel', 'mash', 'deta', 'beat', 'delishious', 'ally', 'shirvan', 'attend', 'indifferenc', 'filter', 'dezent', 'lithuanian', 'loudly', 'een', 'mediterranian', 'yogurt', 'pignetto', 'valid', 'daniel', 'bad', 'foof', 'unforgetable', 'posible', 'backstreet', 'captain', 'macchiato', 'unconvincing', 'belgravia', 'latte', 'delish', 'omg', 'kosher', 'bachelor', 'filth', 'site', 'pri', 'ruokaa', 'smørrebrød', 'fortunately', 'gadget', 'lickin', 'bisztro', 'incredicle', 'solide', 'argentinian', 'bulgarian', 'hotbox', 'lig', 'welcomes', 'parma', 'roots', 'youth', 'pooltable', 'jap', 'grade', 'versus', 'brithday', 'picassso', 'reci', 'seem', 'combi', 'detour', 'np', 'pollo', 'remedy', 'tonkin', 'heading', 'latinobar', 'resturabt', 'cheesetastic', 'un', 'östermalm', 'standby', 'exc', 'jean', 'roastery', 'relayed', 'saigon', 'unbelievab', 'martins', 'mixed', 'tribute', 'neighbourhood', 'conven', '32', 'properl', 'sensorial', 'whaoouuuuu', 'nearer', 'απαραδεκτο', 'ben', 'sitio', 'vist', 'enriched', 'sandwiche', 'lite', '2nd', 'snowy', 'yess', 'ahlens', 'beautifull', 'clarchens', 'pleased', 'buyer', 'youre', 'like', 'withy', 'jules', 'berlun', 'riem', 'toy', 'active', 'housewarming', 'biut', 'besto', 'chilena', 'místo', 'canada', 'tale', 'licious', 'frequent', 'prob', 'paired', 'providing', 'essex', 'brekki', 'meraklis', 'unhurried', 'fillings', 'hyatt', 'unacceptab', 'vreak', 'tasca', 'chirpy', 'toxic', 'veritable', 'vin', 'stockwell', 'gallery', 'petanque', 'tgtbt', 'rainy', 'ar', 'encanta', 'vale', 'morning', 'niendorf', 'christmas', 'smalling', 'decei', 'suit', 'fastfood', 'her', 'anton', 'sweetie', 'tipical', 'claas', 'symbol', 'chaos', 'simplicity', 'spect', 'averge', 'exasperating', 'whee', 'aida', 'herjomar', 'stroke', 'toberlone', 'divers', 'incomplete', 'bastante', 'plu', 'capitán', 'eccentric', 'payed', 'sushi', 'montremart', 'gram', 'blanco', 'attitude', 'experiences', 'staffing', 'gambetta', 'olissippo', 'woon', 'credit', 'venti', 'flavors', 'hackescher', 'cinnamonbun', 'cope', 'bakery', 'milanofieracity', 'ea', 'toscana', 'beerd', 'cádiz', 'impresionante', 'road', 'maroush', 'turkey', 'pizzalicious', 'comes', 'speak', 'galleto', 'vega', 'nook', 'buff', 'harbor', 'glass', 'pisco', 'nephew', 'newcastle', 'locally', 'orchard', 'pide', 'prestigu', 'madeiran', 'reasonable', 'genuinely', 'szuper', 'collection', 'champions', 'tartuffo', 'veni', 'goin', 'friendl', 'resto', 'door', 'curri', 'odeonsplat', 'upmarket', 'retiro', 'lebanise', 'team', 'eur', 'aftermarathon', 'earplugs', 'downhill', 'five', 'alsatian', 'shop', 'classy', 'brokers', 'danube', 'later', 'bei', '1pm', 'qualité', 'joints', 'september', 'flatbread', 'skew', 'management', 'slop', 'cofee', 'käsemeister', 'someth', 'stokey', 'croquette', 'coolest', 'halwa', 'million', 'bug', 'proj', 'récollet', 'cosmic', 'thin', 'saturated', 'mus', 'skorpio', 'sample', 'trimelli', 'charles', 'implies', 'greeting', 'cambodian', 'bavarian', 'brassiere', 'ribera', 'galletes', 'touch', 'unimpressed', 'lack', 'ahoy', 'actua', 'wiltcher', 'termini', 'church', 'feet', 'blues', 'crepe', 'akk', 'tramshed', 'managing', 'warr', 'zucchini', 'creperi', 'famila', 'vg', 'ineresting', 'ledru', 'experie', 'waniku', 'miyako', 'nosh', 'goid', 'pavillions', 'abbas', 'andrews', 'artful', 'alroght', 'journeys', 'boi', 'misogynistic', 'riche', 'baked', 'sailed', 'haring', 'outings', 'mocktails', 'wowzer', 'cricket', 'tokos', 'shan', 'anonymus', 'newmarket', 'inglese', 'forgotten', 'alwasy', 'woooo', 'anju', 'chillout', 'samantha', 'younger', 'kolwnaki', 'noir', 'augustin', 'produce', 'armenian', 'chalkboard', 'calidad', 'spass', 'essere', 'nord', 'dissapoint', 'bier', 'works', 'fro', 'unless', 'aperol', 'poké', 'think', 'campana', 'tryin', 'guell', 'favela', 'mario', 'chao', 'panang', 'belt', 'bill', 'gyro', 'struggle', 'mattar', '3x', 'thrills', 'czhech', 'fishy', 'caraotas', 'threatening', 'teak', 'haloummi', 'staggeringly', 'reviews', 'prohibition', 'characteristic', 'sidreria', 'athmospere', 'dials', 'caso', 'slipping', 'racket', 'discomfort', 'troika', 'kim', 'cab', 'pl', 'toasts', 'saviour', 'portughese', 'soooo', 'miglioratissimo', 'vietna', 'pizzeria', 'lacked', 'papers', 'sticker', 'magnificant', 'extravaganza', 'holidays', 'comments', 'mare', 'mühlenkamp', 'waterfr', 'sehr', 'dongbei', 'shade', 'murcia', 'carnegie', 'ribeira', 'taking', 'výborné', 'manger', 'vaya', 'crowne', 'portugue', 'vanilladu', 'rotisserie', 'ahead', '2', 'getva', 'xiaolongbao', 'bravas', 'gatropub', 'advent', 'accommoda', 'giros', 'breast', 'butoverpriced', 'feast', 'gatering', 'resurrection', 'scrumptuous', 'boschetto', 'uncomplicated', 'sant', 'golden', 'mean', 'students', 'exquisitly', 'energetic', 'pragmatic', 'viking', '1039', 'mauritain', 'hartfo', 'amigo', 'surpris', 'uccle', 'sure', 'lifesaver', 'whelks', 'olivia', 'didn', 'rest', 'gentleman', 'oh', 'va', 'vysočanech', 'from', 'randomly', 'october', 'crabtree', 'platinum', 'unorganised', 'bonnes', 'temporary', 'kalamaki', 'spaniards', 'tripadvisor', 'fiction', 'phó', 'pappardeles', 'grandmom', 'oxford', 'malaysia', 'waterside', 'misco', 'baharat', 'jourdan', 'delicias', 'invited', 'nata', 'sights', 'handled', 'encourage', 'hear', 'indimenticabil', 'clue', 'porc', 'send', 'excessive', 'proud', 'quicky', 'twelve', 'bowl', 'szarlotka', 'wharf', 'botanical', 'crafz', 'frenched', 'limehouse', 'maida', 'movil', 'orwell', 'os', '250grammi', 'scarso', 'surpise', 'oy', 'cafee', 'kreis', 'algerian', 'turki', 'cuisin', 'cheaply', '1950', 'sin', 'ou', 'carnegiebrygger', 'mish', 'touri', 'voila', 'corral', 'geeks', 'pequ', 'terribly', 'fodd', 'savvy', 'auberge', 'pleasures', 'bof', 'marennes', 'dinot', 'cockroaches', 'excep', 'heurigen', 'tasteless', 'hopping', 'of', 'frogs', 'gaudi', 'near', 'relaxing', 'vandalism', 'shattering', 'turim', 'frestaurant', 'circuit', '45th', 'exoerience', 'consumer', 'h', 'flexable', 'lazing', 'rad', 'tamago', 'chop', 'teas', 'assiette', 'supermarket', 'cheery', 'squat', 'bib', 'differen', 'lickingly', 'selbstgemachter', 'voo', 'camera', 'durums', 'marais', 'everyone', 'amalie', 'flavored', 'mike', 'auspicious', 'tag', 'auth', 'hi', 'confusing', 'breaky', 'neighborhod', 'shot', 'europeanized', 'bento', 'flop', 'woodgreen', 'harb', 'mcgill', 'consistently', 'boosted', 'credentials', 'céleste', 'yu', 'cadet', 'sized', 'sylvia', 'solved', 'pinch', 'goldies', 'italiaan', 'pu', 'fresno', 'aggresive', 'scare', 'monks', 'beauti', 'scotch', 'mayo', 'nighttime', 'sercice', 'flantastic', 'thanksgiving', 'sar', 'canals', 'frenzy', 'commercial', 'virtually', 'batter', 'chinesr', 'negatives', 'nothing', 'presqu', 'satisfied', 'toooooo', 'russian', 'voodoo', 'afficionados', 'had', 'dorint', 'lachaise', 'ancient', 'krakow', 'schwarzenberský', 'upset', 'binned', 'slowwwww', 'coconutsoup', 'dealing', 'coffice', 'speciality', 'sophisticated', 'binet', 'neuhausen', 'christmasy', 'effi', 'campus', 'gutes', 'je', 'spins', 'lokal', 'nya', 'dishe', 'cheating', 'eko', 'confrontation', 'gener', 'chiringuito', 'nutritional', 'lo', 'marinara', 'parque', 'really', 'pauli', 'sum', 'collegue', 'exist', 'misses', 'everywhere', 'sally', 'everyway', 'aged', 'lagers', 'cleverly', 'landungsbrü', 'outsi', 'vegetarisn', 'sate', 'stomach', 'alster', 'marvelous', 'either', 'xberg', 'okish', 'westernised', 'thing', 'nouveaux', 'rated', 'cous', 'beerga', 'positive', 'sorprender', 'bustle', 'awful', 'peckh', 'full', 'tremendous', 'dinery', 'vö', 'divoka', 'build', 'ieme', 'mar', 'mozza', 'seed', 'unfortunate', 'monkfish', 'lucha', 'restaur', 'hippie', 'pesadilla', 'inconspicuous', 'warmth', 'experice', 'auwsome', 'eixample', 'jubilee', 'fete', 'xmas', 'lardy', 'husbands', 'hakaniemi', 'surrounded', 'fladenbrot', 'improper', 'heavy', 'salat', 'trouble', 'band', 'bistrot', 'bobo', 'urban', 'dis', 'odd', 'allergy', 'bothers', 'so', 'wowwwwww', 'dieu', 'underwhelmed', 'march', 'bone', 'summer', 'atleast', '138', 'expat', 'emotions', 'bife', 'tasteful', 'vfm', 'lakeside', 'rescue', 'adventus', 'seedy', 'goo', 'italia', 'nowy', 'travellers', 'vynils', 'delicieux', 'climate', 'included', 'grevig', 'passy', 'visually', 'activities', 'paix', 'strudel', 'causy', 'challenges', 'sanctuary', 'working', 'mandatory', 'zuric', 'medio', 'bil', 'neighborh', 'aways', 'trastevere', 'hun', 'calm', 'inpromptu', 'lemons', 'viettnametisches', 'tradional', 'dreadful', 'district', 'tricks', 'vintegrons', 'contrast', 'vegentarians', 'san', 'frenzie', 'bouillabaisse', 'montgomery', 'photographer', 'went', 'increible', 'boards', 'fabeled', 'lovelly', 'pareja', 'things', 'sketchy', 'künefe', 'romayos', 'beloved', 'simle', 'steigenberger', 'mezedes', 'pal', 'luckily', 'reyes', 'hungarian', 'cathedral', 'zizzi', 'pie', 'tastyy', 'outs', 'novelty', 'adults', 'historic', 'ya', 'where', 'jason', 'banner', 'pitt', 'bagels', 'checking', 'socafeen', 'émeraude', 'persian', 'elegance', 'certain', 'design', 'darn', 'corsican', 'receipts', 'seeking', 'jovial', 'coudn', 'jambon', 'reflects', 'stres', 'stumbled', 'fabrica', 'upon', '45mins', 'gracia', 'occasion', 'featuri', 'kocka', 'laughed', 'momms', 'dezente', 'pizzaslice', '8am', 'sl', 'america', 'woeful', 'gym', 'vino', 'tarik', 'cafè', 'idiosyncratic', 'spettacolare', 'tuna', 'dec', 'outpost', 'arboreal', 'schaerbeek', 'stadium', 'pantheon', 'pietra', 'romans', 'courteous', 'age', 'ceaser', 'aimable', 'mch', 'delighted', 'stable', 'sarrasin', 'underground', 'buffeet', 'yelled', 'spoilt', '17', 'specializes', 'yolo', 'miserable', 'chelsea', 'neighborho', 'loads', 'hoch', 'kinda', 'chri', 'kuncheon', 'marwa', 'espagnol', 'genuine', 'panc', 'resturang', 'lounges', 'norwood', 'simpl', 'xl', 'loclac', 'revelation', 'zážitek', 'ending', 'catalonian', 'map', 'managed', 'melting', 'listened', 'dansk', 'czekolada', 'posibilities', 'surschnitzel', 'hips', 'imaginatively', 'moderatly', 'houses', 'liberdade', 'congratulations', 'domicilio', 'peoole', 'basin', 'boho', 'focused', 'unhygienic', 'waitin', 'architecture', 'ottensen', 'playlist', 'billige', 'matched', 'uncooked', 'defintiely', 'mussel', 'supp', 'unmissable', '45', 'eduardo', 'deus', 'hechtplatz', 'sichuanese', 'yuk', 'míle', 'sorbet', 'tac', 'ugliest', '3', 'adequate', 'collapse', 'octupus', 'tiffany', 'komunist', 'umami', 'brussels', 'cretan', 'sagra', 'pool', 'followed', 'rawlove', 'sips', 'generously', 'manu', 'vasco', 'kumpir', 'maison', 'labor', 'ris', 'mesl', 'healthful', 'snails', 'totally', 'obama', 'delicious', 'sympathetic', 'juan', 'closes', 'fixe', 'chlebicek', 'fait', 'ameri', 'staffs', 'threadneedle', 'cañas', 'italy', 'creepy', 'muito', 'polis', 'environs', 'caro', '4s', 'sacré', 'optioon', 'buffets', 'casino', 'anyone', 'regents', 'flavorless', 'rudest', 'dishonest', 'innovati', 'caipirinha', 'espanola', 'none', 'considered', 'kosjer', 'deserved', 'hippies', 'santiago', 'reliably', '52', 'antipasteria', 'solar', 'sydenham', 'informed', 'discourage', 'okonomiyaki', 'address', 'sfogliatelle', 'thaisty', 'mediterranean', 'plantes', '39', 'tonnes', 'wagyu', 'quickie', 'mojito', 'yummmmmmmmmmmmmmmmmmmmmmmmmmmmm', 'k5', 'pears', 'undeserved', 'elche', 'tho', 'marylebone', 'rozana', 'selling', 'crime', 'balerno', 'marienpla', 'anw', 'stinks', 'shoreditch', 'soupy', 'greatt', 'exelent', 'herrin', 'légkör', 'spoke', 'parthenon', 'tomahawk', 'kebab', 'lane', 'wed', 'mercy', 'juciest', 'lauderdale', 'various', 'w1', 'recommand', 'fifth', 'devil', 'trafalgar', 'usd', 'truffel', 'mmmmm', 'danish', 'florianska', 'mit', 'specials', 'tipically', 'wknd', 'legal', 'excelent', 'pitas', 'goede', 'garage', 'chiado', 'epic', 'cachopo', 'mashed', 'endpoint', 'marien', 'platillos', 'head', 'breakfastplace', 'baggot', 'male', 'contemporary', 'meanings', 'naturalisation', 'txacoli', 'values', 'berrlin', 'fabulous', 'gorgeou', 'relazx', 'faaaast', 'exceellent', 'followi', 'dunabogdány', 'unprofessi', 'sympa', 'impeccable', 'mice', 'banquet', 'chouffe', 'euston', 'linch', 'mediterrean', 'optio', 'carmeli', 'packer', 'choices', 'rembrandt', 'bday', 'mun', 'needs', 'roll', 'mary', 'grain', 'visitor', 'sadly', 'hervorragend', 'intercontinental', 'caffee', 'hmmmmus', 'firdt', 'servings', 'není', 'saisonal', 'midstreet', '1601', '1190', 'repeat', 'terrines', 'turists', 'flea', 'liars', 'plumstead', 'ziggo', 'wor', 'overpriced', 'motorcyclists', 'sea', 'snotty', 'sinister', 'terrace', 'vila', 'mauvais', 'oldtown', 'cave', 'cruelty', 'servicd', 'cross', 'mobile', 'keller', 'skøn', 'rich', 'soirée', 'veterans', 'japaneese', 'control', 'ing', 'frr', 'explosive', 'mazing', 'scottish', 'passing', 'shoddy', 'médiocre', 'complex', 'lively', 'catering', 'pizzeri', 'spent', 'grosseto', 'distinguished', 'freelancers', 'foam', 'huf', 'recycled', 'omonoia', 'resultado', 'restourant', 'landmark', 'thoroughly', 'ce', 'cachopogate', 'erizo', 'slowl', '18', 'improvemen', 'fajny', 'dream', 'alrounder', 'annex', 'ducking', 'atmoshere', 'aloft', 'oversold', 'waterfront', 'indi', 'midnight', 'sailing', 'croquettes', 'arirang', 'fadt', 'eager', 'pea', 'protei', 'surf', 'creperie', 'death', 'prime', 'iconic', 'extraordinary', 'teatime', 'kataifi', 'beaten', 'mil', 'jacques', 'names', 'mince', 'hms', 'madrileñ', 'master', 'dinning', 'berl', 'anymore', 'abendessen', 'monster', 'stink', 'veg', 'efficiently', 'disorganized', 'assault', 'pause', 'kaartinkaupunki', 'company', 'kevin', 'dirtiest', 'santos', 'distinct', 'sceptre', 'drayton', 'vivere', 'lorne', 'gently', 'slurpilicious', 'pleseant', 'počernice', 'tegel', 'scampi', 'roast', 'knucle', 'katie', 'bloomsbury', 'catastrophy', 'dinne', 'budde', 'rounder', 'obnoxious', 'kari', 'siciliana', 'kalamarie', 'oomph', 'beets', 'paraguay', 'sorprendente', 'austria', 'oldies', 'jamiroquai', 'unwind', 'barmbek', 'bellvu', 'character', 'happenstance', 'husband', 'quiches', 'touristi', 'vegeatrian', 'cucina', 'grest', 'melt', 'laundering', 'handy', 'rana', 'pradier', 'reliable', 'friendliest', 'roa', 'v', 'hue', 'homemad', 'omlette', 'salumeria', 'vinegar', 'drenched', 'gunpowder', 'very', 'taps', 'andalusian', 'workers', 'have', 'couscous', 'thrash', 'lale', 'voulez', 'equilibrium', 'debod', 'dreamlike', 'boxes', 'upstair', 'rollin', 'montmar', 'bigos', 'ser', 'leathery', 'lalola', 'caravel', 'func', 'pearls', 'similar', 'raquel', 'sunset', 'sparling', 'starbucks', 'opera', 'rotten', 'germ', 'integrat', 'sala', 'masterly', 'operated', 'inventive', 'questio', 'self', 'wetherspoons', 'veldig', 'period', 'rely', 'perimeter', 'dumplings', 'brus', 'covent', 'bruschetta', 'byte', 'live', 'chorizo', '개떡같은', 'memorabl', 'wayne', '太好吃', 'realy', 'anti', 'addictively', 'efforts', 'vigelandsparken', 'vaut', 'destroyed', 'hallys', 'sec', 'busier', 'margherita', 'whatever', 'lacking', 'boring', 'ghastly', 'traybake', 'killer', 'meats', 'fiorano', 'nei', 'convention', 'hasn', 'wicklow', 'mejorable', 'pedro', 'affect', 'gasthaus', 'allegade', 'famoso', 'poblenou', 'ascetic', 'permanently', 'expo', 'montmartre', 'xamãs', 'panzerotteria', 'resonable', 'pasteria', 'wintertime', 'vapiano', 'duque', 'berli', 'led', 'clube', 'istvan', 'beakfast', 'sexist', 'estatit', 'iceberg', 'sosa', 'chirashi', 'jummy', 'rue', 'yaaaas', 'frillls', 'snot', 'ninbles', 'delishh', 'maischolle', 'markets', 'arms', 'antipasta', 'garphus', 'letting', 'groovy', 'rosellón', 'sticky', 'sla', 'meatbar', 'mates', 'messed', 'savoureux', 'baltimore', 'leitão', 'caff', 'cozinha', 'lab111', 'halaal', 'fitzcarraldo', 'w5', 'united', 'miamm', 'apo', 'bokor', 'spuds', 's', 'layered', 'making', 'heat', 'belem', 'convienent', 'leaving', 'chanti', 'staff', 'chlebicky', 'excursion', 'piu', 'hostinec', 'marsa', 'croquetas', 'elbe', 'newspaper', 'ansari', 'whiskey', 'nonplussed', 'cooke', 'pasticceria', 'paris', 'hovering', 'mercedes', 'prosciutto', 'fabuloussss', 'glasses', 'explanation', 'argentian', 'waffles', 'granny', 'employee', 'noicy', 'reas', 'dessets', 'emanuele', 'croatia', 'bul', 'undoubted', 'spaghetti', 'residents', 'kafeneion', 'zorba', 'glance', 'amsterdam', 'friture', 'beef', 'nobody', 'lizzie', 'еxcellent', 'dimsums', 'deception', 'arou', 'frindly', 'sky', 'women', 'faces', 'colorful', 'terraces', 'ramb', 'batignolles', 'look', 'greaaaaaaaaat', 'slant', 'occ', 'rent', 'am', 'canole', 'dissapointment', 'simone', 'curries', 'kamppi', 'trzy', 'jackpot', 'model', 'social', 'l', 'fillet', 'meet', 'minimums', 'coc', 'excell', 'certificated', 'rewarding', 'route', 'quelque', 'foodcoma', 'crossfit', 'gourme', 'pinball', 'atmospher', 'etc', 'halloumi', 'milanese', 'prolonged', 'finally', 'hot', 'iv', 'kingston', 'secluded', 'joy', 'nordsee', 'sizzling', 'ethopian', 'favurite', 'arbar', 'stupendously', 'icy', 'pierogis', 'vietnamista', 'passover', 'expectat', 'tagliolini', 'foreigner', 'turned', 'aro', 'crust', 'esp', 'fool', 'goodness', 'greatness', 'socialise', 'tantilising', 'sauteed', 'tasteles', 'ambiguous', 'improv', 'smart', 'sleeping', 'coldest', 'somethings', 'weisswurscht', 'freezer', 'hop', 'burguer', 'says', 'parlare', 'expencieve', 'hungry', 'imdian', 'meatballs', 'weirdos', 'into', 'conversation', 'laugh', 'particular', 'believe', 'princess', 'chase', 'draw', 'deliss', 'lovers', 'autenticity', 'neighbour', 'rigatoni', 'grissini', 'sablon', 'attatched', 'dundrum', 'courgette', 'downpour', 'herr', 'ikea', 'quietly', 'rembetiko', 'calling', 'ludgate', 'skewers', 'franchised', 'correspondence', 'disappointing', 'unusual', 'russell', 'hospi', 'markhtalle', 'rapha', 'outsize', 'dur', '2015', 'casseroles', 'cheapand', 'japanish', 'expectation', 'mediterranea', 'nous', 'refub', 'opened', 'falconer', 'roberto', 'spain', 'industrial', 'geneva', 'noon', 'poolside', 'atsmosphere', 'meglio', 'satisfyin', 'does', 'final', 'nomnomnomnomnom', 'piada', 'bagles', 'jetty', 'erythrean', 'quolity', 'formaggio', 'staple', 'sushibar', 'tatsy', 'cher', 'pacífico', 'drinkin', 'gotta', 'mason', 'pigs', 'nero', 'chef', 'coffeeshop', 'cowork', 'frothy', 'goth', 'crispies', 'paskistani', 'ground', 'munic', 'superb', 'yhis', '1970s', 'mittagsbuffet', 'unfirendly', 'ukrytá', 'serendipity', 'odour', 'tier', 'flexibility', 'catcalling', 'schawarma', '2017', 'citta', 'roadt', 'se12', 'céad', 'sharinng', 'floors', 'asreaasitgets', 'disapointment', 'peï', 'accompanying', 'espagnole', 'restauant', 'vast', 'superla', 'switzer', 'waterlooplein', 'advert', 'bkfast', 'thessio', 'general', 'pay', '10am', 'stamping', 'kfc', 'acceptance', 'disgu', 'new', 'attit', 'precursor', 'disa', 'pasra', 'per', 'sardinia', 'medl', 'fanastic', 'extortionate', 'exxki', 'myth', 's31', 'untasty', 'catalan', 'knesebeckstrasse', 'lobster', 'ans', 'yummiest', 'de', 'nepalese', 'outdated', 'caramel', 'multicultural', 'april', 'elaborate', 'items', 'ricco', 'tidy', 'hjørnet', 'shabb', 'candyshop', 'sticks', 'seafoo', 'telemachos', 'diner', 'isn', 'desperately', 'traffic', 'eccellente', 'görlitzer', 'fuss', 'hausgemacht', 'pizzaplace', 'redeeming', 'chocolat', 'korea', 'temp', 'outstandingly', 'choux', 'ujezd', 'wicked', 'hams', 'seiz', 'tatty', 'avenida', 'saltimbocca', 'revenge', 'baag', 'r2', 'ridicolous', 'surprice', 'disco', 'dada', 'mins', 'personified', 'gu', 'hambur', 'portugues', 'gav', 'vw', 'thon', 'edinbur', 'sw4', 'chocolaterie', 'kiváló', 'britush', 'mmmmmmmmmmmmmmm', 'vert', '价格亲民', 'wat', 'biscotti', 'apna', 'valk', 'orde', 'stores', 'lanch', 'mm', 'carluccio', 'boo', 'fayre', 'küche', 'beagle', 'whites', 'picky', 'cookin', 'tad', 'emanuelle', '2014', 'ape', 'curry', 'cheap', 'barajas', 'manchego', 'drinking', 'karaoke', 'clock', 'downtown', 'molecular', 'välipala', 'lunchbreak', 'work', 'homesickness', 'corporate', 'parisiene', 'cuicin', 'deceptive', 'steal', 'suckling', 'goldmine', 'kitsch', 'smoking', 'kabaty', 'sui', 'corwded', 'loverly', 'funk', 'cruise', 'haph', 'soufflé', 'dist', 'bicycling', 'trend', 'omniv', 'bellini', 'pavement', 'rounded', 'eeeeeeeeeew', 'tsjech', 'peu', 'froze', 'kooky', 'couleur', 'sw', 'ho', 'recommendations', 'catching', 'quasi', 'spontan', 'parc', 'substance', 'sebastian', 'kaffeehaus', 'rijsttafel', 'forest', 'famous', 'latina', 'siciliani', 'gratitude', 'parmentier', 'colli', 'relocating', 'formula', 'rums', 'polite', 'clontarf', 'oli', 'wit', 'grog', 'counters', 'ethics', 'hope', 'swimming', 'speciali', 'caracoles', 'drawer', 'vittles', 'enjo', 'senegalese', 'allways', 'billiards', 'deviously', 'gourmets', 'stockbridge', 'pod', 'calories', 'sty', 'tivoli', 'volatili', 'portugais', 'since', 'afterworks', 'bouffet', 'teen', 'quid', 'sensitive', 'reaction', 'bouchon', 'enzo', 'kraków', 'hähnchen', 'worths', 'gran', 'sumptous', 'verm', 'mentioned', 'jem', 'raise', 'disppointing', 'blending', 'hungarians', 'crillon', 'hightly', 'chanced', 'retirement', 'horribly', 'track', 'herve', 'liitle', '15', 'trattoria', 'disappoin', 'fit', 'yuuuum', 'coctails', 'yami', 'molenbeek', 'ish', 'itll', 'welcom', 'kumar', 'explosion', 'courtyard', 'stereotype', 'charred', 'marai', 'watc', 'mccarthy', 'galla', 'galcie', 'racism', 'sherlock', 'street', 'hamburgare', 'tempting', 'lage', 'bio', 'chreis', 'everage', 'paseed', 'tom', 'moldau', 'brasa', 'cadorna', 'vasastan', 'accompanied', 'plant', 'extensive', 'neig', 'ashame', 'oskana', '31st', 'awefull', 'ginn', 'pogácsa', 'earls', 'american', 'penne', 'ddr', 'courtesy', 'harassed', 'oystersss', 'spanich', 'redone', 'thought', 'uzbek', 'conveniant', '260g', 'pacistani', 'taoo', 'sushiburrito', 'neil', 'craft', 'washy', 'marienplatz', 'midn', 'oth', 'gr', 'stammkneipe', '8th', 'alaskan', 'quizzes', 'extreme', 'dude', 'alcoholics', 'restourants', 'spritz', 'cesar', 'midd', 'croissan', 'rep', 'rougher', 'fis', 'wa', 'bubbles', 'candies', 'proviant', 'questionnable', 'ashbu', 'ticked', 'olive', 'gigi', 'belated', 'evolution', 'boiring', 'enni', 'sardine', 'sandinhas', 'exotic', 'charlotte', 'chèr', 'enhanced', 'weekends', 'tolkien', 'security', 'mourning', 'baguettes', 'ostia', 'penny', 'lets', 'dese', 'make', 'oba', 'monsieur', 'moe', 'perfetta', 'egyketto', 'relaxeng', 'bestellen', 'lavazza', 'salò', 'correnti', 'insane', 'serviceable', 'giorgia', 'climb', 'snow', 'together', 'concord', 'conning', 'seflservice', 'wo', 'nor', 'flyer', 'adv', 'lju', 'military', 'elton', 'gramme', 'metal', 'depar', 'ignored', 'label', 'oooooozes', 'deceived', 'ge', 'chaczapuri', 'stabilised', 'atmostphere', 'bravissimo', 'diy', 'nippon', 'refuelling', 'brazil', '50th', 'canto', 'jacqueline', 'supoer', 'inconv', 'reviving', 'ai', 'bullied', 'reservation', 'georg', 'faraway', 'much', 'tamka', 'bem', 'hermitage', 'kohtuulliseen', 'krzysiek', 'buggered', 'chapel', 'dos', 'edition', 'ennvironment', 'manoush', 'prenzlaue', 'palmer', 'apalling', 'hig', 'pac', 'centrally', 'normally', 'otherwi', 'news', 'unreal', 'homey', 'shoppi', 'etipean', 'recom', 'burger', 'milking', 'dell', 'spoken', 'housewine', 'eith', 'graff', 'tapa', 'sidewalk', 'centri', 'dodo', 'iro', 'clerk', 'czechs', 'stubn', 'entitled', 'fixes', 'cl', 'marmari', 'stylish', 'fokionos', 'failed', 'franco', 'holmes', 'leopold', 'high', 'servive', 'helping', 'fashioned', 'tapasbar', 'deluxe', 'dong', 'germaine', 'favourites', 'taseteless', 'glamour', 'calamari', 'burge', 'shockingly', 'plaice', 'pleaseure', 'berg', 'antiques', 'expensiv', 'total', 'mango', 'standart', 'shopfront', 'turn', 'natives', 'augustine', 'cult', 'specialties', 'pont', 'apericena', 'posta', 'ale', 'ticket', 'unprovoked', 'fraude', 'koleno', 'elaikon', '2ème', 'quays', 'bouncer', 'neighbors', 'cust', 'dry', 'casper', 'apetit', 'monsieurs', 'hotels', 'barb', 'deeeelicious', 'authentic', 'advertised', 'vegitarians', 'nepalissa', 'gluttony', 'gua', 'diners', 'famille', 'highest', 'sleepy', 'cheesy', 'excited', 'luzern', 'stopoff', 'antipasto', 'bakeries', 'norway', 'nivea', 'teenage', 'grab', 'while', 'holidaysssss', 'hostile', 'laundry', 'combine', 'staf', 'landgasthof', '38', 'meetings', 'nicest', 'ecuador', 'dinners', 'arrive', 'gare', 'nct', 'tcha', 'billards', 'pakistani', 'line', 'addiction', 'lucio', 'amsterda', 'cured', 'satisfying', 'overp', 'amateur', 'refined', 'coast', 'mama', 'keen', 'dockside', 'unreasonable', 'eastend', 'azca', 'flamkuchen', 'lodge', 'manekin', 'star', 'vain', 'bouchers', 'piemonte', 'braekfast', 'vincenzo', 'card', 'paneer', 'scholar', 'kebap', 'pelleport', 'ummm', 'swords', 'fingerlicking', 'amsterd', 'survival', 'katastrofa', 'napoletan', 'gnocchi', 'crypt', 'vessel', 'gothic', 'vey', 'unclean', 'carnivores', 'sel', 'codido', 'thoughtful', 'vistula', 'irish', 'sweet', 'substainable', 'tapis', 'doorbell', 'remains', 'mivies', 'veganise', 'voice', 'feasts', 'croatian', 'spätzli', 'luxembourg', 'englo', 'long', 'rarity', 'rustical', 'prumerna', 'bygdøy', 'insit', 'enchiladas', 'carpaccios', 'eatable', 'corne', 'parisienne', 'tartar', 'sent', 'den', 'buckwheat', 'restauarant', 'skimpy', 'exceptionnal', 'theyre', 'traditional', 'natolin', 'pressure', 'gervasi', 'kibbeh', 'nurse', 'nikei', 'pleasur', 'positio', 'cabana', 'strawberrys', 'tamas', 'tested', 'á', 'creative', 'pickles', 'cos', 'he', 'hectic', 'whi', 'gra', 'savoury', 'complacency', 'crème', 'foooood', 'leas', 'ruse', 'girl', 'th', 'nom', 'usually', 'zijn', 'balkanstube', 'create', 'smelling', 'visits', 'cette', 'ratings', 'austr', 'wet', '14th', 'finchley', 'berries', 'calamares', 'jazz', 'hannah', 'indulgent', 'styff', 'okey', 'frankenstein', 'decadent', 'consecutive', 'worker', 'compete', 'yummyyyyy', 'dirty', 'recomendable', 'vieille', 'ourstanding', 'marqueis', 'noord', 'custo', 'eurgh', 'soho', 'useful', 'vleminckx', 'learn', 'mydd', 'sandwi', 'colombian', 'fins', 'offall', 'flodni', 'frozen', 'any', 'hache', 'toscane', 'tabu', 'crouded', 'soups', 'violin', 'heavenlyness', 'hanway', 'venezia', 'breaks', 'boef', '11th', 'alt', 'gobstoppper', 'happened', 'lax', 'crawl', 'placem', 'udon', 'bummed', 'bahn', 'bir', 'vynikajúce', 'has', 'against', 'saty', 'suito', 'tastyyyyy', 'henry', 'cabaret', 'wal', 'likeable', 'target', 'lang', 'dingy', 'sensual', 'ottimo', 'atqueire', 'they', 'bibimbab', 'threesome', 'cheeses', 'ineradicable', 'acropole', 'received', 'indoors', 'groups', 'magnifique', 'inexpe', 'bites', 'ensaladilla', 'pyrotechnists', 'beutifull', 'specialisi', 'compliments', 'steak', 'amongst', 'leisurely', 'saturdays', 'refund', 'chilling', 'charging', 'pastei', 'konditori', 'onion', 'coconut', 'vins', 'millar', 'yvonne', 'pigneto', 'provencal', 'facade', 'nessun', 'laie', 'comparable', 'boudoir', 'pita', 'exagerated', 'hipster', 'marathon', 'especialmente', 'grand', 'unformal', 'wintery', 'raspberry', 'comfortably', 'remember', 'brambule', 'japane', 'california', 'jc', 'mythical', 'geat', 'pretens', 'told', 'prem', 'exceptionally', 'finish', 'chablis', 'tandoor', 'south', '1073', 'desappointing', 'recomanded', 'mild', 'untrendy', 'complain', 'continuous', 'naschmarkt', 'just', '13', 'bürgerlichkeit', 'marriott', 'squisito', 'fine', 'parking', 'galettes', 'montjuic', 'stoked', 'trestevere', 'flammkuchenand', 'perfect', '15th', 'cdg', 'kicks', 'buttery', 'ste', 'connoisseur', 'surrey', 'minutes', 'thunderstorm', 'hmmm', 'nando', 'uniquely', 'longstanding', 'thrown', 'ding', 'doggy', 'geeat', 'absoultely', 'beach', 'cvke', 'jewell', 'wedding', 'bros', 'quelity', 'filipino', 'retrospective', 'luncheon', 'field', '3rd', 'grste', 'including', 'bored', 'sys', 'abit', 'homecooked', 'plentiful', 'oasis', 'mjummie', 'school', 'lassi', 'smocked', 'perfectly', 'dangerously', 'flammekuche', 'ibéric', 'bland', 'ice', 'mokotow', 'sklep', 'spanakopita', 'tooooooo', 'abusive', 'beaux', 'clubsandwiches', '10k', 'deni', 'pied', 'verygood', 'invention', 'peace', 'simplement', 'jubbly', 'sensation', 'langburger', 'for', 'nye', 'awfull', 'such', 'comforta', 'julsbord', 'landing', 'olivewood', 'rave', 'belsize', 'chick', 'reco', 'heard', 'oassi', 'ghent', 'dacency', 'shanxi', 'tarta', 'luxuruious', 'pitiful', 'tidying', 'neighborhood', 'skin', 'wok', 'foxy', 'safari', 'wot', 'adds', 'key', 'koshari', 'session', 'lifetime', 'overwhel', 'sophistication', 'decreased', 'takeout', '80th', 'unfortunately', 'meî', 'comercial', 'time', 'pyszne', 'lambie', 'aromatic', 'gloomy', 'patricia', 'gives', 'northern', 'chicked', 'lángos', 'suffered', 'favour', 'burito', 'dipped', 'fumo', 'drags', 'calabria', 'saw', 'sihlpost', 'partially', '13th', 'wander', 'prauge', 'lutt', 'casserole', 'royal', 'pakora', 'quieter', 'chippie', 'visi', 'nightcap', 'hou', 'colonel', 'lafayette', 'underestimated', 'rone', 'unplanned', 'fools', 'slimy', 'twist', 'schwendergasse', 'ingredien', 'sloppy', 'ancent', 'reggaeton', 'boil', 'gambi', 'palo', 'regular', 'opinions', 'without', 'meilleurs', 'garbage', 'omelette', 'kalandadze', 'vip', 'throgh', 'cachorro', 'fabulos', 'timers', 'englishy', 'atten', 'coeur', 'hate', 'coziest', 'faulkners', 'tikka', 'cuz', 'rathe', 'uncle', 'raval', 'insult', 'radisson', 'indians', 'minimal', 'broth', 'intersting', 'exterior', 'cajun', 'francise', 'quirky', 'donburi', 'rea', 'veau', 'seasoned', 'different', 'extraordinaire', 'crosstown', 'prix', 'maritime', 'sal', 'type', 'om', 'barcelo', 'female', 'mix', 'spicine', 'level', 'dinnng', 'asturian', 'bsse', 'married', 'satay', 'tirso', 'bright', 'fe', 'doubtful', 'initial', 'dill', 'piedmont', 'victoria', 'ws', 'hen', 'shaboom', 'subtlety', 'cure', 'bacalh', 'earth', 'mugged', 'erschwingliche', 'limimted', 'venie', '정말', 'dhindo', 'vegan', 'superrrrr', 'disappointments', 'qualite', 'scarce', 'entrees', 'magnifico', 'brent', 'asian', 'sofa', 'doll', 'pakistan', 'understaffe', 'comte', 'raw', 'therapy', 'brick', 'benyhana', 'mou', 'reality', 'souffle', 'cultural', 'streetfood', 'excllent', 'mouls', 'sublime', 'portuguesa', 'met', 'diabolical', 'fritti', 'vegetart', 'freder', 'rotary', 'els', 'wider', 'wro', '10', 'martina', 'promotion', 'colleagu', 'convivial', 'liked', 'boa', 'stretched', 'pekin', 'astra', 'aside', 'friendliness', 'mile', 'tady', 'frappe', 'crisp', 'via', 'madr', 'portueguese', 'unpleasent', 'gm', 'drama', 'bullfight', 'stinky', 'taiste', 'bitterly', 'distasteful', 'highlight', 'eclair', 'pretesto', 'nother', 'lao', 'konditorei', 'mira', 'romantic', 'cocido', 'fulham', 'transparent', 'expedition', 'nul', 'travelers', 'surpassed', 'artichoke', 'close', 'potter', 'unusually', 'connection', 'x', 'hy', 'drab', 'career', 'imho', 'passion', 'příjemné', 'jordaan', 'unreasonably', 'malasaña', 'movida', 'someplace', 'alex', 'barber', 'desired', 'scelta', 'takeway', 'locatio', 'tra', 'chops', 'added', 'amid', 'apres', 'servers', 'tortelli', 'campagne', 'friedrichsh', 'trips', 'willesden', 'betrug', 'nreakfa', 'inconsiderate', 'selfridges', 'barcelonetta', 'environment', 'receipt', 'humans', 'vslue', 'camarao', 'cheez', 'mercade', 'hapsburgs', 'terrific', 'nachos', 'distance', 'brit', 'inc', 'hugged', 'sooo', 'sopi', 'cheer', 'dined', 'deterioration', 'haunts', 'equivalent', 'falafel', 'sanbao', 'granddaughters', 'compact', 'montparnasse', 'biriyani', 'vesterbro', 'overload', 'shelter', 'kian', 'athenian', 'flavorful', 'och', 'flawed', 'muse', 'acro', 'tune', 'brewpub', 'galette', 'testament', 'seller', 'autenthic', 'premiership', 'surprizing', 'perrongen', 'enviroment', 'sabich', 'hernals', 'quantity', 'burguers', 'gristly', 'hipst', 'iwm', 'stall', 'garros', 'waitress', 'pour', 'attrative', 'higher', 'méni', 'milk', 'trevor', 'upto', 'grassmarket', 'coffeshop', 'cuisine', 'drunken', 'expressive', 'rise', 'secret', 'basili', 'originality', 'murder', 'monteverde', 'söndag', 'jacket', 'tops', 'coming', 'summerrolls', 'clara', 'farah', 'exper', 'pedra', 'buona', 'executive', 'quickest', 'operating', 'howful', 'blow', 'mother', 'shanghai', 'stupido', 'zu', 'carnival', 'acroplis', 'zh', 'nfl', 'manouche', 'colombiana', 'senorita', 'anc', 'ferret', 'horr', 'lunc', 'between', 'colosseo', 'morrocon', 'huono', 'characters', 'divided', 'confession', 'above', 'riced', 'smile', 'kiszolgálás', 'staters', 'wednesday', 'shawn', 'guapísimo', 'kapsalon', 'shadowy', 'beckholmen', 'treasures', 'dich', 'unacceptably', 'moreria', 'upp', 'scheidegger', 'labskaus', 'pasteries', 'jacob', 'brand', 'myeh', 'carol', 'european', 'mis', 'ell', 'disapponted', 'gdr', 'described', 'dad', 'lads', 'beforehand', 'przedmieście', 'month', 'unforeseen', 'déjate', 'barman', 'neighbourhoo', 'relatively', 'delighful', 'consistan', 'hone', 'anticipated', 'wales', 'consistnetly', 'hotate', 'gluey', 'coo', 'even', 'warned', 'become', 'joint', 'caffè', 'julia', 'sangrias', 'shawa', 'kofta', 'step', 'balance', 'maghreb', 'seeds', 'girly', 'predecessor', 'bars', 'icebar', 'aware', 'felice', 'mom', 'palmeras', 'tomate', 'heck', 'cockatail', 'bocuse', 'atosm', 'beacon', 'samosas', 'benefit', 'exciting', 'instructions', 'reason', 'shape', 'thinking', 'daal', 'thou', 'cholestero', 'emph', 'haggerston', 'sald', 'toujours', 'billiard', 'sout', 'tails', 'visit', 'fair', 'español', 'terminal', 'leith', 'until', 'vaci', 'project', 'smoothies', 'ayce', 'soooooo', 'mmmhh', 'poleiro', 'soba', 'chandeliers', 'delightfully', 'edward', 'käsekrainer', 'bakerstreet', 'ealing', 'spacial', 'wasnt', 'wunderfull', 'exha', 'schloss', 'avron', 'stockholms', 'harrods', 'artwork', 'hood', 'vorosmarty', 'reagge', 'uruguayan', 'alcocé', 'are', 'oud', 'unreliable', 'made', 'winton', 'loyal', 'spani', 'mariahilfer', 'farina', 'omen', 'oke', 'wen', 'täby', 'iraqi', 'unknown', 'liquor', 'fettuccine', 'madeleines', 'brusque', 'favours', 'which', 'mart', 'worthwhile', 'backshop', 'flat', 'wandering', 'buttero', 'van', 'trancio', 'inordinately', 'karma', 'mauer', 'ow', 'bnb', 'normal', 'rightly', 'throw', 'bianchi', 'vegetarians', 'deserving', 'greenburg', 'nonstop', 'realtime', 'suburban', 'wall', 'enter', 'waldorf', 'receiving', 'lots', 'coin', 'arab', 'professioanal', 'girlfriend', 'zizkov', 'fantasy', 'mercado', 'sadness', 'golf', 'afforda', 'pompous', 'mothers', 'navarra', 'arrogant', 'saying', 'bas', 'dynamite', 'minera', 'surprising', 'pleasing', 'vacía', 'museums', 'missed', 'magna', 'responsible', 'semplice', 'mex', 'fanatastic', 'impress', 'repeating', 'edgy', 'killing', 'visiting', 'newspapers', 'rating', 'streetl', 'duration', 'intetion', 'accuse', 'funeral', 'institution', 'photo', 'wund', 'mejor', 'beigels', 'offe', 'tw', 'nightmarishly', 'foz', 'chiswick', 'offered', 'desejar', 'kapusiini', 'panto', 'frugal', 'stayed', 'item', 'bri', 'sees', 'zbrasl', 'suggests', 'der', 'pulse', 'pinacoteca', 'buzzy', 'chains', 'gorgeo', 'kaia', 'jumbo', 'nize', 'previo', 'forza', 'mediterrannean', 'ideal', 'nieba', 'kerela', 'sele', 'branches', 'spotty', 'skvela', 'unaccomodating', 'est', 'apollo', 'lune', 'worlds', 'spelt', 'flowers', 'euw', 'roof', 'generally', 'morale', 'uu', 'sampler', 'sternstraße', 'awaited', 'altogether', 'conduct', 'louvre', 'smt', 'tira', 'typical', 'vatican', 'newcomers', 'mountains', 'envmt', 'excelle', 'perished', 'bofinger', 'hippo', 'worcestershir', 'snail', 'kimchi', 'longe', 'amal', 'plates', 'absinthe', 'take', 'played', 'ahhh', 'kaisrdamm', 'sloooooow', 'at', 'suprising', 'haunt', 'metaxou', 'who', 'knew', 'offert', 'scrimp', 'hercule', 'hárma', 'osso', 'decent', 'destin', 'hesperian', 'pawil', 'tied', '4th', 'ericsson', 'wiht', 'top', 'visitin', 'arthur', 'persia', 'bitten', 'chinese', 'cap', 'duper', 'facing', 'footballmatches', 'kerala', 'afhani', 'pancra', 'vivid', 'notic', 'experts', 'childr', 'hanami', 'massively', 'locality', 'pauls', 'yums', 'bragosso', 'gallego', 'chunks', 'give', 'to', 'perdu', 'comfo', 'dissapointing', 'belphoori', 'considerably', 'escal', 'fcafe', 'schwartz', 'sets', 'aquarium', 'community', 'owerpriced', 'sell', 'ba', 'fun', 'tibet', 'vie', 'expense', 'anniversary', 'asset', 'flaws', 'culti', 'wow', '60th', 'boff', 'highly', 'naples', 'personable', 'entertainm', 'mille', 'qui', 'venue', 'wrap', 'bis', 'guarantee', 'drift', 'functioning', 'lemonade', 'marketing', 'paddle', 'tonkatsu', 'delicia', 'serive', 'weren', 'devonshire', 'filet', 'shouldve', 'poirot', 'cherish', 'gross', 'olympia', 'nod', 'str', 'belgium', 'reinvented', 'perpetuates', 'marke', 'turk', 'waitresses', 'chamber', 'jedlo', 'imaginary', 'vayas', 'rivoli', 'chupitos', '服務好', 'afternoons', 'considerate', 'hu', 'golders', 'hire', 'unpr', 'decour', 'avoi', 'pit', 'civi', 'spending', 'trai', 'chineess', 'closing', 'dramatically', 'turkish', 'apero', 'desserts', 'è', 'toilet', 'cycle', 'pizzotelle', 'flamingo', 'beeeeeeeeeeeeeeeeeeeer', 'save', 'worst', 'sheperds', 'tries', 'deliciouse', 'payable', 'review', 'goat', 'tucked', 'hh', 'peanuts', 'universe', 'knockout', 'tart', 'grandson', 'priced', 'restauarnt', 'arroz', '24', 'technique', 'liberty', 'reasonabl', 'rouge', 'saving', 'mum', 'brera', 'pilgrimage', 'sliders', 'beate', 'mhmm', 'mystery', 'unprofessionnal', 'place', 'skimping', 'pero', 'locsl', 'expensive', 'touring', 'gonna', 'foodora', 'fre', 'origi', 'dini', 'sober', 'franchise', 'manageress', 'croquestes', 'lavon', 'prod', 'enterta', 'papadams', 'topical', 'colleague', 'zealand', 'woderland', 'auer', 'studen', 'cafeter', 'churning', 'said', 'sund', 'tripe', 'acoustics', 'dine', 'tatra', 'spring', 'wood', 'fussy', 'parts', 'outsanding', 'ammonia', 'fettuccini', 'asparagus', '12th', 'kids', 'monty', 'vines', 'peopl', 'ark', 'barely', '19', 'bellisomo', 'capuccino', 'delicatessan', 'ercans', 'anders', 'maza', 'octagonal', 'soleil', 'subst', 'mcgills', 'w', '3th', 'portsmouth', 'gerat', 'ath', 'attenda', 'dippy', 'mieux', 'steakhouses', 'bottled', 'boat', 'duplings', 'frustratingly', 'fraudulent', 'diss', 'eiff', 'shushi', 'pumpkin', 'awesom', 'zephyr', 'restauran', 'agape', 'squiste', 'toothsome', 'introduces', 'bratislav', 'cachaça', 'fizz', 'knowledg', 'nie', 'solid', 'elevated', 'esque', 'spontaniously', 'desser', 'kisahalli', 'banqueting', '22nd', 'loves', 'em', 'canolii', 'servicr', 'chaotic', 'bag', 'peas', 'coped', 'cozzy', 'inn', 'loud', 'nt', 'pauze', 'ur', 'gale', 'relax', 'schnoors', 'minions', 'fiorentina', 'gastronomic', 'stompingly', 'tour', 'homy', 'lasagna', 'welco', 'reasons', 'shiha', 'ol', 'tonkinoi', 'area', 'gourmand', 'godd', 'busiest', 'suburbs', 'zabardast', 'shopp', 'breakfest', 'changed', 'strawberry', 'munch', 'exceptional', 'positiv', 'sweeting', '14', '2ft', 'bocatas', 'ob', 'smal', 'bien', 'acceptable', 'innovat', 'mediocrity', 'nw', 'ruin', 'sasij', 'bookstalls', 'snach', 'pam', 'lago', 'previously', 'hummus', 'clever', 'riverfront', 'afghan', 'allora', 'clowns', 'gusto', 'ruhig', 'unspectacular', 'pesto', 'komponisten', 'deli', 'tab', 'trees', 'ga', 'classically', 'exq', 'doubles', 'cc', 'sok', 'wjnes', 'baos', 'hostel', 'clams', 'fortunate', 'sustenance', 'accurate', 'croissant', 'cuts', 'inexpensi', 'lab', 'piece', '拉面noodles', 'lie', 'corstorphine', 'brings', 'avery', 'classed', 'waits', 'relaxed', 'alentejo', 'bagle', 'foods', 'killed', 'valenciana', 'eden', 'hoy', 'parliame', 'poeto', 'metrople', 'aubergin', 'kilmainham', 'yaaam', 'arabic', 'fathers', 'accolades', 'daiichi', 'ohhh', 'bristrot', 'fella', 'pineta', 'executed', 'unmemorable', 'luxembour', 'hugely', 'piri', 'prevails', 'peshwari', 'piglet', 'torte', 'pierogi', 'tastless', 'tengono', 'yhamiiii', 'catc', 'poker', 'charlottenburg', 'privately', 'allé', 'hesitant', 'offer', 'helpfu', 'question', 'rumbles', 'watering', 'll', 'celta', 'elizabeth', 'attending', 'cafetiere', 'sessert', 'cig', 'enjoyablel', 'sucess', '非常地道的川湘菜', 'refresh', 'jams', 'dartmouth', 'dow', 'playroom', 'specialising', 'stadion', 'tort', 'bierstube', 'kinsella', 'post', 'afford', 'cottage', 'favoloso', 'travellin', 'ubicación', 'overcharged', 'lalatina', 'hamb', 'spoons', 'vegie', '7th', 'special', 'degueulasse', 'delivering', 'steep', 'urchins', 'bol', 'parties', 'tooth', 'macrobiotic', 'mulberry', 'prince', 'cape', 'prego', 'phatter', 'attendance', 'oldschool', 'morningside', 'pioneer', 'clash', 'bite', 'sole', 'fisch', 'lisbon', 'spandower', 'chilly', 'nursery', 'vietnamies', 'cupcakes', 'camp', 'grüß', 'exquisitely', 'definetely', 'healing', 'superburgers', 'spaniah', 'fondues', 'mano', 'spagh', 'stale', 'begin', 'outdoor', 'glutten', 'palladium', 'affo', 'garret', 'prisey', 'pizzerias', 'according', 'hunan', 'neighbourho', 'ich', 'negot', 'burgerplace', 'lebanses', 'capitol', 'mugs', 'accomodated', 'checs', 'cups', 'doritos', 'quikkie', 'ambiance', 'exploding', 'revi', 'juicy', 'consumable', 'oreja', 'hospitallity', 'mark', 'saddle', 'zone', 'neighberhood', 'rammed', 'remot', 'philosophes', 'wh', 'gréât', '96', 'fav', 'cime', 'medi', 'portugise', 'streatham', 'approved', 'foodtruck', 'carnide', 'conveni', 'flammkuchen', 'brigitte', 'backery', 'nagyvározsban', 'posto', 'saj', 'zbawiciela', 'androuet', 'desi', 'differenc', 'foodcou', 'litlle', 'ace', 'sustai', 'content', 'bounty', 'ci', 'joke', 'friedny', 'd6', 'teasty', 'roasts', 'saixa', 'sanwich', 'zero', 'thank', 'riberia', 'burg', 'loht', 'taster', 'basilica', 'onto', 'commut', 'layer', 'ton', 'moabit', 'samurai', 'orders', 'schmarren', 'tarts', 'si', 'basrai', 'fusions', 'thumbs', 'interaction', 'drankje', 'nagoya', 'samll', 'referen', 'servicé', 'amer', 'flair', 'nicr', 'experiencing', 'ridicolously', 'barwoman', 'professionalism', 'brekky', 'possiblitiea', 'koffie', 'accordingly', 'iva', 'ouch', 'sweethearts', 'quint', 'loyalty', 'federico', 'suhsi', 'nihari', 'sisters', 'barmaid', 'us', 'establishm', 'ghast', 'orangeade', 'frends', 'shadow', 'residential', 'mate', 'tip', 'cit', 'bubbly', 'regret', 'montmartrois', 'stone', 'yours', 'spcialized', 'cockt', 'flakes', 'exprrience', 'splendid', 'stick', 'wokit', 'mainly', 'woooow', 'amsterdams', 'boca', 'effor', 'feed', 'profiteroles', 'trumps', 'good', 'greedy', '5years', 'disappointe', 'pharmacy', 'trap', 'getaway', 'balsl', 'trains', 'blast', 'brunchtastic', 'etablishment', 'show', 'swift', 'woodfired', 'advance', 'breakfast', 'guality', 'rose', 'reduced', 'sides', 'tortuous', 'plesure', 'blissful', 'thru', 'entire', 'sämsta', 'terrassen', 'amsredam', 'lun', 'en', 'chin', 'espresso', 'losos', 'sy', 'windows', 'aunt', 'max', 'margarita', 'guest', 'qualities', 'side', 'backer', 'belleville', 'peter', 'gradually', 'croissants', 'donalds', 'asia', 'coolness', 'volt', 'delivery', 'farringdon', 'bretonnes', 'fest', 'levels', 'stopover', 'déco', 'schwäbisch', 'noise', 'ingredient', 'unpretenti', 'promptly', 'quoted', 'girls', 'professional', 'chuleton', 'soup', 'bundle', 'became', 'haloumi', 'rendez', 'definitey', 'serenity', 'abandon', 'piazza', 'imouto', 'maestro', 'moulin', 'queue', 'join', 'ravioles', 'uphill', 'desssert', 'niam', 'fantastique', 'bucks', 'poorish', 'understated', 'cros', 'ali', 'rolls', 'sensational', 'floppy', '50s', 'arepas', 'fon', 'umm', 'douniu', 'ï_', 'characte', 'pachi', 'steack', 'accompaniment', 'goreng', 'rail', 'mumbai', 'waitstaff', 'clerici', 'intoxicated', 'squash', 'potatoes', 'leg', 'cravin', 'hayfield', 'property', 'rye', 'german', 'ghe', 'kraving', 'mila', 'aging', 'molana', 'hosting', 'safety', 'already', 'fabul', 'summerstyle', 'thalkirchen', 'panorama', 'chance', 'shahi', 'madigans', 'jellyfish', 'annoyed', 'july', 'ramsay', 'horrifically', 'crew', 'accidently', 'reset', 'pity', '2018', 'amateurs', 'habit', 'amaz', 'despite', 'plantains', 'masala', 'wondeful', 'harder', 'sotheby', 'mongolain', 'otto', 'friday', 'fa', 'accomodation', 'surpriesed', 'utter', 'chaud', 'flo', 'crepes', 'mariendorf', 'improvin', 'grub', 'kruskovice', 'intalian', '热情奔放的非洲餐厅', 'berry', 'brunches', 'pastery', 'smarks', 'locals', 'haymarke', 'recognized', 'rebel', 'eurika', 'brel', 'matters', 'renovation', 'spaces', 'musse', 'westfield', 'cereal', 'defrozen', 'offday', 'trinite', 'bd', 'jalapeno', 'freindly', 'soul', '60s', 'spiritual', 'pals', 'cranky', 'restricted', 'gustoso', 'headache', 'beyonce', 'eclectic', 'homebrew', 'indien', 'cancelled', 'operate', 'waterhole', 'buns', 'klanovice', 'meals', 'orisih', 'hotdogs', 'lyons', 'premier', 'vistas', 'gaucho', 'expectations', 'client', 'records', 'exuberant', 'confusion', 'describe', 'hungryhouse', 'kurfürstendam', 'sul', 'downstai', 'burgundy', 'liverpool', 'ursynow', 'talking', 'oficina', 'crustaceans', 'carmel', 'delecious', 'battered', 'patties', 'weakest', 'monteiro', 'dult', 'searching', 'du', 'cock', 'playground', 'quik', 'disrespectful', 'accident', 'substantial', 'leche', 'fowl', 'spontaneity', 'vegeterians', 'bourguignonne', 'robbery', 'njam', 'apps', 'servixe', 'receptionist', 'pertu', 'licking', 'brussells', 'sna', 'sixth', 'copious', 'jamaican', 'cannoli', 'khachapuri', 'tot', 'app', 'mid', 'chaib', 'indicate', 'tacky', 'auld', 'glory', 'glad', 'nam', 'choiv', 'beautful', 'grunerløkka', 'trockener', 'wieder', 'warrant', 'insider', 'duó', 'hamburguer', 'forvente', 'marvellous', 'retaurant', 'elegant', 'shut', 'tastfull', 'urge', 'complaints', 'citron', 'dogs', 'cover', '1972', 'lettuce', 'keralan', 'sixties', 'enjoya', 'artichokes', 'besy', 'gora', 'smartbox', 'élysées', 'interior', 'kin', 'macrobiotique', 'definately', 'stormy', 'island', 'metting', 'search', 'veal', 'porta', 'reference', 'greasy', 'hiidden', 'exqui', 'hintaan', 'accidentally', 'jeff', 'qpr', 'griego', 'dropp', 'vib', 'icelanders', 'navaja', 'chelse', 'yrs', 'raclette', 'scotland', 'warmed', 'pashtun', 'accent', 'bogracsgulyas', 'breathtaking', 'caliber', 'meaningful', 'sufficient', 'tasting', 'unglaublich', 'overpric', 'penirli', 'calda', 'no43', 'stunned', 'tempest', 'remeber', 'thamesmead', 'trdelnik', 'pr', 'habibi', 'quan', 'luck', 'temptation', 'dilmah', 'ulica', 'tailored', 'webmaster', 'authenitc', 'locating', 'roach', 'antic', 'frogner', 'cyclades', 'spoil', 'albert', 'stati', 'ambience', 'draft', 'porsh', 'danceclub', 'tiroler', 'pizzaa', 'shoice', 'massive', 'bp', 'navy', 'tipico', 'nicer', 'madri', 'annoyingly', 'picanha', 'viewed', 'lana', 'everybody', 'pizz', 'praag', 'delusion', 'promise', 'drunks', 'riskless', 'autentico', 'refreshingl', 'devastatingly', 'also', 'pretension', 'towards', 'lunchtime', 'shoarma', 'buffett', 'suficient', 'enoug', 'reggae', 'giovann', 'bicycle', 'starve', 'shameful', 'rates', 'bee', 'gabby', 'switzerla', 'sequel', 'avg', 'navigl', 'inhouse', 'forces', 'andalussian', 'pivo', 'thaid', 'thea', 'tiny', 'again', 'incroyable', 'maltesers', 'smallish', 'goats', 'goood', 'independent', 'fact', 'definitively', 'areeiro', 'klaus', '12', 'sushisamba', 'southwark', 'seefood', 'figure', 'unedible', 'schnitz', 'virgin', 'issue', 'pata', 'calid', 'shu', 'serbice', 'superman', 'loren', 'reminds', 'tolles', 'want', 'rigging', 'first', 'premium', 'onam', 'surrounding', 'passionless', 'bestseller', 'winner', 'delivered', 'magnificent', 'fishcake', 'multo', 'this', 'loooove', 'boba', 'rosemary', 'fire', 'addition', 'dust', 'gene', 'atm', 'alcantara', 'sha', 'christ', 'litt', 'misusing', 'postcode', 'camberwell', 'ems', 'existence', 'trail', 'javali', 'södermalm', 'greeny', 'brun', 'parrillada', 'wholewheat', 'hoppers', 'diva', 'excellence', 'carribbean', 'doughnut', 'meter', 'mozzarella', 'ruder', 'bbq', 'if', 'unassumingly', 'vegetation', 'deffinate', 'persons', 'hopes', 'rousse', 'spagna', 'gul', 'touristic', 'unforgettable', 'tall', 'stuff', 'arrondissement', 'thar', 'refurbish', 'ke', 'unkind', 'amaze', 'products', 'square', 'cant', 'tail', 'athmotphere', 'flare', 'marcon', 'ramen', 'ingridient', 'ag', 'ignorant', 'merely', 'creche', 'grown', 'reputed', 'criteria', 'airpo', 'border', 'brittany', 'momen', 'fiveguys', 'charmless', 'fuyez', 'i', 'postponed', 'tastefull', 'churras', 'ono', 'tatin', 'seasoning', 'borguine', 'alas', 'health', 'performance', 'cerralbo', 'wanna', 'peacfull', 'brillante', 'highs', 'gem', 'oslos', 'remote', 'skagen', 'markthalle', 'lovely', 'flashy', 'unforgiving', 'maliwan', 'mind', 'expenses', 'schwabingers', 'tu', '식당', 'argetina', 'plats', 'tomato', 'outside', 'cola', 'jumpin', 'ranelagh', 'pate', 'scintillating', 'warmness', 'vendome', 'resembling', 'italiana', 'peking', 'stage', 'galactic', 'etno', 'americon', 'crimson', 'chocolates', 'cosy', 'escargot', 'bonanova', 'sandymount', 'festival', 'lower', 'chetinad', 'manti', 'purpose', 'centro', 'enough', 'bardzo', 'shabbat', 'terrac', 'lala', 'tonnarelli', 'familly', 'schnieders', 'fall', 'believed', 'pica', 'nicey', 'abricot', 'envir', 'grossly', 'poison', 'remorse', 'lyonese', 'jamon', 'larg', 'descent', 'exceeds', 'softly', 'football', 'generations', 'waouh', 'dissappointment', 'tile', 'hamersmith', 'profesional', 'passengers', 'starters', 'çech', 'artsy', 'kitschy', 'ties', 'vasa', 'stereoytypically', 'open', 'grills', 'paella', 'ussr', 'james', 'passport', 'tastes', 'fight', 'bonsai', 'fabulo', 'bef', 'lazy', 'canalside', 'reminded', 'room', 'cevivhe', 'delicioouus', 'dreary', 'charlie', 'mcds', 'daryani', 'music', 'lunchspot', 'katsu', 'victor', 'již', 'real', 'chulo', 'goog', 'abou', 'amd', 'playful', 'chain', 'byron', 'confit', 'cook', 'quick', 'ukrainian', 'carinha', 'blessing', 'kolbice', 'shark', 'diderot', 'relooking', 'neat', 'cry', 'gid', 'hmc', 'atocha', 'autumn', 'exellence', 'go', 'quantities', 'kontiki', 'bamboosticooo', 'niche', 'soborg', 'ecco', 'freshest', 'churchfield', 'forgot', 'aloof', 'veeeeeery', 'personnal', 'cutting', 'bacaro', 'cafes', 'rude', 'entrances', 'pictures', 'wednedsday', 'excellent', 'hasu', 'coffee', 'southindian', 'chichi', 'impeccabile', 'lose', 'showcase', 'cutlery', 'giovanni', 'racial', 'baking', 'degree', 'norte', 'taco', 'unorganized', 'vosge', 'conciato', 'cph', 'posedenie', 'tenders', 'village', 'direct', 'piadine', 'jogurt', 'veggies', 'beaultiful', 'mushrooms', 'lush', 'reflect', 'poppy', 'cueca', 'sugar', 'today', 'tours', 'sirreee', 'got', 'brownie', 'you', 'warmly', 'appreciation', 'africa', 'orgasm', 'rap', 'dynamic', 'beleive', 'sympathethic', 'kung', 'interesting', 'know', 'wai', 'establishment', 'navigator', 'befor', 'dreaming', 'firt', 'meeti', 'confused', 'agradável', 'ent', 'there', '39yrs', 'thaï', 'hyggelig', 'needed', 'central', 'med', 'generic', 'faded', 'vecchia', 'catch', 'deligious', 'coup', 'blowtorch', 'dope', 'regional', 'subway', 'atlanta', 'kara', 'travelled', 'fills', 'eco', 'array', 'relationship', 'sister', 'saldas', 'roomy', 'aggressive', 'unethical', 'antica', 'pasteis', 'strase', 'calamity', 'communication', 'boutique', 'peop', 'chillin', 'bartending', 'lesson', 'fontana', 'mission', 'deliciosa', 'representtion', 'amazeballs', 'memsaab', 'ze', 'porti', 'status', 'apart', 'bejing', 'donald', 'walking', 'crêpes', 'incomprehensible', 'competitor', 'bowls', 'aroun', 'encore', 'currywurst', 'lazar', 'cod', 'romoli', 'spareribs', 'bodega', 'lyers', 'mcdonald', 'convinient', 'utney', 'adrionos', 'wannsee', 'gate', 'part', 'young', 'wining', 'upbeat', 'climbing', 'coeliacs', 'overprices', 'serviceminded', 'clien', 'shrimps', 'token', 'exhilarating', 'abholen', 'foodtasting', 'doba', 'poutine', 'spandau', 'dishes', 'tears', 'unbeatable', 'vill', 'lyonnaise', 'berliner', 'shabu', 'intetior', 'lait', 'lightning', 'byo', 'them', 'nytorget', 'hostess', 'neatly', 'salesmanager', 'surrounds', 'their', 'flavo', 'main', 'coquille', 'andrassy', 'appetising', 'formidable', 'idyllic', 'representation', 'listing', 'innards', 'prepare', 'worthless', 'restorative', 'gipsy', 'smil', 'rood', 'europanized', 'process', 'leaflet', 'alexanderplatz', 'except', 'sang', 'chaleureux', 'schlachtensee', 'shopping', 'tweaking', 'zala', 'vivenda', 'poisening', 'telmo', 'amicable', 'mchaven', 'mustfo', 'père', 'thief', 'speaks', 'fitness', 'curious', 'refiner', 'scim', 'tackle', 'inflexible', 'ethical', 'exaustive', 'omnivour', 'analysis', 'polynesia', 'suprice', 'wenceslas', '30', 'base', 'landsca', 'pancake', 'cabin', 'manolo', 'brochettes', 'republic', 'acogedor', 'lunchdeals', 'menu', 'nemo', 'delicio', 'fantastico', 'makis', 'wishy', 'eal', 'contempo', 'satisfaction', 'magician', 'grappa', 'kore', 'masked', 'poisson', 'potion', 'tree', 'improving', 'tragedy', 'bohemian', 'arrived', '0', 'specialised', 'cartet', 'nova', 'slices', 'plentifful', 'najleps', 'extended', 'organizat', 'conflicting', 'amigos', 'nature', 'date', 'pastr', 'rice', 'fusión', 'riv', 'towpath', 'bouncers', 'kurtos', 'reviewed', 'ticks', 'yammi', 'completely', 'tasnim', 'pepperoni', 'paikka', 'extreamly', 'disappoing', 'delici', 'tower', 'gabriele', 'dismanered', 'flies', 'artist', 'baby', 'convience', 'prep', 'balkan', '34c', 'efe', 'canoli', 'balloons', 'demoiselles', 'pregos', 'seb', 'shades', 'tirol', 'managment', 'angle', 'reservati', 'ccvest', 'bore', 'kyris', 'spicer', 'fails', 'copper', 'frit', 'swizterland', 'sorroundings', 'breton', 'pretenciouse', 'popo', 'fist', 'broad', 'elements', 'disigner', 'chocs', 'ornament', 'geo', 'overco', 'limited', 'trés', 'vault', 'avoided', 'lechazos', 'especially', 'arport', 'vegam', 'cutty', 'closest', 'sort', 'second', 'yea', 'excite', 'crossroads', 'razonable', 'fabulously', 'bogato', 'avoid', 'precarious', 'dazzling', 'tastiest', 'apfeltorte', 'brainer', 'named', 'masterpiece', 'reveillon', 'oldest', 'happens', 'rundown', 'conditioni', 'kou', 'truscello', 'invalides', 'tablao', 'freiendly', 'reviw', 'toilette', 'birth', 'specially', 'flashback', 'sainte', 'prussian', 'crap', 'indu', 'caveat', 'rested', 'goulasch', 'attractive', 'bash', 'stewed', 'aweful', 'mexican', 'cookery', 'shh', 'familar', 'quenched', 'foor', 'understaffed', 'bongo', 'josé', 'landlord', 'patata', 'ristorante', 'maravilloso', 'atmospheric', 'steamrollered', 'návštěv', '50', 'couldn', 'forward', 'trocadero', 'weekl', 'crossover', 'towor', 'alon', 'meaty', 'colours', 'barbie', 'börek', 'stablishment', 'humongous', 'delicacies', 'minden', 'frances', 'overcharge', 'faulty', 'fantastisk', 'ribeye', 'compared', 'duomo', 'doro', 'hospital', 'blown', 'teh', 'skool', '59', 'secas', 'fishcakes', 'forever', 'highgate', 'taiwanese', 'veget', 'circumstance', '99', 'slagroom', 'traditionell', 'unable', 'municipal', 'sardegna', 'txangurro', 'logistics', 'solutions', 'ins', 'italienischer', 'deceive', 'moroccon', 'kum', 'smiley', 'coffev', 'offal', 'compassionate', 'hugw', 'creme', 'your', 'amazng', 'forno', 'regrets', 'resort', 'koba', 'talaga', 'thesio', 'hopefully', 'based', 'mao', 'seas', 'koi', 'locked', 'giants', 'gracious', 'isappointing', 'sponge', 'pilastro', 'keg', 'crappy', 'countless', 'beli', 'lisboa', 'prawns', 'warm', 'piz', 'shawarmas', 'center', 'bacon', 'cheese', 'hat', 'una', 'apothecary', 'icecream', 'ih', 'appertivo', 'kabab', 'gorgeous', 'han', 'stolen', 'mirage', 'frenchie', 'centra', 'contemporar', 'shanius', 'masia', 'housemade', 'sichuan', 'stages', 'greatly', 'ul', 'coop', 'pranzo', 'suchi', 'orientated', 'affluenza', 'distric', 'uruguay', 'almaza', 'woman', 'coxinha', 'sit', 'disinterested', 'bonus', 'groupons', 'breath', 'barna', 'brag', 'luckiest', 'placa', 'haahaa', 'menú', 'laws', 'athmosphere', 'besties', 'pronto', 'glutenfree', 'fits', 'workshops', 'sling', 'ika', 'chosen', 'brea', 'soy', '1955', 'phenix', 'satisfy', 'exp', 'euros', 'fora', 'thankf', 'foreign', 'execution', 'routard', 'ka', 'short', 'spunky', 'speechless', '40th', 'co', 'kiosko', 'chiken', 'era', 'face', 'grano', 'bijou', 'superfriendly', 'support', 'spacious', 'unwanted', 'hostin', 'ib', 'servise', 'experiece', 'cena', 'tea', 'stands', 'improvement', 'hosts', 'maude', 'loop', 'wallet', 'disapoointing', 'alte', 'anytime', 'pugliese', 'incredibly', 'peroncino', 'observe', 'flatwhite', 'reviewers', 'tempora', 'helpf', 'drinlk', 'ripped', 'naplavka', 'digs', 'rosa', 'ein', 'lotta', 'dd', 'brixton', 'drinkery', 'kokoretsi', 'letna', 'omdöme', 'example', 'southwestern', 'gumps', 'twinkle', 'always', 'tell', 'kro', 'differnt', 'opp', 'taver', 'dairy', 'sick', 'nostro', 'marika', 'sma', 'shortchanged', 'hall', 'fritte', 'goodfood', 'chwap', 'blt', 'fika', 'haarle', '17th', 'genius', 'outshining', 'q', 'corean', 'touchdown', 'haddock', 'reopened', 'seats', 'nd', 'aperitv', 'bovelli', 'unintentionally', 'japanes', 'sasel', 'cigarett', 'focacia', 'pannekoeken', 'narrow', 'oberrated', 'spalderi', 'decorations', 'avocedo', 'icompetent', 'hutt', 'ritz', 'noodels', 'barcel', 'biological', 'mac', 'cheape', 'het', 'risuena', 'noodle', 'adap', 'buonissimo', 'chillis', 'nikolaiviert', 'richtig', 'streits', 'legs', 'cool', 'tgi', 'britsh', 'hunter', 'marx', 'lager', 'stunning', 'reddit', 'hole', 'loung', 'urbane', 'magritte', 'railway', 'itely', 'desayuno', 'reheated', 'atmosphère', 'courtyar', 'suya', 'member', 'watchers', 'hidden', 'nouveau', 'goulash', 'novak', 'wag', 'whip', 'lyo', 'lake', 'warszawa', 'perio', '100', 'delicioso', 'impressed', 'moody', 'qualit', 'atmos', 'arty', 'girassol', 'mamas', 'belle', 'genial', 'upselling', 'pandino', 'top5', 'anywhere', 'unattractive', 'change', 'begins', 'defi', 'compliment', 'restaurang', 'spanis', 'aleays', 'businessmen', 'knowlegded', 'uninportant', 'fairtrade', 'charlottenbu', 'grrrreat', 'yammy', 'authenic', 'nepal', 'kowing', 'consi', 'situated', 'leads', 'finesse', 'grandmother', 'tipsy', 'misers', 'throwback', 'jin', 'lunck', 'shish', 'gostilna', 'single', 'friut', 'prec', 'fanta', 'aperetif', 'chapter', 'custard', 'leckere', 'misleading', 'nandos', 'sufferers', 'qual', '80', 'whether', 'buzzling', 'hague', 'lighting', 'mais', 'madrid', 'radio', 'unacceptabl', 'merguez', 'lady', 'whe', 'madras', 'tunis', 'nop', 'feedback', 'grups', 'g', 'fitrovia', 'licensed', 'morgan', 'surpy', 'waite', 'sagen', 'bakes', 'carb', 'marshmallows', 'herengracht', 'neg', 'ignore', 'accomodating', 'sudden', 'tragaluz', 'muffins', 'cheryll', 'soak', 'takos', 'oui', 'storehouse', 'recomm', 'meze', 'daimler', 'bubblin', 'faithful', 'gfuh', 'disgusted', 'events', 'east', 'portal', 'food', 'bohem', 'lacustre', 'dolmio', 'spencer', 'basitlle', 'around', 'bus', 'seekers', 'terre', 'woaaaw', 'repeatable', 'unders', 'astronomical', 'coffeeing', 'online', 'pinot', 'victory', 'kept', '味道不错', 'begining', 'marhaineke', 'scored', 'six', 'dinn', 'vegi', 'ambient', 'fran', 'hilton', 'samba', 'munichs', 'suppose', 'testaccio', 'ukranian', 'vermut', 'jarlspassagen', 'keba', 'italina', 'racione', 'bellisimo', 'divino', 'knife', 'foundue', 'stodgy', 'exception', 'rosy', 'sinner', 'krupa', 'stoemp', 'stuck', 'macdo', 'unc', 'bizarre', 'genève', 'hollandaise', 'josefstadt', 'awef', 'florentine', '2004', 'ivo', 'nodee', 'cyre', 'wandsworth', 'serice', 'humus', 'must', 'replacement', 'nirvana', 'choose', 'anywhe', 'rulz', 'these', 'sandiwch', 'mmmhhhhh', 'sexy', 'süd', 'norhing', 'allergies', 'righ', 'madrileña', 'junk', 'flagship', 'm', 'mindblowing', 'sangr', 'souvlaki', 'somethinge', 'ab_comments', 'dri', 'immediately', 'lal', 'jernets', 'hotspot', 'fantasctic', 'chic', 'alvalade', 'difficult', 'disturbing', 'razor', 'carmen', 'sandwicherie', 'arrogance', 'cheeks', 'somewh', 'eric', 'restutant', 'mediteranean', 'civilized', 'buffalo', 'overly', 'snacking', 'powder', 'absolut', 'bangladesh', 'market', 'beside', 'hipsters', 'teething', 'elsalad', 'before', 'curio', 'restauraunt', 'cluttered', '18th', 'barroque', 'itself', 'interiors', 'verona', 'vegetables', 'diegan', 'eats', 'grands', 'moin', 'exquisite', 'mai', 'shaanxi', 'wonderfull', 'lac', 'atmosfeer', 'boatmen', 'connois', 'diamond', 'músic', 'bed', 'currywrust', 'traditio', 'starting', 'aurport', 'bernini', 'souvilaki', 'remortgage', 'tiramisú', 'blonde', 'cebada', 'properly', 'centrale', 'syrian', 'caffé', 'beirut', 'singer', 'excellend', 'smokehouse', 'tolerant', 'exac', 'thrilled', 'aldo', 'illegal', 'discrete', 'impr', 'sugarfree', 'message', 'tasted', 'cappy', 'b4', 'run', 'flying', 'souther', 'formel', 'breweria', 'havin', 'cullinair', 'mme', 'preço', 'moeny', 'dawn', 'styl', 'tony', 'aficionado', 'disappoints', 'magical', 'attention', 'rufino', 'soft', 'rahlstedt', 'restau', 'unter', 'shameless', 'brussel', 'divinia', 'godfrey', 'dame', 'mouraria', 'schnitt', 'valued', 'niceee', 'remembered', 'deliveroo', 'superrrrrrrr', 'wouldnt', 'bok', 'bur', 'tout', 'galega', 'dunckerstras', 'bean', 'chan', 'byod', 'habitat', 'libations', 'chose', 'simplebut', 'pleasantl', 'shanz', 'evolving', 'ond', 'steamy', 'waitor', '10th', 'favourite', 'arroios', 'medioc', 'lasagne', 'stress', 'kopen', 'retrouvaillles', 'halvan', 'italien', 'secrets', 'messy', 'karlap', 'varying', 'ralls', 'recommen', 'dafe', 'sushifest', 'watchin', 'native', 'montmartr', 't3', 'smörebröd', 'reasonby', 'insulin', 'coral', 'robaran', 'masqmenos', 'splendiferous', 'maki', 'attentive', 'ever', 'sly', 'langos', 'pkace', 'gimmicky', 'friedenau', 'ouskirts', 'pad', 'diinner', 'robata', 'pahempaakin', 'firm', 'sunken', 'awesone', 'forced', 'greate', 'standards', 'appreciable', 'mature', 'permanentl', 'danc', 'tin', 'rack', 'spitalfields', 'patsy', 'ordinairy', 'larmes', 'nile', 'felt', 'disaster', 'thankfully', 'neon', 'fish', 'happyhour', 'nikolassee', 'supricingly', 'mc', 'curiosity', 'sid', 'hit', 'arsenal', 'hungover', 'geaam', 'invite', 'amster', '70th', 'adi', 'trully', 'mone', 'horní', 'piccadilli', 'bein', 'fletcher', 'hoof', 'okinawa', 'hornsey', 'pedrera', 'accompan', 'refuge', 'mains', 'acceptab', 'offeri', 'grodzka', 'oj', 'apartments', 'morrocan', 'expen', 'vry', 'placed', 'testing', 'jardin', 'view', 'dîner', 'interestin', 'approximative', 'least', 'invitation', 'costly', 'reall', 'french', 'madness', 'russia', 'seibels', 'curiou', 'experiense', 'vicky', 'orchids', '5th', 'loving', 'competition', 'crash', 'rang', 'ladiva', 'myself', 'wunderschön', 'experimenting', 'winde', 'bells', 'collegues', 'trashy', 'shady', 'try', 'lifelong', 'defini', 'noice', 'affordabl', 'competative', '9pm', 'petty', 'sushis', 'yellow', 'impressively', 'struggles', 'bifana', 'roulette', 'poten', 'thieves', 'bygone', 'enormous', 'serious', 'plaque', 'fitzrovia', 'weight', 'finnochio', 'knowledge', 'katzenjammer', 'reservations', 'sup', 'rid', 'cousine', 'combination', 'neighbours', 'picture', 'halles', 'cute', 'ok', 'surprise', 'winter', 'creekstone', 'pork', 'hki', 'plum', 'bilal', 'cripsy', 'papryczki', 'trailer', 'tiramis', 'faci', 'spelunke', 'lpq', 'shack', 'entrance', 'selecti', 'brews', 'bernabéu', '1930', 'nikkei', 'rezident', 'few', 'characterfull', 'tartines', 'affordability', 'ehh', 'tricky', 'sarka', 'necessarily', 'issues', 'moderate', 'walls', 'guter', 'adde', 'linen', 'mediamanga', 'noody', 'drawbacks', 'cantonese', 'annual', 'aperitiu', 'iris', '6th', 'americans', 'stag', 'joseph', 'disrespect', 'battersea', 'cockroach', 'dank', 'ambition', 'avec', 'julbord9', 'smoked', 'specialists', 'sympatic', 'bac', 'baklawa', 'sk', 'pop', 'sim', 'hambu', 'rom', 'filling', 'shabby', 'used', 'dose', 'breather', 'plays', 'tastefully', 'divinity', 'okay', 'gravious', 'hammered', 'raut', 'useless', 'zollhaus', 'pek', 'furniture', 'peruvia', 'served', 'deven', 'should', '2016', 'torn', 'astonishing', 'galgeberg', 'hawaiian', 'national', 'gastromique', 'vrooooommmmmm', 'dee', 'known', 'gorgeously', 'bartender', 'argentin', 'la', 'quizzically', 'danger', 'fast', 'eggscellent', 'sourced', 'dead', 'found', 'sourdough', 'required', 'pickled', 'wea', 'arrival', 'nørrebro', 'beaubourg', 'jacks', 'song', 'tikki', 'kiddos', 'carbohydrate', 'queer', 'unpretentious', 'hyvä', 'wings', 'dismissive', 'bocconi', 'convincing', 'succes', 'yaafa', 'obed', 'milieu', 'gap', 'sh', 'kitchen', 'custom', 'gin', 'ita', 'mwah', 'klopa', 'légère', 'boston', 'pulgas', 'maillol', 'brasov', 'monument', 'picnic', 'graces', 'dans', 'carbonara', 'leisure', 'exists', 'wheat', 'airplane', 'gelatinous', 'drooling', 'sparks', 'avarage', 'colder', 'description', 'falafels', 'wimpy', 'chats', 'philharmonic', 'sainsbury', 'presentable', 'when', 'sweetbreads', 'ashnik', 'week', 'boarders', 'machines', 'noth', 'porte', 'dfds', 'compare', 'dish', 'hastily', 'ive', 'remotely', 'norske', 'passed', 'pifko', 'prenestino', 'ramses', 'liguini', 'paradize', 'focusing', 'promenade', 'copen', 'sommer', 'takeawsy', 'poble', 'student', 'champangenoteque', 'crop', 'eccezionale', 'osteria', 'hours', 'money', 'husa', 'devolution', 'arc', 'perfecly', 'offhand', 'diverse', 'decieve', 'barley', 'cost', 'outstandin', 'race', 'min', 'byoc', '非常棒的店', 'blue', 'campo', 'badalhoca', 'fruits', 'ridiculously', 'typlical', 'andr', 'rodízio', 'ext', 'acropolis', 'parco', 'laptop', 'smallest', 'pitstop', 'struck', 'marron', 'uuuu', 'dedication', 'wobderful', 'thus', 'outsta', 'walkers', 'phantastic', 'croix', 'helpi', 'revamped', 'katherine', 'hamburguesa', 'sagrada', 'supporting', 'veganize', 'smoothie', 'eccentrically', 'woke', 'sneaking', 'espected', 'dekecious', 'saviors', 'riverside', 'shor', 'stokoe', 'wembley', 'delighthful', 'during', 'nyc', 'quant', 'urugay', 'hamburgers', 'enjoy', 'pessimists', '맛있음', 'perfecta', 'tiring', 'trevi', 'construction', 'crispy', 'vietn', 'grubby', 'fans', 'galore', 'horakove', 'blond', 'manko', 'tre', 'vs', 'whooper', 'buenas', 'depends', 'eritrea', 'tandoori', 'choises', 'nickel', 'aperativo', 'forth', 'uunisaari', 'palatable', '_', 'winery', 'sangria', 'disapointed', 'brig', 'oishii', 'jiro', 'honey', 'jotas', 'sanguches', 'stoneplate', 'lover', 'vibey', 'snack', 'angry', 'royale', 'descripti', 'affortable', 'bet', 'oldtimer', 'tortello', 'staffed', 'delight', 'linguini', 'pompidue', 'sculpture', 'lamb', 'kheili', 'gärtnerplatz', 'carefull', 'ken', 'medicore', 'wabi', 'scallop', 'americano', 'kroketten', 'winterhude', 'discove', 'merci', 'lavapiés', 'frankfurts', 'survivor', 'schaffhauserplatz', 'stems', 'cuisineand', 'onces', 'kno', 'grandeee', 'brexiteers', 'piemontese', 'bisamberg', 'cuba', 'colourful', 'gizzards', 'mucho', 'qick', 'vegg', 'consistent', 'dau', 'listen', 'pieces', 'kp', 'stories', 'recipe', 'red', 'bolo', 'centrum', 'putting', 'might', 'workmans', 'hect', 'saved', 'bar', 'nooo', 'bolete', 'pretzels', 'dont', 'planet', 'restaturang', 'masterclass', 'microwbrewed', 'herttoniemi', 'rolles', 'ron', 'shops', 'marinade', 'deleted', 'marty', 'spotless', 'refinement', 'failure', 'meringue', 'mest', 'hive', 'jala', 'thant', 'truth', 'boulevard', 'margaritas', 'buying', 'gaming', 'finnish', 'allonge', 'outstanding', 'sense', 'esther', 'party', 'monday', 'ceo', 'juast', 'praha', 'buildin', 'crappiest', 'lobsterssss', 'avarge', 'op', 'coffeehouse', '東西好吃又便宜', 'circus', 'renamed', 'delicate', 'ku', 'sangaz', 'charme', 'hotpot', 'indigenous', 'python', 'iut', 'tenderlion', 'farmers', 'buried', 'solari', 'portello', 'pulp', 'definetly', 'enviro', 'familiar', 'weak', 'cu', 'southfields', 'purely', 'tokio', 'slam', 'enfield', 'rec23', 'frame', 'disapponiting', 'rumbly', 'costs', 'intelligent', 'comb', 'chippy', 'disappo', 'looked', 'bisro', 'dutch', 'chairs', 'cooking', 'chips', 'areas', 'hackney', 'came', 'variaty', 'impressing', 'italo', 'than', 'shellfish', 'crowds', 'attitud', 'downs', 'focus', 'mixup', 'bovisa', 'domino', 'argumentive', 'chouroos', 'ouate', 'mangiare', 'nest', 'conveyor', 'út', 'midlle', 'tooting', 'overcrowded', 'powerfood', 'absolute', 'bentos', 'bufe', 'popped', 'prezzo', 'tummy', 'impotrtant', 'pitshanger', '14eur', 'steaks', 'television', 'oslo', 'minuses', 'ready', 'courage', 'murrayfield', 'most', 'douche', 'cappauccino', 'flaneur', 'zing', 'accidental', 'shoul', 'marred', 'pepper', 'apolo', 'largest', 'miracles', 'beet', 'familia', 'seek', 'oblige', 'smallauthentic', 'kolaches', 'sa', 'crowde', 'bitterballs', 'littl', 'museu', 'aroma', 'restauration', 'nymphenburg', 'hospitalit', 'pain', 'settings', 'bread', 'paulette', 'planned', 'kings', 'îl', 'alto', 'einkaufszentrum', 'frog', 'ramblas', 'indefinite', 'addict', 'gave', 'iate', 'sightseeing', 'brûlée', 'atmosphear', 'pi', 'nos', 'pelmeni', 'saweeeeet', 'amazon', 'cui', 'prepared', 'burritos', 'kælder', 'extremelly', 'professionality', 'eel', 'disappoinment', 'strand', 'kikapcsolódásra', 'hung', 'dépaysant', 'smokings', 'scones', 'updated', 'ended', 'paying', 'unoriginal', 'diavola', 'gazing', 'argentina', 'christophe', 'gourm', 'ride', 'majos', 'scratch', 'menus', 'tennis', 'handling', 'kyoto', 'saraj', 'supply', 'foget', 'insulting', 'frites', 'brown', 'vi', 'unaffected', 'exec', 'grou', 'wien', 'inoffensive', 'fanatics', 'shisha', 'aligot', 'copenh', 'hero', 'miss', 'sportive', 'cus', 'tiergarten', 'dam', 'fulh', 'looks', 'soda', 'susi', 'pistachio', 'bagelstein', 'expe', 'tikiest', 'visited', 'sixty', 'cally', 'musical', 'ružin', 'aperit', 'include', 'movem', 'randy', 'augustiner', 'donut', 'herehungry', 'fantasstic', 'makhani', 'sherwell', 'excelletn', 'grip', 'patiss', 'bambubox', 'jídlo', 'nineteenth', 'panzerotti', 'innovative', 'grill', '1966', 'alley', 'knowl', 'charcuterie', 'whoa', 'bearing', 'bea', 'cloud', 'hospitalty', 'wawaw', 'skvělé', 'dobos', 'fronts', 'a', 'smoky', 'kneipe', 'technical', 'attached', 'gentlemens', 'station', 'citycenter', 'neibourhood', 'geffrye', 'kiraly', 'felicita', 'nepalase', 'image', 'awy', 'athe', 'cavendish', 'frantic', 'acclaimed', 'breackfast', 'flagey', 'quiche', 'ravintola', 'hide', 'banging', 'especi', 'meatlover', 'porter', 'criminal', 'rosé', 'mitralliettes', 'henssler', '28', 'llauna', 'mexicaine', 'mezes', 'bonjour', 'definitely', 'pleace', 'uncommercial', '11', 'od', 'vodka', 'betty', 'nuggets', 'nº', 'luch', 'vysehrad', 'vegetable', 'conditions', 'reccomended', 'df', 'basket', 'bocadillo', 'enought', 'indian', 'sho', 'witho', 'bunny', 'st', 'scrumptious', 'identity', 'meehheee', 'creole', 'judy', 'tabeaway', 'bons', 'fritas', '33', 'naturels', 'snobb', 'cosiness', 'poeblo', 'sou', 'monkey', 'cler', 'flan', 'damrak', 'affair', 'bowling', 'yum', 'birre', 'chai', 'bavarían', 'belove', 'concenpt', 'accepts', 'burrito', 'canary', 'woods', 'lunchroom', 'beautifully', 'weekdays', 'punjabi', 'fortnightly', 'wondersful', 'browns', 'barrier', 'siew', 'ely', 'zurich', 'oi', 'effort', 'police', 'alcoholic', 'strategic', 'tuerie', 'portio', 'guests', 'sanai', 'pastellaria', 'itinerary', 'nieumarkt', 'painel', 'cibo', 'seafois', 'surprsingly', 'bystro', 'babaganoush', 'traveler', 'beauty', 'peckham', 'past', 'cautious', 'lillian', 'ij', 'occasional', 'oils', 'absolutely', 'momazing', 'vod', 'birayani', 'dishi', 'each', 'warmful', 'balkanic', 'imoressed', 'famously', 'goodbye', 'donate', 'pretty', 'pets', 'liban', 'folk', 'verdes', 'redlight', 'carotte', 'rank', 'awfully', 'b96', 'distan', 'desk', 'deflated', 'relation', 'assertive', 'wing', 'nibbles', 'waffle', 'jianqxi', 'enjoys', 'dashed', 'plak', 'galeries', 'рекомендую', 'rasonable', 'briyani', 'tartan', 'lodged', 'huge', 'soane', 'buckin', 'enigma', 'sack', 'jed', 'αξιολογηση', 'dog', 'corso', 'estofado', 'relaxi', 'edel', 'becerra', 'homeland', 'dubli', 'disgusting', 'estava', 'grear', 'humlegå', 'ta', 'cheesecakes', 'dance', 'profiteers', 'senegal', 'reuben', 'tappas', 'comfortable', 'umcomplicated', 'eastern', 'abba', 'minor', 'expect', 'kabobs', 'tuscany', 'australian', 'yay', 'links', 'hering', 'quali', 'exmouth', 'gastronomie', 'napolitan', 'overestimated', 'luuvveerrllyy', 'brunnermarkt', 'agressive', 'chargers', 'mussels', 'shift', 'todos', 'out', 'adaptable', 'thei', 'anxiety', 'bruxelles', 'performa', 'voyage', 'disappoi', 'hammer', 'fasion', 'les', 'channel', 'historical', 'terms', 'imagination', 'ore', 'homecooking', 'hello', 'homogenous', 'smiling', 'pomm', 'élys', 'unwelcome', 'slovak', 'blo', 'hil', 'breakfasting', 'treated', 'parilla', 'mangia', 'excellen', 'qualified', 'not', 'venice', 'zaza', 'under', 'lazare', 'illy', 'recommanded', 'soulless', 'chee', 'standard', 'fabr', 'anniversar', 'solln', 'pratolina', 'supermarkey', 'fant', 'his', 'lolo', 'schwabing', 'alumni', 'res', 'multiple', 'particularly', 'man', 'slightl', 'chill', 'chatas', 'aamiainen', 'hafen', 'comedie', 'hap', 'shambolic', 'shani', 'orsay', 'fod', 'asap', 'menune', 'ibis', 'my', 'taasty', 'disapointing', 'fancy', 'fitting', 'hauptbahnhof', 'diversity', 'zelf', 'maraias', 'samosa', 'colors', 'auderghem', 'random', 'conceot', 'classicism', 'factor', 'closures', 'bathroom', 'restyling', 'hided', 'graca', 'sandwishe', 'selfservice', 'cocktails', 'fremragende', 'overall', 'julian', 'plenty', 'bottle', 'sommes', 'pwresented', 'space', 'interestingly', 'refreshments', 'agreeably', 'eu', 'seat', 'crussh', 'deliv', 'gread', 'anf', 'homeish', 'overrated', 'carre', 'tender', 'spitze', 'choppy', 'operative', 'produits', 'asked', 'plus', 'pickle', 'seemed', 'prag', 'nothin', 'unf', 'moldavian', 'friedrichshain', 'beginning', 'walthamstow', 'dealt', 'qualitative', 'function', 'among', 'popelky', 'stables', 'tuesday', 'foodhall', 'mejores', '29', 'beverages', 'buses', 'mackerel', 'moules', 'fishes', 'arabian', 'disconcerting', 'terminado', 'unite', 'bi', 'fabada', 'percent', 'do', 'accuracy', 'grandma', 'landor', 'sign', 'awaits', 'lombo', 'soulful', 'supe', 'evreg', 'color', 'rubbish', 'galett', 'carpaccio', 'marvel', 'das', 'mono', 'orxata', 'marques', 'automated', 'spor', 'donegal', 'hadn', 'cheddar', 'sorina', 'policy', 'raining', 'ocakbasi', 'disent', 'false', 'float', 'og', 'other', 'timo', 'nutella', 'sympathy', 'leaf', 'cukrarna', 'kuma', 'tartufo', 'londo', 'medical', 'rafael', 'someo', 'unspoiled', 'barberini', 'upscale', 'tete', 'lyi', 'disappointingly', 'degrengolada', 'hut', 'patatas', 'alternatives', 'capital', 'gorgeos', 'frosty', 'deserts', 'eva', 'touc', 'sold', 'maintenance', 'herring', 'xmass', '60', 'bahnoff', 'kurier', 'motown', 'mess', 'stunningly', 'busine', 'carve', 'vouchers', 'elementary', 'prett', 'elysees', 'florentin', 'fren', 'kentucky', 'media', 'saturdate', 'summertime', 'george', 'catalunya', 'separated', 'simrer', 'suprised', 'sleek', 'assorted', 'pianist', 'patrons', 'pitoresque', 'cookie', 'fond', 'tjuvholmen', 'kermarmil', 'neighborly', 'superbly', 'chec', 'délicieux', 'pozor', 'deplorable', 'exi', 'starts', 'ration', 'curiously', 'didnt', 'wooden', 'access', 'tallaght', 'running', 'suitable', 'stalen', 'malísimo', 'decen', 'bacal', 'future', 'napoletana', 'neither', 'parlor', 'sue', 'started', 'dim', 'woefu', 'breakfatst', 'inadequate', 'borttarga', 'feelings', 'bhuna', 'fromage', 'espanya', 'santa', 'sooooo', 'tagliatelle', 'need', 'misguide', 'saturday', 'brassai', 'resaurants', 'summers', 'edinburgh', 'minimalist', 'resturants', 'blocks', 'biz', 'catalán', 'coff', 'ambassade', 'evenings', 'inventivity', 'coalescare', 'quesadilla', 'clot', 'occasions', 'wowsers', 'morden', 'january', 'booking', 'gines', 'mangoshake', 'wmo', 'pineapple', 'mickey', 'laden', 'renovated', 'bourough', 'cats', 'skehans', 'brazilia', 'ot', 'coliss', 'charcutterie', 'desperate', 'test', 'cokes', 'inverse', 'nno', 'bolt', 'swirls', 'ugg', 'clooney', 'dorado', 'anglo', 'language', 'fritz', 'owner', 'delayed', 'overview', 'racelette', 'stockholm', 'ambi', 'prefect', 'streetbeer', 'squa', 'pssssst', 'warszaw', 'burek', '1000', 'mixte', 'weiner', 'icecreams', 'disasterous', 'fenton', 'khilkhali', 'terrifying', 'catelan', 'plat', 'years', 'frinedly', 'brunc', 'biers', 'n', 'one', 'stressed', 'casiual', 'facilities', 'waistl', 'lunsj', 'success', 'são', 'unparalleled', 'unexpensive', 'appearances', 'ružinove', 'sale', 'preprared', 'court', 'dress', 'geltao', 'everyd', 'pulpo', 'para', 'vibran', 'gigantic', 'chamartin', 'aisan', 'salt', 'hospitality', 'exem', 'döner', 'kick', 'yep', 'differ', 'blazing', 'store', 'ugandan', 'embedded', 'vegetar', 'snobby', 'tajine', 'chipper', 'thick', 'abundant', 'bak', 'located', 'whisky', 'gall', 'asiatique', 'insanely', 'rough', '619', 'conected', 'scale', 'delicetessen', 'athen', 'focacce', 'footy', 'friendy', 'orgasmic', 'dimanche', 'comedy', 'saborear', 'shrimp', 'vile', 'principally', 'celebrate', 'élégant', 'probably', 'litte', 'invisible', 'justified', 'cheeseparing', 'industry', 'amore', 'ethiopean', 'peculiar', 'coffie', 'situation', 'bontà', 'heath', 'macaroons', 'mrl', 'falaffel', 'emporter', 'sllw', 'cracow', 'never', 'choo', 'edmonton', 'rewarded', 'gallipoli', 'wanderlust', 'iranian', 'causal', 'cusisine', 'focal', 'nazi', 'spice', 'awes', 'prior', 'tate', 'carne', 'cup', 'billard', 'expert', 'baba', 'gastropub', 'rodney', 'portugal', 'encounter', 'duke', 'overrate', 'sun', 'tortillas', 'bringing', 'milan', 'fromages', 'newish', 'attendants', 'communist', 'alone', 'crèpes', 'verdant', 'gastronomy', 'window', 'frais', 'oinovasilemata', 'passage', 'reastaurent', 'jamais', 'ambienc', 'kilburn', 'goodservice', 'sepcial', 'miel', 'une', 'lavely', 'kigawa', 'canceled', 'tec', 'born', 'caught', 'pass', 'path', 'style', 'hiphop', 'battle', 'neills', 'christchurch', 'decidedly', 'pier', 'menue', 'paced', 'thé', 'chaotically', 'clair', 'epitome', 'missing', 'group', 'leopoldplatz', 'salon', 'thre', 'ha', 'mijden', 'consisten', 'mer', 'atmophe', 'reso', 'wienerschnitzel', 'klidné', 'moroccan', 'lon', 'bat', 'heads', 'quadro', 'strip', 'gazebo', 'unremarkable', 'done', 'efficient', 'muffin', 'dismal', 'dirt', 'biryani', 'however', 'others', 'harris', 'england', 'pm', 'readon', 'deer', 'anrufen', 'ants', 'seeks', 'teufelsberg', 'overlook', 'angus', 'naan', 'ljubljana', 'froid', 'soot', 'girona', 'victorian', 'heights', 'worthed', 'slnko', 'drive', 'moorgate', 'stations', 'rick', 'joe', 'exploring', 'courses', 'nouvelle', 'photos', 'power', 'cityscape', 'lennon', 'malisimo', 'mega', 'saaaaaaaaaalty', 'whils', 'paradise', 'bowles', 'norvegian', 'sooner', 'cantin', 'samira', 'foodporn', 'fort', 'σουβλάκια', 'ty', 'amb', 'kuep', 'famed', 'chea', 'stock', 'stupid', 'paid', 'severely', 'decaf', 'schoneberg', 'wilmersdorf', 'quck', 'pâtisserie', 'sauna', 'comeda', 'returned', 'terrasse', 'singers', 'supplements', 'treat', 'reserva', 'torino', 'algo', 'runs', 'cannelloni', 'dedicated', 'studi', 'fifty', 'gold', 'lse', 'yeas', 'informality', 'yakiniku', 'bellow', 'suburb', 'seevice', 'cachapas', 'guitar', 'europa', 'soggy', 'premises', 'bistronomique', 'brill', 'omnom', 'pots', 'nice', 'packed', 'worh', 'rispetto', 'will', 'artificial', 'harleys', 'bap', 'gill', 'gteat', 'preferate', 'ossobuco', 'surly', 'euro', 'atmospheri', 'pallet', 'reasonnable', 'brody', 'solidarity', 'piace', 'arancini', 'discusting', 'bes', 'bishop', 'limm', 'ital', 'peterstrasse', 'moderately', 'niu', 'approach', 'leading', 'formal', 'ricas', 'saltnpepa', 'wein', 'feb', 'unappetising', 'famili', 'hea', 'orsini', 'mood', 'somethin', 'bruno', 'horses', 'moreda', 'instant', 'mostly', 'zum', 'shhh', 'fishing', 'anne', 'lorenzo', 'mouthwash', 'ponyvaregény', 'pretentious', 'eateries', 'quicker', 'utility', 'senator', 'presentation', 'migliore', 'force', 'britons', 'musician', 'pairing', 'tonics', 'mouthful', 'shank', 'briefly', 'havent', 'étterem', 'eels', 'kabat', 'scenic', 'pizzas', 'spr', 'pa', 'plane', 'appears', 'staropramen', 'txoko', 'ab', 'appetiser', 'husmanskost', 'karl', 'saxop', 'espaço', 'entr', 'meloncello', 'tablas', 'crowded', 'delarte', 'shari', 'septemb', 'adrianos', 'steeper', 'steakhouse', 'tuscan', 'entrecôte', 'perfecton', 'rive', 'boyfriend', 'leadenhal', 'unclear', 'hospitali', 'mitte', 'cathal', 'excekkent', 'silvester', 'putney', 'bom', 'megapark', 'ginger', 'arrives', 'wigs', 'aversge', 'intention', 'reser', 'care', 'deptford', 'insulted', 'snackbar', 'francesco', 'trocader', 'cakanie', 'bugnes', 'hair', 'nick', 'types', 'loses', 'fee', 'pommes', 'xtmas', 'münchen', 'elephant', 'funky', 'lit', 'pleas', 'cappuccino', 'envi', 'artisana', 'cancellation', 'durum', 'functi', '02', 'soi', 'petiscos', 'dropped', 'nations', 'personalized', 'dnes', 'presente', 'pretzel', 'uneven', 'história', 'smells', 'lisboan', 'cheapest', 'ralf', 'roundabout', 'redecorated', 'wife', 'tsiknopempti', 'revised', 'amy', 'nigiri', 'organization', 'tinto', 'wordbook', 'impression', 'outing', 'moments', 'ms', 'revolutionary', 'yards', 'ocean', 'wonderland', 'makeover', 'raised', 'flowing', 'aviv', 'communications', 'concoctions', 'hoc', 'lovelier', 'bca', 'delicuous', 'fiid', 'bradzo', 'bull', 'its', 'setti', 'dalston', 'oven', 'yeap', 'sandwishes', 'lemke', 'hels', 'loaded', 'wonton', 'helped', 'nápoles', 'fram', 'stra', 'balabar', 'changes', 'goodie', 'healthier', 'mamusca', 'abundance', 'bespoke', 'element', 'gears', 'origin', 'ceny', 'common', 'currybond', 'constitution', 'scoring', 'cvapcici', 'eaten', 'number', 'mass', 'mala', 'paradeplatz', 'cinderella', 'file', 'perogi', 'white', 'anything', 'comfor', 'downgraded', 'phenomenal', 'sausage', 'obsession', 'stroganoff', 'surp', 'bunch', 'preferred', 'budapest', 'off', 'entered', 'lovingly', 'terroir', 'up', 'granted', 'plzen', 'ahh', 'cakes', 'cambwewell', 'miam', 'unimpressible', 'chara', 'nan', 'fancied', 'kitchem', 'sloooow', 'quand', 'fregula', 'calmer', 'colisee', 'sox', 'sharon', 'delicianno', 'funtime', 'wild', 'frederiksberg', 'separa', 'partnership', 'yppenplatz', 'centre', 'breil', 'over', 'geek', 'highl', 'tap', 'fat', 'precious', 'reccomend', 'bird', 'leave', 'splurging', 'semla', 'die', 'tradicional', 'doner', 'oktoberest', 'bufala', 'assisting', 'caporte', 'così', 'flute', 'resraurant', 'barrel', 'wholesom', 'avesge', 'carnivore', 'delectable', 'folklore', 'once', 'sundbyberg', 'establi', 'batucada', 'honor', 'arena', 'amiable', 'conveniently', 'agency', 'chacuterie', 'teriyaki', 'advisor', 'category', 'loveley', 'atmasphere', 'gratin', 'recently', 'prejudices', 'theme', 'repu', 'stockel', 'bay', 'potrefena', 'lastest', 'ppl', 'loveliest', 'nishikori', 'homade', 'tomar', 'ethiopian', 'somet', 'atrium', 'complet', '732', 'mansion', 'polenta', 'sandw', 'plaça', 'memorabi', 'norwegian', 'grea', 'respite', 'grenelle', 'teckel', 'vitoria', 'pimlico', 'brewer', 'homely', 'quay', 'pollera', 'bittersweet', 'competent', 'slowest', 'referred', 'complimentary', 'escape', 'rate', 'count', 'sorted', 'était', 'empire', 'lamps', 'offers', 'com', 'horribl', 'tempted', 'lev', 'else', 'gallic', 'racist', 'acerage', 'refreshment', 'fois', 'portions', 'drimnagh', 'darling', 'schweinshaxe', 'cenaculo', 'servicio', 'comprehensive', 'pancakes', 'meatfeast', 'del', 'proprietor', 'invented', 'ac', 'authentically', 'bloody', 'communicat', 'liceo', 'luxe', 'breaki', 'seasonal', 'cre', 'plastikowe', 'stat', 'higly', 'vecerne', 'vitamins', 'wasted', 'afyer', 'shots', 'thursday', 'agood', 'delucious', 'swets', 'yankee', 'eng', 'malinami', '23', 'hotes', 'mobilephone', 'sandiches', 'coffeeplace', 'idolcidichecco', 'nore', 'macaroni', 'doughnuts', 'roommate', 'servie', 'motercyc', 'limón', 'friedrichschain', 'consc', 'improve', 'mae', 'maxi', 'rescued', 'faubourg', 'perhaps', 'mud', 'thailand', '2929', 'cypriot', 'vantage', 'cou', 'wha', 'fright', 'muitè', 'sunshine', 'lord', 'ban', 'ultra', 'popcorn', 'distinctly', 'yip', 'cheaper', 'conce', 'flavoured', 'unigue', 'alan', 'agree', 'bott', 'orgazem', 'dalry', 'phoencian', 'outdo', 'badly', 'talented', 'pastri', 'tufnell', 'laidback', 'superlative', 'update', 'gracht', 'reinvention', 'mi', 'lobby', 'lot', 'opt', 'jorge', 'bal', 'stellar', 'smelly', 'untouristy', 'ivorian', 'bieber', 'course', 'hygiene', 'moshiburger', 'stracciatella', 'mayh', 'guitarist', 'mouth', 'fs2', 'reunionese', 'piolho', 'exquis', 'cone', 'wierd', 'appauling', 'ceremony', 'traps', 'jiten', 'customizable', 'kamy', 'nabil', 'cheesecake', 'employ', 'halo', 'xx', 'beir', 'foul', 'quintessential', 'mariscos', 'recemmended', 'neapolitan', 'cerdo', 'lead', 'noms', 'teppanyaki', 'trast', 'fruit', 'atmoshphere', 'quizz', 'vida', 'gotic', 'greats', 'rite', 'chicago', 'needy', '3arena', 'savior', 'toms', 'συγκινητικο', 'oki', 'mout', 'private', 'penang', 'vientnamese', 'stil', 'bosco', 'kleftiko', 'list', 'infromal', 'birds', 'presid', 'marrio', 'spot', 'seda', 'bodeans', 'dingey', 'pepe', 'favorite', 'nife', 'und', 'me', 'sisha', 'amanzing', 'blowing', 'dahba', 'elbow', 'aftern', 'rarely', 'tonda', 'exprience', 'fave', 'martini', 'balls', 'guards', 'point', 'leadenhall', 'harry', 'tertible', 'trusted', 'halloween', 'brisk', 'awa', 'botanica', 'wilfred', 'set', 'ehhh', 'bettet', 'greec', 'melts', 'seated', 'queijo', 'turns', 'patio', 'matured', 'beergarden', 'alleyway', 'cofffebreak', 'global', 'patience', 'customer', 'gemma', 'nollendorf', 'ouzo', 'raccomandato', 'maukasta', 'refreshing', 'monellies', 'pale', 'mura', 'arqutiecture', 'campanile', 'auction', 'ketchup', 'mezze', '104', 'olso', 'awsy', 'tum', 'educate', 'coul', 'guiness', 'homelike', 'cichetti', 'birthdays', 'cervejaria', 'entertainment', 'mitaska', 'somewhat', 'outsiders', 'piza', 'pakist', 'rustic', 'appetisers', 'tatar', 'and', 'zézigue', 'business', 'amass', 'superdeliciousness', 'verry', 'expectación', 'fin', 'menuiere', 'dj', 'breed', 'tendency', 'pau', 'spots', 'kerbab', 'ratio', 'precio', 'mat', 'risto', 'preservative', 'shandy', 'foo', 'catalonia', 'twas', 'smiths', 'barista', 'corsega', 'bottom', 'handle', 'hilarious', 'grow', 'calore', 'dice', 'dårlig', 'dai', 'choiche', 'dried', 'opinion', 'tøye', 'jon', 'wind', 'ways', 'iron', 'delicius', 'delft', 'museo', 'rule', 'garibaldi', 'accessible', 'watching', 'istanbul', 'se25', 'smell', 'epis', 'almost', '750ml', 'loacally', 'reaso', 'ten', 'turner', 'successful', 'trip', 'addicted', 'pompa', 'pricetag', 'hardly', 'surrounde', 'eh', 'finland', 'british', 'grail', 'graben', 'greatest', 'intolerances', 'tiramisù', 'versoix', 'amazinf', 'hookah', 'hemmingways', 'bratis', 'bizzare', 'more', 'mushroom', 'mini', 'cultures', 'carino', 'friedrichstrasse', 'norrtull', 'archipelago', 'fountain', 'kurfurst', 'pleasntlylow', 'pib', 'excepti', 'français', 'smettila', 'viktualienmarkt', 'minute', 'ballroom', 'launch', 'hanging', 'snappy', 'freaking', 'starter', 'ous', 'milanesa', 'bairro', 'otherwise', 'thirst', 'answer', 'unbel', 'colon', 'questo', 'massage', 'grocer', 'lucky', 'brot', 'pretending', 'inappropriate', 'evaaah', 'juices', 'cram', 'environ', 'coelho', 'specialty', 'dublin', 'fluffy', 'degrees', 'airy', 'gasteig', 'kidding', 'sempre', 'scandi', 'zebra', 'recommendation', 'groceries', 'bastille', 'accoglienza', 'traile', 'going', 'rib', 'tyrolean', 'arepa', 'lahmacun', 'noisy', 'nourishing', 'unsanitary', 'shobby', 'rocket', 'strength', 'japan', 'amst', 'crackin', 'eles', 'verage', 'galleries', 'ver', 'wave', 'mmmmmm', 'yummie', 'lokale', 'slab', 'eurostar', 'tropical', 'bonito', 'beginn', 'rush', 'vietnamese', 'lno', 'artcinebar', 'former', 'preciados', 'combinatio', 'everything', 'cinema', 'porridge', 'berlin', 'quic', 'sahimi', 'hreat', 'quelapis', 'classify', 'nutty', 'al', 'lebanese', 'panzo', 'cocteles', 'jule', 'mindful', 'fed', 'tray', 'yumm', 'enjoyed', 'eveni', 'agreed', 'fred', 'livi', 'minimum', 'phô', 'pruces', 'masses', '77', 'extremely', 'ahol', 'kanamit', 'execerlent', 'say', 'office', 'omega', 'vibe', 'elisabeth', 'hack', 'pizzzzaaaaaaa', 'flaminio', 'nevertheless', 'increíble', 'torre', 'mainstream', 'clothing', 'strange', 'words', 'neighboorhood', 'talkable', 'flu', 'southg', 'night', 'sneaky', 'provin', 'but', 'eaters', 'egyptians', 'bengali', 'madames', 'eiffel', 'bargain', 'bfast', 'parade', 'lankan', 'refualr', 'zeitgeist', 'birger', 'et', 'artfully', 'factors', 'firey', 'finding', 'cuisi', 'vojteh', 'intermittent', 'vosges', 'dal', 'oil', 'pere', 'cognoscenti', 'coosy', 'harbourside', 'liquer', 'plseant', 'amaizing', 'revisit', 'secure', 'vole', 'benelux', 'bao', 'tables', 'altra', 'mansplaining', 'thadua', 'terr', 'focaccia', 'imp', 'lobsters', 'supper', 'barrista', 'ubereats', 'allergen', 'meus', 'lean', 'suisse', 'tantalising', 'loction', 'quiz', 'queit', 'peek', 'basques', 'bologna', 'wraps', 'father', 'paninis', 'lotus', 'toilets', 'toni', 'steeped', 'viola', 'kong', 'sabores', 'wholesaler', 'comptoir', 'services', 'boiled', 'oreo', 'small', 'galleria', 'significant', 'mochi', 'suomenlinna', 'mcd', 'straightforward', 'apartment', 'breafast', 'interest', 'horizontal', 'stopped', 'jolie', 'pleasant', 'pizzéria', 'toast', 'grandi', 'dissapoints', 'panino', 'please', 'guinness', 'castle', 'economic', 'girlfriends', 'nw3', 'vous', 'za', 'hideaway', 'memorylane', 'woluwé', 'turtle', 'leidseplein', 'realised', 'comfort', 'llaollao', 'scran', 'portobello', 'gormet', 'generous', 'individual', 'letdown', 'early', 'tr', 'ev', 'siciliano', 'trainers', 'kouskous', 'haphazzard', 'mayhem', 'bercy', 'heaping', 'qauint', 'sur', 'mediocre', 'asians', 'surroundings', 'pleasent', 'vary', 'terra', 'treff', 'mexicano', 'palace', 'angie', 'greater', 'quesos', 'fui', 'bother', 'grim', 'almond', 'ist', 'ivy', 'newest', 'pta', 'tatties', 'chinatown', 'related', 'bobs', 'holiday', 'newly', 'underperfo', 'brighton', 'informat', 'lacklustre', 'coffeebreak', 'blonder', 'lyon', 'breakast', 'smörrebröd', 'sunny', 'catered', 'bordeaux', 'havnens', 'beac', 'vulgar', 'trapio', 'cannolo', 'enticing', 'habitues', 'churrasco', 'heartwarm', 'recomend', 'unfortunetly', 'mazamorra', '80ies', 'case', 'covering', 'poetry', 'as', 'lx', 'montorgueil', 'tomatoe', 'gone', 'varieties', 'taiwan', 'nigh', 'option', 'pleasat', 'quiet', 'upstairs', 'eigut', 'mouldy', 'department', 'kensington', 'tuesdays', 'aubergine', 'staying', 'information', 'sight', 'welcome', 'itsu', 'aesthetic', 'waiters', 'fingerfood', 'brunsch', 'rese', 'city', 'yi', 'hypest', 'awessome', 'silent', 'demand', 'smorrebrod', 'actio', 'fiori', 'eritrean', 'hula', 'tex', 'typisch', 'pljeskavica', 'concep', 'gunnels', 'pasties', 'yacks', 'heures', 'capu', 'sand', 'boardwalk', 'fellow', 'oktoberfest', 'polo', 'vatic', 'land', 'kg', 'sn', 'itslian', 'polvo', 'claridge', 'black', 'hockey', 'platters', 'unnecessary', 'glimpse', 'bretonne', 'knowle', 'cheek', 'dices', 'lil', 'stiking', 'valleh', 'parmesan', 'heunisch', 'sizeable', 'ecrin', 'loc', 'franceshina', 'hai', 'gripe', 'inside', 'streak', 'edamame', 'btc', 'nuts', 'descubr', 'pairings', 'qulity', 'alot', 'cleanliness', 'gezellig', 'mediocore', 'srvice', 'discoun', 'pick', 'acsess', 'conférant', 'trough', 'alberto', 'cassoulet', 'tast', 'coulant', 'posezení', 'btw', 'spare', 'balanced', 'flavorfull', 'outlet', 'owned', 'gallette', 'renewed', 'slovan', 'expectable', 'okejish', 'jervis', 'pocket', 'club', 'somehow', 'wanting', 'paellas', 'outdoors', 'brothers', 'hygie', 'talenti', 'proposals', 'cards', 'poke', 'speedy', 'affable', 'invarnation', 'keir', 'perfection', 'rottiserie', 'barbeque', 'trul', 'ebédmenü', 'lis', 'sava', 'puccino', 'yumminess', 'stepped', 'jo', 'fascinating', 'threw', 'marginal', 'col', 'accoustics', 'petnehazy', 'topppp', 'litote', 'machete', 'babuska', 'clam', 'poppers', 'triple', 'congrat', 'buena', 'ti', 'decades', 'iltakoulu', 'jui', 'youngs', 'marks', 'existed', 'zrh', 'marina', 'taaaaasty', 'year', 'soso', 'utca', 'authentique', 'bot', 'cent', 'snd', 'som', 'hence', 'clapham', 'venezuela', 'mornin', 'sirian', 'vaguely', 'winded', 'borshtch', 'caviar', 'cal', 'fuzz', 'healty', 'waking', 'apple', 'almagro', 'extroardinary', 'tor', 'help', 'arts', 'shocked', 'ambia', 'coffre', 'harrow', 'senconds', 'cad', 'extra', 'franki', 'adevnture', 'pentecost', 'play', 'lounge', 'nerundova', 'vieve', 'rela', 'columbus', 'banks', 'studenty', 'speedily', 'seasonings', 'trained', 'deafening', 'groove', 'folded', 'overated', 'entertaining', 'florist', 'tarantino', '1400', 'fifteen', 'bike', 'cerny', 'waterloo', 'points', 'crudo', 'phillipines', 'too', 'unbelievable', 'settle', 'tutti', 'grumpy', 'cargols', 'parallel', 'myers', 'amazi', 'harmony', 'dissaster', 'calcots', 'combo', 'nightlife', 'fondue', 'enforced', 'asturias', 'cafeti', 'cafe', 'owne', 'country', 'douro', 'punk', 'manager', 'associated', 'taglioni', 'kleber', 'tried', 'rud', 'sett', 'weatherspoons', 'champagnes', 'patty', 'restaurrant', 'rokin', 'peices', 'cardamom', 'middle', 'hum', 'tofu', 'hogmanay', 'civilization', 'loveaffair', 'koepenick', 'cake', 'ninkasi', 'turnaround', 'vu', 'briliant', 'redesign', 'thankful', 'bett', 're', 'aparthotel', 'biergarten', 'wintry', 'arctic', 'cafeteria', 'mojitos', 'smooth', 'njami', 'mixing', 'profiling', 'kirchber', 'opening', 'qua', 'hated', 'iit', 'takeaways', 'positives', 'cow', 'momo', 'liquid', 'daily', 'floor', 'rec', 'adverts', 'souce', 'speakeasy', 'potential', 'diasppointing', 'dalmatian', 'sami', 'campground', 'burning', 'evening', 'alberone', 'tgif', 'overpricing', 'pice', 'koshary', 'itali', 'fox', 'hotel', 'romantikus', 'satan', 'dayti', 'accessibl', '10pm', 'irresistible', 'vienn', 'kuchni', 'beverage', 'ne', 'wright', 'nien', 'ashton', 'atrocious', 'icon', 'porto', 'recommended', 'deliciuos', 'rocky', 'drink', 'spaniard', 'caterers', 'hippest', 'arrondi', 'both', 'local', 'republiky', 'actuall', 'boozer', 'pink', 'discount', 'obvious', '2barlounge', 'sans', 'beers', 'pairi', 'vicálvaro', 'remarcable', 'acr', 'quintissential', 'bon', 'driver', 'avoidable', 'nite', 'toasted', 'sipsmith', 'junction', 'ringing', 'scamed', 'palak', 'dinnner', 'beautiful', 'piccadilly', 'scarpetta', 'locations', 'representable', 'testy', 'booze', 'panther', 'pai', 'parlour', 'tavern', 'm10', 'martinho', 'wonderfully', 'sto', 'closure', 'bolhao', 'fell', 'skybar', 'hongkonger', 'freís', 'london', 'haunting', 'nyüzsgő', 'kallio', 'lee', 'round', 'desent', 'exstream', 'far', 'weird', 'fondu', 'worthwile', 'static', 'slice', 'incompetent', 'matter', 'reasonab', 'eficient', 'notting', 'weather', 'hens', 'elegan', 'fiancè', 'verging', 'delicacy', 'impecable', 'orée', 'bares', 'enamel', 'worm', 'bene', 'overnight', 'roti', 'cinnamon', 'ugh', 'wide', 'convinced', 'trio', 'dejeuner', 'phobia', 'súper', 'tomat', 'eggplant', 'nonna', 'cousin', 'imagined', 'ventilati', 'impolite', 'restaura', 'rewind', 'graduation', 'qualidade', 'makers', 'szechuan', 'bogenhausen', 'we', 'chueca', 'estupendo', 'stuffed', 'delay', 'tartares', 'bica', 'libaneese', 'deceits', 'khao', 'recomendation', 'shoppin', 'walth', 'clearly', 'lanesborough', 'tow', 'absolutel', 'ir', 'bamboocha', 'réunionese', 'denny', 'romana', 'tou', 'verdean', 'saucy', 'brisket', 'moon', 'fork', 'zen', 'lgbt', 'medjool', 'unimaginative', 'designed', 'su', '6pm', 'aw', 'schäbi', 'books', 'selfish', 'burla', 'revie', 'eagle1', 'barchetta', 'bistrô', 'everytime', 'oma', 'pedestr', 'farm', 'whole', 'mcdonalds', 'fishmarket', 'rivié', 'matching', 'avocado', 'paintings', 'wouldn', 'apology', 'posing', 'poori', 'boeuf', 'invariably', 'yet', 'environmen', 'ink', 'brew', 'aspects', 'bossy', 'fighting', 'croissa', 'ecological', 'auditor', 'tecza', 'invest', 'dominikanskie', 'eat', 'ratatouille', 'swedish', 'anatolian', 'weeknight', 'many', 'spirtz', 'lost', 'foot', 'proces', 'carry', 'halldis', 'recomendamos', 'wholsome', 'conveniet', 'profoundly', 'sergio', 'win', 'curt', 'goods', 'halifax', 'houmous', 'piggy', 'sje', 'strong', 'blame', 'na', 'wunderbar', 'vietnames', 'busines', 'wanted', 'range', 'cleaned', 'upside', 'accomidation', 'capone', '04th', 'gig', 'fahion', 'atte', 'tai', 'cleaner', 'ain', 'pricing', 'move', 'disappointin', 'trial', 'spi', 'sour', 'pregame', 'quality', 'twenty', 'yummmmmy', 'accommodated', 'londonon', 'slussen', 'o', 'outta', 'using', 'monopoly', 'sandich', 'unbelieveble', 'veramente', 'bruch', 'nudeles', '주인의', 'avinguda', 'certainly', 'ladies', 'aa', 'cortado', 'starred', 'board', 'besty', 'dinnee', '7', 'andalusia', 'butchery', 'champs', 'echt', 'plague', 'rat', 'supertasty', 'morocco', 'cospomopolitan', 'prefixed', 'querky', 'informal', 'vui', 'fulfilling', 'absoloutley', 'microonde', 'fawlty', 'goose', 'marche', 'perches', 'salamanca', 'bistro', 'superbe', 'optimism', 'touristy', 'rastro', 'chaot', 'ca', 'lu', 'nagyon', 'represent', 'felafel', 'isan', 'ny', 'hefty', 'joi', 'atmosphe', 'excelelnt', 'talk', 'viva', 'fourth', 'lov', 'whats', 'donner', 'academy', 'pathetic', 'massaman', 'unwelcoming', 'ro', 'relación', 'size', 'ring', 'slovene', 'tood', 'piadona', 'alfama', 'overdue', 'approachable', 'amste', 'proper', 'claro', 'fotball', 'dovetail', 'same', 'poco', 'woth', 'ideas', 'expencive', 'concierge', 'sweedish', 'puerto', 'thao', 'thirsty', 'background', 'mayor', 'was', 'kentish', 'surprisngly', 'ambianc', 'beware', 'bistronomie', 'cizy', 'marco', 'richmond', 'sausages', 'nicely', 'guya', 'bills', 'apples', 'gigs', 'siesta', 'papiroen', 'speakin', 'restuarent', 'friends', 'environmentally', 'further', 'fol', 'morley', 'muzeum', 'grandaughter', 'infulham', 'accceptable', 'mets', 'bottomless', 'empolys', 'wirtshaus', 'entertained', 'tons', 'plastic', 'sensible', 'evenin', 'mia', 'confirm', 'purchase', 'reasona', 'atypical', 'wond', 'scenario', 'amount', 'lou', 'excellento', 'beards', 'goya', 'bourbon', 'marked', 'experience', 'overflows', 'burrata', 'spirit', '6me', 'paleo', 'palates', 'kurdish', 'familytrip', 'goode', 'diets', 'hip', 'restoran', 'mulled', 'appalling', 'nutritious', 'noverraz', 'crack', 'montma', 'eglise', 'put', 'personel', 'unsatisfactory', 'davys', 'fever', 'recipes', 'upgrad', 'cocoa', 'pretense', 'columbian', 'crescent', 'fatty', 'raviolis', 'varied', 'faboulous', 'kaffeeklatsch', 'present', 'taglio', 'iberic', 'stressful', 'calçots', 'topp', 'impro', 'khan', 'culinaric', 'introduction', 'china', 'excellenct', 'cheerfully', 'prater', 'codfish', 'phase', 'inspiring', 'hurt', 'scrambled', 'mundane', 'brake', 'david', 'pours', 'hospoda', 'menues', 'passag', 'relish', 'benjys', 'awseome', 'dip', 'roma', 'tessa', 'valentine', 'regretted', 'sandwitch', 'lifestyle', 'impossible', 'goa', 'months', 'sandwiches', 'grocery', 'mali', 'camino', 'flexible', 'kafe', 'korean', 'astori', 'cuute', 'niece', 'overlooing', 'thumping', 'blew', 'salumi', 'trade', 'allowed', 'belfast', 'continuatio', 'coreano', 'duckling', 'cheater', 'botanique', 'ugl', 'skills', 'ch', 'pregnant', 'arr', 'return', 'topping', 'waiter', 'locat', 'corrected', 'relativly', 'improved', 'barrio', 'dominique', 'lewis', 'newman', 'finito', 'replaced', 'culinaire', 'itttttt', 'days', 'action', 'eveninh', 'authetic', 'getting', 'nordikos', 'wholesome', 'authentisch', 'mo', 'hemingway', 'hill', 'accesory', 'roasted', 'helal', 'designs', 'dishones', 'andrei', 'caribena', 'greece', 'inslington', 'handcrafted', 'alps', 'scammers', 'frank', 'kult', 'sesame', 'mangé', 'breakf', 'doors', 'filthy', '300', 'decoratio', 'entre', 'frufru', 'hofsburg', 'lighter', 'likes', 'results', 'unfriendliest', 'corica', 'indifferent', 'honoured', 'folks', 'maleducati', 'midst', 'aqua', 'poppyseed', 'recommded', 'plac', 'chinise', 'nymphenburgerst', 'opens', 'navonna', 'acai', 'congo', 'ldn', 'unsatisfied', 'speciale', 'tunici', 'tear', 'catastrophe', 'definietly', 'tranquillity', 'sphaget', 'perfe', '1st', 'competen', 'suvlaki', 'sidra', 'eno', 'indie', 'sweets', 'copenhagen', 'indulge', 'reviewing', 'borough', 'blu', 'actual', 'kráska', 'orique', 'furnishings', 'modest', 'livliest', 'cech', 'commerce', 'smorgasbord', 'inclusive', 'specialize', 'transformation', 'yikes', 'sausmeesters', 'berlins', 'fishermens', 'schoolfood', 'breads', 'intolerance', 'memorabilia', 'becoming', 'starbu', 'cakesi', 'ninja', 'charg', 'starklatsch', 'furious', 'selectio', 'truffle', 'african', 'expenive', 'gardeners', 'waste', 'westeschgaart', 'miradouro', 'lamacun', 'herne', 'servi', 'cettia', 'sideria', 'sometimes', 'feels', 'centered', 'nargile', 'modelo', 'conti', 'palestinian', 'bijlmer', 'belge', 'free', 'vibrant', 'guys', 'comtemporary', 'browsing', 'rural', 'display', 'enojyed', 'sll', 'eate', 'selected', 'organized', 'exellent', 'bang', 'air', 'award', 'crab', 'nada', 'shiimi', 'effortless', 'ram', 'ide', 'mighty', 'deep', 'stroll', 'systemgastronomie', 'grass', 'šmarna', 'august', 'bist', 'dominos', 'simply', 'omakase', 'get', 'dreamy', 'collec', 'matches', 'aspect', 'japanse', 'pardon', 'weve', 'vietmanese', 'changer', 'frische', 'meditteranean', 'kebabist', 'meal', 'bel', 'sylvester', 'regent', 'gril', 'lounas', 'hiden', 'hamlet', 'abysmal', 'feta', 'mules', 'nonchalant', 'rannelagh', 'oriented', 'octopus', 'gardens', 'braving', 'disgrace', 'thenga', 'patisserie', 'inexpens', 'stay', 'forget', 'burgers', 'ei', 'cliche', 'pace', 'cezar', 'cabbage', 'heart', 'boys', 'aldi', 'bru', 'chew', 'sandwichs', 'suggested', 'lives', 'brazilian', 'steet', 'besttt', 'realistic', '10p', 'dante', 'varity', 'francesinha', 'oak', 'usual', 'tv', 'bm', 'inspirational', 'mester', 'bowli', 'tagine', 'irritated', 'cocktaild', 'bamboos', 'heaven', 'lame', 'westend', 'exki', 'heathrow', 'unhealthy', 'manage', 'depressing', 'containers', 'survey', 'heurige', 'aperitiv', 'ante', 'consider', 'bookin', 'kindness', 'pleasurable', 'prestige', 'tempura', 'cossy', 'hillarious', 'riffic', 'scallops', 'lure', 'frequented', 'cutter', 'avrage', 'dimsum', 'bits', 'buffer', 'current', 'beaugre', 'duna', 'flight', 'squashed', 'outstan', 'shuffleboardqueen', 'dime', 'neighbou', 'outsite', 'beatiful', 'frequently', 'strudels', 'blend', 'tekaway', 'cla', 'options', 'việt', 'incomparable', 'presented', 'roundhouse', 'worse', 'verge', 'ludicrously', 'int', 'hight', 'shang', 'af', 'sleepless', 'wifi', 'adorable', 'amazzzzzing', 'check', 'flaw', 'delice', 'stear', 'those', 'development', 'attracts', 'appearance', 'avout', 'natchoes', 'storchen', 'scandinavian', 'shouldn', 'international', 'share', 'stroop', 'smørrebrøds', 'operation', 'pleasently', 'arko', 'farewell', 'thls', 'healt', 'workday', 'overdoing', 'kona', 'travelle', 'thermostat', 'ear', 'asturiano', 'plave', 'cocktail', 'duo', 'happiness', 'horse', 'abso', 'benaki', 'goes', 'juiciest', 'moving', 'pastéis', 'pseudo', 'treating', 'gracw', 'workout', 'wudon', 'gi', 'price', 'brits', 'fres', 'plans', 'mornings', 'giuliano', 'helmholzkiez', 'ligurian', 'rambunctio', 'superbusy', 'perogies', 'canal', 'goers', 'towns', 'schnitzer', 'artistic', 'dosa', 'interesting_average', 'men', 'exeperience', 'lke', 'kista', 'soon', 'dürüm', 'gooooood', 'bestie', 'redu', 'seminar', 'mozzies', 'bonkers', 'impersonal', 'imagine', 'qucik', 'parsons', 'engl', 'cabby', 'geombe', 'perfec', 'refill', 'pro', 'telefono', 'fully', 'counter', 'gaa', 'choc', 'stopping', 'étape', 'genrally', 'slovenia', 'daughter', 'timesburg', 'light', 'perles', 'trendy', 'droite', 'muswell', 'petticoat', 'schoenbrunn', 'enjoying', 'budget', 'babies', 'pablo', 'hmm', 'wonderwull', 'balcony', 'boulevards', 'aunthentic', 'gravy', 'tawook', 'destinations', 'popsicles', 'beefsteak', 'charlton', 'energy', 'repeated', 'resteraunt', 'unassuming', 'cas', 'unappealing', 'sorbonne', 'varie', 'botanic', 'valuable'}\n"
     ]
    }
   ],
   "source": [
    "words.sort()\n",
    "words = set(words)\n",
    "print(len(words), words)"
   ]
  },
  {
   "cell_type": "markdown",
   "metadata": {},
   "source": [
    "Создадим словари негативных и позитивных слов (выберем только самые яркие)"
   ]
  },
  {
   "cell_type": "code",
   "execution_count": 61,
   "metadata": {},
   "outputs": [],
   "source": [
    "#Список негативных слов\n",
    "minus = ['absurdly', 'abundance', 'abundant', 'abusive', 'aggresive', 'aggressive', 'agressive', 'angry', 'annoyed', 'annoying', 'annoyingly', 'anxiety', 'argumentive', 'arrogance', 'arrogant', 'ashame', 'ashamed','awefull', 'awful','awfull','awfully', 'bad','badly','betrug', 'boring', 'cancel','canceled','cancellation', 'cancelled','catastrophe', 'catastrophic', 'catastrophy','chaos', 'chaot', 'chaotic','chaotically','closed', 'closes','collapse','conflicting', 'conflictual','confused','confusing', 'confusio','confusion','danger', 'dangerous','dangerously','delay', 'delayed','depressing','desappointing', 'dirtiest','dirty','disapointing', 'disapointment','disapoointing','disappear', 'disappearing','disappo','disappoi', 'disappoin','disappoing','disappoinment', 'disappoint','disappointe','disappointed', 'disappointin','disappointing', 'disappointingly','disappointme','disappointmen','disappointment','disappointments','disappoints','disapponiting','disapponted','disaster','disasterous','disastrous','disguise','disgusted','disgusti','disgusting','disgustingly','dispointed','disppointing','dissapoint','dissapointed','dissapointing','dissapointment','dissapoints','expencieve','expencive','expenive','expensiv','expensive','exspencive','flavorless','horribly','hysterically','impolite','inadequate','inappropriate','inattentive','inauthentic','incompetent','incomplete','incomprehensible','inconsiderate','inconsistent','inconspicuous','incontournable','inconvenient','inedible','irritated','miserable','mistake','mistakes','overcharge','overcharged','overcharging','overcrowded','overestimated','poisening','poison','poisoned','poisoning','poisson','rubbish','rubish','rud','rude','rudely','rudeness','sexist','sick','spoil','spoiled','spoils','spoilt','stole','stolen','tasteless','tastless','theft','thief','thiefs','thieves','trash','trashy','ugliest','ugly','unacceptable','unacceptably','unaccomodating','unappealing','unappetising','unattractive','unclean','uncomfortable','unconvincing','unfirendly','unforgiving','unfortunate','unfortunately','unfortunetly','unfriendliest','unfriendly','unhappy','unhealthy','unhelpful','unhygenic','unhygienic','unimpressible','unimpressive','unintentionally','unintereste','uninterested','uninteresting','unlucky','unorganized','unpleasant','unpleasent','unpolite','unprofessi','unprofessional','unprofessionnal','unreasonable','unreasonably','unreliable','unsanitary','unsatisfactory','unsatisfied','unsatisfying','unstable','untasetiness','untasty','untrained','untrendy','unwanted','unwelcome','unwelcoming','urin','urinals','vandalism','waste','wasted','wasting']\n",
    "# Список позитивных слов\n",
    "plus = ['delicieux','délicieux','delicious','deliciouse','deliciously','deliciuos','delicius','delicous','delighful','delight','delighted','delightful','delightfully','delighthful','delights','excelent','excelente','excell','excellant','excelle','excellect','excellen','excellence','excellenct','excellency','excellent','excellente','excellento','excellet','excellient','excit','excite','excited','excitement','exciting','excitingly','excllent','execellent','execerlent','execllent','exelent','exellence','exellent','extroardinary','exzellent','faboulous','fabukous','fabul','fabulius','fabulo','fabulos','fabulous','fabulously','fabuloussss','favorites','favour','favourite','favourites','favours','favurite','flavorful','flavorfull','friendl','friendlier','friendliest','friendliness','friendlly','friendly','friéndly','friends','friendy','good','goodfood','goood','gooood','goooood','gooooood','horrific','hospitality','hospitallity','hospitalty','impressing','impressions','impressive','impressively','accceptable',' advantage',' alright',' alright',' amazed',' amazi',' amazin',' amazinf',' amazing','amazinggggg','amazingly','amazingness','amazlingly','amazng','amazzzzzing','ammmmazzzzingggg','attractive','autenthic','autentic','autenticity','auwsome','awesom','awesome','awesomer','awesone','awessome','awseome','awsom','awsome','beatiful','beaultiful','beaut','beautful','beauti','beautifu','beautiful','beautifull','beautifully','beauty','beaux','bellisima','bellisimo','bellisomo','bellissimo','bello','best','bestt','besttt','blessed','blessing','bonito','bonne','bonnes','breathtaking','briliant','brill','brillante','brilliance','brilliant','brilliantly','buon','buona','buonísimo','buonissimo','buono','charm','charmed','charmig','charmin','charming','charmy','classic','classical','classically','classy','comfort','comforta','comfortable','comfortably','compliment','compliments','congrat','congratulations','convenient','conveniently','delcious','delecious','delicetessen','délicieuse','incredible','incredibly','incredicle','inviting','irresistible','loveley','lovelier','loveliest','lovely','ĺovely','luxe','luxurious','luxuruious','mmmhhhhh','mmmm','mmmmm','mmmmmm','mmmmmmhh','mmmmmmmm','mmmmmmmmmmmmmmm','outsanding','outstandin','outstanding','outstandingly','outstanging','perfect','perfecto','perfecton','phantastic','perfect','perfecto','perfecton','phantastic','phenomenal','pleasant','pleasantl','pleasantly','pleasat','pleased','pleasent','pleasently','pleaser','pleaseure','pleasing','pleasur','pleasurable','pleasurably','pleasure','pleasures','plesant','pleseant','reccomendation','recomend','recomended','recommendable','sensation','sensational','sensationnel','spectacular','spectacularly','splendid','splendiferous','splendour','super','sympatic','tasteful','tastefull','tastefully','tasty','tastyy','tastyyy','tastyyyyy','thank','thankf','thankful','thankfully','thanks','tidy','unbeatable','underestimated','underrated','unforgetable','unforgettable','unglaublich','unmemorable','wondeful','wondefully','wonder','wonderdful','wonderfu','wonderful','wonderfull','wonderland','wondersful','wonderul','wonderwull','wondrful','wow','wowsers','woww','wowwwwww','wunderbar','wunderfull','wunderschön','yam','yami','yammi','yammy','yeah','yeap','yes','yess','yum','yumm','yummi','yummie','yummiest','yummii','yumminess','yummm','yummmm','yummmmm','yummmmmm','yummmmmmmmmmmmmmmmmmmmmmmmmmmmm','yummmmmy','yummy','yummyy','yummyyyyy','yums','yumy','yuuuum']\n"
   ]
  },
  {
   "cell_type": "markdown",
   "metadata": {},
   "source": [
    "Создадим столбец reviews_eval с приблизительным тоном отзыва. 0- негативный, 1- нейтральный, 2 - позитивный. По умолчанию присвоим значение 1."
   ]
  },
  {
   "cell_type": "code",
   "execution_count": 62,
   "metadata": {},
   "outputs": [],
   "source": [
    "data['Reviews_eval'] = 1"
   ]
  },
  {
   "cell_type": "code",
   "execution_count": 63,
   "metadata": {},
   "outputs": [
    {
     "name": "stdout",
     "output_type": "stream",
     "text": [
      "<class 'pandas.core.frame.DataFrame'>\n",
      "Int64Index: 50000 entries, 0 to 49999\n",
      "Data columns (total 26 columns):\n",
      " #   Column                  Non-Null Count  Dtype  \n",
      "---  ------                  --------------  -----  \n",
      " 0   Restaurant_id           50000 non-null  object \n",
      " 1   City                    50000 non-null  object \n",
      " 2   Cuisine Style           50000 non-null  object \n",
      " 3   Ranking                 50000 non-null  float64\n",
      " 4   Price Range             50000 non-null  float64\n",
      " 5   Number of Reviews       50000 non-null  float64\n",
      " 6   Reviews                 50000 non-null  object \n",
      " 7   URL_TA                  50000 non-null  object \n",
      " 8   ID_TA                   50000 non-null  object \n",
      " 9   sample                  50000 non-null  int64  \n",
      " 10  Rating                  50000 non-null  float64\n",
      " 11  Capital                 50000 non-null  int64  \n",
      " 12  1000 tourist arrivals   50000 non-null  float64\n",
      " 13  Cuisines                50000 non-null  int64  \n",
      " 14  Arab                    50000 non-null  int64  \n",
      " 15  Asian                   50000 non-null  int64  \n",
      " 16  Europe                  50000 non-null  int64  \n",
      " 17  Inter                   50000 non-null  int64  \n",
      " 18  Latin                   50000 non-null  int64  \n",
      " 19  Mediter                 50000 non-null  int64  \n",
      " 20  Vegetarian              50000 non-null  int64  \n",
      " 21  Bar                     50000 non-null  int64  \n",
      " 22  Number of Reviews city  50000 non-null  int64  \n",
      " 23  Review_text             50000 non-null  object \n",
      " 24  Review_words            50000 non-null  int64  \n",
      " 25  Reviews_eval            50000 non-null  int64  \n",
      "dtypes: float64(5), int64(14), object(7)\n",
      "memory usage: 11.5+ MB\n"
     ]
    }
   ],
   "source": [
    "data.info()"
   ]
  },
  {
   "cell_type": "code",
   "execution_count": 64,
   "metadata": {},
   "outputs": [
    {
     "name": "stderr",
     "output_type": "stream",
     "text": [
      "C:\\Users\\Anna\\anaconda3\\lib\\site-packages\\ipykernel_launcher.py:22: SettingWithCopyWarning: \n",
      "A value is trying to be set on a copy of a slice from a DataFrame\n",
      "\n",
      "See the caveats in the documentation: https://pandas.pydata.org/pandas-docs/stable/user_guide/indexing.html#returning-a-view-versus-a-copy\n",
      "C:\\Users\\Anna\\anaconda3\\lib\\site-packages\\ipykernel_launcher.py:8: SettingWithCopyWarning: \n",
      "A value is trying to be set on a copy of a slice from a DataFrame\n",
      "\n",
      "See the caveats in the documentation: https://pandas.pydata.org/pandas-docs/stable/user_guide/indexing.html#returning-a-view-versus-a-copy\n",
      "  \n",
      "C:\\Users\\Anna\\anaconda3\\lib\\site-packages\\ipykernel_launcher.py:5: SettingWithCopyWarning: \n",
      "A value is trying to be set on a copy of a slice from a DataFrame\n",
      "\n",
      "See the caveats in the documentation: https://pandas.pydata.org/pandas-docs/stable/user_guide/indexing.html#returning-a-view-versus-a-copy\n",
      "  \"\"\"\n"
     ]
    }
   ],
   "source": [
    "for i in range(len(data['City'])):\n",
    "    if len(data['Review_text'][i])==1:\n",
    "        for m in minus:\n",
    "            if m in data['Review_text'][i][0]:\n",
    "                data['Reviews_eval'][i] = 0\n",
    "        for p in plus:\n",
    "            if p in data['Review_text'][i][0]:\n",
    "                data['Reviews_eval'][i] = 2\n",
    "    elif len(data['Review_text'][i])==2:\n",
    "        a = 1\n",
    "        b = 1\n",
    "        for m in minus:\n",
    "            if m in data['Review_text'][i][0]:\n",
    "                a = 0\n",
    "            if m in data['Review_text'][i][1]:\n",
    "                b = 0\n",
    "        for p in plus:\n",
    "            if p in data['Review_text'][i][0]:\n",
    "                a = 2\n",
    "            if p in data['Review_text'][i][1]:\n",
    "                b = 2\n",
    "        data['Reviews_eval'][i] = round((a+b)/2)"
   ]
  },
  {
   "cell_type": "code",
   "execution_count": 65,
   "metadata": {},
   "outputs": [
    {
     "data": {
      "text/plain": [
       "1    36914\n",
       "2    11645\n",
       "0     1441\n",
       "Name: Reviews_eval, dtype: int64"
      ]
     },
     "execution_count": 65,
     "metadata": {},
     "output_type": "execute_result"
    }
   ],
   "source": [
    "data['Reviews_eval'].value_counts()"
   ]
  },
  {
   "cell_type": "markdown",
   "metadata": {},
   "source": [
    "Обработаем информацию по датам. Создадим столбец со списком дат. Теперь это просто элемент получившегося списка с индексом [1]. В каждой позиции будет от 0 до 2 элементов. Затем посмотрим, когда был написан последний отзыв. По умолчанию поставим значение 5500, оно останется для позиций, по которым отзывов не было."
   ]
  },
  {
   "cell_type": "code",
   "execution_count": 66,
   "metadata": {},
   "outputs": [],
   "source": [
    "data['Review_Date']=data['Reviews'].apply(lambda x: x[1])\n",
    "data['Latest Review']=5500"
   ]
  },
  {
   "cell_type": "code",
   "execution_count": 67,
   "metadata": {},
   "outputs": [
    {
     "name": "stderr",
     "output_type": "stream",
     "text": [
      "C:\\Users\\Anna\\anaconda3\\lib\\site-packages\\ipykernel_launcher.py:14: SettingWithCopyWarning: \n",
      "A value is trying to be set on a copy of a slice from a DataFrame\n",
      "\n",
      "See the caveats in the documentation: https://pandas.pydata.org/pandas-docs/stable/user_guide/indexing.html#returning-a-view-versus-a-copy\n",
      "  \n",
      "C:\\Users\\Anna\\anaconda3\\lib\\site-packages\\ipykernel_launcher.py:9: SettingWithCopyWarning: \n",
      "A value is trying to be set on a copy of a slice from a DataFrame\n",
      "\n",
      "See the caveats in the documentation: https://pandas.pydata.org/pandas-docs/stable/user_guide/indexing.html#returning-a-view-versus-a-copy\n",
      "  if __name__ == '__main__':\n"
     ]
    },
    {
     "data": {
      "text/plain": [
       "5500    8114\n",
       "987      646\n",
       "991      568\n",
       "988      522\n",
       "990      492\n",
       "        ... \n",
       "2599       1\n",
       "3568       1\n",
       "3152       1\n",
       "2887       1\n",
       "2049       1\n",
       "Name: Latest Review, Length: 1977, dtype: int64"
      ]
     },
     "execution_count": 67,
     "metadata": {},
     "output_type": "execute_result"
    }
   ],
   "source": [
    "date = datetime.now() #Сегодняшняя дата\n",
    "i=-1\n",
    "for ddd in data['Review_Date']: #Список дат в строковом виде \n",
    "    i+=1\n",
    "    for dd in ddd: #Элемент списка\n",
    "        if len(ddd)==1:\n",
    "            d=datetime.strptime(dd, '%m/%d/%Y')\n",
    "            z = date-d      #Разница с единственной датой\n",
    "            data['Latest Review'][i]=int(z.days) \n",
    "        elif len(ddd)==2:\n",
    "            x=datetime.strptime(ddd[0], '%m/%d/%Y')\n",
    "            y=datetime.strptime(ddd[1], '%m/%d/%Y')\n",
    "            z=date-max(x,y) #Разница с позднейшей из двух дат\n",
    "            data['Latest Review'][i]=int(z.days)\n",
    "data['Latest Review'].value_counts()"
   ]
  },
  {
   "cell_type": "markdown",
   "metadata": {},
   "source": [
    "Отметим, что значения 5500 по количеству совпадают с известными нам пустыми значениями списка. Алгоритм сработал.\n",
    "\n",
    "### Рассмотрим столбцы URL_TA и ID_TA"
   ]
  },
  {
   "cell_type": "code",
   "execution_count": 68,
   "metadata": {},
   "outputs": [
    {
     "data": {
      "text/plain": [
       "0    /Restaurant_Review-g187147-d10746918-Reviews-L...\n",
       "1    /Restaurant_Review-g187147-d8458643-Reviews-Le...\n",
       "2    /Restaurant_Review-g187147-d7605609-Reviews-Le...\n",
       "3    /Restaurant_Review-g187147-d11953078-Reviews-B...\n",
       "4    /Restaurant_Review-g187147-d9597870-Reviews-La...\n",
       "5    /Restaurant_Review-g187147-d3256188-Reviews-Th...\n",
       "6    /Restaurant_Review-g187147-d1326624-Reviews-Le...\n",
       "7    /Restaurant_Review-g187147-d695231-Reviews-Buf...\n",
       "8    /Restaurant_Review-g187147-d1439340-Reviews-To...\n",
       "9    /Restaurant_Review-g187147-d4988279-Reviews-Le...\n",
       "Name: URL_TA, dtype: object"
      ]
     },
     "execution_count": 68,
     "metadata": {},
     "output_type": "execute_result"
    }
   ],
   "source": [
    "data['URL_TA'].head(10)"
   ]
  },
  {
   "cell_type": "code",
   "execution_count": 69,
   "metadata": {},
   "outputs": [
    {
     "data": {
      "text/plain": [
       "0    d10746918\n",
       "1     d8458643\n",
       "2     d7605609\n",
       "3    d11953078\n",
       "4     d9597870\n",
       "5     d3256188\n",
       "6     d1326624\n",
       "7      d695231\n",
       "8     d1439340\n",
       "9     d4988279\n",
       "Name: ID_TA, dtype: object"
      ]
     },
     "execution_count": 69,
     "metadata": {},
     "output_type": "execute_result"
    }
   ],
   "source": [
    "data['ID_TA'].head(10)"
   ]
  },
  {
   "cell_type": "markdown",
   "metadata": {},
   "source": [
    "ID_TA представляет собой часть записи URL_TA. URL_TA была бы полезна при условии живых ссылок, если бы можно было сделать приличный анализ по облаку слов. Но квалификации на это объективно не хватает. Поэтому сразу удалим эти столбцы. Также удалим Cuisine Style, так как нужную информацию мы уже получили."
   ]
  },
  {
   "cell_type": "code",
   "execution_count": 70,
   "metadata": {},
   "outputs": [
    {
     "name": "stdout",
     "output_type": "stream",
     "text": [
      "<class 'pandas.core.frame.DataFrame'>\n",
      "Int64Index: 50000 entries, 0 to 49999\n",
      "Data columns (total 28 columns):\n",
      " #   Column                  Non-Null Count  Dtype  \n",
      "---  ------                  --------------  -----  \n",
      " 0   Restaurant_id           50000 non-null  object \n",
      " 1   City                    50000 non-null  object \n",
      " 2   Cuisine Style           50000 non-null  object \n",
      " 3   Ranking                 50000 non-null  float64\n",
      " 4   Price Range             50000 non-null  float64\n",
      " 5   Number of Reviews       50000 non-null  float64\n",
      " 6   Reviews                 50000 non-null  object \n",
      " 7   URL_TA                  50000 non-null  object \n",
      " 8   ID_TA                   50000 non-null  object \n",
      " 9   sample                  50000 non-null  int64  \n",
      " 10  Rating                  50000 non-null  float64\n",
      " 11  Capital                 50000 non-null  int64  \n",
      " 12  1000 tourist arrivals   50000 non-null  float64\n",
      " 13  Cuisines                50000 non-null  int64  \n",
      " 14  Arab                    50000 non-null  int64  \n",
      " 15  Asian                   50000 non-null  int64  \n",
      " 16  Europe                  50000 non-null  int64  \n",
      " 17  Inter                   50000 non-null  int64  \n",
      " 18  Latin                   50000 non-null  int64  \n",
      " 19  Mediter                 50000 non-null  int64  \n",
      " 20  Vegetarian              50000 non-null  int64  \n",
      " 21  Bar                     50000 non-null  int64  \n",
      " 22  Number of Reviews city  50000 non-null  int64  \n",
      " 23  Review_text             50000 non-null  object \n",
      " 24  Review_words            50000 non-null  int64  \n",
      " 25  Reviews_eval            50000 non-null  int64  \n",
      " 26  Review_Date             50000 non-null  object \n",
      " 27  Latest Review           50000 non-null  int64  \n",
      "dtypes: float64(5), int64(15), object(8)\n",
      "memory usage: 12.3+ MB\n"
     ]
    }
   ],
   "source": [
    "data.info()"
   ]
  },
  {
   "cell_type": "code",
   "execution_count": 71,
   "metadata": {},
   "outputs": [
    {
     "name": "stdout",
     "output_type": "stream",
     "text": [
      "<class 'pandas.core.frame.DataFrame'>\n",
      "Int64Index: 50000 entries, 0 to 49999\n",
      "Data columns (total 22 columns):\n",
      " #   Column                  Non-Null Count  Dtype  \n",
      "---  ------                  --------------  -----  \n",
      " 0   Restaurant_id           50000 non-null  object \n",
      " 1   City                    50000 non-null  object \n",
      " 2   Ranking                 50000 non-null  float64\n",
      " 3   Price Range             50000 non-null  float64\n",
      " 4   Number of Reviews       50000 non-null  float64\n",
      " 5   sample                  50000 non-null  int64  \n",
      " 6   Rating                  50000 non-null  float64\n",
      " 7   Capital                 50000 non-null  int64  \n",
      " 8   1000 tourist arrivals   50000 non-null  float64\n",
      " 9   Cuisines                50000 non-null  int64  \n",
      " 10  Arab                    50000 non-null  int64  \n",
      " 11  Asian                   50000 non-null  int64  \n",
      " 12  Europe                  50000 non-null  int64  \n",
      " 13  Inter                   50000 non-null  int64  \n",
      " 14  Latin                   50000 non-null  int64  \n",
      " 15  Mediter                 50000 non-null  int64  \n",
      " 16  Vegetarian              50000 non-null  int64  \n",
      " 17  Bar                     50000 non-null  int64  \n",
      " 18  Number of Reviews city  50000 non-null  int64  \n",
      " 19  Review_words            50000 non-null  int64  \n",
      " 20  Reviews_eval            50000 non-null  int64  \n",
      " 21  Latest Review           50000 non-null  int64  \n",
      "dtypes: float64(5), int64(15), object(2)\n",
      "memory usage: 10.0+ MB\n"
     ]
    }
   ],
   "source": [
    "data.drop(data.columns[[2,6,7,8,23,26]], axis=1, inplace=True)\n",
    "data.info()"
   ]
  },
  {
   "cell_type": "markdown",
   "metadata": {},
   "source": [
    "## EDA\n",
    "Посмотрим распределение признаков, взаимосвязь, определим выбросы."
   ]
  },
  {
   "cell_type": "code",
   "execution_count": 72,
   "metadata": {
    "scrolled": true
   },
   "outputs": [
    {
     "data": {
      "text/plain": [
       "<matplotlib.axes._subplots.AxesSubplot at 0x8e5e3ac08>"
      ]
     },
     "execution_count": 72,
     "metadata": {},
     "output_type": "execute_result"
    },
    {
     "data": {
      "image/png": "[encoded data removed]",
      "text/plain": [
       "<Figure size 720x504 with 1 Axes>"
      ]
     },
     "metadata": {
      "needs_background": "light"
     },
     "output_type": "display_data"
    }
   ],
   "source": [
    "#Распределение значений по Ranking\n",
    "plt.rcParams['figure.figsize'] = (10,7)\n",
    "data['Ranking'].plot(kind = 'hist', grid = True, title = 'Ranking')"
   ]
  },
  {
   "cell_type": "code",
   "execution_count": 73,
   "metadata": {},
   "outputs": [
    {
     "data": {
      "text/plain": [
       "<matplotlib.axes._subplots.AxesSubplot at 0x8e4760a08>"
      ]
     },
     "execution_count": 73,
     "metadata": {},
     "output_type": "execute_result"
    },
    {
     "data": {
      "image/png": "[encoded data removed]",
      "text/plain": [
       "<Figure size 720x504 with 1 Axes>"
      ]
     },
     "metadata": {
      "needs_background": "light"
     },
     "output_type": "display_data"
    }
   ],
   "source": [
    "#Распределение значений по Rating\n",
    "plt.rcParams['figure.figsize'] = (10,7)\n",
    "data['Rating'].plot(kind='hist', grid=True, title='Rating')"
   ]
  },
  {
   "cell_type": "code",
   "execution_count": 74,
   "metadata": {
    "scrolled": true
   },
   "outputs": [
    {
     "data": {
      "image/png": "[encoded data removed]",
      "text/plain": [
       "<Figure size 960x800 with 2 Axes>"
      ]
     },
     "metadata": {
      "needs_background": "light"
     },
     "output_type": "display_data"
    }
   ],
   "source": [
    "plt.figure(figsize=(12,10), dpi= 80)\n",
    "sns.heatmap(data.drop(['sample'], axis=1).corr(), xticklabels=data.drop(['sample'], axis=1).corr().columns, yticklabels=data.drop(['sample'], axis=1).corr().columns, cmap='RdYlGn', center=0, annot=True)\n",
    "\n",
    "# Decorations\n",
    "plt.title('Тепловая матрица корреляций для проекта Рестораны', fontsize=22)\n",
    "plt.xticks(fontsize=12)\n",
    "plt.yticks(fontsize=12)\n",
    "plt.show()"
   ]
  },
  {
   "cell_type": "markdown",
   "metadata": {},
   "source": [
    "Серьёзных корреляций не выявлено. Кандидатов на удаление по итогам этой таблицы нет.\n",
    "\n",
    "Посмотрим на распределение категориальных признаков в боксплоте."
   ]
  },
  {
   "cell_type": "code",
   "execution_count": 75,
   "metadata": {},
   "outputs": [],
   "source": [
    "def get_boxplot(column):\n",
    "    fig, ax = plt.subplots(figsize = (14, 4))\n",
    "    sns.boxplot(x=column, y='Rating', \n",
    "                data=data.loc[data.loc[:, column].isin(data.loc[:, column].value_counts().index[:10])],\n",
    "               ax=ax)\n",
    "    plt.xticks(rotation=45)\n",
    "    ax.set_title('Boxplot for ' + column)\n",
    "    plt.show()"
   ]
  },
  {
   "cell_type": "code",
   "execution_count": 76,
   "metadata": {},
   "outputs": [
    {
     "data": {
      "image/png": "[encoded data removed]",
      "text/plain": [
       "<Figure size 1008x288 with 1 Axes>"
      ]
     },
     "metadata": {
      "needs_background": "light"
     },
     "output_type": "display_data"
    }
   ],
   "source": [
    "get_boxplot('City')"
   ]
  },
  {
   "cell_type": "markdown",
   "metadata": {},
   "source": [
    "Почему-то в рейтингах хуже других выглядят Милан и Мадрид, возможно, там более привередливая публика. А вот разницы между столичными и не столичными городами не видно совсем.\n",
    "\n",
    "Заменим оставшиеся категориальные столбцы на dummy-переменные и снова запустим корреляции."
   ]
  },
  {
   "cell_type": "code",
   "execution_count": 77,
   "metadata": {},
   "outputs": [],
   "source": [
    "data = pd.get_dummies(data, columns=['City'], dummy_na=True)"
   ]
  },
  {
   "cell_type": "code",
   "execution_count": 78,
   "metadata": {},
   "outputs": [],
   "source": [
    "data=data.drop(['Restaurant_id', 'City_nan'], axis = 1)"
   ]
  },
  {
   "cell_type": "markdown",
   "metadata": {},
   "source": [
    "Теперь подготовим данные для запуска модели. Снова разделим датасет на тренировочную и тестовую части."
   ]
  },
  {
   "cell_type": "code",
   "execution_count": 79,
   "metadata": {},
   "outputs": [],
   "source": [
    "# Выделим тестовую часть\n",
    "train_data = data.query('sample == 1').drop(['sample'], axis=1)\n",
    "test_data = data.query('sample == 0').drop(['sample'], axis=1)\n",
    "\n",
    "y = train_data.Rating.values            # наш таргет\n",
    "X = train_data.drop(['Rating'], axis=1)"
   ]
  },
  {
   "cell_type": "code",
   "execution_count": 80,
   "metadata": {},
   "outputs": [],
   "source": [
    "# Загружаем специальный инструмент для разбивки:\n",
    "from sklearn.model_selection import train_test_split"
   ]
  },
  {
   "cell_type": "code",
   "execution_count": 81,
   "metadata": {},
   "outputs": [],
   "source": [
    "# Воспользуемся специальной функцие train_test_split для разбивки тестовых данных\n",
    "# выделим 20% данных на валидацию (параметр test_size)\n",
    "X_train, X_test, y_train, y_test = train_test_split(X, y, test_size=0.2, random_state=RANDOM_SEED)"
   ]
  },
  {
   "cell_type": "code",
   "execution_count": 82,
   "metadata": {},
   "outputs": [
    {
     "data": {
      "text/plain": [
       "((10000, 50), (40000, 50), (40000, 49), (32000, 49), (8000, 49))"
      ]
     },
     "execution_count": 82,
     "metadata": {},
     "output_type": "execute_result"
    }
   ],
   "source": [
    "# проверяем\n",
    "test_data.shape, train_data.shape, X.shape, X_train.shape, X_test.shape"
   ]
  },
  {
   "cell_type": "markdown",
   "metadata": {},
   "source": [
    "Создаём модель"
   ]
  },
  {
   "cell_type": "code",
   "execution_count": 83,
   "metadata": {},
   "outputs": [],
   "source": [
    "from sklearn.ensemble import RandomForestRegressor # инструмент для создания и обучения модели\n",
    "from sklearn import metrics # инструменты для оценки точности модели"
   ]
  },
  {
   "cell_type": "code",
   "execution_count": 84,
   "metadata": {},
   "outputs": [],
   "source": [
    "# Создаём модель\n",
    "model = RandomForestRegressor(n_estimators=100, verbose=1, n_jobs=-1, random_state=RANDOM_SEED)"
   ]
  },
  {
   "cell_type": "code",
   "execution_count": 85,
   "metadata": {},
   "outputs": [
    {
     "name": "stderr",
     "output_type": "stream",
     "text": [
      "[Parallel(n_jobs=-1)]: Using backend ThreadingBackend with 2 concurrent workers.\n",
      "[Parallel(n_jobs=-1)]: Done  46 tasks      | elapsed:   15.2s\n",
      "[Parallel(n_jobs=-1)]: Done 100 out of 100 | elapsed:   31.1s finished\n",
      "[Parallel(n_jobs=2)]: Using backend ThreadingBackend with 2 concurrent workers.\n",
      "[Parallel(n_jobs=2)]: Done  46 tasks      | elapsed:    0.0s\n",
      "[Parallel(n_jobs=2)]: Done 100 out of 100 | elapsed:    0.3s finished\n"
     ]
    }
   ],
   "source": [
    "# Обучаем модель на тестовом наборе данных\n",
    "model.fit(X_train, y_train)\n",
    "\n",
    "# Используем обученную модель для предсказания рейтинга ресторанов в тестовой выборке.\n",
    "# Предсказанные значения записываем в переменную y_pred\n",
    "y_pred = model.predict(X_test)"
   ]
  },
  {
   "cell_type": "code",
   "execution_count": 86,
   "metadata": {},
   "outputs": [
    {
     "name": "stdout",
     "output_type": "stream",
     "text": [
      "MAE: 0.204325625\n"
     ]
    }
   ],
   "source": [
    "# Сравниваем предсказанные значения (y_pred) с реальными (y_test), и смотрим насколько они в среднем отличаются\n",
    "# Метрика называется Mean Absolute Error (MAE) и показывает среднее отклонение предсказанных значений от фактических.\n",
    "print('MAE:', metrics.mean_absolute_error(y_test, y_pred))"
   ]
  },
  {
   "cell_type": "code",
   "execution_count": 87,
   "metadata": {},
   "outputs": [
    {
     "data": {
      "text/plain": [
       "<matplotlib.axes._subplots.AxesSubplot at 0x8e48f8908>"
      ]
     },
     "execution_count": 87,
     "metadata": {},
     "output_type": "execute_result"
    },
    {
     "data": {
      "image/png": "[encoded data removed]",
      "text/plain": [
       "<Figure size 720x720 with 1 Axes>"
      ]
     },
     "metadata": {
      "needs_background": "light"
     },
     "output_type": "display_data"
    }
   ],
   "source": [
    "# в RandomForestRegressor есть возможность вывести самые важные признаки для модели\n",
    "plt.rcParams['figure.figsize'] = (10,10)\n",
    "feat_importances = pd.Series(model.feature_importances_, index=X.columns)\n",
    "feat_importances.nlargest(15).plot(kind='barh')"
   ]
  },
  {
   "cell_type": "markdown",
   "metadata": {},
   "source": [
    "Готовим Submission"
   ]
  },
  {
   "cell_type": "code",
   "execution_count": 88,
   "metadata": {},
   "outputs": [
    {
     "data": {
      "text/html": [
       "<div>\n",
       "<style scoped>\n",
       "    .dataframe tbody tr th:only-of-type {\n",
       "        vertical-align: middle;\n",
       "    }\n",
       "\n",
       "    .dataframe tbody tr th {\n",
       "        vertical-align: top;\n",
       "    }\n",
       "\n",
       "    .dataframe thead th {\n",
       "        text-align: right;\n",
       "    }\n",
       "</style>\n",
       "<table border=\"1\" class=\"dataframe\">\n",
       "  <thead>\n",
       "    <tr style=\"text-align: right;\">\n",
       "      <th></th>\n",
       "      <th>Ranking</th>\n",
       "      <th>Price Range</th>\n",
       "      <th>Number of Reviews</th>\n",
       "      <th>Rating</th>\n",
       "      <th>Capital</th>\n",
       "      <th>1000 tourist arrivals</th>\n",
       "      <th>Cuisines</th>\n",
       "      <th>Arab</th>\n",
       "      <th>Asian</th>\n",
       "      <th>Europe</th>\n",
       "      <th>Inter</th>\n",
       "      <th>Latin</th>\n",
       "      <th>Mediter</th>\n",
       "      <th>Vegetarian</th>\n",
       "      <th>Bar</th>\n",
       "      <th>Number of Reviews city</th>\n",
       "      <th>Review_words</th>\n",
       "      <th>Reviews_eval</th>\n",
       "      <th>Latest Review</th>\n",
       "      <th>City_Amsterdam</th>\n",
       "      <th>City_Athens</th>\n",
       "      <th>City_Barcelona</th>\n",
       "      <th>City_Berlin</th>\n",
       "      <th>City_Bratislava</th>\n",
       "      <th>City_Brussels</th>\n",
       "      <th>City_Budapest</th>\n",
       "      <th>City_Copenhagen</th>\n",
       "      <th>City_Dublin</th>\n",
       "      <th>City_Edinburgh</th>\n",
       "      <th>City_Geneva</th>\n",
       "      <th>City_Hamburg</th>\n",
       "      <th>City_Helsinki</th>\n",
       "      <th>City_Krakow</th>\n",
       "      <th>City_Lisbon</th>\n",
       "      <th>City_Ljubljana</th>\n",
       "      <th>City_London</th>\n",
       "      <th>City_Luxembourg</th>\n",
       "      <th>City_Lyon</th>\n",
       "      <th>City_Madrid</th>\n",
       "      <th>City_Milan</th>\n",
       "      <th>City_Munich</th>\n",
       "      <th>City_Oporto</th>\n",
       "      <th>City_Oslo</th>\n",
       "      <th>City_Paris</th>\n",
       "      <th>City_Prague</th>\n",
       "      <th>City_Rome</th>\n",
       "      <th>City_Stockholm</th>\n",
       "      <th>City_Vienna</th>\n",
       "      <th>City_Warsaw</th>\n",
       "      <th>City_Zurich</th>\n",
       "    </tr>\n",
       "  </thead>\n",
       "  <tbody>\n",
       "    <tr>\n",
       "      <th>7362</th>\n",
       "      <td>8204.0</td>\n",
       "      <td>1.0</td>\n",
       "      <td>3.0</td>\n",
       "      <td>0.0</td>\n",
       "      <td>1</td>\n",
       "      <td>15.640</td>\n",
       "      <td>0</td>\n",
       "      <td>0</td>\n",
       "      <td>0</td>\n",
       "      <td>0</td>\n",
       "      <td>0</td>\n",
       "      <td>0</td>\n",
       "      <td>0</td>\n",
       "      <td>0</td>\n",
       "      <td>0</td>\n",
       "      <td>934195</td>\n",
       "      <td>9</td>\n",
       "      <td>2</td>\n",
       "      <td>999</td>\n",
       "      <td>0</td>\n",
       "      <td>0</td>\n",
       "      <td>0</td>\n",
       "      <td>0</td>\n",
       "      <td>0</td>\n",
       "      <td>0</td>\n",
       "      <td>0</td>\n",
       "      <td>0</td>\n",
       "      <td>0</td>\n",
       "      <td>0</td>\n",
       "      <td>0</td>\n",
       "      <td>0</td>\n",
       "      <td>0</td>\n",
       "      <td>0</td>\n",
       "      <td>0</td>\n",
       "      <td>0</td>\n",
       "      <td>1</td>\n",
       "      <td>0</td>\n",
       "      <td>0</td>\n",
       "      <td>0</td>\n",
       "      <td>0</td>\n",
       "      <td>0</td>\n",
       "      <td>0</td>\n",
       "      <td>0</td>\n",
       "      <td>0</td>\n",
       "      <td>0</td>\n",
       "      <td>0</td>\n",
       "      <td>0</td>\n",
       "      <td>0</td>\n",
       "      <td>0</td>\n",
       "      <td>0</td>\n",
       "    </tr>\n",
       "    <tr>\n",
       "      <th>43473</th>\n",
       "      <td>2032.0</td>\n",
       "      <td>2.0</td>\n",
       "      <td>192.0</td>\n",
       "      <td>0.0</td>\n",
       "      <td>0</td>\n",
       "      <td>715.000</td>\n",
       "      <td>6</td>\n",
       "      <td>0</td>\n",
       "      <td>0</td>\n",
       "      <td>2</td>\n",
       "      <td>0</td>\n",
       "      <td>0</td>\n",
       "      <td>0</td>\n",
       "      <td>0</td>\n",
       "      <td>1</td>\n",
       "      <td>93999</td>\n",
       "      <td>6</td>\n",
       "      <td>1</td>\n",
       "      <td>1187</td>\n",
       "      <td>0</td>\n",
       "      <td>0</td>\n",
       "      <td>0</td>\n",
       "      <td>0</td>\n",
       "      <td>0</td>\n",
       "      <td>0</td>\n",
       "      <td>0</td>\n",
       "      <td>0</td>\n",
       "      <td>0</td>\n",
       "      <td>0</td>\n",
       "      <td>0</td>\n",
       "      <td>0</td>\n",
       "      <td>0</td>\n",
       "      <td>0</td>\n",
       "      <td>0</td>\n",
       "      <td>0</td>\n",
       "      <td>0</td>\n",
       "      <td>0</td>\n",
       "      <td>1</td>\n",
       "      <td>0</td>\n",
       "      <td>0</td>\n",
       "      <td>0</td>\n",
       "      <td>0</td>\n",
       "      <td>0</td>\n",
       "      <td>0</td>\n",
       "      <td>0</td>\n",
       "      <td>0</td>\n",
       "      <td>0</td>\n",
       "      <td>0</td>\n",
       "      <td>0</td>\n",
       "      <td>0</td>\n",
       "    </tr>\n",
       "    <tr>\n",
       "      <th>35404</th>\n",
       "      <td>86.0</td>\n",
       "      <td>2.0</td>\n",
       "      <td>429.0</td>\n",
       "      <td>0.0</td>\n",
       "      <td>1</td>\n",
       "      <td>3.921</td>\n",
       "      <td>6</td>\n",
       "      <td>0</td>\n",
       "      <td>0</td>\n",
       "      <td>1</td>\n",
       "      <td>0</td>\n",
       "      <td>0</td>\n",
       "      <td>2</td>\n",
       "      <td>1</td>\n",
       "      <td>0</td>\n",
       "      <td>357423</td>\n",
       "      <td>10</td>\n",
       "      <td>2</td>\n",
       "      <td>988</td>\n",
       "      <td>0</td>\n",
       "      <td>0</td>\n",
       "      <td>0</td>\n",
       "      <td>0</td>\n",
       "      <td>0</td>\n",
       "      <td>0</td>\n",
       "      <td>0</td>\n",
       "      <td>0</td>\n",
       "      <td>0</td>\n",
       "      <td>0</td>\n",
       "      <td>0</td>\n",
       "      <td>0</td>\n",
       "      <td>0</td>\n",
       "      <td>0</td>\n",
       "      <td>0</td>\n",
       "      <td>0</td>\n",
       "      <td>0</td>\n",
       "      <td>0</td>\n",
       "      <td>0</td>\n",
       "      <td>1</td>\n",
       "      <td>0</td>\n",
       "      <td>0</td>\n",
       "      <td>0</td>\n",
       "      <td>0</td>\n",
       "      <td>0</td>\n",
       "      <td>0</td>\n",
       "      <td>0</td>\n",
       "      <td>0</td>\n",
       "      <td>0</td>\n",
       "      <td>0</td>\n",
       "      <td>0</td>\n",
       "    </tr>\n",
       "    <tr>\n",
       "      <th>48550</th>\n",
       "      <td>35.0</td>\n",
       "      <td>2.0</td>\n",
       "      <td>275.0</td>\n",
       "      <td>0.0</td>\n",
       "      <td>0</td>\n",
       "      <td>1.369</td>\n",
       "      <td>8</td>\n",
       "      <td>0</td>\n",
       "      <td>0</td>\n",
       "      <td>2</td>\n",
       "      <td>0</td>\n",
       "      <td>0</td>\n",
       "      <td>2</td>\n",
       "      <td>1</td>\n",
       "      <td>0</td>\n",
       "      <td>46809</td>\n",
       "      <td>14</td>\n",
       "      <td>2</td>\n",
       "      <td>1105</td>\n",
       "      <td>0</td>\n",
       "      <td>0</td>\n",
       "      <td>0</td>\n",
       "      <td>0</td>\n",
       "      <td>0</td>\n",
       "      <td>0</td>\n",
       "      <td>0</td>\n",
       "      <td>0</td>\n",
       "      <td>0</td>\n",
       "      <td>0</td>\n",
       "      <td>0</td>\n",
       "      <td>0</td>\n",
       "      <td>0</td>\n",
       "      <td>0</td>\n",
       "      <td>0</td>\n",
       "      <td>0</td>\n",
       "      <td>0</td>\n",
       "      <td>0</td>\n",
       "      <td>0</td>\n",
       "      <td>0</td>\n",
       "      <td>0</td>\n",
       "      <td>0</td>\n",
       "      <td>0</td>\n",
       "      <td>0</td>\n",
       "      <td>0</td>\n",
       "      <td>0</td>\n",
       "      <td>0</td>\n",
       "      <td>0</td>\n",
       "      <td>0</td>\n",
       "      <td>0</td>\n",
       "      <td>1</td>\n",
       "    </tr>\n",
       "    <tr>\n",
       "      <th>35561</th>\n",
       "      <td>831.0</td>\n",
       "      <td>3.0</td>\n",
       "      <td>134.0</td>\n",
       "      <td>0.0</td>\n",
       "      <td>1</td>\n",
       "      <td>3.921</td>\n",
       "      <td>4</td>\n",
       "      <td>0</td>\n",
       "      <td>3</td>\n",
       "      <td>0</td>\n",
       "      <td>0</td>\n",
       "      <td>0</td>\n",
       "      <td>0</td>\n",
       "      <td>1</td>\n",
       "      <td>0</td>\n",
       "      <td>357423</td>\n",
       "      <td>10</td>\n",
       "      <td>2</td>\n",
       "      <td>1197</td>\n",
       "      <td>0</td>\n",
       "      <td>0</td>\n",
       "      <td>0</td>\n",
       "      <td>0</td>\n",
       "      <td>0</td>\n",
       "      <td>0</td>\n",
       "      <td>0</td>\n",
       "      <td>0</td>\n",
       "      <td>0</td>\n",
       "      <td>0</td>\n",
       "      <td>0</td>\n",
       "      <td>0</td>\n",
       "      <td>0</td>\n",
       "      <td>0</td>\n",
       "      <td>0</td>\n",
       "      <td>0</td>\n",
       "      <td>0</td>\n",
       "      <td>0</td>\n",
       "      <td>0</td>\n",
       "      <td>1</td>\n",
       "      <td>0</td>\n",
       "      <td>0</td>\n",
       "      <td>0</td>\n",
       "      <td>0</td>\n",
       "      <td>0</td>\n",
       "      <td>0</td>\n",
       "      <td>0</td>\n",
       "      <td>0</td>\n",
       "      <td>0</td>\n",
       "      <td>0</td>\n",
       "      <td>0</td>\n",
       "    </tr>\n",
       "    <tr>\n",
       "      <th>8282</th>\n",
       "      <td>7432.0</td>\n",
       "      <td>2.0</td>\n",
       "      <td>340.0</td>\n",
       "      <td>0.0</td>\n",
       "      <td>1</td>\n",
       "      <td>15.640</td>\n",
       "      <td>3</td>\n",
       "      <td>0</td>\n",
       "      <td>0</td>\n",
       "      <td>1</td>\n",
       "      <td>0</td>\n",
       "      <td>0</td>\n",
       "      <td>0</td>\n",
       "      <td>0</td>\n",
       "      <td>1</td>\n",
       "      <td>934195</td>\n",
       "      <td>12</td>\n",
       "      <td>1</td>\n",
       "      <td>1010</td>\n",
       "      <td>0</td>\n",
       "      <td>0</td>\n",
       "      <td>0</td>\n",
       "      <td>0</td>\n",
       "      <td>0</td>\n",
       "      <td>0</td>\n",
       "      <td>0</td>\n",
       "      <td>0</td>\n",
       "      <td>0</td>\n",
       "      <td>0</td>\n",
       "      <td>0</td>\n",
       "      <td>0</td>\n",
       "      <td>0</td>\n",
       "      <td>0</td>\n",
       "      <td>0</td>\n",
       "      <td>0</td>\n",
       "      <td>1</td>\n",
       "      <td>0</td>\n",
       "      <td>0</td>\n",
       "      <td>0</td>\n",
       "      <td>0</td>\n",
       "      <td>0</td>\n",
       "      <td>0</td>\n",
       "      <td>0</td>\n",
       "      <td>0</td>\n",
       "      <td>0</td>\n",
       "      <td>0</td>\n",
       "      <td>0</td>\n",
       "      <td>0</td>\n",
       "      <td>0</td>\n",
       "      <td>0</td>\n",
       "    </tr>\n",
       "    <tr>\n",
       "      <th>571</th>\n",
       "      <td>5398.0</td>\n",
       "      <td>1.0</td>\n",
       "      <td>18.0</td>\n",
       "      <td>0.0</td>\n",
       "      <td>1</td>\n",
       "      <td>9.700</td>\n",
       "      <td>1</td>\n",
       "      <td>0</td>\n",
       "      <td>0</td>\n",
       "      <td>1</td>\n",
       "      <td>0</td>\n",
       "      <td>0</td>\n",
       "      <td>0</td>\n",
       "      <td>0</td>\n",
       "      <td>0</td>\n",
       "      <td>681118</td>\n",
       "      <td>6</td>\n",
       "      <td>2</td>\n",
       "      <td>1909</td>\n",
       "      <td>0</td>\n",
       "      <td>0</td>\n",
       "      <td>0</td>\n",
       "      <td>0</td>\n",
       "      <td>0</td>\n",
       "      <td>0</td>\n",
       "      <td>0</td>\n",
       "      <td>0</td>\n",
       "      <td>0</td>\n",
       "      <td>0</td>\n",
       "      <td>0</td>\n",
       "      <td>0</td>\n",
       "      <td>0</td>\n",
       "      <td>0</td>\n",
       "      <td>0</td>\n",
       "      <td>0</td>\n",
       "      <td>0</td>\n",
       "      <td>0</td>\n",
       "      <td>0</td>\n",
       "      <td>0</td>\n",
       "      <td>0</td>\n",
       "      <td>0</td>\n",
       "      <td>0</td>\n",
       "      <td>0</td>\n",
       "      <td>1</td>\n",
       "      <td>0</td>\n",
       "      <td>0</td>\n",
       "      <td>0</td>\n",
       "      <td>0</td>\n",
       "      <td>0</td>\n",
       "      <td>0</td>\n",
       "    </tr>\n",
       "    <tr>\n",
       "      <th>30594</th>\n",
       "      <td>877.0</td>\n",
       "      <td>2.0</td>\n",
       "      <td>86.0</td>\n",
       "      <td>0.0</td>\n",
       "      <td>0</td>\n",
       "      <td>4.695</td>\n",
       "      <td>3</td>\n",
       "      <td>0</td>\n",
       "      <td>0</td>\n",
       "      <td>0</td>\n",
       "      <td>0</td>\n",
       "      <td>0</td>\n",
       "      <td>2</td>\n",
       "      <td>0</td>\n",
       "      <td>0</td>\n",
       "      <td>429667</td>\n",
       "      <td>6</td>\n",
       "      <td>1</td>\n",
       "      <td>1182</td>\n",
       "      <td>0</td>\n",
       "      <td>0</td>\n",
       "      <td>1</td>\n",
       "      <td>0</td>\n",
       "      <td>0</td>\n",
       "      <td>0</td>\n",
       "      <td>0</td>\n",
       "      <td>0</td>\n",
       "      <td>0</td>\n",
       "      <td>0</td>\n",
       "      <td>0</td>\n",
       "      <td>0</td>\n",
       "      <td>0</td>\n",
       "      <td>0</td>\n",
       "      <td>0</td>\n",
       "      <td>0</td>\n",
       "      <td>0</td>\n",
       "      <td>0</td>\n",
       "      <td>0</td>\n",
       "      <td>0</td>\n",
       "      <td>0</td>\n",
       "      <td>0</td>\n",
       "      <td>0</td>\n",
       "      <td>0</td>\n",
       "      <td>0</td>\n",
       "      <td>0</td>\n",
       "      <td>0</td>\n",
       "      <td>0</td>\n",
       "      <td>0</td>\n",
       "      <td>0</td>\n",
       "      <td>0</td>\n",
       "    </tr>\n",
       "    <tr>\n",
       "      <th>18964</th>\n",
       "      <td>874.0</td>\n",
       "      <td>2.0</td>\n",
       "      <td>213.0</td>\n",
       "      <td>0.0</td>\n",
       "      <td>1</td>\n",
       "      <td>6.033</td>\n",
       "      <td>5</td>\n",
       "      <td>0</td>\n",
       "      <td>0</td>\n",
       "      <td>0</td>\n",
       "      <td>0</td>\n",
       "      <td>0</td>\n",
       "      <td>2</td>\n",
       "      <td>1</td>\n",
       "      <td>0</td>\n",
       "      <td>728311</td>\n",
       "      <td>5</td>\n",
       "      <td>1</td>\n",
       "      <td>1021</td>\n",
       "      <td>0</td>\n",
       "      <td>0</td>\n",
       "      <td>0</td>\n",
       "      <td>0</td>\n",
       "      <td>0</td>\n",
       "      <td>0</td>\n",
       "      <td>0</td>\n",
       "      <td>0</td>\n",
       "      <td>0</td>\n",
       "      <td>0</td>\n",
       "      <td>0</td>\n",
       "      <td>0</td>\n",
       "      <td>0</td>\n",
       "      <td>0</td>\n",
       "      <td>0</td>\n",
       "      <td>0</td>\n",
       "      <td>0</td>\n",
       "      <td>0</td>\n",
       "      <td>0</td>\n",
       "      <td>0</td>\n",
       "      <td>0</td>\n",
       "      <td>0</td>\n",
       "      <td>0</td>\n",
       "      <td>0</td>\n",
       "      <td>0</td>\n",
       "      <td>0</td>\n",
       "      <td>1</td>\n",
       "      <td>0</td>\n",
       "      <td>0</td>\n",
       "      <td>0</td>\n",
       "      <td>0</td>\n",
       "    </tr>\n",
       "    <tr>\n",
       "      <th>15100</th>\n",
       "      <td>1188.0</td>\n",
       "      <td>1.0</td>\n",
       "      <td>23.0</td>\n",
       "      <td>0.0</td>\n",
       "      <td>1</td>\n",
       "      <td>1.715</td>\n",
       "      <td>2</td>\n",
       "      <td>0</td>\n",
       "      <td>0</td>\n",
       "      <td>0</td>\n",
       "      <td>0</td>\n",
       "      <td>2</td>\n",
       "      <td>0</td>\n",
       "      <td>0</td>\n",
       "      <td>0</td>\n",
       "      <td>196458</td>\n",
       "      <td>3</td>\n",
       "      <td>1</td>\n",
       "      <td>1281</td>\n",
       "      <td>0</td>\n",
       "      <td>0</td>\n",
       "      <td>0</td>\n",
       "      <td>0</td>\n",
       "      <td>0</td>\n",
       "      <td>0</td>\n",
       "      <td>0</td>\n",
       "      <td>0</td>\n",
       "      <td>0</td>\n",
       "      <td>0</td>\n",
       "      <td>0</td>\n",
       "      <td>0</td>\n",
       "      <td>0</td>\n",
       "      <td>0</td>\n",
       "      <td>1</td>\n",
       "      <td>0</td>\n",
       "      <td>0</td>\n",
       "      <td>0</td>\n",
       "      <td>0</td>\n",
       "      <td>0</td>\n",
       "      <td>0</td>\n",
       "      <td>0</td>\n",
       "      <td>0</td>\n",
       "      <td>0</td>\n",
       "      <td>0</td>\n",
       "      <td>0</td>\n",
       "      <td>0</td>\n",
       "      <td>0</td>\n",
       "      <td>0</td>\n",
       "      <td>0</td>\n",
       "      <td>0</td>\n",
       "    </tr>\n",
       "  </tbody>\n",
       "</table>\n",
       "</div>"
      ],
      "text/plain": [
       "       Ranking  Price Range  Number of Reviews  Rating  Capital  \\\n",
       "7362    8204.0          1.0                3.0     0.0        1   \n",
       "43473   2032.0          2.0              192.0     0.0        0   \n",
       "35404     86.0          2.0              429.0     0.0        1   \n",
       "48550     35.0          2.0              275.0     0.0        0   \n",
       "35561    831.0          3.0              134.0     0.0        1   \n",
       "8282    7432.0          2.0              340.0     0.0        1   \n",
       "571     5398.0          1.0               18.0     0.0        1   \n",
       "30594    877.0          2.0               86.0     0.0        0   \n",
       "18964    874.0          2.0              213.0     0.0        1   \n",
       "15100   1188.0          1.0               23.0     0.0        1   \n",
       "\n",
       "       1000 tourist arrivals  Cuisines  Arab  Asian  Europe  Inter  Latin  \\\n",
       "7362                  15.640         0     0      0       0      0      0   \n",
       "43473                715.000         6     0      0       2      0      0   \n",
       "35404                  3.921         6     0      0       1      0      0   \n",
       "48550                  1.369         8     0      0       2      0      0   \n",
       "35561                  3.921         4     0      3       0      0      0   \n",
       "8282                  15.640         3     0      0       1      0      0   \n",
       "571                    9.700         1     0      0       1      0      0   \n",
       "30594                  4.695         3     0      0       0      0      0   \n",
       "18964                  6.033         5     0      0       0      0      0   \n",
       "15100                  1.715         2     0      0       0      0      2   \n",
       "\n",
       "       Mediter  Vegetarian  Bar  Number of Reviews city  Review_words  \\\n",
       "7362         0           0    0                  934195             9   \n",
       "43473        0           0    1                   93999             6   \n",
       "35404        2           1    0                  357423            10   \n",
       "48550        2           1    0                   46809            14   \n",
       "35561        0           1    0                  357423            10   \n",
       "8282         0           0    1                  934195            12   \n",
       "571          0           0    0                  681118             6   \n",
       "30594        2           0    0                  429667             6   \n",
       "18964        2           1    0                  728311             5   \n",
       "15100        0           0    0                  196458             3   \n",
       "\n",
       "       Reviews_eval  Latest Review  City_Amsterdam  City_Athens  \\\n",
       "7362              2            999               0            0   \n",
       "43473             1           1187               0            0   \n",
       "35404             2            988               0            0   \n",
       "48550             2           1105               0            0   \n",
       "35561             2           1197               0            0   \n",
       "8282              1           1010               0            0   \n",
       "571               2           1909               0            0   \n",
       "30594             1           1182               0            0   \n",
       "18964             1           1021               0            0   \n",
       "15100             1           1281               0            0   \n",
       "\n",
       "       City_Barcelona  City_Berlin  City_Bratislava  City_Brussels  \\\n",
       "7362                0            0                0              0   \n",
       "43473               0            0                0              0   \n",
       "35404               0            0                0              0   \n",
       "48550               0            0                0              0   \n",
       "35561               0            0                0              0   \n",
       "8282                0            0                0              0   \n",
       "571                 0            0                0              0   \n",
       "30594               1            0                0              0   \n",
       "18964               0            0                0              0   \n",
       "15100               0            0                0              0   \n",
       "\n",
       "       City_Budapest  City_Copenhagen  City_Dublin  City_Edinburgh  \\\n",
       "7362               0                0            0               0   \n",
       "43473              0                0            0               0   \n",
       "35404              0                0            0               0   \n",
       "48550              0                0            0               0   \n",
       "35561              0                0            0               0   \n",
       "8282               0                0            0               0   \n",
       "571                0                0            0               0   \n",
       "30594              0                0            0               0   \n",
       "18964              0                0            0               0   \n",
       "15100              0                0            0               0   \n",
       "\n",
       "       City_Geneva  City_Hamburg  City_Helsinki  City_Krakow  City_Lisbon  \\\n",
       "7362             0             0              0            0            0   \n",
       "43473            0             0              0            0            0   \n",
       "35404            0             0              0            0            0   \n",
       "48550            0             0              0            0            0   \n",
       "35561            0             0              0            0            0   \n",
       "8282             0             0              0            0            0   \n",
       "571              0             0              0            0            0   \n",
       "30594            0             0              0            0            0   \n",
       "18964            0             0              0            0            0   \n",
       "15100            0             0              0            0            1   \n",
       "\n",
       "       City_Ljubljana  City_London  City_Luxembourg  City_Lyon  City_Madrid  \\\n",
       "7362                0            1                0          0            0   \n",
       "43473               0            0                0          1            0   \n",
       "35404               0            0                0          0            1   \n",
       "48550               0            0                0          0            0   \n",
       "35561               0            0                0          0            1   \n",
       "8282                0            1                0          0            0   \n",
       "571                 0            0                0          0            0   \n",
       "30594               0            0                0          0            0   \n",
       "18964               0            0                0          0            0   \n",
       "15100               0            0                0          0            0   \n",
       "\n",
       "       City_Milan  City_Munich  City_Oporto  City_Oslo  City_Paris  \\\n",
       "7362            0            0            0          0           0   \n",
       "43473           0            0            0          0           0   \n",
       "35404           0            0            0          0           0   \n",
       "48550           0            0            0          0           0   \n",
       "35561           0            0            0          0           0   \n",
       "8282            0            0            0          0           0   \n",
       "571             0            0            0          0           1   \n",
       "30594           0            0            0          0           0   \n",
       "18964           0            0            0          0           0   \n",
       "15100           0            0            0          0           0   \n",
       "\n",
       "       City_Prague  City_Rome  City_Stockholm  City_Vienna  City_Warsaw  \\\n",
       "7362             0          0               0            0            0   \n",
       "43473            0          0               0            0            0   \n",
       "35404            0          0               0            0            0   \n",
       "48550            0          0               0            0            0   \n",
       "35561            0          0               0            0            0   \n",
       "8282             0          0               0            0            0   \n",
       "571              0          0               0            0            0   \n",
       "30594            0          0               0            0            0   \n",
       "18964            0          1               0            0            0   \n",
       "15100            0          0               0            0            0   \n",
       "\n",
       "       City_Zurich  \n",
       "7362             0  \n",
       "43473            0  \n",
       "35404            0  \n",
       "48550            1  \n",
       "35561            0  \n",
       "8282             0  \n",
       "571              0  \n",
       "30594            0  \n",
       "18964            0  \n",
       "15100            0  "
      ]
     },
     "execution_count": 88,
     "metadata": {},
     "output_type": "execute_result"
    }
   ],
   "source": [
    "test_data.sample(10)"
   ]
  },
  {
   "cell_type": "code",
   "execution_count": 89,
   "metadata": {},
   "outputs": [],
   "source": [
    "test_data = test_data.drop(['Rating'], axis=1)"
   ]
  },
  {
   "cell_type": "code",
   "execution_count": 90,
   "metadata": {},
   "outputs": [
    {
     "data": {
      "text/html": [
       "<div>\n",
       "<style scoped>\n",
       "    .dataframe tbody tr th:only-of-type {\n",
       "        vertical-align: middle;\n",
       "    }\n",
       "\n",
       "    .dataframe tbody tr th {\n",
       "        vertical-align: top;\n",
       "    }\n",
       "\n",
       "    .dataframe thead th {\n",
       "        text-align: right;\n",
       "    }\n",
       "</style>\n",
       "<table border=\"1\" class=\"dataframe\">\n",
       "  <thead>\n",
       "    <tr style=\"text-align: right;\">\n",
       "      <th></th>\n",
       "      <th>Restaurant_id</th>\n",
       "      <th>Rating</th>\n",
       "    </tr>\n",
       "  </thead>\n",
       "  <tbody>\n",
       "    <tr>\n",
       "      <th>0</th>\n",
       "      <td>id_0</td>\n",
       "      <td>2.0</td>\n",
       "    </tr>\n",
       "    <tr>\n",
       "      <th>1</th>\n",
       "      <td>id_1</td>\n",
       "      <td>2.5</td>\n",
       "    </tr>\n",
       "    <tr>\n",
       "      <th>2</th>\n",
       "      <td>id_2</td>\n",
       "      <td>4.0</td>\n",
       "    </tr>\n",
       "    <tr>\n",
       "      <th>3</th>\n",
       "      <td>id_3</td>\n",
       "      <td>1.0</td>\n",
       "    </tr>\n",
       "    <tr>\n",
       "      <th>4</th>\n",
       "      <td>id_4</td>\n",
       "      <td>4.0</td>\n",
       "    </tr>\n",
       "    <tr>\n",
       "      <th>...</th>\n",
       "      <td>...</td>\n",
       "      <td>...</td>\n",
       "    </tr>\n",
       "    <tr>\n",
       "      <th>9995</th>\n",
       "      <td>id_9995</td>\n",
       "      <td>3.0</td>\n",
       "    </tr>\n",
       "    <tr>\n",
       "      <th>9996</th>\n",
       "      <td>id_9996</td>\n",
       "      <td>1.5</td>\n",
       "    </tr>\n",
       "    <tr>\n",
       "      <th>9997</th>\n",
       "      <td>id_9997</td>\n",
       "      <td>4.5</td>\n",
       "    </tr>\n",
       "    <tr>\n",
       "      <th>9998</th>\n",
       "      <td>id_9998</td>\n",
       "      <td>1.0</td>\n",
       "    </tr>\n",
       "    <tr>\n",
       "      <th>9999</th>\n",
       "      <td>id_9999</td>\n",
       "      <td>2.5</td>\n",
       "    </tr>\n",
       "  </tbody>\n",
       "</table>\n",
       "<p>10000 rows × 2 columns</p>\n",
       "</div>"
      ],
      "text/plain": [
       "     Restaurant_id  Rating\n",
       "0             id_0     2.0\n",
       "1             id_1     2.5\n",
       "2             id_2     4.0\n",
       "3             id_3     1.0\n",
       "4             id_4     4.0\n",
       "...            ...     ...\n",
       "9995       id_9995     3.0\n",
       "9996       id_9996     1.5\n",
       "9997       id_9997     4.5\n",
       "9998       id_9998     1.0\n",
       "9999       id_9999     2.5\n",
       "\n",
       "[10000 rows x 2 columns]"
      ]
     },
     "execution_count": 90,
     "metadata": {},
     "output_type": "execute_result"
    }
   ],
   "source": [
    "sample_submission"
   ]
  },
  {
   "cell_type": "code",
   "execution_count": 91,
   "metadata": {},
   "outputs": [
    {
     "name": "stderr",
     "output_type": "stream",
     "text": [
      "[Parallel(n_jobs=2)]: Using backend ThreadingBackend with 2 concurrent workers.\n",
      "[Parallel(n_jobs=2)]: Done  46 tasks      | elapsed:    0.3s\n",
      "[Parallel(n_jobs=2)]: Done 100 out of 100 | elapsed:    0.5s finished\n"
     ]
    }
   ],
   "source": [
    "predict_submission = model.predict(test_data)"
   ]
  },
  {
   "cell_type": "code",
   "execution_count": 92,
   "metadata": {},
   "outputs": [
    {
     "data": {
      "text/plain": [
       "array([3.045, 4.405, 3.15 , ..., 4.08 , 4.36 , 4.395])"
      ]
     },
     "execution_count": 92,
     "metadata": {},
     "output_type": "execute_result"
    }
   ],
   "source": [
    "predict_submission"
   ]
  },
  {
   "cell_type": "code",
   "execution_count": 93,
   "metadata": {},
   "outputs": [
    {
     "data": {
      "text/html": [
       "<div>\n",
       "<style scoped>\n",
       "    .dataframe tbody tr th:only-of-type {\n",
       "        vertical-align: middle;\n",
       "    }\n",
       "\n",
       "    .dataframe tbody tr th {\n",
       "        vertical-align: top;\n",
       "    }\n",
       "\n",
       "    .dataframe thead th {\n",
       "        text-align: right;\n",
       "    }\n",
       "</style>\n",
       "<table border=\"1\" class=\"dataframe\">\n",
       "  <thead>\n",
       "    <tr style=\"text-align: right;\">\n",
       "      <th></th>\n",
       "      <th>Restaurant_id</th>\n",
       "      <th>Rating</th>\n",
       "    </tr>\n",
       "  </thead>\n",
       "  <tbody>\n",
       "    <tr>\n",
       "      <th>0</th>\n",
       "      <td>id_0</td>\n",
       "      <td>3.045</td>\n",
       "    </tr>\n",
       "    <tr>\n",
       "      <th>1</th>\n",
       "      <td>id_1</td>\n",
       "      <td>4.405</td>\n",
       "    </tr>\n",
       "    <tr>\n",
       "      <th>2</th>\n",
       "      <td>id_2</td>\n",
       "      <td>3.150</td>\n",
       "    </tr>\n",
       "    <tr>\n",
       "      <th>3</th>\n",
       "      <td>id_3</td>\n",
       "      <td>4.915</td>\n",
       "    </tr>\n",
       "    <tr>\n",
       "      <th>4</th>\n",
       "      <td>id_4</td>\n",
       "      <td>4.565</td>\n",
       "    </tr>\n",
       "    <tr>\n",
       "      <th>5</th>\n",
       "      <td>id_5</td>\n",
       "      <td>3.740</td>\n",
       "    </tr>\n",
       "    <tr>\n",
       "      <th>6</th>\n",
       "      <td>id_6</td>\n",
       "      <td>3.775</td>\n",
       "    </tr>\n",
       "    <tr>\n",
       "      <th>7</th>\n",
       "      <td>id_7</td>\n",
       "      <td>2.865</td>\n",
       "    </tr>\n",
       "    <tr>\n",
       "      <th>8</th>\n",
       "      <td>id_8</td>\n",
       "      <td>3.275</td>\n",
       "    </tr>\n",
       "    <tr>\n",
       "      <th>9</th>\n",
       "      <td>id_9</td>\n",
       "      <td>3.910</td>\n",
       "    </tr>\n",
       "  </tbody>\n",
       "</table>\n",
       "</div>"
      ],
      "text/plain": [
       "  Restaurant_id  Rating\n",
       "0          id_0   3.045\n",
       "1          id_1   4.405\n",
       "2          id_2   3.150\n",
       "3          id_3   4.915\n",
       "4          id_4   4.565\n",
       "5          id_5   3.740\n",
       "6          id_6   3.775\n",
       "7          id_7   2.865\n",
       "8          id_8   3.275\n",
       "9          id_9   3.910"
      ]
     },
     "execution_count": 93,
     "metadata": {},
     "output_type": "execute_result"
    }
   ],
   "source": [
    "sample_submission['Rating'] = predict_submission\n",
    "sample_submission.to_csv('submission.csv', index=False)\n",
    "sample_submission.head(10)"
   ]
  }
 ],
 "metadata": {
  "kernelspec": {
   "display_name": "Python 3",
   "language": "python",
   "name": "python3"
  },
  "language_info": {
   "codemirror_mode": {
    "name": "ipython",
    "version": 3
   },
   "file_extension": ".py",
   "mimetype": "text/x-python",
   "name": "python",
   "nbconvert_exporter": "python",
   "pygments_lexer": "ipython3",
   "version": "3.7.6"
  }
 },
 "nbformat": 4,
 "nbformat_minor": 4
}
