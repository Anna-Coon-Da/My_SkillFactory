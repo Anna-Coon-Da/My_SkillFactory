{
 "cells": [
  {
   "cell_type": "markdown",
   "metadata": {},
   "source": [
    "# Рейтинг ресторанов по версии Trip Advisor\n",
    "## Задание к Юниту 3 \"Проект о вкусной  и здоровой пище\" \n",
    "### Анна Журавлёва, группа DST-16\n",
    "\n",
    "В данном ноутбуке на основании предложенных датасетов выполняется предсказаниие рейтинга ресторанов по версии Trip Advisor с помощью модели Random Forest."
   ]
  },
  {
   "cell_type": "markdown",
   "metadata": {},
   "source": [
    "### Загружаем необходимые для работы библиотеки"
   ]
  },
  {
   "cell_type": "code",
   "execution_count": 172,
   "metadata": {},
   "outputs": [],
   "source": [
    "import pandas as pd\n",
    "import numpy as np\n",
    "import ast\n",
    "from datetime import datetime, timedelta\n",
    "import matplotlib.pyplot as plt\n",
    "import seaborn as sns \n",
    "%matplotlib inline"
   ]
  },
  {
   "cell_type": "markdown",
   "metadata": {},
   "source": [
    "## Настройки представления"
   ]
  },
  {
   "cell_type": "code",
   "execution_count": 173,
   "metadata": {},
   "outputs": [],
   "source": [
    "pd.set_option('display.max_rows', 50) # показывать больше строк\n",
    "pd.set_option('display.max_columns', 50) # показывать больше колонок"
   ]
  },
  {
   "cell_type": "markdown",
   "metadata": {},
   "source": [
    "## Зафиксируем random seed для воспроизводимости экспериментов"
   ]
  },
  {
   "cell_type": "code",
   "execution_count": 174,
   "metadata": {},
   "outputs": [],
   "source": [
    "RANDOM_SEED = 42"
   ]
  },
  {
   "cell_type": "markdown",
   "metadata": {},
   "source": [
    "## Зафиксируем версию пакетов"
   ]
  },
  {
   "cell_type": "code",
   "execution_count": 175,
   "metadata": {},
   "outputs": [],
   "source": [
    "!pip freeze > requirements.txt"
   ]
  },
  {
   "cell_type": "markdown",
   "metadata": {},
   "source": [
    "## Загрузка, обзор и преобразование данных\n",
    "Данные представлены в виде выложенных на kaggle двух датасетов c данными и одного датасета для представления на соревнование. Все датасеты предложены  в формате csv."
   ]
  },
  {
   "cell_type": "markdown",
   "metadata": {},
   "source": [
    "Загрузим датасеты:"
   ]
  },
  {
   "cell_type": "code",
   "execution_count": 420,
   "metadata": {},
   "outputs": [],
   "source": [
    "df_train = pd.read_csv('main_task.csv')\n",
    "df_test = pd.read_csv('kaggle_task.csv')\n",
    "sample_submission = pd.read_csv('sample_submission.csv')"
   ]
  },
  {
   "cell_type": "markdown",
   "metadata": {},
   "source": [
    "Рассмотрим первый датасет"
   ]
  },
  {
   "cell_type": "code",
   "execution_count": 421,
   "metadata": {},
   "outputs": [
    {
     "data": {
      "text/html": [
       "<div>\n",
       "<style scoped>\n",
       "    .dataframe tbody tr th:only-of-type {\n",
       "        vertical-align: middle;\n",
       "    }\n",
       "\n",
       "    .dataframe tbody tr th {\n",
       "        vertical-align: top;\n",
       "    }\n",
       "\n",
       "    .dataframe thead th {\n",
       "        text-align: right;\n",
       "    }\n",
       "</style>\n",
       "<table border=\"1\" class=\"dataframe\">\n",
       "  <thead>\n",
       "    <tr style=\"text-align: right;\">\n",
       "      <th></th>\n",
       "      <th>Restaurant_id</th>\n",
       "      <th>City</th>\n",
       "      <th>Cuisine Style</th>\n",
       "      <th>Ranking</th>\n",
       "      <th>Rating</th>\n",
       "      <th>Price Range</th>\n",
       "      <th>Number of Reviews</th>\n",
       "      <th>Reviews</th>\n",
       "      <th>URL_TA</th>\n",
       "      <th>ID_TA</th>\n",
       "    </tr>\n",
       "  </thead>\n",
       "  <tbody>\n",
       "    <tr>\n",
       "      <th>0</th>\n",
       "      <td>id_5569</td>\n",
       "      <td>Paris</td>\n",
       "      <td>['European', 'French', 'International']</td>\n",
       "      <td>5570.0</td>\n",
       "      <td>3.5</td>\n",
       "      <td>$$ - $$$</td>\n",
       "      <td>194.0</td>\n",
       "      <td>[['Good food at your doorstep', 'A good hotel ...</td>\n",
       "      <td>/Restaurant_Review-g187147-d1912643-Reviews-R_...</td>\n",
       "      <td>d1912643</td>\n",
       "    </tr>\n",
       "    <tr>\n",
       "      <th>1</th>\n",
       "      <td>id_1535</td>\n",
       "      <td>Stockholm</td>\n",
       "      <td>NaN</td>\n",
       "      <td>1537.0</td>\n",
       "      <td>4.0</td>\n",
       "      <td>NaN</td>\n",
       "      <td>10.0</td>\n",
       "      <td>[['Unique cuisine', 'Delicious Nepalese food']...</td>\n",
       "      <td>/Restaurant_Review-g189852-d7992032-Reviews-Bu...</td>\n",
       "      <td>d7992032</td>\n",
       "    </tr>\n",
       "    <tr>\n",
       "      <th>2</th>\n",
       "      <td>id_352</td>\n",
       "      <td>London</td>\n",
       "      <td>['Japanese', 'Sushi', 'Asian', 'Grill', 'Veget...</td>\n",
       "      <td>353.0</td>\n",
       "      <td>4.5</td>\n",
       "      <td>$$$$</td>\n",
       "      <td>688.0</td>\n",
       "      <td>[['Catch up with friends', 'Not exceptional'],...</td>\n",
       "      <td>/Restaurant_Review-g186338-d8632781-Reviews-RO...</td>\n",
       "      <td>d8632781</td>\n",
       "    </tr>\n",
       "    <tr>\n",
       "      <th>3</th>\n",
       "      <td>id_3456</td>\n",
       "      <td>Berlin</td>\n",
       "      <td>NaN</td>\n",
       "      <td>3458.0</td>\n",
       "      <td>5.0</td>\n",
       "      <td>NaN</td>\n",
       "      <td>3.0</td>\n",
       "      <td>[[], []]</td>\n",
       "      <td>/Restaurant_Review-g187323-d1358776-Reviews-Es...</td>\n",
       "      <td>d1358776</td>\n",
       "    </tr>\n",
       "    <tr>\n",
       "      <th>4</th>\n",
       "      <td>id_615</td>\n",
       "      <td>Munich</td>\n",
       "      <td>['German', 'Central European', 'Vegetarian Fri...</td>\n",
       "      <td>621.0</td>\n",
       "      <td>4.0</td>\n",
       "      <td>$$ - $$$</td>\n",
       "      <td>84.0</td>\n",
       "      <td>[['Best place to try a Bavarian food', 'Nice b...</td>\n",
       "      <td>/Restaurant_Review-g187309-d6864963-Reviews-Au...</td>\n",
       "      <td>d6864963</td>\n",
       "    </tr>\n",
       "  </tbody>\n",
       "</table>\n",
       "</div>"
      ],
      "text/plain": [
       "  Restaurant_id       City                                      Cuisine Style  \\\n",
       "0       id_5569      Paris            ['European', 'French', 'International']   \n",
       "1       id_1535  Stockholm                                                NaN   \n",
       "2        id_352     London  ['Japanese', 'Sushi', 'Asian', 'Grill', 'Veget...   \n",
       "3       id_3456     Berlin                                                NaN   \n",
       "4        id_615     Munich  ['German', 'Central European', 'Vegetarian Fri...   \n",
       "\n",
       "   Ranking  Rating Price Range  Number of Reviews  \\\n",
       "0   5570.0     3.5    $$ - $$$              194.0   \n",
       "1   1537.0     4.0         NaN               10.0   \n",
       "2    353.0     4.5        $$$$              688.0   \n",
       "3   3458.0     5.0         NaN                3.0   \n",
       "4    621.0     4.0    $$ - $$$               84.0   \n",
       "\n",
       "                                             Reviews  \\\n",
       "0  [['Good food at your doorstep', 'A good hotel ...   \n",
       "1  [['Unique cuisine', 'Delicious Nepalese food']...   \n",
       "2  [['Catch up with friends', 'Not exceptional'],...   \n",
       "3                                           [[], []]   \n",
       "4  [['Best place to try a Bavarian food', 'Nice b...   \n",
       "\n",
       "                                              URL_TA     ID_TA  \n",
       "0  /Restaurant_Review-g187147-d1912643-Reviews-R_...  d1912643  \n",
       "1  /Restaurant_Review-g189852-d7992032-Reviews-Bu...  d7992032  \n",
       "2  /Restaurant_Review-g186338-d8632781-Reviews-RO...  d8632781  \n",
       "3  /Restaurant_Review-g187323-d1358776-Reviews-Es...  d1358776  \n",
       "4  /Restaurant_Review-g187309-d6864963-Reviews-Au...  d6864963  "
      ]
     },
     "execution_count": 421,
     "metadata": {},
     "output_type": "execute_result"
    }
   ],
   "source": [
    "df_train.head()"
   ]
  },
  {
   "cell_type": "code",
   "execution_count": 422,
   "metadata": {},
   "outputs": [
    {
     "name": "stdout",
     "output_type": "stream",
     "text": [
      "<class 'pandas.core.frame.DataFrame'>\n",
      "RangeIndex: 40000 entries, 0 to 39999\n",
      "Data columns (total 10 columns):\n",
      " #   Column             Non-Null Count  Dtype  \n",
      "---  ------             --------------  -----  \n",
      " 0   Restaurant_id      40000 non-null  object \n",
      " 1   City               40000 non-null  object \n",
      " 2   Cuisine Style      30717 non-null  object \n",
      " 3   Ranking            40000 non-null  float64\n",
      " 4   Rating             40000 non-null  float64\n",
      " 5   Price Range        26114 non-null  object \n",
      " 6   Number of Reviews  37457 non-null  float64\n",
      " 7   Reviews            40000 non-null  object \n",
      " 8   URL_TA             40000 non-null  object \n",
      " 9   ID_TA              40000 non-null  object \n",
      "dtypes: float64(3), object(7)\n",
      "memory usage: 3.1+ MB\n"
     ]
    }
   ],
   "source": [
    "df_train.info()"
   ]
  },
  {
   "cell_type": "markdown",
   "metadata": {},
   "source": [
    "В первом датасете 40000 записей и 10 колонок с информацией. Пустые значения явным образом содержатся в трёх колонках.\n",
    "\n",
    "Рассмотрим второй датасет"
   ]
  },
  {
   "cell_type": "code",
   "execution_count": 423,
   "metadata": {},
   "outputs": [
    {
     "data": {
      "text/html": [
       "<div>\n",
       "<style scoped>\n",
       "    .dataframe tbody tr th:only-of-type {\n",
       "        vertical-align: middle;\n",
       "    }\n",
       "\n",
       "    .dataframe tbody tr th {\n",
       "        vertical-align: top;\n",
       "    }\n",
       "\n",
       "    .dataframe thead th {\n",
       "        text-align: right;\n",
       "    }\n",
       "</style>\n",
       "<table border=\"1\" class=\"dataframe\">\n",
       "  <thead>\n",
       "    <tr style=\"text-align: right;\">\n",
       "      <th></th>\n",
       "      <th>Restaurant_id</th>\n",
       "      <th>City</th>\n",
       "      <th>Cuisine Style</th>\n",
       "      <th>Ranking</th>\n",
       "      <th>Price Range</th>\n",
       "      <th>Number of Reviews</th>\n",
       "      <th>Reviews</th>\n",
       "      <th>URL_TA</th>\n",
       "      <th>ID_TA</th>\n",
       "    </tr>\n",
       "  </thead>\n",
       "  <tbody>\n",
       "    <tr>\n",
       "      <th>0</th>\n",
       "      <td>id_0</td>\n",
       "      <td>Paris</td>\n",
       "      <td>['Bar', 'Pub']</td>\n",
       "      <td>12963.0</td>\n",
       "      <td>$$ - $$$</td>\n",
       "      <td>4.0</td>\n",
       "      <td>[[], []]</td>\n",
       "      <td>/Restaurant_Review-g187147-d10746918-Reviews-L...</td>\n",
       "      <td>d10746918</td>\n",
       "    </tr>\n",
       "    <tr>\n",
       "      <th>1</th>\n",
       "      <td>id_1</td>\n",
       "      <td>Helsinki</td>\n",
       "      <td>['European', 'Scandinavian', 'Gluten Free Opti...</td>\n",
       "      <td>106.0</td>\n",
       "      <td>$$ - $$$</td>\n",
       "      <td>97.0</td>\n",
       "      <td>[['Very good reviews!', 'Fine dining in Hakani...</td>\n",
       "      <td>/Restaurant_Review-g189934-d6674944-Reviews-Ra...</td>\n",
       "      <td>d6674944</td>\n",
       "    </tr>\n",
       "    <tr>\n",
       "      <th>2</th>\n",
       "      <td>id_2</td>\n",
       "      <td>Edinburgh</td>\n",
       "      <td>['Vegetarian Friendly']</td>\n",
       "      <td>810.0</td>\n",
       "      <td>$$ - $$$</td>\n",
       "      <td>28.0</td>\n",
       "      <td>[['Better than the Links', 'Ivy Black'], ['12/...</td>\n",
       "      <td>/Restaurant_Review-g186525-d13129638-Reviews-B...</td>\n",
       "      <td>d13129638</td>\n",
       "    </tr>\n",
       "    <tr>\n",
       "      <th>3</th>\n",
       "      <td>id_3</td>\n",
       "      <td>London</td>\n",
       "      <td>['Italian', 'Mediterranean', 'European', 'Vege...</td>\n",
       "      <td>1669.0</td>\n",
       "      <td>$$$$</td>\n",
       "      <td>202.0</td>\n",
       "      <td>[['Most exquisite', 'Delicious and authentic']...</td>\n",
       "      <td>/Restaurant_Review-g186338-d680417-Reviews-Qui...</td>\n",
       "      <td>d680417</td>\n",
       "    </tr>\n",
       "    <tr>\n",
       "      <th>4</th>\n",
       "      <td>id_4</td>\n",
       "      <td>Bratislava</td>\n",
       "      <td>['Italian', 'Mediterranean', 'European', 'Seaf...</td>\n",
       "      <td>37.0</td>\n",
       "      <td>$$$$</td>\n",
       "      <td>162.0</td>\n",
       "      <td>[['Always the best in bratislava', 'Very good ...</td>\n",
       "      <td>/Restaurant_Review-g274924-d1112354-Reviews-Ma...</td>\n",
       "      <td>d1112354</td>\n",
       "    </tr>\n",
       "  </tbody>\n",
       "</table>\n",
       "</div>"
      ],
      "text/plain": [
       "  Restaurant_id        City  \\\n",
       "0          id_0       Paris   \n",
       "1          id_1    Helsinki   \n",
       "2          id_2   Edinburgh   \n",
       "3          id_3      London   \n",
       "4          id_4  Bratislava   \n",
       "\n",
       "                                       Cuisine Style  Ranking Price Range  \\\n",
       "0                                     ['Bar', 'Pub']  12963.0    $$ - $$$   \n",
       "1  ['European', 'Scandinavian', 'Gluten Free Opti...    106.0    $$ - $$$   \n",
       "2                            ['Vegetarian Friendly']    810.0    $$ - $$$   \n",
       "3  ['Italian', 'Mediterranean', 'European', 'Vege...   1669.0        $$$$   \n",
       "4  ['Italian', 'Mediterranean', 'European', 'Seaf...     37.0        $$$$   \n",
       "\n",
       "   Number of Reviews                                            Reviews  \\\n",
       "0                4.0                                           [[], []]   \n",
       "1               97.0  [['Very good reviews!', 'Fine dining in Hakani...   \n",
       "2               28.0  [['Better than the Links', 'Ivy Black'], ['12/...   \n",
       "3              202.0  [['Most exquisite', 'Delicious and authentic']...   \n",
       "4              162.0  [['Always the best in bratislava', 'Very good ...   \n",
       "\n",
       "                                              URL_TA      ID_TA  \n",
       "0  /Restaurant_Review-g187147-d10746918-Reviews-L...  d10746918  \n",
       "1  /Restaurant_Review-g189934-d6674944-Reviews-Ra...   d6674944  \n",
       "2  /Restaurant_Review-g186525-d13129638-Reviews-B...  d13129638  \n",
       "3  /Restaurant_Review-g186338-d680417-Reviews-Qui...    d680417  \n",
       "4  /Restaurant_Review-g274924-d1112354-Reviews-Ma...   d1112354  "
      ]
     },
     "execution_count": 423,
     "metadata": {},
     "output_type": "execute_result"
    }
   ],
   "source": [
    "df_test.head()"
   ]
  },
  {
   "cell_type": "code",
   "execution_count": 424,
   "metadata": {},
   "outputs": [
    {
     "name": "stdout",
     "output_type": "stream",
     "text": [
      "<class 'pandas.core.frame.DataFrame'>\n",
      "RangeIndex: 10000 entries, 0 to 9999\n",
      "Data columns (total 9 columns):\n",
      " #   Column             Non-Null Count  Dtype  \n",
      "---  ------             --------------  -----  \n",
      " 0   Restaurant_id      10000 non-null  object \n",
      " 1   City               10000 non-null  object \n",
      " 2   Cuisine Style      7693 non-null   object \n",
      " 3   Ranking            10000 non-null  float64\n",
      " 4   Price Range        6525 non-null   object \n",
      " 5   Number of Reviews  9343 non-null   float64\n",
      " 6   Reviews            9998 non-null   object \n",
      " 7   URL_TA             10000 non-null  object \n",
      " 8   ID_TA              10000 non-null  object \n",
      "dtypes: float64(2), object(7)\n",
      "memory usage: 703.2+ KB\n"
     ]
    }
   ],
   "source": [
    "df_test.info()"
   ]
  },
  {
   "cell_type": "markdown",
   "metadata": {},
   "source": [
    "Во втором датасете 10000 записей и 9 колонок с информацией. Пропуски в явном виде содержатся в 4 колонках. По заголовкам колонок и примерному содержанию согласно информации, видимой в head, датасеты совпадают за исключением столбца Rating, который и должен быть рассчитан по алгоритму, обученному из тестовых данных.\n",
    "\n",
    "Рассмотрим третий датасет"
   ]
  },
  {
   "cell_type": "code",
   "execution_count": 425,
   "metadata": {},
   "outputs": [
    {
     "data": {
      "text/html": [
       "<div>\n",
       "<style scoped>\n",
       "    .dataframe tbody tr th:only-of-type {\n",
       "        vertical-align: middle;\n",
       "    }\n",
       "\n",
       "    .dataframe tbody tr th {\n",
       "        vertical-align: top;\n",
       "    }\n",
       "\n",
       "    .dataframe thead th {\n",
       "        text-align: right;\n",
       "    }\n",
       "</style>\n",
       "<table border=\"1\" class=\"dataframe\">\n",
       "  <thead>\n",
       "    <tr style=\"text-align: right;\">\n",
       "      <th></th>\n",
       "      <th>Restaurant_id</th>\n",
       "      <th>Rating</th>\n",
       "    </tr>\n",
       "  </thead>\n",
       "  <tbody>\n",
       "    <tr>\n",
       "      <th>0</th>\n",
       "      <td>id_0</td>\n",
       "      <td>2.0</td>\n",
       "    </tr>\n",
       "    <tr>\n",
       "      <th>1</th>\n",
       "      <td>id_1</td>\n",
       "      <td>2.5</td>\n",
       "    </tr>\n",
       "    <tr>\n",
       "      <th>2</th>\n",
       "      <td>id_2</td>\n",
       "      <td>4.0</td>\n",
       "    </tr>\n",
       "    <tr>\n",
       "      <th>3</th>\n",
       "      <td>id_3</td>\n",
       "      <td>1.0</td>\n",
       "    </tr>\n",
       "    <tr>\n",
       "      <th>4</th>\n",
       "      <td>id_4</td>\n",
       "      <td>4.0</td>\n",
       "    </tr>\n",
       "  </tbody>\n",
       "</table>\n",
       "</div>"
      ],
      "text/plain": [
       "  Restaurant_id  Rating\n",
       "0          id_0     2.0\n",
       "1          id_1     2.5\n",
       "2          id_2     4.0\n",
       "3          id_3     1.0\n",
       "4          id_4     4.0"
      ]
     },
     "execution_count": 425,
     "metadata": {},
     "output_type": "execute_result"
    }
   ],
   "source": [
    "sample_submission.head()"
   ]
  },
  {
   "cell_type": "code",
   "execution_count": 426,
   "metadata": {},
   "outputs": [
    {
     "name": "stdout",
     "output_type": "stream",
     "text": [
      "<class 'pandas.core.frame.DataFrame'>\n",
      "RangeIndex: 10000 entries, 0 to 9999\n",
      "Data columns (total 2 columns):\n",
      " #   Column         Non-Null Count  Dtype  \n",
      "---  ------         --------------  -----  \n",
      " 0   Restaurant_id  10000 non-null  object \n",
      " 1   Rating         10000 non-null  float64\n",
      "dtypes: float64(1), object(1)\n",
      "memory usage: 156.4+ KB\n"
     ]
    }
   ],
   "source": [
    "sample_submission.info()"
   ]
  },
  {
   "cell_type": "markdown",
   "metadata": {},
   "source": [
    "Файл представляет собой список рейтингов ресторанов в привязке к ID. Он потребуется в финальной части для предоставления данных на Kaggle.\n",
    "\n",
    "Для корректной обработки признаков объединяем трейн и тест в один датасет."
   ]
  },
  {
   "cell_type": "code",
   "execution_count": 427,
   "metadata": {},
   "outputs": [],
   "source": [
    "df_train['sample'] = 1 # помечаем где у нас трейн\n",
    "df_test['sample'] = 0 # помечаем где у нас тест\n",
    "df_test['Rating'] = 0 # в тесте у нас нет значения Rating, мы его должны предсказать, по этому пока просто заполняем нулями\n",
    "\n",
    "data = df_test.append(df_train, sort=False).reset_index(drop=True) # объединяем"
   ]
  },
  {
   "cell_type": "code",
   "execution_count": 428,
   "metadata": {},
   "outputs": [
    {
     "name": "stdout",
     "output_type": "stream",
     "text": [
      "<class 'pandas.core.frame.DataFrame'>\n",
      "RangeIndex: 50000 entries, 0 to 49999\n",
      "Data columns (total 11 columns):\n",
      " #   Column             Non-Null Count  Dtype  \n",
      "---  ------             --------------  -----  \n",
      " 0   Restaurant_id      50000 non-null  object \n",
      " 1   City               50000 non-null  object \n",
      " 2   Cuisine Style      38410 non-null  object \n",
      " 3   Ranking            50000 non-null  float64\n",
      " 4   Price Range        32639 non-null  object \n",
      " 5   Number of Reviews  46800 non-null  float64\n",
      " 6   Reviews            49998 non-null  object \n",
      " 7   URL_TA             50000 non-null  object \n",
      " 8   ID_TA              50000 non-null  object \n",
      " 9   sample             50000 non-null  int64  \n",
      " 10  Rating             50000 non-null  float64\n",
      "dtypes: float64(3), int64(1), object(7)\n",
      "memory usage: 4.2+ MB\n"
     ]
    }
   ],
   "source": [
    "data.info()"
   ]
  },
  {
   "cell_type": "markdown",
   "metadata": {},
   "source": [
    "Подробнее по признакам:\n",
    "\n",
    "- City: Город\n",
    "- Cuisine Style: Кухня\n",
    "- Ranking: Ранг ресторана относительно других ресторанов в этом городе\n",
    "- Price Range: Цены в ресторане в 3 категориях\n",
    "- Number of Reviews: Количество отзывов\n",
    "- Reviews: 2 последних отзыва и даты этих отзывов\n",
    "- URL_TA: страница ресторана на 'www.tripadvisor.com'\n",
    "- ID_TA: ID ресторана в TripAdvisor\n",
    "- Rating: Рейтинг ресторана\n",
    "\n",
    "Признаки требуют заполнения пропусков, преобразования и обработки.\n",
    "\n",
    "## Очистка и преобразование данных\n",
    "Рассмотрим данные в комплексе и по столбцам.\n",
    "Оценим данные на наличие повторов. Функцию,высчитывающую процент пустых значений, запускать не будем, т.к. пустые значения удалению не подлежат."
   ]
  },
  {
   "cell_type": "code",
   "execution_count": 429,
   "metadata": {},
   "outputs": [
    {
     "data": {
      "text/plain": [
       "Restaurant_id        13094\n",
       "City                    31\n",
       "Cuisine Style        10732\n",
       "Ranking              12975\n",
       "Price Range              4\n",
       "Number of Reviews     1574\n",
       "Reviews              41858\n",
       "URL_TA               49963\n",
       "ID_TA                49963\n",
       "sample                   2\n",
       "Rating                  10\n",
       "dtype: int64"
      ]
     },
     "execution_count": 429,
     "metadata": {},
     "output_type": "execute_result"
    }
   ],
   "source": [
    "data.nunique(axis=0,dropna=False)"
   ]
  },
  {
   "cell_type": "markdown",
   "metadata": {},
   "source": [
    "Интересно, что в категории Restaurant_id не все значения уникальны. \n",
    "Начнём рассмотрение с этой категории."
   ]
  },
  {
   "cell_type": "code",
   "execution_count": 430,
   "metadata": {},
   "outputs": [
    {
     "data": {
      "text/plain": [
       "id_871      19\n",
       "id_633      19\n",
       "id_227      19\n",
       "id_436      19\n",
       "id_430      18\n",
       "            ..\n",
       "id_13606     1\n",
       "id_16194     1\n",
       "id_10886     1\n",
       "id_15016     1\n",
       "id_11461     1\n",
       "Name: Restaurant_id, Length: 13094, dtype: int64"
      ]
     },
     "execution_count": 430,
     "metadata": {},
     "output_type": "execute_result"
    }
   ],
   "source": [
    "data['Restaurant_id'].value_counts()"
   ]
  },
  {
   "cell_type": "markdown",
   "metadata": {},
   "source": [
    "Действительно, некоторые позиции повторяются почти 20 раз. Профильтруем датасет по топовому значению, возможно, что-то увидим."
   ]
  },
  {
   "cell_type": "code",
   "execution_count": 431,
   "metadata": {},
   "outputs": [
    {
     "data": {
      "text/html": [
       "<div>\n",
       "<style scoped>\n",
       "    .dataframe tbody tr th:only-of-type {\n",
       "        vertical-align: middle;\n",
       "    }\n",
       "\n",
       "    .dataframe tbody tr th {\n",
       "        vertical-align: top;\n",
       "    }\n",
       "\n",
       "    .dataframe thead th {\n",
       "        text-align: right;\n",
       "    }\n",
       "</style>\n",
       "<table border=\"1\" class=\"dataframe\">\n",
       "  <thead>\n",
       "    <tr style=\"text-align: right;\">\n",
       "      <th></th>\n",
       "      <th>Restaurant_id</th>\n",
       "      <th>City</th>\n",
       "      <th>Cuisine Style</th>\n",
       "      <th>Ranking</th>\n",
       "      <th>Price Range</th>\n",
       "      <th>Number of Reviews</th>\n",
       "      <th>Reviews</th>\n",
       "      <th>URL_TA</th>\n",
       "      <th>ID_TA</th>\n",
       "      <th>sample</th>\n",
       "      <th>Rating</th>\n",
       "    </tr>\n",
       "  </thead>\n",
       "  <tbody>\n",
       "    <tr>\n",
       "      <th>436</th>\n",
       "      <td>id_436</td>\n",
       "      <td>Lisbon</td>\n",
       "      <td>['European', 'Portuguese']</td>\n",
       "      <td>2904.0</td>\n",
       "      <td>NaN</td>\n",
       "      <td>2.0</td>\n",
       "      <td>[[], []]</td>\n",
       "      <td>/Restaurant_Review-g189158-d5003144-Reviews-Gu...</td>\n",
       "      <td>d5003144</td>\n",
       "      <td>0</td>\n",
       "      <td>0.0</td>\n",
       "    </tr>\n",
       "    <tr>\n",
       "      <th>12955</th>\n",
       "      <td>id_436</td>\n",
       "      <td>Barcelona</td>\n",
       "      <td>['Seafood', 'Mediterranean', 'Spanish', 'Glute...</td>\n",
       "      <td>437.0</td>\n",
       "      <td>$$ - $$$</td>\n",
       "      <td>546.0</td>\n",
       "      <td>[['Fresh Fish', 'Perfect concept'], ['01/03/20...</td>\n",
       "      <td>/Restaurant_Review-g187497-d1592613-Reviews-La...</td>\n",
       "      <td>d1592613</td>\n",
       "      <td>1</td>\n",
       "      <td>4.5</td>\n",
       "    </tr>\n",
       "    <tr>\n",
       "      <th>14674</th>\n",
       "      <td>id_436</td>\n",
       "      <td>Copenhagen</td>\n",
       "      <td>['European', 'Spanish', 'Mediterranean', 'Vege...</td>\n",
       "      <td>437.0</td>\n",
       "      <td>$$ - $$$</td>\n",
       "      <td>89.0</td>\n",
       "      <td>[['Lovely restaurant', 'Great atmosphere and g...</td>\n",
       "      <td>/Restaurant_Review-g189541-d8738362-Reviews-To...</td>\n",
       "      <td>d8738362</td>\n",
       "      <td>1</td>\n",
       "      <td>4.0</td>\n",
       "    </tr>\n",
       "    <tr>\n",
       "      <th>16118</th>\n",
       "      <td>id_436</td>\n",
       "      <td>Oporto</td>\n",
       "      <td>['European', 'Portuguese', 'Soups', 'Cafe', 'V...</td>\n",
       "      <td>437.0</td>\n",
       "      <td>$</td>\n",
       "      <td>71.0</td>\n",
       "      <td>[['Super nice healthy and good', 'Great lunch ...</td>\n",
       "      <td>/Restaurant_Review-g189180-d9463122-Reviews-Ca...</td>\n",
       "      <td>d9463122</td>\n",
       "      <td>1</td>\n",
       "      <td>4.5</td>\n",
       "    </tr>\n",
       "    <tr>\n",
       "      <th>16215</th>\n",
       "      <td>id_436</td>\n",
       "      <td>Budapest</td>\n",
       "      <td>['American', 'Vegetarian Friendly', 'Vegan Opt...</td>\n",
       "      <td>437.0</td>\n",
       "      <td>$</td>\n",
       "      <td>68.0</td>\n",
       "      <td>[['Excellent', 'Best burger ever!'], ['12/05/2...</td>\n",
       "      <td>/Restaurant_Review-g274887-d10438365-Reviews-B...</td>\n",
       "      <td>d10438365</td>\n",
       "      <td>1</td>\n",
       "      <td>4.5</td>\n",
       "    </tr>\n",
       "    <tr>\n",
       "      <th>17377</th>\n",
       "      <td>id_436</td>\n",
       "      <td>Luxembourg</td>\n",
       "      <td>['Asian']</td>\n",
       "      <td>437.0</td>\n",
       "      <td>NaN</td>\n",
       "      <td>2.0</td>\n",
       "      <td>[['ZEN'], ['06/11/2016']]</td>\n",
       "      <td>/Restaurant_Review-g190356-d743888-Reviews-Zen...</td>\n",
       "      <td>d743888</td>\n",
       "      <td>1</td>\n",
       "      <td>4.5</td>\n",
       "    </tr>\n",
       "    <tr>\n",
       "      <th>18168</th>\n",
       "      <td>id_436</td>\n",
       "      <td>Oslo</td>\n",
       "      <td>['European', 'Scandinavian']</td>\n",
       "      <td>437.0</td>\n",
       "      <td>$$$$</td>\n",
       "      <td>51.0</td>\n",
       "      <td>[['Stunning views over Oslo', 'Brilliant break...</td>\n",
       "      <td>/Restaurant_Review-g190479-d2036436-Reviews-Re...</td>\n",
       "      <td>d2036436</td>\n",
       "      <td>1</td>\n",
       "      <td>4.0</td>\n",
       "    </tr>\n",
       "    <tr>\n",
       "      <th>18497</th>\n",
       "      <td>id_436</td>\n",
       "      <td>Milan</td>\n",
       "      <td>['Italian', 'Pizza', 'Mediterranean', 'Vegetar...</td>\n",
       "      <td>437.0</td>\n",
       "      <td>$$ - $$$</td>\n",
       "      <td>855.0</td>\n",
       "      <td>[['Nice Napoli style pizza place', 'Great Neap...</td>\n",
       "      <td>/Restaurant_Review-g187849-d1553645-Reviews-Il...</td>\n",
       "      <td>d1553645</td>\n",
       "      <td>1</td>\n",
       "      <td>4.0</td>\n",
       "    </tr>\n",
       "    <tr>\n",
       "      <th>22554</th>\n",
       "      <td>id_436</td>\n",
       "      <td>Ljubljana</td>\n",
       "      <td>NaN</td>\n",
       "      <td>437.0</td>\n",
       "      <td>NaN</td>\n",
       "      <td>14.0</td>\n",
       "      <td>[['Terrible staff and service', 'Disrespectful...</td>\n",
       "      <td>/Restaurant_Review-g274873-d12607480-Reviews-C...</td>\n",
       "      <td>d12607480</td>\n",
       "      <td>1</td>\n",
       "      <td>3.0</td>\n",
       "    </tr>\n",
       "    <tr>\n",
       "      <th>23313</th>\n",
       "      <td>id_436</td>\n",
       "      <td>Krakow</td>\n",
       "      <td>['Vegetarian Friendly']</td>\n",
       "      <td>437.0</td>\n",
       "      <td>$$ - $$$</td>\n",
       "      <td>18.0</td>\n",
       "      <td>[['Great find, 100% recommend', 'Amazing brunc...</td>\n",
       "      <td>/Restaurant_Review-g274772-d12404722-Reviews-R...</td>\n",
       "      <td>d12404722</td>\n",
       "      <td>1</td>\n",
       "      <td>4.5</td>\n",
       "    </tr>\n",
       "    <tr>\n",
       "      <th>26973</th>\n",
       "      <td>id_436</td>\n",
       "      <td>Stockholm</td>\n",
       "      <td>['Italian', 'Pizza', 'Vegetarian Friendly', 'G...</td>\n",
       "      <td>437.0</td>\n",
       "      <td>$$ - $$$</td>\n",
       "      <td>30.0</td>\n",
       "      <td>[['Awesome pizza', 'Meno male- a nice discover...</td>\n",
       "      <td>/Restaurant_Review-g189852-d12519439-Reviews-M...</td>\n",
       "      <td>d12519439</td>\n",
       "      <td>1</td>\n",
       "      <td>4.5</td>\n",
       "    </tr>\n",
       "    <tr>\n",
       "      <th>29686</th>\n",
       "      <td>id_436</td>\n",
       "      <td>Berlin</td>\n",
       "      <td>['Mediterranean', 'European', 'Italian', 'Seaf...</td>\n",
       "      <td>437.0</td>\n",
       "      <td>$$ - $$$</td>\n",
       "      <td>84.0</td>\n",
       "      <td>[['Excellent food', 'Buonissimo'], ['12/15/201...</td>\n",
       "      <td>/Restaurant_Review-g187323-d8087299-Reviews-In...</td>\n",
       "      <td>d8087299</td>\n",
       "      <td>1</td>\n",
       "      <td>4.5</td>\n",
       "    </tr>\n",
       "    <tr>\n",
       "      <th>31302</th>\n",
       "      <td>id_436</td>\n",
       "      <td>London</td>\n",
       "      <td>['Seafood', 'European', 'British', 'Soups', 'V...</td>\n",
       "      <td>437.0</td>\n",
       "      <td>$$$$</td>\n",
       "      <td>1606.0</td>\n",
       "      <td>[['Expensive but still worthwhile', 'Personali...</td>\n",
       "      <td>/Restaurant_Review-g186338-d733537-Reviews-Ben...</td>\n",
       "      <td>d733537</td>\n",
       "      <td>1</td>\n",
       "      <td>4.0</td>\n",
       "    </tr>\n",
       "    <tr>\n",
       "      <th>31861</th>\n",
       "      <td>id_436</td>\n",
       "      <td>Rome</td>\n",
       "      <td>['Italian', 'Cafe', 'Vegetarian Friendly', 'Ve...</td>\n",
       "      <td>437.0</td>\n",
       "      <td>$</td>\n",
       "      <td>374.0</td>\n",
       "      <td>[['A hidden gem!', 'Highly recommended!!'], ['...</td>\n",
       "      <td>/Restaurant_Review-g187791-d3340828-Reviews-Ba...</td>\n",
       "      <td>d3340828</td>\n",
       "      <td>1</td>\n",
       "      <td>4.5</td>\n",
       "    </tr>\n",
       "    <tr>\n",
       "      <th>33452</th>\n",
       "      <td>id_436</td>\n",
       "      <td>Munich</td>\n",
       "      <td>['Cafe', 'Mediterranean', 'European', 'Central...</td>\n",
       "      <td>440.0</td>\n",
       "      <td>$$ - $$$</td>\n",
       "      <td>83.0</td>\n",
       "      <td>[['fantastissimo', 'Excellent food und service...</td>\n",
       "      <td>/Restaurant_Review-g187309-d1837048-Reviews-L_...</td>\n",
       "      <td>d1837048</td>\n",
       "      <td>1</td>\n",
       "      <td>4.5</td>\n",
       "    </tr>\n",
       "    <tr>\n",
       "      <th>33799</th>\n",
       "      <td>id_436</td>\n",
       "      <td>Athens</td>\n",
       "      <td>['American', 'Bar', 'Central American', 'Veget...</td>\n",
       "      <td>437.0</td>\n",
       "      <td>$$ - $$$</td>\n",
       "      <td>207.0</td>\n",
       "      <td>[['Past its prime', 'Nice to be back'], ['11/2...</td>\n",
       "      <td>/Restaurant_Review-g189400-d789069-Reviews-TGI...</td>\n",
       "      <td>d789069</td>\n",
       "      <td>1</td>\n",
       "      <td>4.0</td>\n",
       "    </tr>\n",
       "    <tr>\n",
       "      <th>36902</th>\n",
       "      <td>id_436</td>\n",
       "      <td>Hamburg</td>\n",
       "      <td>['European', 'Swedish', 'Scandinavian', 'Danis...</td>\n",
       "      <td>437.0</td>\n",
       "      <td>$$ - $$$</td>\n",
       "      <td>47.0</td>\n",
       "      <td>[['Scandi cafe in hamburg', 'Scandinavian want...</td>\n",
       "      <td>/Restaurant_Review-g187331-d1962984-Reviews-Ka...</td>\n",
       "      <td>d1962984</td>\n",
       "      <td>1</td>\n",
       "      <td>4.0</td>\n",
       "    </tr>\n",
       "    <tr>\n",
       "      <th>41248</th>\n",
       "      <td>id_436</td>\n",
       "      <td>Vienna</td>\n",
       "      <td>['Japanese', 'Asian', 'Vegetarian Friendly', '...</td>\n",
       "      <td>437.0</td>\n",
       "      <td>$$ - $$$</td>\n",
       "      <td>119.0</td>\n",
       "      <td>[['Japan in Austria', 'Real Japanese food in V...</td>\n",
       "      <td>/Restaurant_Review-g190454-d788089-Reviews-Kui...</td>\n",
       "      <td>d788089</td>\n",
       "      <td>1</td>\n",
       "      <td>4.5</td>\n",
       "    </tr>\n",
       "    <tr>\n",
       "      <th>41298</th>\n",
       "      <td>id_436</td>\n",
       "      <td>Madrid</td>\n",
       "      <td>['Georgian', 'Vegetarian Friendly']</td>\n",
       "      <td>437.0</td>\n",
       "      <td>$</td>\n",
       "      <td>120.0</td>\n",
       "      <td>[['Authentic and delicious', 'Khachapuri is am...</td>\n",
       "      <td>/Restaurant_Review-g187514-d10536551-Reviews-K...</td>\n",
       "      <td>d10536551</td>\n",
       "      <td>1</td>\n",
       "      <td>4.5</td>\n",
       "    </tr>\n",
       "  </tbody>\n",
       "</table>\n",
       "</div>"
      ],
      "text/plain": [
       "      Restaurant_id        City  \\\n",
       "436          id_436      Lisbon   \n",
       "12955        id_436   Barcelona   \n",
       "14674        id_436  Copenhagen   \n",
       "16118        id_436      Oporto   \n",
       "16215        id_436    Budapest   \n",
       "17377        id_436  Luxembourg   \n",
       "18168        id_436        Oslo   \n",
       "18497        id_436       Milan   \n",
       "22554        id_436   Ljubljana   \n",
       "23313        id_436      Krakow   \n",
       "26973        id_436   Stockholm   \n",
       "29686        id_436      Berlin   \n",
       "31302        id_436      London   \n",
       "31861        id_436        Rome   \n",
       "33452        id_436      Munich   \n",
       "33799        id_436      Athens   \n",
       "36902        id_436     Hamburg   \n",
       "41248        id_436      Vienna   \n",
       "41298        id_436      Madrid   \n",
       "\n",
       "                                           Cuisine Style  Ranking Price Range  \\\n",
       "436                           ['European', 'Portuguese']   2904.0         NaN   \n",
       "12955  ['Seafood', 'Mediterranean', 'Spanish', 'Glute...    437.0    $$ - $$$   \n",
       "14674  ['European', 'Spanish', 'Mediterranean', 'Vege...    437.0    $$ - $$$   \n",
       "16118  ['European', 'Portuguese', 'Soups', 'Cafe', 'V...    437.0           $   \n",
       "16215  ['American', 'Vegetarian Friendly', 'Vegan Opt...    437.0           $   \n",
       "17377                                          ['Asian']    437.0         NaN   \n",
       "18168                       ['European', 'Scandinavian']    437.0        $$$$   \n",
       "18497  ['Italian', 'Pizza', 'Mediterranean', 'Vegetar...    437.0    $$ - $$$   \n",
       "22554                                                NaN    437.0         NaN   \n",
       "23313                            ['Vegetarian Friendly']    437.0    $$ - $$$   \n",
       "26973  ['Italian', 'Pizza', 'Vegetarian Friendly', 'G...    437.0    $$ - $$$   \n",
       "29686  ['Mediterranean', 'European', 'Italian', 'Seaf...    437.0    $$ - $$$   \n",
       "31302  ['Seafood', 'European', 'British', 'Soups', 'V...    437.0        $$$$   \n",
       "31861  ['Italian', 'Cafe', 'Vegetarian Friendly', 'Ve...    437.0           $   \n",
       "33452  ['Cafe', 'Mediterranean', 'European', 'Central...    440.0    $$ - $$$   \n",
       "33799  ['American', 'Bar', 'Central American', 'Veget...    437.0    $$ - $$$   \n",
       "36902  ['European', 'Swedish', 'Scandinavian', 'Danis...    437.0    $$ - $$$   \n",
       "41248  ['Japanese', 'Asian', 'Vegetarian Friendly', '...    437.0    $$ - $$$   \n",
       "41298                ['Georgian', 'Vegetarian Friendly']    437.0           $   \n",
       "\n",
       "       Number of Reviews                                            Reviews  \\\n",
       "436                  2.0                                           [[], []]   \n",
       "12955              546.0  [['Fresh Fish', 'Perfect concept'], ['01/03/20...   \n",
       "14674               89.0  [['Lovely restaurant', 'Great atmosphere and g...   \n",
       "16118               71.0  [['Super nice healthy and good', 'Great lunch ...   \n",
       "16215               68.0  [['Excellent', 'Best burger ever!'], ['12/05/2...   \n",
       "17377                2.0                          [['ZEN'], ['06/11/2016']]   \n",
       "18168               51.0  [['Stunning views over Oslo', 'Brilliant break...   \n",
       "18497              855.0  [['Nice Napoli style pizza place', 'Great Neap...   \n",
       "22554               14.0  [['Terrible staff and service', 'Disrespectful...   \n",
       "23313               18.0  [['Great find, 100% recommend', 'Amazing brunc...   \n",
       "26973               30.0  [['Awesome pizza', 'Meno male- a nice discover...   \n",
       "29686               84.0  [['Excellent food', 'Buonissimo'], ['12/15/201...   \n",
       "31302             1606.0  [['Expensive but still worthwhile', 'Personali...   \n",
       "31861              374.0  [['A hidden gem!', 'Highly recommended!!'], ['...   \n",
       "33452               83.0  [['fantastissimo', 'Excellent food und service...   \n",
       "33799              207.0  [['Past its prime', 'Nice to be back'], ['11/2...   \n",
       "36902               47.0  [['Scandi cafe in hamburg', 'Scandinavian want...   \n",
       "41248              119.0  [['Japan in Austria', 'Real Japanese food in V...   \n",
       "41298              120.0  [['Authentic and delicious', 'Khachapuri is am...   \n",
       "\n",
       "                                                  URL_TA      ID_TA  sample  \\\n",
       "436    /Restaurant_Review-g189158-d5003144-Reviews-Gu...   d5003144       0   \n",
       "12955  /Restaurant_Review-g187497-d1592613-Reviews-La...   d1592613       1   \n",
       "14674  /Restaurant_Review-g189541-d8738362-Reviews-To...   d8738362       1   \n",
       "16118  /Restaurant_Review-g189180-d9463122-Reviews-Ca...   d9463122       1   \n",
       "16215  /Restaurant_Review-g274887-d10438365-Reviews-B...  d10438365       1   \n",
       "17377  /Restaurant_Review-g190356-d743888-Reviews-Zen...    d743888       1   \n",
       "18168  /Restaurant_Review-g190479-d2036436-Reviews-Re...   d2036436       1   \n",
       "18497  /Restaurant_Review-g187849-d1553645-Reviews-Il...   d1553645       1   \n",
       "22554  /Restaurant_Review-g274873-d12607480-Reviews-C...  d12607480       1   \n",
       "23313  /Restaurant_Review-g274772-d12404722-Reviews-R...  d12404722       1   \n",
       "26973  /Restaurant_Review-g189852-d12519439-Reviews-M...  d12519439       1   \n",
       "29686  /Restaurant_Review-g187323-d8087299-Reviews-In...   d8087299       1   \n",
       "31302  /Restaurant_Review-g186338-d733537-Reviews-Ben...    d733537       1   \n",
       "31861  /Restaurant_Review-g187791-d3340828-Reviews-Ba...   d3340828       1   \n",
       "33452  /Restaurant_Review-g187309-d1837048-Reviews-L_...   d1837048       1   \n",
       "33799  /Restaurant_Review-g189400-d789069-Reviews-TGI...    d789069       1   \n",
       "36902  /Restaurant_Review-g187331-d1962984-Reviews-Ka...   d1962984       1   \n",
       "41248  /Restaurant_Review-g190454-d788089-Reviews-Kui...    d788089       1   \n",
       "41298  /Restaurant_Review-g187514-d10536551-Reviews-K...  d10536551       1   \n",
       "\n",
       "       Rating  \n",
       "436       0.0  \n",
       "12955     4.5  \n",
       "14674     4.0  \n",
       "16118     4.5  \n",
       "16215     4.5  \n",
       "17377     4.5  \n",
       "18168     4.0  \n",
       "18497     4.0  \n",
       "22554     3.0  \n",
       "23313     4.5  \n",
       "26973     4.5  \n",
       "29686     4.5  \n",
       "31302     4.0  \n",
       "31861     4.5  \n",
       "33452     4.5  \n",
       "33799     4.0  \n",
       "36902     4.0  \n",
       "41248     4.5  \n",
       "41298     4.5  "
      ]
     },
     "execution_count": 431,
     "metadata": {},
     "output_type": "execute_result"
    }
   ],
   "source": [
    "data[data['Restaurant_id']=='id_436']"
   ]
  },
  {
   "cell_type": "markdown",
   "metadata": {},
   "source": [
    "В других позициях совпадения не прослеживаются. Для дальнейшей обработки этот столбец проще всего будет просто отбросить.\n",
    "\n",
    "### Рассмотрим города\n",
    "В датасете нет явных пропусков и представлен 31 город. Посмотрим на них поближе. "
   ]
  },
  {
   "cell_type": "code",
   "execution_count": 432,
   "metadata": {},
   "outputs": [
    {
     "data": {
      "text/plain": [
       "London        7193\n",
       "Paris         6108\n",
       "Madrid        3813\n",
       "Barcelona     3395\n",
       "Berlin        2705\n",
       "Milan         2694\n",
       "Rome          2589\n",
       "Prague        1816\n",
       "Lisbon        1647\n",
       "Vienna        1443\n",
       "Amsterdam     1372\n",
       "Brussels      1314\n",
       "Hamburg       1186\n",
       "Munich        1145\n",
       "Lyon          1126\n",
       "Stockholm     1033\n",
       "Budapest      1021\n",
       "Warsaw         925\n",
       "Dublin         836\n",
       "Copenhagen     819\n",
       "Athens         776\n",
       "Edinburgh      745\n",
       "Zurich         685\n",
       "Oporto         642\n",
       "Geneva         590\n",
       "Krakow         554\n",
       "Oslo           488\n",
       "Helsinki       475\n",
       "Bratislava     380\n",
       "Luxembourg     263\n",
       "Ljubljana      222\n",
       "Name: City, dtype: int64"
      ]
     },
     "execution_count": 432,
     "metadata": {},
     "output_type": "execute_result"
    }
   ],
   "source": [
    "data['City'].value_counts()"
   ]
  },
  {
   "cell_type": "markdown",
   "metadata": {},
   "source": [
    "Из перечня следует, что это действительно европейские города, как и следует из датасета. Создадим дополнительный столбец Capital, в котором присвоим категории Столица (Capital) или Город (Town)."
   ]
  },
  {
   "cell_type": "code",
   "execution_count": 433,
   "metadata": {},
   "outputs": [
    {
     "data": {
      "text/plain": [
       "31"
      ]
     },
     "execution_count": 433,
     "metadata": {},
     "output_type": "execute_result"
    }
   ],
   "source": [
    "cities=set(list(data['City']))\n",
    "len(cities)"
   ]
  },
  {
   "cell_type": "code",
   "execution_count": 434,
   "metadata": {},
   "outputs": [],
   "source": [
    "#Создаём словарь, где ключами являются наименования городов\n",
    "cit_cap={'London': 'Capital', 'Paris': 'Capital', 'Madrid': 'Capital','Barcelona': 'Town', 'Berlin': 'Capital', \n",
    " 'Milan': 'Town', 'Rome': 'Capital','Prague': 'Capital','Lisbon': 'Capital', 'Vienna': 'Capital', \n",
    " 'Amsterdam': 'Capital', 'Brussels': 'Capital', 'Hamburg': 'Town', 'Munich': 'Town', 'Lyon': 'Town', \n",
    " 'Stockholm': 'Capital', 'Budapest': 'Capital', 'Warsaw': 'Capital', 'Dublin': 'Town', 'Copenhagen': 'Capital', \n",
    " 'Athens': 'Capital', 'Edinburgh': 'Town', 'Zurich': 'Town', 'Oporto': 'Town', 'Geneva': 'Capital',  'Krakow': 'Town',\n",
    " 'Oslo': 'Capital', 'Helsinki': 'Capital', 'Bratislava': 'Capital',  'Luxembourg': 'Capital', 'Ljubljana': 'Town'}\n"
   ]
  },
  {
   "cell_type": "code",
   "execution_count": 435,
   "metadata": {},
   "outputs": [
    {
     "data": {
      "text/plain": [
       "31"
      ]
     },
     "execution_count": 435,
     "metadata": {},
     "output_type": "execute_result"
    }
   ],
   "source": [
    "len(cit_cap)"
   ]
  },
  {
   "cell_type": "code",
   "execution_count": 436,
   "metadata": {},
   "outputs": [
    {
     "data": {
      "text/plain": [
       "Capital    36770\n",
       "Town       13230\n",
       "Name: Capital, dtype: int64"
      ]
     },
     "execution_count": 436,
     "metadata": {},
     "output_type": "execute_result"
    }
   ],
   "source": [
    "#Создаём новый столбец, значения которого являются значениями созданного словаря по ключам из колонки City\n",
    "data['Capital']=data['City'].map(cit_cap)\n",
    "data['Capital'].value_counts()"
   ]
  },
  {
   "cell_type": "markdown",
   "metadata": {},
   "source": [
    "В интернете удалось найти данные о количестве посещений туристами европейских городов. К сожалению, сайта, где были представлены все города из датасета, не нашлось, поэтому разные таблицы пришлось сводить в файл csv. Преобразуем их в датафрейм и объединим датафреймы по наименованию города"
   ]
  },
  {
   "cell_type": "code",
   "execution_count": 437,
   "metadata": {},
   "outputs": [
    {
     "data": {
      "text/html": [
       "<div>\n",
       "<style scoped>\n",
       "    .dataframe tbody tr th:only-of-type {\n",
       "        vertical-align: middle;\n",
       "    }\n",
       "\n",
       "    .dataframe tbody tr th {\n",
       "        vertical-align: top;\n",
       "    }\n",
       "\n",
       "    .dataframe thead th {\n",
       "        text-align: right;\n",
       "    }\n",
       "</style>\n",
       "<table border=\"1\" class=\"dataframe\">\n",
       "  <thead>\n",
       "    <tr style=\"text-align: right;\">\n",
       "      <th></th>\n",
       "      <th>City</th>\n",
       "      <th>1000 tourist arrivals</th>\n",
       "    </tr>\n",
       "  </thead>\n",
       "  <tbody>\n",
       "    <tr>\n",
       "      <th>0</th>\n",
       "      <td>London</td>\n",
       "      <td>15.640</td>\n",
       "    </tr>\n",
       "    <tr>\n",
       "      <th>1</th>\n",
       "      <td>Bangkok</td>\n",
       "      <td>10.350</td>\n",
       "    </tr>\n",
       "    <tr>\n",
       "      <th>2</th>\n",
       "      <td>Paris</td>\n",
       "      <td>9.700</td>\n",
       "    </tr>\n",
       "    <tr>\n",
       "      <th>3</th>\n",
       "      <td>Singapore</td>\n",
       "      <td>9.502</td>\n",
       "    </tr>\n",
       "    <tr>\n",
       "      <th>4</th>\n",
       "      <td>Dubai</td>\n",
       "      <td>6.120</td>\n",
       "    </tr>\n",
       "  </tbody>\n",
       "</table>\n",
       "</div>"
      ],
      "text/plain": [
       "        City  1000 tourist arrivals\n",
       "0     London                 15.640\n",
       "1    Bangkok                 10.350\n",
       "2      Paris                  9.700\n",
       "3  Singapore                  9.502\n",
       "4      Dubai                  6.120"
      ]
     },
     "execution_count": 437,
     "metadata": {},
     "output_type": "execute_result"
    }
   ],
   "source": [
    "df_c = pd.read_csv('Tourism.csv')\n",
    "df_c.head()"
   ]
  },
  {
   "cell_type": "code",
   "execution_count": 438,
   "metadata": {},
   "outputs": [
    {
     "name": "stdout",
     "output_type": "stream",
     "text": [
      "<class 'pandas.core.frame.DataFrame'>\n",
      "Int64Index: 50000 entries, 0 to 49999\n",
      "Data columns (total 13 columns):\n",
      " #   Column                 Non-Null Count  Dtype  \n",
      "---  ------                 --------------  -----  \n",
      " 0   Restaurant_id          50000 non-null  object \n",
      " 1   City                   50000 non-null  object \n",
      " 2   Cuisine Style          38410 non-null  object \n",
      " 3   Ranking                50000 non-null  float64\n",
      " 4   Price Range            32639 non-null  object \n",
      " 5   Number of Reviews      46800 non-null  float64\n",
      " 6   Reviews                49998 non-null  object \n",
      " 7   URL_TA                 50000 non-null  object \n",
      " 8   ID_TA                  50000 non-null  object \n",
      " 9   sample                 50000 non-null  int64  \n",
      " 10  Rating                 50000 non-null  float64\n",
      " 11  Capital                50000 non-null  object \n",
      " 12  1000 tourist arrivals  50000 non-null  float64\n",
      "dtypes: float64(4), int64(1), object(8)\n",
      "memory usage: 5.3+ MB\n"
     ]
    }
   ],
   "source": [
    "data = pd.merge(data, df_c, on='City')\n",
    "data.info()"
   ]
  },
  {
   "cell_type": "markdown",
   "metadata": {},
   "source": [
    "## Типы кухни - 'Cuisine style'\n",
    "Визуально содержимое выглядит как список. Также в наличии имеются пропуски. Прежде чем начать заниматься анализом датасета определим тип ячеек и решим, как заполнить пропуски."
   ]
  },
  {
   "cell_type": "code",
   "execution_count": 439,
   "metadata": {},
   "outputs": [
    {
     "data": {
      "text/plain": [
       "\"['Bar', 'Pub']\""
      ]
     },
     "execution_count": 439,
     "metadata": {},
     "output_type": "execute_result"
    }
   ],
   "source": [
    "data['Cuisine Style'][0]"
   ]
  },
  {
   "cell_type": "code",
   "execution_count": 440,
   "metadata": {},
   "outputs": [
    {
     "data": {
      "text/plain": [
       "str"
      ]
     },
     "execution_count": 440,
     "metadata": {},
     "output_type": "execute_result"
    }
   ],
   "source": [
    "type(data['Cuisine Style'][0])"
   ]
  },
  {
   "cell_type": "markdown",
   "metadata": {},
   "source": [
    "В настоящий момент каждая ячейка представляет собой не список, а строку. Преобразуем их в \"настоящий\" список. Для этого предварительно заполним пропуски строкой '[]', тогда она будет преобразована в пустой список. Данные утеряны не будут."
   ]
  },
  {
   "cell_type": "code",
   "execution_count": 441,
   "metadata": {},
   "outputs": [],
   "source": [
    "data['Cuisine Style'].fillna(\"[]\",inplace=True)\n",
    "#Функция, автоматически оценивающая строку и преобразующая её в предполагаемый формат\n",
    "data['Cuisine Style']=data['Cuisine Style'].apply(lambda x: ast.literal_eval(x))"
   ]
  },
  {
   "cell_type": "markdown",
   "metadata": {},
   "source": [
    "Вставим дополнительный столбец Cuisines, показывающий, сколько позиций в списке категорий. Поскольку пустые значения теперь отображаются как пустой список, то их значение будет равняться 0. В дальнейшем это может пригодиться для анализа, т.к. можно будет посмотреть, какой рейтинг имеют рестораны, о которых нечего сказать."
   ]
  },
  {
   "cell_type": "code",
   "execution_count": 442,
   "metadata": {},
   "outputs": [
    {
     "data": {
      "text/plain": [
       "0     11590\n",
       "1      9154\n",
       "2      7794\n",
       "3      6638\n",
       "4      5948\n",
       "5      4482\n",
       "6      2611\n",
       "7      1294\n",
       "8       363\n",
       "9        93\n",
       "10       26\n",
       "11        4\n",
       "21        1\n",
       "15        1\n",
       "13        1\n",
       "Name: Cuisines, dtype: int64"
      ]
     },
     "execution_count": 442,
     "metadata": {},
     "output_type": "execute_result"
    }
   ],
   "source": [
    "data['Cuisines'] = data['Cuisine Style'].apply(lambda x: len(x))\n",
    "data['Cuisines'].value_counts()"
   ]
  },
  {
   "cell_type": "markdown",
   "metadata": {},
   "source": [
    "Теперь посмотрим, какие же категории определяют рестораны в рейтинге. Для этого циклом пройдём по каждому элементу каждого списка, запишем их в сет. Длина сета даст уникальныые значения, его содержание задаст дальнейшее направление анализа."
   ]
  },
  {
   "cell_type": "code",
   "execution_count": 443,
   "metadata": {},
   "outputs": [
    {
     "data": {
      "text/plain": [
       "125"
      ]
     },
     "execution_count": 443,
     "metadata": {},
     "output_type": "execute_result"
    }
   ],
   "source": [
    "cus_set=set() #Создаём пустой сет\n",
    "for c in data['Cuisine Style']:\n",
    "    for i in c: #Проходим по элементам списка в каждой записи\n",
    "        cus_set.add(i) #Добавляем элемент в сет, повторяющиеся значения \"схлопнутся\"\n",
    "len(cus_set)"
   ]
  },
  {
   "cell_type": "code",
   "execution_count": 444,
   "metadata": {},
   "outputs": [
    {
     "name": "stdout",
     "output_type": "stream",
     "text": [
      "{'Latvian', 'Central Asian', 'Diner', 'Swiss', 'Gluten Free Options', 'British', 'Danish', 'Armenian', 'Taiwanese', 'Native American', 'South American', 'Vietnamese', 'Ukrainian', 'Hungarian', 'Filipino', 'Pizza', 'Balti', 'Tunisian', 'Albanian', 'Swedish', 'Indonesian', 'Korean', 'Norwegian', 'Asian', 'Southwestern', 'Italian', 'Mexican', 'Contemporary', 'Mongolian', 'African', 'Chinese', 'Jamaican', 'European', 'Romanian', 'Sri Lankan', 'Canadian', 'Street Food', 'Halal', 'Kosher', 'Cajun & Creole', 'Irish', 'Gastropub', 'Latin', 'Xinjiang', 'Chilean', 'Greek', 'Nepali', 'French', 'Cafe', 'Malaysian', 'Ecuadorean', 'Spanish', 'Venezuelan', 'Steakhouse', 'Colombian', 'Healthy', 'Israeli', 'Argentinean', 'Croatian', 'Egyptian', 'Moroccan', 'Cuban', 'Arabic', 'Mediterranean', 'Lebanese', 'Middle Eastern', 'German', 'Central European', 'Pub', 'Vegetarian Friendly', 'Russian', 'Uzbek', 'Brew Pub', 'Cambodian', 'Yunnan', 'Peruvian', 'Central American', 'Pakistani', 'Brazilian', 'Japanese', 'Portuguese', 'Polynesian', 'Indian', 'Fusion', 'Eastern European', 'Fast Food', 'Caucasian', 'Czech', 'Hawaiian', 'Vegan Options', 'Ethiopian', 'Austrian', 'Seafood', 'Burmese', 'Belgian', 'Bangladeshi', 'American', 'Wine Bar', 'Caribbean', 'Australian', 'Scandinavian', 'Polish', 'Scottish', 'Slovenian', 'Persian', 'Grill', 'Georgian', 'Salvadoran', 'Thai', 'Bar', 'Azerbaijani', 'Soups', 'Tibetan', 'Minority Chinese', 'Sushi', 'Barbecue', 'Delicatessen', 'Afghani', 'Singaporean', 'New Zealand', 'International', 'Fujian', 'Turkish', 'Welsh', 'Dutch'}\n"
     ]
    }
   ],
   "source": [
    "print(cus_set)"
   ]
  },
  {
   "cell_type": "markdown",
   "metadata": {},
   "source": [
    "Всего в сете получилось 125 уникальных позиций, указывающих как на принадлежность кухни, в том числе весьа экзотические типы, так и дополнительные опции типа бара или вегетарианских блюд. Попробуем вытащить эти признаки, создав дополнительные столбцы. Для начала создадим списки с географическими категориями, распределив их приблизительно. Логично выделить европейскую кухню (eur), арабскую (arab), паназиатскую (asian), средиземноморскую (medter), латиноамериканскую (latin). Все виды трудноопределяемых или слишком самобытных кухонь,  а также прямо указанные позиции International и Fusion можно вложить в категорию интернациональной кухни (inter). После создания списков создадим соответствующие столбцы, а также столбцы для баров и вегетарианских/веганских опциий. По умолчанию присвоим им значение 0."
   ]
  },
  {
   "cell_type": "code",
   "execution_count": 445,
   "metadata": {},
   "outputs": [],
   "source": [
    "asian = ['Yunnan',  'Vietnamese',  'Japanese',  'Tibetan',  'Bangladeshi',  'Asian',  'Thai',  'Malaysian','Xinjiang',\n",
    "          'Burmese',  'Pakistani',  'Taiwanese',  'Nepali',  'Korean',  'Mongolian',  'Southwestern', 'Chinese', \n",
    "          'Indian',  'Sri Lankan',   'Central Asian',   'Filipino','Sushi',  'Singaporean','Indonesian',  \n",
    "          'Minority Chinese',  'Fujian',  'Cambodian',  'Asian']\n",
    "latin = ['Argentinean',  'Latin',  'South American',  'Venezuelan',  'Mexican',  'Central American',  'Ecuadorean', \n",
    "          'Cuban', 'Brazilian',  'Colombian',  'Salvadoran',  'Chilean',  'Peruvian']\n",
    "inter = ['African',  'Fusion',  'Caribbean',  'Caucasian',   'International',  'New Zealand',  'Hungarian',  \n",
    "          'Russian',  'Georgian',   'Polynesian',  'Cajun & Creole',   'American',  'Azerbaijani',  'Israeli', \n",
    "          'Afghani',  'Caribbean',   'Armenian',   'Jamaican',   'Hawaiian',   'Uzbek',   'Ethiopian',  'Albanian',  \n",
    "          'Native American',  'Australian',   'Canadian', 'International']\n",
    "eur = ['French',  'Latvian',  'Swiss', 'Polish',  'Scottish',  'Central European', 'Scandinavian',  'German', \n",
    "        'Danish', 'Belgian', 'Austrian', 'Ukrainian',  'Norwegian',  'Czech',  'Dutch', 'British',  'Croatian',  \n",
    "        'Swedish',  'Slovenian',  'Irish',  'Eastern European',  'Romanian',   'Welsh', 'European']\n",
    "arab = ['Arabic',  'Middle Eastern',  'Egyptian',  'Tunisian',  'Lebanese',   'Moroccan']\n",
    "medter = ['Persian',  'Greek',  'Spanish',  'Portuguese',   'Italian',   'Turkish',  'Mediterranean']\n"
   ]
  },
  {
   "cell_type": "code",
   "execution_count": 446,
   "metadata": {},
   "outputs": [
    {
     "name": "stdout",
     "output_type": "stream",
     "text": [
      "<class 'pandas.core.frame.DataFrame'>\n",
      "Int64Index: 50000 entries, 0 to 49999\n",
      "Data columns (total 22 columns):\n",
      " #   Column                 Non-Null Count  Dtype  \n",
      "---  ------                 --------------  -----  \n",
      " 0   Restaurant_id          50000 non-null  object \n",
      " 1   City                   50000 non-null  object \n",
      " 2   Cuisine Style          50000 non-null  object \n",
      " 3   Ranking                50000 non-null  float64\n",
      " 4   Price Range            32639 non-null  object \n",
      " 5   Number of Reviews      46800 non-null  float64\n",
      " 6   Reviews                49998 non-null  object \n",
      " 7   URL_TA                 50000 non-null  object \n",
      " 8   ID_TA                  50000 non-null  object \n",
      " 9   sample                 50000 non-null  int64  \n",
      " 10  Rating                 50000 non-null  float64\n",
      " 11  Capital                50000 non-null  object \n",
      " 12  1000 tourist arrivals  50000 non-null  float64\n",
      " 13  Cuisines               50000 non-null  int64  \n",
      " 14  Arab                   50000 non-null  int64  \n",
      " 15  Asian                  50000 non-null  int64  \n",
      " 16  Europe                 50000 non-null  int64  \n",
      " 17  Inter                  50000 non-null  int64  \n",
      " 18  Latin                  50000 non-null  int64  \n",
      " 19  Mediter                50000 non-null  int64  \n",
      " 20  Vegetarian             50000 non-null  int64  \n",
      " 21  Bar                    50000 non-null  int64  \n",
      "dtypes: float64(4), int64(10), object(8)\n",
      "memory usage: 10.0+ MB\n"
     ]
    }
   ],
   "source": [
    "data['Arab'] = 0\n",
    "data['Asian'] = 0 \n",
    "data['Europe']=0 \n",
    "data['Inter']= 0 \n",
    "data['Latin']=0 \n",
    "data['Mediter']=0\n",
    "data['Vegetarian']=0\n",
    "data['Bar']=0\n",
    "data.info()"
   ]
  },
  {
   "cell_type": "markdown",
   "metadata": {},
   "source": [
    "Теперь циклом заполним значениями все позиции новых колоном. Логика будет следующая: при заполнении географических категорий значением позиции будет длина списка уникальных значений, совпавших как в позиции из колонки 'Cuisine Style' так и в соответствующем списке. Если совпадений не будет, длина списка будет равна нулю. Что касается колонки про бар и вегетарианские опции, то проверка будет по условию: если в списке из позиции есть одно из заданных значений, то позиции в колонке присваивается 1. \n",
    "\n",
    "Я намеренно не создаю для этого функцию, т.к. запуск функции для каждого заполнения заставит прокрутить цикл 8 раз."
   ]
  },
  {
   "cell_type": "code",
   "execution_count": 447,
   "metadata": {},
   "outputs": [
    {
     "name": "stderr",
     "output_type": "stream",
     "text": [
      "C:\\Users\\Anna\\anaconda3\\lib\\site-packages\\ipykernel_launcher.py:7: SettingWithCopyWarning: \n",
      "A value is trying to be set on a copy of a slice from a DataFrame\n",
      "\n",
      "See the caveats in the documentation: https://pandas.pydata.org/pandas-docs/stable/user_guide/indexing.html#returning-a-view-versus-a-copy\n",
      "  import sys\n",
      "C:\\Users\\Anna\\anaconda3\\lib\\site-packages\\ipykernel_launcher.py:8: SettingWithCopyWarning: \n",
      "A value is trying to be set on a copy of a slice from a DataFrame\n",
      "\n",
      "See the caveats in the documentation: https://pandas.pydata.org/pandas-docs/stable/user_guide/indexing.html#returning-a-view-versus-a-copy\n",
      "  \n",
      "C:\\Users\\Anna\\anaconda3\\lib\\site-packages\\ipykernel_launcher.py:9: SettingWithCopyWarning: \n",
      "A value is trying to be set on a copy of a slice from a DataFrame\n",
      "\n",
      "See the caveats in the documentation: https://pandas.pydata.org/pandas-docs/stable/user_guide/indexing.html#returning-a-view-versus-a-copy\n",
      "  if __name__ == '__main__':\n",
      "C:\\Users\\Anna\\anaconda3\\lib\\site-packages\\ipykernel_launcher.py:10: SettingWithCopyWarning: \n",
      "A value is trying to be set on a copy of a slice from a DataFrame\n",
      "\n",
      "See the caveats in the documentation: https://pandas.pydata.org/pandas-docs/stable/user_guide/indexing.html#returning-a-view-versus-a-copy\n",
      "  # Remove the CWD from sys.path while we load stuff.\n",
      "C:\\Users\\Anna\\anaconda3\\lib\\site-packages\\ipykernel_launcher.py:11: SettingWithCopyWarning: \n",
      "A value is trying to be set on a copy of a slice from a DataFrame\n",
      "\n",
      "See the caveats in the documentation: https://pandas.pydata.org/pandas-docs/stable/user_guide/indexing.html#returning-a-view-versus-a-copy\n",
      "  # This is added back by InteractiveShellApp.init_path()\n",
      "C:\\Users\\Anna\\anaconda3\\lib\\site-packages\\ipykernel_launcher.py:12: SettingWithCopyWarning: \n",
      "A value is trying to be set on a copy of a slice from a DataFrame\n",
      "\n",
      "See the caveats in the documentation: https://pandas.pydata.org/pandas-docs/stable/user_guide/indexing.html#returning-a-view-versus-a-copy\n",
      "  if sys.path[0] == '':\n",
      "C:\\Users\\Anna\\anaconda3\\lib\\site-packages\\ipykernel_launcher.py:16: SettingWithCopyWarning: \n",
      "A value is trying to be set on a copy of a slice from a DataFrame\n",
      "\n",
      "See the caveats in the documentation: https://pandas.pydata.org/pandas-docs/stable/user_guide/indexing.html#returning-a-view-versus-a-copy\n",
      "  app.launch_new_instance()\n",
      "C:\\Users\\Anna\\anaconda3\\lib\\site-packages\\ipykernel_launcher.py:14: SettingWithCopyWarning: \n",
      "A value is trying to be set on a copy of a slice from a DataFrame\n",
      "\n",
      "See the caveats in the documentation: https://pandas.pydata.org/pandas-docs/stable/user_guide/indexing.html#returning-a-view-versus-a-copy\n",
      "  \n"
     ]
    }
   ],
   "source": [
    "v='Vegetarian Friendly' #Строковые переменные\n",
    "vg='Vegan Options'\n",
    "b='Bar'\n",
    "wb='Wine Bar'\n",
    "for i in range(50000):\n",
    "    s=set(data['Cuisine Style'][i]) #Переменная, создающая сет из списка стилей кухни\n",
    "    data['Arab'][i]=len(list(s&set(arab)))\n",
    "    data['Asian'][i]=len(list(s&set(asian)))\n",
    "    data['Europe'][i]=len(list(s&set(eur)))\n",
    "    data['Inter'][i]=len(list(s&set(inter)))\n",
    "    data['Mediter'][i]=len(list(s&set(medter)))\n",
    "    data['Latin'][i]=len(list(s&set(latin)))\n",
    "    if v in data['Cuisine Style'][i] or vg in data['Cuisine Style'][i]:\n",
    "        data['Vegetarian'][i]=1\n",
    "    elif b in data['Cuisine Style'][i] or wb in data['Cuisine Style'][i]:\n",
    "        data['Bar'][i]=1\n"
   ]
  },
  {
   "cell_type": "code",
   "execution_count": 448,
   "metadata": {},
   "outputs": [
    {
     "data": {
      "text/plain": [
       "0    45013\n",
       "1     4453\n",
       "2      510\n",
       "3       20\n",
       "4        4\n",
       "Name: Inter, dtype: int64"
      ]
     },
     "execution_count": 448,
     "metadata": {},
     "output_type": "execute_result"
    }
   ],
   "source": [
    "data['Inter'].value_counts()"
   ]
  },
  {
   "cell_type": "code",
   "execution_count": 449,
   "metadata": {},
   "outputs": [
    {
     "data": {
      "text/plain": [
       "0    35041\n",
       "1     8546\n",
       "2     6278\n",
       "3      130\n",
       "4        4\n",
       "5        1\n",
       "Name: Mediter, dtype: int64"
      ]
     },
     "execution_count": 449,
     "metadata": {},
     "output_type": "execute_result"
    }
   ],
   "source": [
    "data['Mediter'].value_counts()"
   ]
  },
  {
   "cell_type": "code",
   "execution_count": 450,
   "metadata": {},
   "outputs": [
    {
     "data": {
      "text/plain": [
       "0    48724\n",
       "1      608\n",
       "2      443\n",
       "3      172\n",
       "4       41\n",
       "5       11\n",
       "8        1\n",
       "Name: Latin, dtype: int64"
      ]
     },
     "execution_count": 450,
     "metadata": {},
     "output_type": "execute_result"
    }
   ],
   "source": [
    "data['Latin'].value_counts()"
   ]
  },
  {
   "cell_type": "code",
   "execution_count": 451,
   "metadata": {},
   "outputs": [
    {
     "data": {
      "text/plain": [
       "0    43578\n",
       "2     2586\n",
       "1     2352\n",
       "3     1220\n",
       "4      203\n",
       "5       49\n",
       "6       11\n",
       "7        1\n",
       "Name: Asian, dtype: int64"
      ]
     },
     "execution_count": 451,
     "metadata": {},
     "output_type": "execute_result"
    }
   ],
   "source": [
    "data['Asian'].value_counts()"
   ]
  },
  {
   "cell_type": "markdown",
   "metadata": {},
   "source": [
    "### Рассмотрим столбцы Ranking и Rating \n",
    "В столбца нет пропусков, значения имеют числовое представление. Преобразований а этом не требуется. Рассмотрим каждый на предмет распределения значений."
   ]
  },
  {
   "cell_type": "code",
   "execution_count": 452,
   "metadata": {},
   "outputs": [
    {
     "data": {
      "text/plain": [
       "93.0       22\n",
       "842.0      21\n",
       "491.0      21\n",
       "72.0       21\n",
       "1013.0     20\n",
       "           ..\n",
       "16021.0     1\n",
       "14222.0     1\n",
       "4288.0      1\n",
       "13760.0     1\n",
       "11264.0     1\n",
       "Name: Ranking, Length: 12975, dtype: int64"
      ]
     },
     "execution_count": 452,
     "metadata": {},
     "output_type": "execute_result"
    }
   ],
   "source": [
    "data.Ranking.value_counts()"
   ]
  },
  {
   "cell_type": "code",
   "execution_count": 453,
   "metadata": {},
   "outputs": [
    {
     "data": {
      "text/plain": [
       "4.0    13692\n",
       "4.5    10929\n",
       "0.0    10000\n",
       "3.5     6824\n",
       "5.0     3879\n",
       "3.0     2955\n",
       "2.5      915\n",
       "2.0      466\n",
       "1.0      201\n",
       "1.5      139\n",
       "Name: Rating, dtype: int64"
      ]
     },
     "execution_count": 453,
     "metadata": {},
     "output_type": "execute_result"
    }
   ],
   "source": [
    "data.Rating.value_counts()"
   ]
  },
  {
   "cell_type": "markdown",
   "metadata": {},
   "source": [
    "### Столбец Price range\n",
    "требует преобразования. В нём есть пропуски, значения имеют тип object. Посмотрим на уникальные значения и решим, как это преобразовать."
   ]
  },
  {
   "cell_type": "code",
   "execution_count": 454,
   "metadata": {},
   "outputs": [
    {
     "data": {
      "text/plain": [
       "$$ - $$$    23041\n",
       "$            7816\n",
       "$$$$         1782\n",
       "Name: Price Range, dtype: int64"
      ]
     },
     "execution_count": 454,
     "metadata": {},
     "output_type": "execute_result"
    }
   ],
   "source": [
    "data['Price Range'].value_counts()"
   ]
  },
  {
   "cell_type": "markdown",
   "metadata": {},
   "source": [
    "В столбце всего три категории, обозначающие цену. Заменить данные можно, записав их в словарь. Обозначим значения цифрами, где 1 - дешёвые рестораны, 2 - средняя ценовая категория, 3 - дорогие. К сожалению, алгоритм, автоматически присваивающий ключу необходимое значение, получится слишком длинный. Проще задать категории вручную. "
   ]
  },
  {
   "cell_type": "code",
   "execution_count": 455,
   "metadata": {},
   "outputs": [
    {
     "data": {
      "text/plain": [
       "{'$': 1, '$$ - $$$': 2, '$$$$': 3}"
      ]
     },
     "execution_count": 455,
     "metadata": {},
     "output_type": "execute_result"
    }
   ],
   "source": [
    "dct_pr = {} #Пустой словарь для ценовых категорий\n",
    "dct_pr['$']=1\n",
    "dct_pr['$$ - $$$']=2\n",
    "dct_pr['$$$$']=3\n",
    "dct_pr"
   ]
  },
  {
   "cell_type": "markdown",
   "metadata": {},
   "source": [
    "Заменим значения по словарю и посмотрим, что получилось."
   ]
  },
  {
   "cell_type": "code",
   "execution_count": 456,
   "metadata": {},
   "outputs": [
    {
     "data": {
      "text/plain": [
       "2.0    23041\n",
       "1.0     7816\n",
       "3.0     1782\n",
       "Name: Price Range, dtype: int64"
      ]
     },
     "execution_count": 456,
     "metadata": {},
     "output_type": "execute_result"
    }
   ],
   "source": [
    "data['Price Range']=data['Price Range'].map(dct_pr)\n",
    "data['Price Range'].value_counts()"
   ]
  },
  {
   "cell_type": "markdown",
   "metadata": {},
   "source": [
    "В категории очень много пропущенных значений. Их можно заполнить нулями, но для целей достоверности попробуем заполнить средней ценовой категорией для ресторанов в ***соответствующем городе***. "
   ]
  },
  {
   "cell_type": "code",
   "execution_count": 457,
   "metadata": {},
   "outputs": [
    {
     "name": "stderr",
     "output_type": "stream",
     "text": [
      "C:\\Users\\Anna\\anaconda3\\lib\\site-packages\\ipykernel_launcher.py:5: SettingWithCopyWarning: \n",
      "A value is trying to be set on a copy of a slice from a DataFrame\n",
      "\n",
      "See the caveats in the documentation: https://pandas.pydata.org/pandas-docs/stable/user_guide/indexing.html#returning-a-view-versus-a-copy\n",
      "  \"\"\"\n"
     ]
    },
    {
     "data": {
      "text/plain": [
       "2.0    25565\n",
       "1.0    22653\n",
       "3.0     1782\n",
       "Name: Price Range, dtype: int64"
      ]
     },
     "execution_count": 457,
     "metadata": {},
     "output_type": "execute_result"
    }
   ],
   "source": [
    "data['Price Range'].fillna(0, inplace=True) #Записываем в пропуски нули для условия\n",
    "for i in range(50000):\n",
    "    if data['Price Range'][i]==0:\n",
    "        x=round(data[data['City']==data['City'][i]]['Price Range'].mean()) #Среднее округлённое значение\n",
    "        data['Price Range'][i]=x\n",
    "data['Price Range'].value_counts()"
   ]
  },
  {
   "cell_type": "markdown",
   "metadata": {},
   "source": [
    "### Столбцы Number of Reviews и Reviews\n",
    "стоит рассмотреть совместно, т.к. они связаны даже судя по названиям. При этом в столбце Количество отзывов есть пропуски, а вот в самих отзывах таких пропусков почти нет. 2 случая на 50000 не считаются. Посмотрим, что там происходит."
   ]
  },
  {
   "cell_type": "code",
   "execution_count": 458,
   "metadata": {},
   "outputs": [
    {
     "data": {
      "text/plain": [
       "2.0       2403\n",
       "3.0       2042\n",
       "4.0       1707\n",
       "5.0       1471\n",
       "6.0       1258\n",
       "          ... \n",
       "1082.0       1\n",
       "1741.0       1\n",
       "2175.0       1\n",
       "2174.0       1\n",
       "1543.0       1\n",
       "Name: Number of Reviews, Length: 1573, dtype: int64"
      ]
     },
     "execution_count": 458,
     "metadata": {},
     "output_type": "execute_result"
    }
   ],
   "source": [
    "data['Number of Reviews'].value_counts()"
   ]
  },
  {
   "cell_type": "code",
   "execution_count": 459,
   "metadata": {},
   "outputs": [
    {
     "data": {
      "text/plain": [
       "[[], []]                                                                                                          8112\n",
       "[['Excellent cuisine, friendly and helpful se...', 'Not tasty'], ['12/25/2016', '06/05/2016']]                       2\n",
       "[['Good Paella', 'Good enough. Nothing more'], ['09/20/2017', '05/29/2017']]                                         2\n",
       "[['Delicious'], ['06/06/2017']]                                                                                      2\n",
       "[['Visited the rooftop bar', 'SIXTH FLOOR ROOFTOP BUT YOU CAN ONLY SEE O...'], ['06/27/2017', '10/31/2017']]         2\n",
       "                                                                                                                  ... \n",
       "[['Unfriendly and arrogant'], ['06/29/2014']]                                                                        1\n",
       "[['Excellent coffe'], ['09/24/2017']]                                                                                1\n",
       "[['great breakfast', 'Lots of Food Options but Crowded'], ['06/25/2017', '05/15/2017']]                              1\n",
       "[['A friendly gem of an Indian restaurant.', 'Excellent food and nice service'], ['10/22/2017', '04/03/2017']]       1\n",
       "[['Tasty', 'A Restaurant in a London Holiday Inn'], ['07/17/2016', '10/16/2015']]                                    1\n",
       "Name: Reviews, Length: 41857, dtype: int64"
      ]
     },
     "execution_count": 459,
     "metadata": {},
     "output_type": "execute_result"
    }
   ],
   "source": [
    "data['Reviews'].value_counts()"
   ]
  },
  {
   "cell_type": "code",
   "execution_count": 460,
   "metadata": {},
   "outputs": [
    {
     "data": {
      "text/plain": [
       "str"
      ]
     },
     "execution_count": 460,
     "metadata": {},
     "output_type": "execute_result"
    }
   ],
   "source": [
    "type(data['Reviews'][0])"
   ]
  },
  {
   "cell_type": "markdown",
   "metadata": {},
   "source": [
    "В отзывах мы видим ту же ловушку, что и в стилях кухни: визуально это выглядит как список из списков, но по факту это строка. Также недоумение по поводу отсутствия пропусков в данной колонке неслучайно. На самом деле вместо настоящего пропуска - пустые скобки. \n",
    "\n",
    "Также интересно и то, что некоторые позиции дублируются. Посмотрим, что это значит для первого такого дубля."
   ]
  },
  {
   "cell_type": "code",
   "execution_count": 461,
   "metadata": {},
   "outputs": [
    {
     "data": {
      "text/html": [
       "<div>\n",
       "<style scoped>\n",
       "    .dataframe tbody tr th:only-of-type {\n",
       "        vertical-align: middle;\n",
       "    }\n",
       "\n",
       "    .dataframe tbody tr th {\n",
       "        vertical-align: top;\n",
       "    }\n",
       "\n",
       "    .dataframe thead th {\n",
       "        text-align: right;\n",
       "    }\n",
       "</style>\n",
       "<table border=\"1\" class=\"dataframe\">\n",
       "  <thead>\n",
       "    <tr style=\"text-align: right;\">\n",
       "      <th></th>\n",
       "      <th>Restaurant_id</th>\n",
       "      <th>City</th>\n",
       "      <th>Cuisine Style</th>\n",
       "      <th>Ranking</th>\n",
       "      <th>Price Range</th>\n",
       "      <th>Number of Reviews</th>\n",
       "      <th>Reviews</th>\n",
       "      <th>URL_TA</th>\n",
       "      <th>ID_TA</th>\n",
       "      <th>sample</th>\n",
       "      <th>Rating</th>\n",
       "      <th>Capital</th>\n",
       "      <th>1000 tourist arrivals</th>\n",
       "      <th>Cuisines</th>\n",
       "      <th>Arab</th>\n",
       "      <th>Asian</th>\n",
       "      <th>Europe</th>\n",
       "      <th>Inter</th>\n",
       "      <th>Latin</th>\n",
       "      <th>Mediter</th>\n",
       "      <th>Vegetarian</th>\n",
       "      <th>Bar</th>\n",
       "    </tr>\n",
       "  </thead>\n",
       "  <tbody>\n",
       "    <tr>\n",
       "      <th>35451</th>\n",
       "      <td>id_6140</td>\n",
       "      <td>Madrid</td>\n",
       "      <td>[Chinese, Asian, Vegetarian Friendly, Vegan Op...</td>\n",
       "      <td>3053.0</td>\n",
       "      <td>2.0</td>\n",
       "      <td>148.0</td>\n",
       "      <td>[['Good service and clean', 'Chinese fusion cu...</td>\n",
       "      <td>/Restaurant_Review-g187514-d4748208-Reviews-Re...</td>\n",
       "      <td>d4748208</td>\n",
       "      <td>0</td>\n",
       "      <td>0.0</td>\n",
       "      <td>Capital</td>\n",
       "      <td>3.921</td>\n",
       "      <td>4</td>\n",
       "      <td>0</td>\n",
       "      <td>2</td>\n",
       "      <td>0</td>\n",
       "      <td>0</td>\n",
       "      <td>0</td>\n",
       "      <td>0</td>\n",
       "      <td>1</td>\n",
       "      <td>0</td>\n",
       "    </tr>\n",
       "    <tr>\n",
       "      <th>38061</th>\n",
       "      <td>id_2988</td>\n",
       "      <td>Madrid</td>\n",
       "      <td>[Chinese, Asian, Vegetarian Friendly, Vegan Op...</td>\n",
       "      <td>2990.0</td>\n",
       "      <td>2.0</td>\n",
       "      <td>148.0</td>\n",
       "      <td>[['Good service and clean', 'Chinese fusion cu...</td>\n",
       "      <td>/Restaurant_Review-g187514-d4748208-Reviews-Re...</td>\n",
       "      <td>d4748208</td>\n",
       "      <td>1</td>\n",
       "      <td>3.5</td>\n",
       "      <td>Capital</td>\n",
       "      <td>3.921</td>\n",
       "      <td>4</td>\n",
       "      <td>0</td>\n",
       "      <td>2</td>\n",
       "      <td>0</td>\n",
       "      <td>0</td>\n",
       "      <td>0</td>\n",
       "      <td>0</td>\n",
       "      <td>1</td>\n",
       "      <td>0</td>\n",
       "    </tr>\n",
       "  </tbody>\n",
       "</table>\n",
       "</div>"
      ],
      "text/plain": [
       "      Restaurant_id    City  \\\n",
       "35451       id_6140  Madrid   \n",
       "38061       id_2988  Madrid   \n",
       "\n",
       "                                           Cuisine Style  Ranking  \\\n",
       "35451  [Chinese, Asian, Vegetarian Friendly, Vegan Op...   3053.0   \n",
       "38061  [Chinese, Asian, Vegetarian Friendly, Vegan Op...   2990.0   \n",
       "\n",
       "       Price Range  Number of Reviews  \\\n",
       "35451          2.0              148.0   \n",
       "38061          2.0              148.0   \n",
       "\n",
       "                                                 Reviews  \\\n",
       "35451  [['Good service and clean', 'Chinese fusion cu...   \n",
       "38061  [['Good service and clean', 'Chinese fusion cu...   \n",
       "\n",
       "                                                  URL_TA     ID_TA  sample  \\\n",
       "35451  /Restaurant_Review-g187514-d4748208-Reviews-Re...  d4748208       0   \n",
       "38061  /Restaurant_Review-g187514-d4748208-Reviews-Re...  d4748208       1   \n",
       "\n",
       "       Rating  Capital  1000 tourist arrivals  Cuisines  Arab  Asian  Europe  \\\n",
       "35451     0.0  Capital                  3.921         4     0      2       0   \n",
       "38061     3.5  Capital                  3.921         4     0      2       0   \n",
       "\n",
       "       Inter  Latin  Mediter  Vegetarian  Bar  \n",
       "35451      0      0        0           1    0  \n",
       "38061      0      0        0           1    0  "
      ]
     },
     "execution_count": 461,
     "metadata": {},
     "output_type": "execute_result"
    }
   ],
   "source": [
    "data[data['Reviews']==\"[['Good service and clean', 'Chinese fusion cuisine - ok to try if you...'], ['11/21/2017', '05/23/2017']]\"]"
   ]
  },
  {
   "cell_type": "markdown",
   "metadata": {},
   "source": [
    "Получается, что это один и тот же ресторан, но в разных датасетах: тренировочном и итоговом. Интересно, что совпадает всё, кроме ранкинга. \n",
    "Начнём обработку данных. Для начала заполним пропуски в столбце Reviews строковым выраежением [[], []], которое в данном случае означает невыгруженные отзывы или их полное отсутствие."
   ]
  },
  {
   "cell_type": "code",
   "execution_count": 462,
   "metadata": {},
   "outputs": [],
   "source": [
    "data['Reviews'].fillna('[[], []]', inplace=True)"
   ]
  },
  {
   "cell_type": "markdown",
   "metadata": {},
   "source": [
    "Теперь заполним пропуски в столбце Number of Reviews. Если при этом в столбце с отзывами действительно пустые скобки, то будем считать, что отзывов нет. Если другое значение, то как минимум 1 должен быть."
   ]
  },
  {
   "cell_type": "code",
   "execution_count": 463,
   "metadata": {},
   "outputs": [
    {
     "name": "stderr",
     "output_type": "stream",
     "text": [
      "C:\\Users\\Anna\\anaconda3\\lib\\site-packages\\pandas\\core\\generic.py:6245: SettingWithCopyWarning: \n",
      "A value is trying to be set on a copy of a slice from a DataFrame\n",
      "\n",
      "See the caveats in the documentation: https://pandas.pydata.org/pandas-docs/stable/user_guide/indexing.html#returning-a-view-versus-a-copy\n",
      "  self._update_inplace(new_data)\n"
     ]
    }
   ],
   "source": [
    "data[data['Reviews']== '[[], []]']['Number of Reviews'].fillna(0, inplace=True)\n",
    "data['Number of Reviews'].fillna(1, inplace=True)"
   ]
  },
  {
   "cell_type": "markdown",
   "metadata": {},
   "source": [
    "Проведём преобразованиие столбца в список по такой же методике, как и со стилями кухни. Но теперь у нас должен получиться список из двух списков: в первом первые строки отзыва, во втором - даты этих отзывов. Поскольку при первичном запуске выходила ошибка, поиск её причин выявил несколько строк в которых текст отзыва не подтянулся, а было записано nan, в строковом формате. Для начала заменим это выражением 'no review'."
   ]
  },
  {
   "cell_type": "code",
   "execution_count": 464,
   "metadata": {},
   "outputs": [
    {
     "name": "stderr",
     "output_type": "stream",
     "text": [
      "C:\\Users\\Anna\\anaconda3\\lib\\site-packages\\ipykernel_launcher.py:3: SettingWithCopyWarning: \n",
      "A value is trying to be set on a copy of a slice from a DataFrame\n",
      "\n",
      "See the caveats in the documentation: https://pandas.pydata.org/pandas-docs/stable/user_guide/indexing.html#returning-a-view-versus-a-copy\n",
      "  This is separate from the ipykernel package so we can avoid doing imports until\n"
     ]
    },
    {
     "name": "stdout",
     "output_type": "stream",
     "text": [
      "[['Will certainly be back', 'no review'], ['11/26/2017', '07/27/2017']]\n",
      "[['no review', 'Good food with decent service'], ['11/21/2017', '07/21/2017']]\n"
     ]
    }
   ],
   "source": [
    "for i in range(50000):\n",
    "    if data['Reviews'][i].find('nan]')>0 or data['Reviews'][i].find('nan,')>0:\n",
    "        data['Reviews'][i]=data['Reviews'][i].replace('nan',\"'no review'\")\n",
    "        print(data['Reviews'][i])"
   ]
  },
  {
   "cell_type": "code",
   "execution_count": 465,
   "metadata": {},
   "outputs": [
    {
     "name": "stderr",
     "output_type": "stream",
     "text": [
      "C:\\Users\\Anna\\anaconda3\\lib\\site-packages\\ipykernel_launcher.py:2: SettingWithCopyWarning: \n",
      "A value is trying to be set on a copy of a slice from a DataFrame\n",
      "\n",
      "See the caveats in the documentation: https://pandas.pydata.org/pandas-docs/stable/user_guide/indexing.html#returning-a-view-versus-a-copy\n",
      "  \n"
     ]
    }
   ],
   "source": [
    "for i in range(50000):\n",
    "    data['Reviews'][i]=ast.literal_eval(data['Reviews'][i])\n"
   ]
  },
  {
   "cell_type": "markdown",
   "metadata": {},
   "source": [
    "Обработаем информацию по датам. Создадим столбец со списком дат. Теперь это просто элемент получившегося списка с индексом [1]. В каждой позиции будет от 0 до 2 элементов. Затем посмотрим, когда был написан последний отзыв. По умолчанию поставим значение 10000, оно останется для позиций, по которым отзывов не было."
   ]
  },
  {
   "cell_type": "code",
   "execution_count": 466,
   "metadata": {},
   "outputs": [],
   "source": [
    "data['Review_Date']=data['Reviews'].apply(lambda x: x[1])\n",
    "data['Latest Review']=10000"
   ]
  },
  {
   "cell_type": "code",
   "execution_count": 467,
   "metadata": {},
   "outputs": [
    {
     "name": "stderr",
     "output_type": "stream",
     "text": [
      "C:\\Users\\Anna\\anaconda3\\lib\\site-packages\\ipykernel_launcher.py:14: SettingWithCopyWarning: \n",
      "A value is trying to be set on a copy of a slice from a DataFrame\n",
      "\n",
      "See the caveats in the documentation: https://pandas.pydata.org/pandas-docs/stable/user_guide/indexing.html#returning-a-view-versus-a-copy\n",
      "  \n",
      "C:\\Users\\Anna\\anaconda3\\lib\\site-packages\\ipykernel_launcher.py:9: SettingWithCopyWarning: \n",
      "A value is trying to be set on a copy of a slice from a DataFrame\n",
      "\n",
      "See the caveats in the documentation: https://pandas.pydata.org/pandas-docs/stable/user_guide/indexing.html#returning-a-view-versus-a-copy\n",
      "  if __name__ == '__main__':\n"
     ]
    },
    {
     "data": {
      "text/plain": [
       "10000    8114\n",
       "979       646\n",
       "983       568\n",
       "980       522\n",
       "982       492\n",
       "         ... \n",
       "2948        1\n",
       "2265        1\n",
       "2233        1\n",
       "2448        1\n",
       "2311        1\n",
       "Name: Latest Review, Length: 1977, dtype: int64"
      ]
     },
     "execution_count": 467,
     "metadata": {},
     "output_type": "execute_result"
    }
   ],
   "source": [
    "date = datetime.now() #Сегодняшняя дата\n",
    "i=-1\n",
    "for ddd in data['Review_Date']: #Список дат в строковом виде \n",
    "    i+=1\n",
    "    for dd in ddd: #Элемент списка\n",
    "        if len(ddd)==1:\n",
    "            d=datetime.strptime(dd, '%m/%d/%Y')\n",
    "            z = date-d      #Разница с единственной датой\n",
    "            data['Latest Review'][i]=int(z.days) \n",
    "        elif len(ddd)==2:\n",
    "            x=datetime.strptime(ddd[0], '%m/%d/%Y')\n",
    "            y=datetime.strptime(ddd[1], '%m/%d/%Y')\n",
    "            z=date-max(x,y) #Разница с позднейшей из двух дат\n",
    "            data['Latest Review'][i]=int(z.days)\n",
    "data['Latest Review'].value_counts()"
   ]
  },
  {
   "cell_type": "markdown",
   "metadata": {},
   "source": [
    "Отметим, что значения 10000 по количеству совпадают с известными нам пустыми значениями списка. Алгоритм сработал.\n",
    "\n",
    "### Рассмотрим столбцы URL_TA и ID_TA"
   ]
  },
  {
   "cell_type": "code",
   "execution_count": 468,
   "metadata": {},
   "outputs": [
    {
     "data": {
      "text/plain": [
       "0    /Restaurant_Review-g187147-d10746918-Reviews-L...\n",
       "1    /Restaurant_Review-g187147-d8458643-Reviews-Le...\n",
       "2    /Restaurant_Review-g187147-d7605609-Reviews-Le...\n",
       "3    /Restaurant_Review-g187147-d11953078-Reviews-B...\n",
       "4    /Restaurant_Review-g187147-d9597870-Reviews-La...\n",
       "5    /Restaurant_Review-g187147-d3256188-Reviews-Th...\n",
       "6    /Restaurant_Review-g187147-d1326624-Reviews-Le...\n",
       "7    /Restaurant_Review-g187147-d695231-Reviews-Buf...\n",
       "8    /Restaurant_Review-g187147-d1439340-Reviews-To...\n",
       "9    /Restaurant_Review-g187147-d4988279-Reviews-Le...\n",
       "Name: URL_TA, dtype: object"
      ]
     },
     "execution_count": 468,
     "metadata": {},
     "output_type": "execute_result"
    }
   ],
   "source": [
    "data['URL_TA'].head(10)"
   ]
  },
  {
   "cell_type": "code",
   "execution_count": 469,
   "metadata": {},
   "outputs": [
    {
     "data": {
      "text/plain": [
       "0    d10746918\n",
       "1     d8458643\n",
       "2     d7605609\n",
       "3    d11953078\n",
       "4     d9597870\n",
       "5     d3256188\n",
       "6     d1326624\n",
       "7      d695231\n",
       "8     d1439340\n",
       "9     d4988279\n",
       "Name: ID_TA, dtype: object"
      ]
     },
     "execution_count": 469,
     "metadata": {},
     "output_type": "execute_result"
    }
   ],
   "source": [
    "data['ID_TA'].head(10)"
   ]
  },
  {
   "cell_type": "markdown",
   "metadata": {},
   "source": [
    "ID_TA представляет собой часть записи URL_TA. URL_TA была бы полезна при условии живых ссылок, если бы можно было сделать приличный анализ по облаку слов. Но квалификации на это объективно не хватает. Поэтому сразу удалим эти столбцы. Также удалим Cuisine Style, так как нужную информацию мы уже получили."
   ]
  },
  {
   "cell_type": "code",
   "execution_count": 470,
   "metadata": {},
   "outputs": [
    {
     "name": "stdout",
     "output_type": "stream",
     "text": [
      "<class 'pandas.core.frame.DataFrame'>\n",
      "Int64Index: 50000 entries, 0 to 49999\n",
      "Data columns (total 19 columns):\n",
      " #   Column                 Non-Null Count  Dtype  \n",
      "---  ------                 --------------  -----  \n",
      " 0   Restaurant_id          50000 non-null  object \n",
      " 1   City                   50000 non-null  object \n",
      " 2   Ranking                50000 non-null  float64\n",
      " 3   Price Range            50000 non-null  float64\n",
      " 4   Number of Reviews      50000 non-null  float64\n",
      " 5   sample                 50000 non-null  int64  \n",
      " 6   Rating                 50000 non-null  float64\n",
      " 7   Capital                50000 non-null  object \n",
      " 8   1000 tourist arrivals  50000 non-null  float64\n",
      " 9   Cuisines               50000 non-null  int64  \n",
      " 10  Arab                   50000 non-null  int64  \n",
      " 11  Asian                  50000 non-null  int64  \n",
      " 12  Europe                 50000 non-null  int64  \n",
      " 13  Inter                  50000 non-null  int64  \n",
      " 14  Latin                  50000 non-null  int64  \n",
      " 15  Mediter                50000 non-null  int64  \n",
      " 16  Vegetarian             50000 non-null  int64  \n",
      " 17  Bar                    50000 non-null  int64  \n",
      " 18  Latest Review          50000 non-null  int64  \n",
      "dtypes: float64(5), int64(11), object(3)\n",
      "memory usage: 8.9+ MB\n"
     ]
    }
   ],
   "source": [
    "data.drop(data.columns[[2,6,7,8,22]], axis=1, inplace=True)\n",
    "data.info()"
   ]
  },
  {
   "cell_type": "markdown",
   "metadata": {},
   "source": [
    "## EDA\n",
    "Посмотрим распределение признаков, взаимосвязь, определим выбросы."
   ]
  },
  {
   "cell_type": "code",
   "execution_count": 494,
   "metadata": {
    "scrolled": true
   },
   "outputs": [
    {
     "data": {
      "text/plain": [
       "<matplotlib.axes._subplots.AxesSubplot at 0x4730489c48>"
      ]
     },
     "execution_count": 494,
     "metadata": {},
     "output_type": "execute_result"
    },
    {
     "data": {
      "image/png": "[encoded data removed]",
      "text/plain": [
       "<Figure size 720x504 with 1 Axes>"
      ]
     },
     "metadata": {
      "needs_background": "light"
     },
     "output_type": "display_data"
    }
   ],
   "source": [
    "#Распределение значений по Ranking\n",
    "plt.rcParams['figure.figsize'] = (10,7)\n",
    "data['Ranking'].hist(bins=100)"
   ]
  },
  {
   "cell_type": "code",
   "execution_count": null,
   "metadata": {},
   "outputs": [],
   "source": [
    "#Распределение значений по Raing\n",
    "plt.rcParams['figure.figsize'] = (10,7)\n",
    "data['Ranking'].hist(bins=100)"
   ]
  },
  {
   "cell_type": "code",
   "execution_count": 226,
   "metadata": {},
   "outputs": [
    {
     "data": {
      "text/plain": [
       "<matplotlib.axes._subplots.AxesSubplot at 0x472c0a58c8>"
      ]
     },
     "execution_count": 226,
     "metadata": {},
     "output_type": "execute_result"
    },
    {
     "data": {
      "image/png": "[encoded data removed]",
      "text/plain": [
       "<Figure size 1080x720 with 2 Axes>"
      ]
     },
     "metadata": {
      "needs_background": "light"
     },
     "output_type": "display_data"
    }
   ],
   "source": [
    "plt.rcParams['figure.figsize'] = (15,10)\n",
    "sns.heatmap(data.drop(['sample'], axis=1).corr(),)"
   ]
  },
  {
   "cell_type": "markdown",
   "metadata": {},
   "source": [
    "Серьёзных корреляций не выявлено. Кандидатов на удаление по итогам этой таблицы нет.\n",
    "\n",
    "Посмотрим на распределение категориальных признаков в боксплоте."
   ]
  },
  {
   "cell_type": "code",
   "execution_count": 473,
   "metadata": {},
   "outputs": [],
   "source": [
    "def get_boxplot(column):\n",
    "    fig, ax = plt.subplots(figsize = (14, 4))\n",
    "    sns.boxplot(x=column, y='Rating', \n",
    "                data=data.loc[data.loc[:, column].isin(data.loc[:, column].value_counts().index[:10])],\n",
    "               ax=ax)\n",
    "    plt.xticks(rotation=45)\n",
    "    ax.set_title('Boxplot for ' + column)\n",
    "    plt.show()"
   ]
  },
  {
   "cell_type": "code",
   "execution_count": 474,
   "metadata": {},
   "outputs": [],
   "source": [
    "list_cat=['City', 'Capital']"
   ]
  },
  {
   "cell_type": "code",
   "execution_count": 475,
   "metadata": {},
   "outputs": [
    {
     "data": {
      "image/png": "[encoded data removed]",
      "text/plain": [
       "<Figure size 1008x288 with 1 Axes>"
      ]
     },
     "metadata": {
      "needs_background": "light"
     },
     "output_type": "display_data"
    },
    {
     "data": {
      "image/png": "[encoded data removed]",
      "text/plain": [
       "<Figure size 1008x288 with 1 Axes>"
      ]
     },
     "metadata": {
      "needs_background": "light"
     },
     "output_type": "display_data"
    }
   ],
   "source": [
    "for col in list_cat:\n",
    "    get_boxplot(col)"
   ]
  },
  {
   "cell_type": "markdown",
   "metadata": {},
   "source": [
    "Почему-то в рейтингах хуже других выглядят Милан и Мадрид, возможно, там более привередливая публика. А вот разницы между столичными и не столичными городами не видно совсем.\n",
    "\n",
    "Заменим оставшиеся категориальные столбцы на dummy-переменные и снова запустим корреляции."
   ]
  },
  {
   "cell_type": "code",
   "execution_count": 476,
   "metadata": {},
   "outputs": [],
   "source": [
    "data = pd.get_dummies(data, columns=['City'], dummy_na=True)\n",
    "data = pd.get_dummies(data, columns=['Capital'], dummy_na=True)"
   ]
  },
  {
   "cell_type": "code",
   "execution_count": 477,
   "metadata": {},
   "outputs": [
    {
     "data": {
      "text/plain": [
       "<matplotlib.axes._subplots.AxesSubplot at 0x47451a4288>"
      ]
     },
     "execution_count": 477,
     "metadata": {},
     "output_type": "execute_result"
    },
    {
     "data": {
      "image/png": "[encoded data removed]",
      "text/plain": [
       "<Figure size 1080x720 with 2 Axes>"
      ]
     },
     "metadata": {
      "needs_background": "light"
     },
     "output_type": "display_data"
    }
   ],
   "source": [
    "plt.rcParams['figure.figsize'] = (15,10)\n",
    "sns.heatmap(data.drop(['sample'], axis=1).corr(),)"
   ]
  },
  {
   "cell_type": "markdown",
   "metadata": {},
   "source": [
    "Существенных корреляций нет.\n",
    "\n",
    "Удалим ненужные столбцы и займёмся моделью."
   ]
  },
  {
   "cell_type": "code",
   "execution_count": 478,
   "metadata": {},
   "outputs": [],
   "source": [
    "data=data.drop(['Restaurant_id', 'City_nan', 'Capital_nan'], axis = 1)"
   ]
  },
  {
   "cell_type": "markdown",
   "metadata": {},
   "source": [
    "Теперь подготовим данные для запуска модели. Снова разделим датасет на тренировочную и тестовую части."
   ]
  },
  {
   "cell_type": "code",
   "execution_count": 479,
   "metadata": {},
   "outputs": [],
   "source": [
    "# Выделим тестовую часть\n",
    "train_data = data.query('sample == 1').drop(['sample'], axis=1)\n",
    "test_data = data.query('sample == 0').drop(['sample'], axis=1)\n",
    "\n",
    "y = train_data.Rating.values            # наш таргет\n",
    "X = train_data.drop(['Rating'], axis=1)"
   ]
  },
  {
   "cell_type": "code",
   "execution_count": 480,
   "metadata": {},
   "outputs": [],
   "source": [
    "# Загружаем специальный инструмент для разбивки:\n",
    "from sklearn.model_selection import train_test_split"
   ]
  },
  {
   "cell_type": "code",
   "execution_count": 481,
   "metadata": {},
   "outputs": [],
   "source": [
    "# Воспользуемся специальной функцие train_test_split для разбивки тестовых данных\n",
    "# выделим 20% данных на валидацию (параметр test_size)\n",
    "X_train, X_test, y_train, y_test = train_test_split(X, y, test_size=0.2, random_state=RANDOM_SEED)"
   ]
  },
  {
   "cell_type": "code",
   "execution_count": 482,
   "metadata": {},
   "outputs": [
    {
     "data": {
      "text/plain": [
       "((10000, 48), (40000, 48), (40000, 47), (32000, 47), (8000, 47))"
      ]
     },
     "execution_count": 482,
     "metadata": {},
     "output_type": "execute_result"
    }
   ],
   "source": [
    "# проверяем\n",
    "test_data.shape, train_data.shape, X.shape, X_train.shape, X_test.shape"
   ]
  },
  {
   "cell_type": "markdown",
   "metadata": {},
   "source": [
    "Создаём модель"
   ]
  },
  {
   "cell_type": "code",
   "execution_count": 483,
   "metadata": {},
   "outputs": [],
   "source": [
    "from sklearn.ensemble import RandomForestRegressor # инструмент для создания и обучения модели\n",
    "from sklearn import metrics # инструменты для оценки точности модели"
   ]
  },
  {
   "cell_type": "code",
   "execution_count": 484,
   "metadata": {},
   "outputs": [],
   "source": [
    "# Создаём модель\n",
    "model = RandomForestRegressor(n_estimators=100, verbose=1, n_jobs=-1, random_state=RANDOM_SEED)"
   ]
  },
  {
   "cell_type": "code",
   "execution_count": 485,
   "metadata": {},
   "outputs": [
    {
     "name": "stderr",
     "output_type": "stream",
     "text": [
      "[Parallel(n_jobs=-1)]: Using backend ThreadingBackend with 2 concurrent workers.\n",
      "[Parallel(n_jobs=-1)]: Done  46 tasks      | elapsed:    9.8s\n",
      "[Parallel(n_jobs=-1)]: Done 100 out of 100 | elapsed:   20.9s finished\n",
      "[Parallel(n_jobs=2)]: Using backend ThreadingBackend with 2 concurrent workers.\n",
      "[Parallel(n_jobs=2)]: Done  46 tasks      | elapsed:    0.0s\n",
      "[Parallel(n_jobs=2)]: Done 100 out of 100 | elapsed:    0.1s finished\n"
     ]
    }
   ],
   "source": [
    "# Обучаем модель на тестовом наборе данных\n",
    "model.fit(X_train, y_train)\n",
    "\n",
    "# Используем обученную модель для предсказания рейтинга ресторанов в тестовой выборке.\n",
    "# Предсказанные значения записываем в переменную y_pred\n",
    "y_pred = model.predict(X_test)"
   ]
  },
  {
   "cell_type": "code",
   "execution_count": 486,
   "metadata": {},
   "outputs": [
    {
     "name": "stdout",
     "output_type": "stream",
     "text": [
      "MAE: 0.206243125\n"
     ]
    }
   ],
   "source": [
    "# Сравниваем предсказанные значения (y_pred) с реальными (y_test), и смотрим насколько они в среднем отличаются\n",
    "# Метрика называется Mean Absolute Error (MAE) и показывает среднее отклонение предсказанных значений от фактических.\n",
    "print('MAE:', metrics.mean_absolute_error(y_test, y_pred))"
   ]
  },
  {
   "cell_type": "code",
   "execution_count": 487,
   "metadata": {},
   "outputs": [
    {
     "data": {
      "text/plain": [
       "<matplotlib.axes._subplots.AxesSubplot at 0x4745169c08>"
      ]
     },
     "execution_count": 487,
     "metadata": {},
     "output_type": "execute_result"
    },
    {
     "data": {
      "image/png": "[encoded data removed]",
      "text/plain": [
       "<Figure size 720x720 with 1 Axes>"
      ]
     },
     "metadata": {
      "needs_background": "light"
     },
     "output_type": "display_data"
    }
   ],
   "source": [
    "# в RandomForestRegressor есть возможность вывести самые важные признаки для модели\n",
    "plt.rcParams['figure.figsize'] = (10,10)\n",
    "feat_importances = pd.Series(model.feature_importances_, index=X.columns)\n",
    "feat_importances.nlargest(15).plot(kind='barh')"
   ]
  },
  {
   "cell_type": "markdown",
   "metadata": {},
   "source": [
    "Готовим Submission"
   ]
  },
  {
   "cell_type": "code",
   "execution_count": 488,
   "metadata": {},
   "outputs": [
    {
     "data": {
      "text/html": [
       "<div>\n",
       "<style scoped>\n",
       "    .dataframe tbody tr th:only-of-type {\n",
       "        vertical-align: middle;\n",
       "    }\n",
       "\n",
       "    .dataframe tbody tr th {\n",
       "        vertical-align: top;\n",
       "    }\n",
       "\n",
       "    .dataframe thead th {\n",
       "        text-align: right;\n",
       "    }\n",
       "</style>\n",
       "<table border=\"1\" class=\"dataframe\">\n",
       "  <thead>\n",
       "    <tr style=\"text-align: right;\">\n",
       "      <th></th>\n",
       "      <th>Ranking</th>\n",
       "      <th>Price Range</th>\n",
       "      <th>Number of Reviews</th>\n",
       "      <th>Rating</th>\n",
       "      <th>1000 tourist arrivals</th>\n",
       "      <th>Cuisines</th>\n",
       "      <th>Arab</th>\n",
       "      <th>Asian</th>\n",
       "      <th>Europe</th>\n",
       "      <th>Inter</th>\n",
       "      <th>Latin</th>\n",
       "      <th>Mediter</th>\n",
       "      <th>Vegetarian</th>\n",
       "      <th>Bar</th>\n",
       "      <th>Latest Review</th>\n",
       "      <th>City_Amsterdam</th>\n",
       "      <th>City_Athens</th>\n",
       "      <th>City_Barcelona</th>\n",
       "      <th>City_Berlin</th>\n",
       "      <th>City_Bratislava</th>\n",
       "      <th>City_Brussels</th>\n",
       "      <th>City_Budapest</th>\n",
       "      <th>City_Copenhagen</th>\n",
       "      <th>City_Dublin</th>\n",
       "      <th>City_Edinburgh</th>\n",
       "      <th>City_Geneva</th>\n",
       "      <th>City_Hamburg</th>\n",
       "      <th>City_Helsinki</th>\n",
       "      <th>City_Krakow</th>\n",
       "      <th>City_Lisbon</th>\n",
       "      <th>City_Ljubljana</th>\n",
       "      <th>City_London</th>\n",
       "      <th>City_Luxembourg</th>\n",
       "      <th>City_Lyon</th>\n",
       "      <th>City_Madrid</th>\n",
       "      <th>City_Milan</th>\n",
       "      <th>City_Munich</th>\n",
       "      <th>City_Oporto</th>\n",
       "      <th>City_Oslo</th>\n",
       "      <th>City_Paris</th>\n",
       "      <th>City_Prague</th>\n",
       "      <th>City_Rome</th>\n",
       "      <th>City_Stockholm</th>\n",
       "      <th>City_Vienna</th>\n",
       "      <th>City_Warsaw</th>\n",
       "      <th>City_Zurich</th>\n",
       "      <th>Capital_Capital</th>\n",
       "      <th>Capital_Town</th>\n",
       "    </tr>\n",
       "  </thead>\n",
       "  <tbody>\n",
       "    <tr>\n",
       "      <th>30796</th>\n",
       "      <td>4267.0</td>\n",
       "      <td>1.0</td>\n",
       "      <td>2.0</td>\n",
       "      <td>0.0</td>\n",
       "      <td>4.695</td>\n",
       "      <td>0</td>\n",
       "      <td>0</td>\n",
       "      <td>0</td>\n",
       "      <td>0</td>\n",
       "      <td>0</td>\n",
       "      <td>0</td>\n",
       "      <td>0</td>\n",
       "      <td>0</td>\n",
       "      <td>0</td>\n",
       "      <td>10000</td>\n",
       "      <td>0</td>\n",
       "      <td>0</td>\n",
       "      <td>1</td>\n",
       "      <td>0</td>\n",
       "      <td>0</td>\n",
       "      <td>0</td>\n",
       "      <td>0</td>\n",
       "      <td>0</td>\n",
       "      <td>0</td>\n",
       "      <td>0</td>\n",
       "      <td>0</td>\n",
       "      <td>0</td>\n",
       "      <td>0</td>\n",
       "      <td>0</td>\n",
       "      <td>0</td>\n",
       "      <td>0</td>\n",
       "      <td>0</td>\n",
       "      <td>0</td>\n",
       "      <td>0</td>\n",
       "      <td>0</td>\n",
       "      <td>0</td>\n",
       "      <td>0</td>\n",
       "      <td>0</td>\n",
       "      <td>0</td>\n",
       "      <td>0</td>\n",
       "      <td>0</td>\n",
       "      <td>0</td>\n",
       "      <td>0</td>\n",
       "      <td>0</td>\n",
       "      <td>0</td>\n",
       "      <td>0</td>\n",
       "      <td>0</td>\n",
       "      <td>1</td>\n",
       "    </tr>\n",
       "    <tr>\n",
       "      <th>46349</th>\n",
       "      <td>1202.0</td>\n",
       "      <td>1.0</td>\n",
       "      <td>7.0</td>\n",
       "      <td>0.0</td>\n",
       "      <td>2.390</td>\n",
       "      <td>2</td>\n",
       "      <td>0</td>\n",
       "      <td>0</td>\n",
       "      <td>1</td>\n",
       "      <td>0</td>\n",
       "      <td>0</td>\n",
       "      <td>1</td>\n",
       "      <td>0</td>\n",
       "      <td>0</td>\n",
       "      <td>1449</td>\n",
       "      <td>0</td>\n",
       "      <td>0</td>\n",
       "      <td>0</td>\n",
       "      <td>0</td>\n",
       "      <td>0</td>\n",
       "      <td>0</td>\n",
       "      <td>0</td>\n",
       "      <td>0</td>\n",
       "      <td>0</td>\n",
       "      <td>0</td>\n",
       "      <td>0</td>\n",
       "      <td>0</td>\n",
       "      <td>0</td>\n",
       "      <td>0</td>\n",
       "      <td>0</td>\n",
       "      <td>0</td>\n",
       "      <td>0</td>\n",
       "      <td>0</td>\n",
       "      <td>0</td>\n",
       "      <td>0</td>\n",
       "      <td>0</td>\n",
       "      <td>0</td>\n",
       "      <td>1</td>\n",
       "      <td>0</td>\n",
       "      <td>0</td>\n",
       "      <td>0</td>\n",
       "      <td>0</td>\n",
       "      <td>0</td>\n",
       "      <td>0</td>\n",
       "      <td>0</td>\n",
       "      <td>0</td>\n",
       "      <td>0</td>\n",
       "      <td>1</td>\n",
       "    </tr>\n",
       "    <tr>\n",
       "      <th>6112</th>\n",
       "      <td>16.0</td>\n",
       "      <td>1.0</td>\n",
       "      <td>317.0</td>\n",
       "      <td>0.0</td>\n",
       "      <td>842.000</td>\n",
       "      <td>3</td>\n",
       "      <td>0</td>\n",
       "      <td>0</td>\n",
       "      <td>1</td>\n",
       "      <td>1</td>\n",
       "      <td>0</td>\n",
       "      <td>0</td>\n",
       "      <td>1</td>\n",
       "      <td>0</td>\n",
       "      <td>994</td>\n",
       "      <td>0</td>\n",
       "      <td>0</td>\n",
       "      <td>0</td>\n",
       "      <td>0</td>\n",
       "      <td>0</td>\n",
       "      <td>0</td>\n",
       "      <td>0</td>\n",
       "      <td>0</td>\n",
       "      <td>0</td>\n",
       "      <td>0</td>\n",
       "      <td>0</td>\n",
       "      <td>0</td>\n",
       "      <td>1</td>\n",
       "      <td>0</td>\n",
       "      <td>0</td>\n",
       "      <td>0</td>\n",
       "      <td>0</td>\n",
       "      <td>0</td>\n",
       "      <td>0</td>\n",
       "      <td>0</td>\n",
       "      <td>0</td>\n",
       "      <td>0</td>\n",
       "      <td>0</td>\n",
       "      <td>0</td>\n",
       "      <td>0</td>\n",
       "      <td>0</td>\n",
       "      <td>0</td>\n",
       "      <td>0</td>\n",
       "      <td>0</td>\n",
       "      <td>0</td>\n",
       "      <td>0</td>\n",
       "      <td>1</td>\n",
       "      <td>0</td>\n",
       "    </tr>\n",
       "    <tr>\n",
       "      <th>15127</th>\n",
       "      <td>2739.0</td>\n",
       "      <td>2.0</td>\n",
       "      <td>40.0</td>\n",
       "      <td>0.0</td>\n",
       "      <td>1.715</td>\n",
       "      <td>4</td>\n",
       "      <td>0</td>\n",
       "      <td>0</td>\n",
       "      <td>1</td>\n",
       "      <td>0</td>\n",
       "      <td>0</td>\n",
       "      <td>1</td>\n",
       "      <td>0</td>\n",
       "      <td>0</td>\n",
       "      <td>971</td>\n",
       "      <td>0</td>\n",
       "      <td>0</td>\n",
       "      <td>0</td>\n",
       "      <td>0</td>\n",
       "      <td>0</td>\n",
       "      <td>0</td>\n",
       "      <td>0</td>\n",
       "      <td>0</td>\n",
       "      <td>0</td>\n",
       "      <td>0</td>\n",
       "      <td>0</td>\n",
       "      <td>0</td>\n",
       "      <td>0</td>\n",
       "      <td>0</td>\n",
       "      <td>1</td>\n",
       "      <td>0</td>\n",
       "      <td>0</td>\n",
       "      <td>0</td>\n",
       "      <td>0</td>\n",
       "      <td>0</td>\n",
       "      <td>0</td>\n",
       "      <td>0</td>\n",
       "      <td>0</td>\n",
       "      <td>0</td>\n",
       "      <td>0</td>\n",
       "      <td>0</td>\n",
       "      <td>0</td>\n",
       "      <td>0</td>\n",
       "      <td>0</td>\n",
       "      <td>0</td>\n",
       "      <td>0</td>\n",
       "      <td>1</td>\n",
       "      <td>0</td>\n",
       "    </tr>\n",
       "    <tr>\n",
       "      <th>18769</th>\n",
       "      <td>2000.0</td>\n",
       "      <td>2.0</td>\n",
       "      <td>23.0</td>\n",
       "      <td>0.0</td>\n",
       "      <td>6.033</td>\n",
       "      <td>2</td>\n",
       "      <td>0</td>\n",
       "      <td>2</td>\n",
       "      <td>0</td>\n",
       "      <td>0</td>\n",
       "      <td>0</td>\n",
       "      <td>0</td>\n",
       "      <td>0</td>\n",
       "      <td>0</td>\n",
       "      <td>10000</td>\n",
       "      <td>0</td>\n",
       "      <td>0</td>\n",
       "      <td>0</td>\n",
       "      <td>0</td>\n",
       "      <td>0</td>\n",
       "      <td>0</td>\n",
       "      <td>0</td>\n",
       "      <td>0</td>\n",
       "      <td>0</td>\n",
       "      <td>0</td>\n",
       "      <td>0</td>\n",
       "      <td>0</td>\n",
       "      <td>0</td>\n",
       "      <td>0</td>\n",
       "      <td>0</td>\n",
       "      <td>0</td>\n",
       "      <td>0</td>\n",
       "      <td>0</td>\n",
       "      <td>0</td>\n",
       "      <td>0</td>\n",
       "      <td>0</td>\n",
       "      <td>0</td>\n",
       "      <td>0</td>\n",
       "      <td>0</td>\n",
       "      <td>0</td>\n",
       "      <td>0</td>\n",
       "      <td>1</td>\n",
       "      <td>0</td>\n",
       "      <td>0</td>\n",
       "      <td>0</td>\n",
       "      <td>0</td>\n",
       "      <td>1</td>\n",
       "      <td>0</td>\n",
       "    </tr>\n",
       "    <tr>\n",
       "      <th>15057</th>\n",
       "      <td>1239.0</td>\n",
       "      <td>1.0</td>\n",
       "      <td>26.0</td>\n",
       "      <td>0.0</td>\n",
       "      <td>1.715</td>\n",
       "      <td>0</td>\n",
       "      <td>0</td>\n",
       "      <td>0</td>\n",
       "      <td>0</td>\n",
       "      <td>0</td>\n",
       "      <td>0</td>\n",
       "      <td>0</td>\n",
       "      <td>0</td>\n",
       "      <td>0</td>\n",
       "      <td>1115</td>\n",
       "      <td>0</td>\n",
       "      <td>0</td>\n",
       "      <td>0</td>\n",
       "      <td>0</td>\n",
       "      <td>0</td>\n",
       "      <td>0</td>\n",
       "      <td>0</td>\n",
       "      <td>0</td>\n",
       "      <td>0</td>\n",
       "      <td>0</td>\n",
       "      <td>0</td>\n",
       "      <td>0</td>\n",
       "      <td>0</td>\n",
       "      <td>0</td>\n",
       "      <td>1</td>\n",
       "      <td>0</td>\n",
       "      <td>0</td>\n",
       "      <td>0</td>\n",
       "      <td>0</td>\n",
       "      <td>0</td>\n",
       "      <td>0</td>\n",
       "      <td>0</td>\n",
       "      <td>0</td>\n",
       "      <td>0</td>\n",
       "      <td>0</td>\n",
       "      <td>0</td>\n",
       "      <td>0</td>\n",
       "      <td>0</td>\n",
       "      <td>0</td>\n",
       "      <td>0</td>\n",
       "      <td>0</td>\n",
       "      <td>1</td>\n",
       "      <td>0</td>\n",
       "    </tr>\n",
       "    <tr>\n",
       "      <th>16568</th>\n",
       "      <td>387.0</td>\n",
       "      <td>2.0</td>\n",
       "      <td>90.0</td>\n",
       "      <td>0.0</td>\n",
       "      <td>2.043</td>\n",
       "      <td>5</td>\n",
       "      <td>0</td>\n",
       "      <td>3</td>\n",
       "      <td>0</td>\n",
       "      <td>0</td>\n",
       "      <td>0</td>\n",
       "      <td>0</td>\n",
       "      <td>1</td>\n",
       "      <td>0</td>\n",
       "      <td>1051</td>\n",
       "      <td>0</td>\n",
       "      <td>0</td>\n",
       "      <td>0</td>\n",
       "      <td>0</td>\n",
       "      <td>0</td>\n",
       "      <td>0</td>\n",
       "      <td>1</td>\n",
       "      <td>0</td>\n",
       "      <td>0</td>\n",
       "      <td>0</td>\n",
       "      <td>0</td>\n",
       "      <td>0</td>\n",
       "      <td>0</td>\n",
       "      <td>0</td>\n",
       "      <td>0</td>\n",
       "      <td>0</td>\n",
       "      <td>0</td>\n",
       "      <td>0</td>\n",
       "      <td>0</td>\n",
       "      <td>0</td>\n",
       "      <td>0</td>\n",
       "      <td>0</td>\n",
       "      <td>0</td>\n",
       "      <td>0</td>\n",
       "      <td>0</td>\n",
       "      <td>0</td>\n",
       "      <td>0</td>\n",
       "      <td>0</td>\n",
       "      <td>0</td>\n",
       "      <td>0</td>\n",
       "      <td>0</td>\n",
       "      <td>1</td>\n",
       "      <td>0</td>\n",
       "    </tr>\n",
       "    <tr>\n",
       "      <th>28210</th>\n",
       "      <td>2607.0</td>\n",
       "      <td>1.0</td>\n",
       "      <td>3.0</td>\n",
       "      <td>0.0</td>\n",
       "      <td>3.339</td>\n",
       "      <td>0</td>\n",
       "      <td>0</td>\n",
       "      <td>0</td>\n",
       "      <td>0</td>\n",
       "      <td>0</td>\n",
       "      <td>0</td>\n",
       "      <td>0</td>\n",
       "      <td>0</td>\n",
       "      <td>0</td>\n",
       "      <td>1037</td>\n",
       "      <td>0</td>\n",
       "      <td>0</td>\n",
       "      <td>0</td>\n",
       "      <td>0</td>\n",
       "      <td>0</td>\n",
       "      <td>0</td>\n",
       "      <td>0</td>\n",
       "      <td>0</td>\n",
       "      <td>0</td>\n",
       "      <td>0</td>\n",
       "      <td>0</td>\n",
       "      <td>0</td>\n",
       "      <td>0</td>\n",
       "      <td>0</td>\n",
       "      <td>0</td>\n",
       "      <td>0</td>\n",
       "      <td>0</td>\n",
       "      <td>0</td>\n",
       "      <td>0</td>\n",
       "      <td>0</td>\n",
       "      <td>0</td>\n",
       "      <td>0</td>\n",
       "      <td>0</td>\n",
       "      <td>0</td>\n",
       "      <td>0</td>\n",
       "      <td>0</td>\n",
       "      <td>0</td>\n",
       "      <td>0</td>\n",
       "      <td>1</td>\n",
       "      <td>0</td>\n",
       "      <td>0</td>\n",
       "      <td>1</td>\n",
       "      <td>0</td>\n",
       "    </tr>\n",
       "    <tr>\n",
       "      <th>1002</th>\n",
       "      <td>4824.0</td>\n",
       "      <td>2.0</td>\n",
       "      <td>262.0</td>\n",
       "      <td>0.0</td>\n",
       "      <td>9.700</td>\n",
       "      <td>2</td>\n",
       "      <td>0</td>\n",
       "      <td>0</td>\n",
       "      <td>2</td>\n",
       "      <td>0</td>\n",
       "      <td>0</td>\n",
       "      <td>0</td>\n",
       "      <td>0</td>\n",
       "      <td>0</td>\n",
       "      <td>1173</td>\n",
       "      <td>0</td>\n",
       "      <td>0</td>\n",
       "      <td>0</td>\n",
       "      <td>0</td>\n",
       "      <td>0</td>\n",
       "      <td>0</td>\n",
       "      <td>0</td>\n",
       "      <td>0</td>\n",
       "      <td>0</td>\n",
       "      <td>0</td>\n",
       "      <td>0</td>\n",
       "      <td>0</td>\n",
       "      <td>0</td>\n",
       "      <td>0</td>\n",
       "      <td>0</td>\n",
       "      <td>0</td>\n",
       "      <td>0</td>\n",
       "      <td>0</td>\n",
       "      <td>0</td>\n",
       "      <td>0</td>\n",
       "      <td>0</td>\n",
       "      <td>0</td>\n",
       "      <td>0</td>\n",
       "      <td>0</td>\n",
       "      <td>1</td>\n",
       "      <td>0</td>\n",
       "      <td>0</td>\n",
       "      <td>0</td>\n",
       "      <td>0</td>\n",
       "      <td>0</td>\n",
       "      <td>0</td>\n",
       "      <td>1</td>\n",
       "      <td>0</td>\n",
       "    </tr>\n",
       "    <tr>\n",
       "      <th>40771</th>\n",
       "      <td>251.0</td>\n",
       "      <td>2.0</td>\n",
       "      <td>352.0</td>\n",
       "      <td>0.0</td>\n",
       "      <td>2.309</td>\n",
       "      <td>7</td>\n",
       "      <td>0</td>\n",
       "      <td>3</td>\n",
       "      <td>0</td>\n",
       "      <td>1</td>\n",
       "      <td>0</td>\n",
       "      <td>0</td>\n",
       "      <td>1</td>\n",
       "      <td>0</td>\n",
       "      <td>990</td>\n",
       "      <td>0</td>\n",
       "      <td>0</td>\n",
       "      <td>0</td>\n",
       "      <td>1</td>\n",
       "      <td>0</td>\n",
       "      <td>0</td>\n",
       "      <td>0</td>\n",
       "      <td>0</td>\n",
       "      <td>0</td>\n",
       "      <td>0</td>\n",
       "      <td>0</td>\n",
       "      <td>0</td>\n",
       "      <td>0</td>\n",
       "      <td>0</td>\n",
       "      <td>0</td>\n",
       "      <td>0</td>\n",
       "      <td>0</td>\n",
       "      <td>0</td>\n",
       "      <td>0</td>\n",
       "      <td>0</td>\n",
       "      <td>0</td>\n",
       "      <td>0</td>\n",
       "      <td>0</td>\n",
       "      <td>0</td>\n",
       "      <td>0</td>\n",
       "      <td>0</td>\n",
       "      <td>0</td>\n",
       "      <td>0</td>\n",
       "      <td>0</td>\n",
       "      <td>0</td>\n",
       "      <td>0</td>\n",
       "      <td>1</td>\n",
       "      <td>0</td>\n",
       "    </tr>\n",
       "  </tbody>\n",
       "</table>\n",
       "</div>"
      ],
      "text/plain": [
       "       Ranking  Price Range  Number of Reviews  Rating  1000 tourist arrivals  \\\n",
       "30796   4267.0          1.0                2.0     0.0                  4.695   \n",
       "46349   1202.0          1.0                7.0     0.0                  2.390   \n",
       "6112      16.0          1.0              317.0     0.0                842.000   \n",
       "15127   2739.0          2.0               40.0     0.0                  1.715   \n",
       "18769   2000.0          2.0               23.0     0.0                  6.033   \n",
       "15057   1239.0          1.0               26.0     0.0                  1.715   \n",
       "16568    387.0          2.0               90.0     0.0                  2.043   \n",
       "28210   2607.0          1.0                3.0     0.0                  3.339   \n",
       "1002    4824.0          2.0              262.0     0.0                  9.700   \n",
       "40771    251.0          2.0              352.0     0.0                  2.309   \n",
       "\n",
       "       Cuisines  Arab  Asian  Europe  Inter  Latin  Mediter  Vegetarian  Bar  \\\n",
       "30796         0     0      0       0      0      0        0           0    0   \n",
       "46349         2     0      0       1      0      0        1           0    0   \n",
       "6112          3     0      0       1      1      0        0           1    0   \n",
       "15127         4     0      0       1      0      0        1           0    0   \n",
       "18769         2     0      2       0      0      0        0           0    0   \n",
       "15057         0     0      0       0      0      0        0           0    0   \n",
       "16568         5     0      3       0      0      0        0           1    0   \n",
       "28210         0     0      0       0      0      0        0           0    0   \n",
       "1002          2     0      0       2      0      0        0           0    0   \n",
       "40771         7     0      3       0      1      0        0           1    0   \n",
       "\n",
       "       Latest Review  City_Amsterdam  City_Athens  City_Barcelona  \\\n",
       "30796          10000               0            0               1   \n",
       "46349           1449               0            0               0   \n",
       "6112             994               0            0               0   \n",
       "15127            971               0            0               0   \n",
       "18769          10000               0            0               0   \n",
       "15057           1115               0            0               0   \n",
       "16568           1051               0            0               0   \n",
       "28210           1037               0            0               0   \n",
       "1002            1173               0            0               0   \n",
       "40771            990               0            0               0   \n",
       "\n",
       "       City_Berlin  City_Bratislava  City_Brussels  City_Budapest  \\\n",
       "30796            0                0              0              0   \n",
       "46349            0                0              0              0   \n",
       "6112             0                0              0              0   \n",
       "15127            0                0              0              0   \n",
       "18769            0                0              0              0   \n",
       "15057            0                0              0              0   \n",
       "16568            0                0              0              1   \n",
       "28210            0                0              0              0   \n",
       "1002             0                0              0              0   \n",
       "40771            1                0              0              0   \n",
       "\n",
       "       City_Copenhagen  City_Dublin  City_Edinburgh  City_Geneva  \\\n",
       "30796                0            0               0            0   \n",
       "46349                0            0               0            0   \n",
       "6112                 0            0               0            0   \n",
       "15127                0            0               0            0   \n",
       "18769                0            0               0            0   \n",
       "15057                0            0               0            0   \n",
       "16568                0            0               0            0   \n",
       "28210                0            0               0            0   \n",
       "1002                 0            0               0            0   \n",
       "40771                0            0               0            0   \n",
       "\n",
       "       City_Hamburg  City_Helsinki  City_Krakow  City_Lisbon  City_Ljubljana  \\\n",
       "30796             0              0            0            0               0   \n",
       "46349             0              0            0            0               0   \n",
       "6112              0              1            0            0               0   \n",
       "15127             0              0            0            1               0   \n",
       "18769             0              0            0            0               0   \n",
       "15057             0              0            0            1               0   \n",
       "16568             0              0            0            0               0   \n",
       "28210             0              0            0            0               0   \n",
       "1002              0              0            0            0               0   \n",
       "40771             0              0            0            0               0   \n",
       "\n",
       "       City_London  City_Luxembourg  City_Lyon  City_Madrid  City_Milan  \\\n",
       "30796            0                0          0            0           0   \n",
       "46349            0                0          0            0           0   \n",
       "6112             0                0          0            0           0   \n",
       "15127            0                0          0            0           0   \n",
       "18769            0                0          0            0           0   \n",
       "15057            0                0          0            0           0   \n",
       "16568            0                0          0            0           0   \n",
       "28210            0                0          0            0           0   \n",
       "1002             0                0          0            0           0   \n",
       "40771            0                0          0            0           0   \n",
       "\n",
       "       City_Munich  City_Oporto  City_Oslo  City_Paris  City_Prague  \\\n",
       "30796            0            0          0           0            0   \n",
       "46349            0            1          0           0            0   \n",
       "6112             0            0          0           0            0   \n",
       "15127            0            0          0           0            0   \n",
       "18769            0            0          0           0            0   \n",
       "15057            0            0          0           0            0   \n",
       "16568            0            0          0           0            0   \n",
       "28210            0            0          0           0            0   \n",
       "1002             0            0          0           1            0   \n",
       "40771            0            0          0           0            0   \n",
       "\n",
       "       City_Rome  City_Stockholm  City_Vienna  City_Warsaw  City_Zurich  \\\n",
       "30796          0               0            0            0            0   \n",
       "46349          0               0            0            0            0   \n",
       "6112           0               0            0            0            0   \n",
       "15127          0               0            0            0            0   \n",
       "18769          1               0            0            0            0   \n",
       "15057          0               0            0            0            0   \n",
       "16568          0               0            0            0            0   \n",
       "28210          0               0            1            0            0   \n",
       "1002           0               0            0            0            0   \n",
       "40771          0               0            0            0            0   \n",
       "\n",
       "       Capital_Capital  Capital_Town  \n",
       "30796                0             1  \n",
       "46349                0             1  \n",
       "6112                 1             0  \n",
       "15127                1             0  \n",
       "18769                1             0  \n",
       "15057                1             0  \n",
       "16568                1             0  \n",
       "28210                1             0  \n",
       "1002                 1             0  \n",
       "40771                1             0  "
      ]
     },
     "execution_count": 488,
     "metadata": {},
     "output_type": "execute_result"
    }
   ],
   "source": [
    "test_data.sample(10)"
   ]
  },
  {
   "cell_type": "code",
   "execution_count": 489,
   "metadata": {},
   "outputs": [],
   "source": [
    "test_data = test_data.drop(['Rating'], axis=1)"
   ]
  },
  {
   "cell_type": "code",
   "execution_count": 490,
   "metadata": {},
   "outputs": [
    {
     "data": {
      "text/html": [
       "<div>\n",
       "<style scoped>\n",
       "    .dataframe tbody tr th:only-of-type {\n",
       "        vertical-align: middle;\n",
       "    }\n",
       "\n",
       "    .dataframe tbody tr th {\n",
       "        vertical-align: top;\n",
       "    }\n",
       "\n",
       "    .dataframe thead th {\n",
       "        text-align: right;\n",
       "    }\n",
       "</style>\n",
       "<table border=\"1\" class=\"dataframe\">\n",
       "  <thead>\n",
       "    <tr style=\"text-align: right;\">\n",
       "      <th></th>\n",
       "      <th>Restaurant_id</th>\n",
       "      <th>Rating</th>\n",
       "    </tr>\n",
       "  </thead>\n",
       "  <tbody>\n",
       "    <tr>\n",
       "      <th>0</th>\n",
       "      <td>id_0</td>\n",
       "      <td>2.0</td>\n",
       "    </tr>\n",
       "    <tr>\n",
       "      <th>1</th>\n",
       "      <td>id_1</td>\n",
       "      <td>2.5</td>\n",
       "    </tr>\n",
       "    <tr>\n",
       "      <th>2</th>\n",
       "      <td>id_2</td>\n",
       "      <td>4.0</td>\n",
       "    </tr>\n",
       "    <tr>\n",
       "      <th>3</th>\n",
       "      <td>id_3</td>\n",
       "      <td>1.0</td>\n",
       "    </tr>\n",
       "    <tr>\n",
       "      <th>4</th>\n",
       "      <td>id_4</td>\n",
       "      <td>4.0</td>\n",
       "    </tr>\n",
       "    <tr>\n",
       "      <th>...</th>\n",
       "      <td>...</td>\n",
       "      <td>...</td>\n",
       "    </tr>\n",
       "    <tr>\n",
       "      <th>9995</th>\n",
       "      <td>id_9995</td>\n",
       "      <td>3.0</td>\n",
       "    </tr>\n",
       "    <tr>\n",
       "      <th>9996</th>\n",
       "      <td>id_9996</td>\n",
       "      <td>1.5</td>\n",
       "    </tr>\n",
       "    <tr>\n",
       "      <th>9997</th>\n",
       "      <td>id_9997</td>\n",
       "      <td>4.5</td>\n",
       "    </tr>\n",
       "    <tr>\n",
       "      <th>9998</th>\n",
       "      <td>id_9998</td>\n",
       "      <td>1.0</td>\n",
       "    </tr>\n",
       "    <tr>\n",
       "      <th>9999</th>\n",
       "      <td>id_9999</td>\n",
       "      <td>2.5</td>\n",
       "    </tr>\n",
       "  </tbody>\n",
       "</table>\n",
       "<p>10000 rows × 2 columns</p>\n",
       "</div>"
      ],
      "text/plain": [
       "     Restaurant_id  Rating\n",
       "0             id_0     2.0\n",
       "1             id_1     2.5\n",
       "2             id_2     4.0\n",
       "3             id_3     1.0\n",
       "4             id_4     4.0\n",
       "...            ...     ...\n",
       "9995       id_9995     3.0\n",
       "9996       id_9996     1.5\n",
       "9997       id_9997     4.5\n",
       "9998       id_9998     1.0\n",
       "9999       id_9999     2.5\n",
       "\n",
       "[10000 rows x 2 columns]"
      ]
     },
     "execution_count": 490,
     "metadata": {},
     "output_type": "execute_result"
    }
   ],
   "source": [
    "sample_submission"
   ]
  },
  {
   "cell_type": "code",
   "execution_count": 491,
   "metadata": {},
   "outputs": [
    {
     "name": "stderr",
     "output_type": "stream",
     "text": [
      "[Parallel(n_jobs=2)]: Using backend ThreadingBackend with 2 concurrent workers.\n",
      "[Parallel(n_jobs=2)]: Done  46 tasks      | elapsed:    0.1s\n",
      "[Parallel(n_jobs=2)]: Done 100 out of 100 | elapsed:    0.3s finished\n"
     ]
    }
   ],
   "source": [
    "predict_submission = model.predict(test_data)"
   ]
  },
  {
   "cell_type": "code",
   "execution_count": 492,
   "metadata": {},
   "outputs": [
    {
     "data": {
      "text/plain": [
       "array([2.975, 4.485, 3.14 , ..., 4.14 , 4.295, 4.375])"
      ]
     },
     "execution_count": 492,
     "metadata": {},
     "output_type": "execute_result"
    }
   ],
   "source": [
    "predict_submission"
   ]
  },
  {
   "cell_type": "code",
   "execution_count": 493,
   "metadata": {},
   "outputs": [
    {
     "data": {
      "text/html": [
       "<div>\n",
       "<style scoped>\n",
       "    .dataframe tbody tr th:only-of-type {\n",
       "        vertical-align: middle;\n",
       "    }\n",
       "\n",
       "    .dataframe tbody tr th {\n",
       "        vertical-align: top;\n",
       "    }\n",
       "\n",
       "    .dataframe thead th {\n",
       "        text-align: right;\n",
       "    }\n",
       "</style>\n",
       "<table border=\"1\" class=\"dataframe\">\n",
       "  <thead>\n",
       "    <tr style=\"text-align: right;\">\n",
       "      <th></th>\n",
       "      <th>Restaurant_id</th>\n",
       "      <th>Rating</th>\n",
       "    </tr>\n",
       "  </thead>\n",
       "  <tbody>\n",
       "    <tr>\n",
       "      <th>0</th>\n",
       "      <td>id_0</td>\n",
       "      <td>2.975</td>\n",
       "    </tr>\n",
       "    <tr>\n",
       "      <th>1</th>\n",
       "      <td>id_1</td>\n",
       "      <td>4.485</td>\n",
       "    </tr>\n",
       "    <tr>\n",
       "      <th>2</th>\n",
       "      <td>id_2</td>\n",
       "      <td>3.140</td>\n",
       "    </tr>\n",
       "    <tr>\n",
       "      <th>3</th>\n",
       "      <td>id_3</td>\n",
       "      <td>4.930</td>\n",
       "    </tr>\n",
       "    <tr>\n",
       "      <th>4</th>\n",
       "      <td>id_4</td>\n",
       "      <td>4.530</td>\n",
       "    </tr>\n",
       "    <tr>\n",
       "      <th>5</th>\n",
       "      <td>id_5</td>\n",
       "      <td>3.650</td>\n",
       "    </tr>\n",
       "    <tr>\n",
       "      <th>6</th>\n",
       "      <td>id_6</td>\n",
       "      <td>3.790</td>\n",
       "    </tr>\n",
       "    <tr>\n",
       "      <th>7</th>\n",
       "      <td>id_7</td>\n",
       "      <td>2.870</td>\n",
       "    </tr>\n",
       "    <tr>\n",
       "      <th>8</th>\n",
       "      <td>id_8</td>\n",
       "      <td>3.230</td>\n",
       "    </tr>\n",
       "    <tr>\n",
       "      <th>9</th>\n",
       "      <td>id_9</td>\n",
       "      <td>3.885</td>\n",
       "    </tr>\n",
       "  </tbody>\n",
       "</table>\n",
       "</div>"
      ],
      "text/plain": [
       "  Restaurant_id  Rating\n",
       "0          id_0   2.975\n",
       "1          id_1   4.485\n",
       "2          id_2   3.140\n",
       "3          id_3   4.930\n",
       "4          id_4   4.530\n",
       "5          id_5   3.650\n",
       "6          id_6   3.790\n",
       "7          id_7   2.870\n",
       "8          id_8   3.230\n",
       "9          id_9   3.885"
      ]
     },
     "execution_count": 493,
     "metadata": {},
     "output_type": "execute_result"
    }
   ],
   "source": [
    "sample_submission['Rating'] = predict_submission\n",
    "sample_submission.to_csv('submission.csv', index=False)\n",
    "sample_submission.head(10)"
   ]
  }
 ],
 "metadata": {
  "kernelspec": {
   "display_name": "Python 3",
   "language": "python",
   "name": "python3"
  },
  "language_info": {
   "codemirror_mode": {
    "name": "ipython",
    "version": 3
   },
   "file_extension": ".py",
   "mimetype": "text/x-python",
   "name": "python",
   "nbconvert_exporter": "python",
   "pygments_lexer": "ipython3",
   "version": "3.7.6"
  }
 },
 "nbformat": 4,
 "nbformat_minor": 4
}
