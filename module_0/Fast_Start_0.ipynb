{
 "cells": [
  {
   "cell_type": "code",
   "execution_count": 4,
   "metadata": {},
   "outputs": [
    {
     "name": "stdout",
     "output_type": "stream",
     "text": [
      "Ваш алгоритм угадывает число в среднем за 50 попыток\n"
     ]
    },
    {
     "data": {
      "text/plain": [
       "50"
      ]
     },
     "execution_count": 4,
     "metadata": {},
     "output_type": "execute_result"
    }
   ],
   "source": [
    "def game_core_v1(number):\n",
    "    '''Просто угадываем перебором никак не используя информацию о больше или меньше.\n",
    "       Функция Принимает загаданное число и возвращает число попыток'''\n",
    "    count = 0\n",
    "    while True:\n",
    "        count += 1\n",
    "        if number == count:\n",
    "            return (count)  # выход из цикла, если угадали\n",
    "\n",
    "\n",
    "def score_game(game_core_v1):\n",
    "    '''Запускаем игру 1000 раз, чтоб узнать как быстро игра угадывает число'''\n",
    "    '''Если угадывание идёт перебором, то количество попыток для числа равно этому числу'''\n",
    "    #count_ls = [] - этот список не нужен\n",
    "    #np.random.seed(1)  - отключаем фиксацию\n",
    "    random_array = np.random.randint(100, size=(1000))\n",
    "    #for number in random_array: - Предположительно этот цикл тормозит выполнение\n",
    "        #count_ls.append(game_core_v1(number))\n",
    "    score = int(np.mean(random_array))\n",
    "    print(f\"Ваш алгоритм угадывает число в среднем за {score} попыток\")\n",
    "    return (score)\n",
    "\n",
    "import numpy as np\n",
    "score_game(game_core_v1)\n"
   ]
  },
  {
   "cell_type": "code",
   "execution_count": null,
   "metadata": {},
   "outputs": [],
   "source": []
  },
  {
   "cell_type": "code",
   "execution_count": null,
   "metadata": {},
   "outputs": [],
   "source": []
  }
 ],
 "metadata": {
  "kernelspec": {
   "display_name": "Python 3",
   "language": "python",
   "name": "python3"
  },
  "language_info": {
   "codemirror_mode": {
    "name": "ipython",
    "version": 3
   },
   "file_extension": ".py",
   "mimetype": "text/x-python",
   "name": "python",
   "nbconvert_exporter": "python",
   "pygments_lexer": "ipython3",
   "version": "3.7.6"
  }
 },
 "nbformat": 4,
 "nbformat_minor": 4
}
