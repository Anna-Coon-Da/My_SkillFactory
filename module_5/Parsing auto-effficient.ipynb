{
 "cells": [
  {
   "cell_type": "markdown",
   "metadata": {},
   "source": [
    "# SF-DST Car Price Prediction AnnaCoonDa\n",
    "# Предсказание стоимости авто\n",
    "# Парсинг данных для тестового датасета - долгий вариант\n",
    "### Внимание: сбор информации идёт c распараллеливаниtv, код работает около 4 часов!\n",
    "![](https://seo2you.ru/upload/static/img/74147.jpg)"
   ]
  },
  {
   "cell_type": "markdown",
   "metadata": {},
   "source": [
    "# Импорт необходимых библиотек"
   ]
  },
  {
   "cell_type": "code",
   "execution_count": 1,
   "metadata": {},
   "outputs": [],
   "source": [
    "import requests\n",
    "import pandas as pd\n",
    "import re\n",
    "import time\n",
    "from bs4 import BeautifulSoup\n",
    "from selenium import webdriver\n",
    "from joblib import Parallel, delayed\n",
    "from tqdm.notebook import tqdm\n",
    "from itertools import chain"
   ]
  },
  {
   "cell_type": "markdown",
   "metadata": {},
   "source": [
    "# Определяем необходимые функции"
   ]
  },
  {
   "cell_type": "code",
   "execution_count": 30,
   "metadata": {},
   "outputs": [],
   "source": [
    "#Количество страниц с объявлениями для каждой марки машины\n",
    "def pages(link):\n",
    "    driver = webdriver.Chrome()\n",
    "    driver.get(link)\n",
    "    page = BeautifulSoup(driver.page_source, 'html.parser')\n",
    "    pages = page.find_all('span', class_='ControlGroup ControlGroup_responsive_no ControlGroup_size_s ListingPagination-module__pages')\n",
    "    if pages == []:\n",
    "        total_page_count = 1\n",
    "    else:\n",
    "        total_page_count = int(page.find_all('span', class_='Button__text')[-4].text)\n",
    "    driver.close()\n",
    "    time.sleep(0.3)\n",
    "    return total_page_count\n",
    "\n",
    "#Разбиение линков на страницы для каждой модели\n",
    "def ads_pages(link):\n",
    "    pages_for_car = []\n",
    "    pages_cnt = pages(link)\n",
    "    if pages_cnt == 1:\n",
    "        pages_for_car.append(link)\n",
    "    else:\n",
    "        for i  in range(1, pages_cnt+1):\n",
    "            link_page = link+'?page='+str(i)\n",
    "            pages_for_car.append(link_page)\n",
    "    return pages_for_car\n",
    "\n",
    "#Получаем линки для каждого объявления\n",
    "def get_ad_url(link):\n",
    "    time.sleep(0.2)\n",
    "    res = requests.get(link)\n",
    "    page = BeautifulSoup(res.text, 'html.parser')\n",
    "    ad_links = page.find_all('a', class_='Link ListingItemTitle-module__link')\n",
    "    car_links = list(map(lambda x: x.get('href'), ad_links))\n",
    "    \n",
    "    return car_links\n",
    "\n",
    "def car_data1(link):\n",
    "    try:\n",
    "        time.sleep(0.1)\n",
    "        res = requests.get(link)    \n",
    "        res.encoding ='utf8'     #Это необходимо, т.к. в тексте много кириллицы\n",
    "        page = BeautifulSoup(res.text, 'html.parser')\n",
    "        car_dict = {}\n",
    "\n",
    "        car_dict['car_url'] = link\n",
    "        car_dict['parsing_unixtime'] = int(time.time())\n",
    "        #Начинаем вынимать из кода необходимую информацию, в формате словарей\n",
    "        # в позициях script ищем необходимые вхождения \n",
    "        for script in page.find_all(\"script\"):\n",
    "            if 'complectation\":{\"id\"' in str(script):\n",
    "                a = str(script)  # присваиваем a содержимое скрипта как строку\n",
    "        # в a  ищем 'complectation\":' и содержимое между {}. Отсекаем начало, оставляя только содержимое словаря\n",
    "                car_dict['complectation_dict'] = re.search(r'complectation\":{\"id.*?}', a)[0][15:]\n",
    "\n",
    "            if 'equipment\":{' in str(script):\n",
    "                a = str(script)  \n",
    "            # в a  ищем 'equipment\":' и содержимое между {}. Отсекаем начало, оставляя только содержимое словаря\n",
    "                car_dict['equipment_dict'] = re.search(r'equipment\":{.*?}', a)[0][11:]\n",
    "\n",
    "            if '{\"mileage\":' in str(script):\n",
    "                a = str(script)  \n",
    "            # в a  ищем '{\"mileage\":' и содержимое между {}. Отсекаем начало, оставляя только содержимое словаря\n",
    "                car_dict['mileage'] = re.search(r'\"mileage\":\\d*', a)[0][10:]\n",
    "\n",
    "            if '\"model_info\":' in str(script):\n",
    "                a = str(script)  \n",
    "                car_dict['model_info'] = re.search(r'\"model_info\":{.*?}', a)[0][13:]\n",
    "                car_dict['model_name'] = re.search(r'model_info\":{\"code\":\".*?\"', a)[0][20:].strip('\"')\n",
    "\n",
    "            if 'super_gen\":{' in str(script):\n",
    "                a = str(script)  \n",
    "                car_dict['super_gen'] = re.search(r'super_gen\":{.*?}', a)[0][11:] \n",
    "\n",
    "            if 'vendor\":\"' in str(script):\n",
    "                a = str(script)  \n",
    "                car_dict['vendor'] = re.search(r'vendor\":\".*?\"', a)[0][9:].strip('\"')\n",
    "\n",
    "        #По соответствующим тэгам вынимаем  в словарь необходимую информацию\n",
    "\n",
    "        for tag in page.find_all('div'):\n",
    "            if tag.get(\"title\") == \"Идентификатор объявления\":\n",
    "                car_dict['sell_id'] = re.search(r'\\d+', tag.text)[0]\n",
    "        \n",
    "        img_l = page.find('img', class_='ImageGalleryDesktop__image')\n",
    "        car_dict['image'] = img_l.get('src')\n",
    "\n",
    "        for tag in page.find_all(\"meta\"):\n",
    "            if tag.get(\"itemprop\") == \"bodyType\":\n",
    "                car_dict['bodyType'] = tag.get(\"content\")\n",
    "\n",
    "            if tag.get(\"itemprop\") == \"brand\":\n",
    "                car_dict['brand'] = tag.get(\"content\")\n",
    "\n",
    "            if tag.get(\"itemprop\") == \"color\":\n",
    "                car_dict['color'] = tag.get(\"content\")\n",
    "\n",
    "            if tag.get(\"itemprop\") == \"description\":\n",
    "                car_dict['description'] = tag.get(\"content\")\n",
    "\n",
    "            if tag.get(\"itemprop\") == \"engineDisplacement\":\n",
    "                car_dict['engineDisplacement'] = tag.get(\"content\")\n",
    "\n",
    "            if tag.get(\"itemprop\") == \"enginePower\":\n",
    "                car_dict['enginePower'] = tag.get(\"content\")\n",
    "\n",
    "            if tag.get(\"itemprop\") == \"fuelType\":\n",
    "                car_dict['fuelType'] = tag.get(\"content\")\n",
    "\n",
    "            if tag.get(\"itemprop\") == \"modelDate\":\n",
    "                car_dict['modelDate'] = tag.get(\"content\")\n",
    "\n",
    "            if tag.get(\"itemprop\") == \"name\":\n",
    "                car_dict['name'] = tag.get(\"content\")\n",
    "\n",
    "            if tag.get(\"itemprop\") == \"numberOfDoors\":\n",
    "                car_dict['numberOfDoors'] = tag.get(\"content\")\n",
    "\n",
    "            if tag.get(\"itemprop\") == \"price\":\n",
    "                car_dict['price'] = tag.get(\"content\")\n",
    "\n",
    "            if tag.get(\"itemprop\") == \"priceCurrency\":\n",
    "                car_dict['priceCurrency'] = tag.get(\"content\")\n",
    "\n",
    "            if tag.get(\"itemprop\") == \"productionDate\":\n",
    "                car_dict['productionDate'] = tag.get(\"content\")\n",
    "\n",
    "            if tag.get(\"itemprop\") == \"vehicleConfiguration\":\n",
    "                car_dict['vehicleConfiguration'] = tag.get(\"content\")\n",
    "\n",
    "            if tag.get(\"itemprop\") == \"vehicleTransmission\":\n",
    "                car_dict['vehicleTransmission'] = tag.get(\"content\")\n",
    "\n",
    "\n",
    "        span_CardInfoRow__cell = page.find_all('span', {'class': 'CardInfoRow__cell'})\n",
    "\n",
    "        for i,tag in enumerate (span_CardInfoRow__cell):\n",
    "            if tag.text == \"Владельцы\":\n",
    "                car_dict['Владельцы'] = span_CardInfoRow__cell[i+1].text.replace(u'\\xa0', u' ') # в  конце заменяем юникодовский пробел\n",
    "            if tag.text == \"Владение\":\n",
    "                car_dict['Владение'] = span_CardInfoRow__cell[i+1].text.replace(u'\\xa0', u' ') \n",
    "            if tag.text == \"ПТС\":\n",
    "                car_dict['ПТС'] = span_CardInfoRow__cell[i+1].text.replace(u'\\xa0', u' ')     \n",
    "\n",
    "            if tag.text == \"Привод\":\n",
    "                car_dict['Привод'] = span_CardInfoRow__cell[i+1].text.replace(u'\\xa0', u' ')  \n",
    "\n",
    "            if tag.text == \"Руль\":\n",
    "                car_dict['Руль'] = span_CardInfoRow__cell[i+1].text.replace(u'\\xa0', u' ') \n",
    "\n",
    "            if tag.text == \"Состояние\":\n",
    "                car_dict['Состояние'] = span_CardInfoRow__cell[i+1].text.replace(u'\\xa0', u' ')  \n",
    "\n",
    "            if tag.text == \"Таможня\":\n",
    "                car_dict['Таможня'] = span_CardInfoRow__cell[i+1].text.replace(u'\\xa0', u' ') \n",
    "        return car_dict\n",
    "    except:\n",
    "        pass"
   ]
  },
  {
   "cell_type": "markdown",
   "metadata": {},
   "source": [
    "# Получение данных для обучающей выборки\n",
    "Распарсим сайт auto.ru. По условиям проекта, нас интересуют только подержанные авто без ограничения списка марок. При первичном лобовом парсинге обнаружилась следующая проблема. Несмотря на то, что  всего на сайте активно более 50 тысяч объявлений о продаже, прямой парсинг по фильтру \"продажа подержанных автомобилей\" позволяет получить только 38х99=3762 объявления. \n",
    "Поэтому ссылки будут получаться по следующей схеме:\n",
    "1. Открывается сайт auto.ru\n",
    "2. C помощью модуля selenium раскрывается список всех марок, по которым есть объявления о продаже (для этого программе необходимо кликнуть на ссылку).\n",
    "3. Вынимаются ссылки на каждую марку, при этом параметр all обычной строковой заменой подменяется на used\n",
    "   (логика проста: если марка есть в продаже в категории \"все\", то и категория \"подержанные\" может включать объявления)\n",
    "4. Далее циклом прогоним список ссылок на продажу подержанных моделей каждой фирмы, вынем объявления и получим из них нужные     данные. Поскольку на странице одновременно отображается 38 объявлений, то будем учитывать пагинацию."
   ]
  },
  {
   "cell_type": "code",
   "execution_count": 3,
   "metadata": {},
   "outputs": [],
   "source": [
    "driver = webdriver.Chrome()\n",
    "driver.get('https://auto.ru/moskovskaya_oblast')\n",
    "\n",
    "#Кликаем на ссылку, чтобы раскрыть список всех марок\n",
    "driver.find_element_by_class_name('IndexMarks__show-all').click()"
   ]
  },
  {
   "cell_type": "code",
   "execution_count": 4,
   "metadata": {
    "scrolled": true
   },
   "outputs": [
    {
     "data": {
      "text/plain": [
       "<div class=\"IndexMarks__marks-with-counts\"><div class=\"IndexMarks__col\"><a class=\"IndexMarks__item\" href=\"https://auto.ru/moskovskaya_oblast/cars/ac/all/\"><div class=\"IndexMarks__item-name\">AC</div><div class=\"IndexMarks__item-count\">3</div></a><a class=\"IndexMarks__item\" href=\"https://auto.ru/moskovskaya_oblast/cars/amc/all/\"><div class=\"IndexMarks__item-name\">AMC</div><div class=\"IndexMarks__item-count\">2</div></a><a class=\"IndexMarks__item\" href=\"https://auto.ru/moskovskaya_oblast/cars/acura/all/\"><div class=\"IndexMarks__item-name\">Acura</div><div class=\"IndexMarks__item-count\">53</div></a><a class=\"IndexMarks__item\" href=\"https://auto.ru/moskovskaya_oblast/cars/alfa_romeo/all/\"><div class=\"IndexMarks__item-name\">Alfa Romeo</div><div class=\"IndexMarks__item-count\">34</div></a><a class=\"IndexMarks__item\" href=\"https://auto.ru/moskovskaya_oblast/cars/alpina/all/\"><div class=\"IndexMarks__item-name\">Alpina</div><div class=\"IndexMarks__item-count\">2</div></a><a class=\"IndexMarks__item\" href=\"https://auto.ru/moskovskaya_oblast/cars/ariel/all/\"><div class=\"IndexMarks__item-name\">Ariel</div><div class=\"IndexMarks__item-count\">1</div></a><a class=\"IndexMarks__item\" href=\"https://auto.ru/moskovskaya_oblast/cars/aro/all/\"><div class=\"IndexMarks__item-name\">Aro</div><div class=\"IndexMarks__item-count\">1</div></a><a class=\"IndexMarks__item\" href=\"https://auto.ru/moskovskaya_oblast/cars/asia/all/\"><div class=\"IndexMarks__item-name\">Asia</div><div class=\"IndexMarks__item-count\">1</div></a><a class=\"IndexMarks__item\" href=\"https://auto.ru/moskovskaya_oblast/cars/aston_martin/all/\"><div class=\"IndexMarks__item-name\">Aston Martin</div><div class=\"IndexMarks__item-count\">16</div></a><a class=\"IndexMarks__item\" href=\"https://auto.ru/moskovskaya_oblast/cars/audi/all/\"><div class=\"IndexMarks__item-name\">Audi</div><div class=\"IndexMarks__item-count\">3128</div></a><a class=\"IndexMarks__item\" href=\"https://auto.ru/moskovskaya_oblast/cars/austin_healey/all/\"><div class=\"IndexMarks__item-name\">Austin Healey</div><div class=\"IndexMarks__item-count\">1</div></a><a class=\"IndexMarks__item\" href=\"https://auto.ru/moskovskaya_oblast/cars/bmw/all/\"><div class=\"IndexMarks__item-name\">BMW</div><div class=\"IndexMarks__item-count\">5676</div></a><a class=\"IndexMarks__item\" href=\"https://auto.ru/moskovskaya_oblast/cars/byd/all/\"><div class=\"IndexMarks__item-name\">BYD</div><div class=\"IndexMarks__item-count\">9</div></a><a class=\"IndexMarks__item\" href=\"https://auto.ru/moskovskaya_oblast/cars/bentley/all/\"><div class=\"IndexMarks__item-name\">Bentley</div><div class=\"IndexMarks__item-count\">76</div></a><a class=\"IndexMarks__item\" href=\"https://auto.ru/moskovskaya_oblast/cars/borgward/all/\"><div class=\"IndexMarks__item-name\">Borgward</div><div class=\"IndexMarks__item-count\">1</div></a><a class=\"IndexMarks__item\" href=\"https://auto.ru/moskovskaya_oblast/cars/brilliance/all/\"><div class=\"IndexMarks__item-name\">Brilliance</div><div class=\"IndexMarks__item-count\">9</div></a><a class=\"IndexMarks__item\" href=\"https://auto.ru/moskovskaya_oblast/cars/buick/all/\"><div class=\"IndexMarks__item-name\">Buick</div><div class=\"IndexMarks__item-count\">8</div></a><a class=\"IndexMarks__item\" href=\"https://auto.ru/moskovskaya_oblast/cars/cheryexeed/all/\"><div class=\"IndexMarks__item-name\">CHERYEXEED</div><div class=\"IndexMarks__item-count\">5</div></a><a class=\"IndexMarks__item\" href=\"https://auto.ru/moskovskaya_oblast/cars/cadillac/all/\"><div class=\"IndexMarks__item-name\">Cadillac</div><div class=\"IndexMarks__item-count\">348</div></a><a class=\"IndexMarks__item\" href=\"https://auto.ru/moskovskaya_oblast/cars/changan/all/\"><div class=\"IndexMarks__item-name\">Changan</div><div class=\"IndexMarks__item-count\">146</div></a><a class=\"IndexMarks__item\" href=\"https://auto.ru/moskovskaya_oblast/cars/chery/all/\"><div class=\"IndexMarks__item-name\">Chery</div><div class=\"IndexMarks__item-count\">457</div></a><a class=\"IndexMarks__item\" href=\"https://auto.ru/moskovskaya_oblast/cars/chevrolet/all/\"><div class=\"IndexMarks__item-name\">Chevrolet</div><div class=\"IndexMarks__item-count\">1625</div></a><a class=\"IndexMarks__item\" href=\"https://auto.ru/moskovskaya_oblast/cars/chrysler/all/\"><div class=\"IndexMarks__item-name\">Chrysler</div><div class=\"IndexMarks__item-count\">176</div></a><a class=\"IndexMarks__item\" href=\"https://auto.ru/moskovskaya_oblast/cars/citroen/all/\"><div class=\"IndexMarks__item-name\">Citroen</div><div class=\"IndexMarks__item-count\">745</div></a><a class=\"IndexMarks__item\" href=\"https://auto.ru/moskovskaya_oblast/cars/dkw/all/\"><div class=\"IndexMarks__item-name\">DKW</div><div class=\"IndexMarks__item-count\">2</div></a></div><div class=\"IndexMarks__col\"><a class=\"IndexMarks__item\" href=\"https://auto.ru/moskovskaya_oblast/cars/dw_hower/all/\"><div class=\"IndexMarks__item-name\">DW Hower</div><div class=\"IndexMarks__item-count\">4</div></a><a class=\"IndexMarks__item\" href=\"https://auto.ru/moskovskaya_oblast/cars/dacia/all/\"><div class=\"IndexMarks__item-name\">Dacia</div><div class=\"IndexMarks__item-count\">5</div></a><a class=\"IndexMarks__item\" href=\"https://auto.ru/moskovskaya_oblast/cars/daewoo/all/\"><div class=\"IndexMarks__item-name\">Daewoo</div><div class=\"IndexMarks__item-count\">359</div></a><a class=\"IndexMarks__item\" href=\"https://auto.ru/moskovskaya_oblast/cars/daihatsu/all/\"><div class=\"IndexMarks__item-name\">Daihatsu</div><div class=\"IndexMarks__item-count\">30</div></a><a class=\"IndexMarks__item\" href=\"https://auto.ru/moskovskaya_oblast/cars/daimler/all/\"><div class=\"IndexMarks__item-name\">Daimler</div><div class=\"IndexMarks__item-count\">3</div></a><a class=\"IndexMarks__item\" href=\"https://auto.ru/moskovskaya_oblast/cars/dallara/all/\"><div class=\"IndexMarks__item-name\">Dallara</div><div class=\"IndexMarks__item-count\">1</div></a><a class=\"IndexMarks__item\" href=\"https://auto.ru/moskovskaya_oblast/cars/datsun/all/\"><div class=\"IndexMarks__item-name\">Datsun</div><div class=\"IndexMarks__item-count\">99</div></a><a class=\"IndexMarks__item\" href=\"https://auto.ru/moskovskaya_oblast/cars/delage/all/\"><div class=\"IndexMarks__item-name\">Delage</div><div class=\"IndexMarks__item-count\">1</div></a><a class=\"IndexMarks__item\" href=\"https://auto.ru/moskovskaya_oblast/cars/derways/all/\"><div class=\"IndexMarks__item-name\">Derways</div><div class=\"IndexMarks__item-count\">1</div></a><a class=\"IndexMarks__item\" href=\"https://auto.ru/moskovskaya_oblast/cars/dodge/all/\"><div class=\"IndexMarks__item-name\">Dodge</div><div class=\"IndexMarks__item-count\">261</div></a><a class=\"IndexMarks__item\" href=\"https://auto.ru/moskovskaya_oblast/cars/dongfeng/all/\"><div class=\"IndexMarks__item-name\">DongFeng</div><div class=\"IndexMarks__item-count\">9</div></a><a class=\"IndexMarks__item\" href=\"https://auto.ru/moskovskaya_oblast/cars/eagle/all/\"><div class=\"IndexMarks__item-name\">Eagle</div><div class=\"IndexMarks__item-count\">2</div></a><a class=\"IndexMarks__item\" href=\"https://auto.ru/moskovskaya_oblast/cars/excalibur/all/\"><div class=\"IndexMarks__item-name\">Excalibur</div><div class=\"IndexMarks__item-count\">1</div></a><a class=\"IndexMarks__item\" href=\"https://auto.ru/moskovskaya_oblast/cars/faw/all/\"><div class=\"IndexMarks__item-name\">FAW</div><div class=\"IndexMarks__item-count\">45</div></a><a class=\"IndexMarks__item\" href=\"https://auto.ru/moskovskaya_oblast/cars/ferrari/all/\"><div class=\"IndexMarks__item-name\">Ferrari</div><div class=\"IndexMarks__item-count\">25</div></a><a class=\"IndexMarks__item\" href=\"https://auto.ru/moskovskaya_oblast/cars/fiat/all/\"><div class=\"IndexMarks__item-name\">Fiat</div><div class=\"IndexMarks__item-count\">123</div></a><a class=\"IndexMarks__item\" href=\"https://auto.ru/moskovskaya_oblast/cars/ford/all/\"><div class=\"IndexMarks__item-name\">Ford</div><div class=\"IndexMarks__item-count\">2449</div></a><a class=\"IndexMarks__item\" href=\"https://auto.ru/moskovskaya_oblast/cars/gmc/all/\"><div class=\"IndexMarks__item-name\">GMC</div><div class=\"IndexMarks__item-count\">20</div></a><a class=\"IndexMarks__item\" href=\"https://auto.ru/moskovskaya_oblast/cars/geely/all/\"><div class=\"IndexMarks__item-name\">Geely</div><div class=\"IndexMarks__item-count\">220</div></a><a class=\"IndexMarks__item\" href=\"https://auto.ru/moskovskaya_oblast/cars/genesis/all/\"><div class=\"IndexMarks__item-name\">Genesis</div><div class=\"IndexMarks__item-count\">40</div></a><a class=\"IndexMarks__item\" href=\"https://auto.ru/moskovskaya_oblast/cars/great_wall/all/\"><div class=\"IndexMarks__item-name\">Great Wall</div><div class=\"IndexMarks__item-count\">221</div></a><a class=\"IndexMarks__item\" href=\"https://auto.ru/moskovskaya_oblast/cars/hafei/all/\"><div class=\"IndexMarks__item-name\">Hafei</div><div class=\"IndexMarks__item-count\">2</div></a><a class=\"IndexMarks__item\" href=\"https://auto.ru/moskovskaya_oblast/cars/haima/all/\"><div class=\"IndexMarks__item-name\">Haima</div><div class=\"IndexMarks__item-count\">5</div></a><a class=\"IndexMarks__item\" href=\"https://auto.ru/moskovskaya_oblast/cars/haval/all/\"><div class=\"IndexMarks__item-name\">Haval</div><div class=\"IndexMarks__item-count\">363</div></a><a class=\"IndexMarks__item\" href=\"https://auto.ru/moskovskaya_oblast/cars/hawtai/all/\"><div class=\"IndexMarks__item-name\">Hawtai</div><div class=\"IndexMarks__item-count\">3</div></a></div><div class=\"IndexMarks__col\"><a class=\"IndexMarks__item\" href=\"https://auto.ru/moskovskaya_oblast/cars/heinkel/all/\"><div class=\"IndexMarks__item-name\">Heinkel</div><div class=\"IndexMarks__item-count\">1</div></a><a class=\"IndexMarks__item\" href=\"https://auto.ru/moskovskaya_oblast/cars/honda/all/\"><div class=\"IndexMarks__item-name\">Honda</div><div class=\"IndexMarks__item-count\">667</div></a><a class=\"IndexMarks__item\" href=\"https://auto.ru/moskovskaya_oblast/cars/hummer/all/\"><div class=\"IndexMarks__item-name\">Hummer</div><div class=\"IndexMarks__item-count\">38</div></a><a class=\"IndexMarks__item\" href=\"https://auto.ru/moskovskaya_oblast/cars/hyundai/all/\"><div class=\"IndexMarks__item-name\">Hyundai</div><div class=\"IndexMarks__item-count\">4068</div></a><a class=\"IndexMarks__item\" href=\"https://auto.ru/moskovskaya_oblast/cars/infiniti/all/\"><div class=\"IndexMarks__item-name\">Infiniti</div><div class=\"IndexMarks__item-count\">634</div></a><a class=\"IndexMarks__item\" href=\"https://auto.ru/moskovskaya_oblast/cars/iran_khodro/all/\"><div class=\"IndexMarks__item-name\">Iran Khodro</div><div class=\"IndexMarks__item-count\">10</div></a><a class=\"IndexMarks__item\" href=\"https://auto.ru/moskovskaya_oblast/cars/isuzu/all/\"><div class=\"IndexMarks__item-name\">Isuzu</div><div class=\"IndexMarks__item-count\">19</div></a><a class=\"IndexMarks__item\" href=\"https://auto.ru/moskovskaya_oblast/cars/jac/all/\"><div class=\"IndexMarks__item-name\">JAC</div><div class=\"IndexMarks__item-count\">4</div></a><a class=\"IndexMarks__item\" href=\"https://auto.ru/moskovskaya_oblast/cars/jaguar/all/\"><div class=\"IndexMarks__item-name\">Jaguar</div><div class=\"IndexMarks__item-count\">243</div></a><a class=\"IndexMarks__item\" href=\"https://auto.ru/moskovskaya_oblast/cars/jeep/all/\"><div class=\"IndexMarks__item-name\">Jeep</div><div class=\"IndexMarks__item-count\">423</div></a><a class=\"IndexMarks__item\" href=\"https://auto.ru/moskovskaya_oblast/cars/kia/all/\"><div class=\"IndexMarks__item-name\">Kia</div><div class=\"IndexMarks__item-count\">4647</div></a><a class=\"IndexMarks__item\" href=\"https://auto.ru/moskovskaya_oblast/cars/vaz/all/\"><div class=\"IndexMarks__item-name\">LADA (ВАЗ)</div><div class=\"IndexMarks__item-count\">4487</div></a><a class=\"IndexMarks__item\" href=\"https://auto.ru/moskovskaya_oblast/cars/lamborghini/all/\"><div class=\"IndexMarks__item-name\">Lamborghini</div><div class=\"IndexMarks__item-count\">10</div></a><a class=\"IndexMarks__item\" href=\"https://auto.ru/moskovskaya_oblast/cars/lancia/all/\"><div class=\"IndexMarks__item-name\">Lancia</div><div class=\"IndexMarks__item-count\">3</div></a><a class=\"IndexMarks__item\" href=\"https://auto.ru/moskovskaya_oblast/cars/land_rover/all/\"><div class=\"IndexMarks__item-name\">Land Rover</div><div class=\"IndexMarks__item-count\">1307</div></a><a class=\"IndexMarks__item\" href=\"https://auto.ru/moskovskaya_oblast/cars/lexus/all/\"><div class=\"IndexMarks__item-name\">Lexus</div><div class=\"IndexMarks__item-count\">914</div></a><a class=\"IndexMarks__item\" href=\"https://auto.ru/moskovskaya_oblast/cars/lifan/all/\"><div class=\"IndexMarks__item-name\">Lifan</div><div class=\"IndexMarks__item-count\">120</div></a><a class=\"IndexMarks__item\" href=\"https://auto.ru/moskovskaya_oblast/cars/lincoln/all/\"><div class=\"IndexMarks__item-name\">Lincoln</div><div class=\"IndexMarks__item-count\">45</div></a><a class=\"IndexMarks__item\" href=\"https://auto.ru/moskovskaya_oblast/cars/luxgen/all/\"><div class=\"IndexMarks__item-name\">Luxgen</div><div class=\"IndexMarks__item-count\">11</div></a><a class=\"IndexMarks__item\" href=\"https://auto.ru/moskovskaya_oblast/cars/mg/all/\"><div class=\"IndexMarks__item-name\">MG</div><div class=\"IndexMarks__item-count\">3</div></a><a class=\"IndexMarks__item\" href=\"https://auto.ru/moskovskaya_oblast/cars/mini/all/\"><div class=\"IndexMarks__item-name\">MINI</div><div class=\"IndexMarks__item-count\">513</div></a><a class=\"IndexMarks__item\" href=\"https://auto.ru/moskovskaya_oblast/cars/maserati/all/\"><div class=\"IndexMarks__item-name\">Maserati</div><div class=\"IndexMarks__item-count\">40</div></a><a class=\"IndexMarks__item\" href=\"https://auto.ru/moskovskaya_oblast/cars/maybach/all/\"><div class=\"IndexMarks__item-name\">Maybach</div><div class=\"IndexMarks__item-count\">6</div></a><a class=\"IndexMarks__item\" href=\"https://auto.ru/moskovskaya_oblast/cars/mazda/all/\"><div class=\"IndexMarks__item-name\">Mazda</div><div class=\"IndexMarks__item-count\">1473</div></a><a class=\"IndexMarks__item\" href=\"https://auto.ru/moskovskaya_oblast/cars/mclaren/all/\"><div class=\"IndexMarks__item-name\">McLaren</div><div class=\"IndexMarks__item-count\">1</div></a></div><div class=\"IndexMarks__col\"><a class=\"IndexMarks__item\" href=\"https://auto.ru/moskovskaya_oblast/cars/mercedes/all/\"><div class=\"IndexMarks__item-name\">Mercedes-Benz</div><div class=\"IndexMarks__item-count\">9510</div></a><a class=\"IndexMarks__item\" href=\"https://auto.ru/moskovskaya_oblast/cars/mercury/all/\"><div class=\"IndexMarks__item-name\">Mercury</div><div class=\"IndexMarks__item-count\">8</div></a><a class=\"IndexMarks__item\" href=\"https://auto.ru/moskovskaya_oblast/cars/metrocab/all/\"><div class=\"IndexMarks__item-name\">Metrocab</div><div class=\"IndexMarks__item-count\">1</div></a><a class=\"IndexMarks__item\" href=\"https://auto.ru/moskovskaya_oblast/cars/mitsubishi/all/\"><div class=\"IndexMarks__item-name\">Mitsubishi</div><div class=\"IndexMarks__item-count\">2664</div></a><a class=\"IndexMarks__item\" href=\"https://auto.ru/moskovskaya_oblast/cars/mitsuoka/all/\"><div class=\"IndexMarks__item-name\">Mitsuoka</div><div class=\"IndexMarks__item-count\">1</div></a><a class=\"IndexMarks__item\" href=\"https://auto.ru/moskovskaya_oblast/cars/nissan/all/\"><div class=\"IndexMarks__item-name\">Nissan</div><div class=\"IndexMarks__item-count\">4998</div></a><a class=\"IndexMarks__item\" href=\"https://auto.ru/moskovskaya_oblast/cars/oldsmobile/all/\"><div class=\"IndexMarks__item-name\">Oldsmobile</div><div class=\"IndexMarks__item-count\">6</div></a><a class=\"IndexMarks__item\" href=\"https://auto.ru/moskovskaya_oblast/cars/opel/all/\"><div class=\"IndexMarks__item-name\">Opel</div><div class=\"IndexMarks__item-count\">1570</div></a><a class=\"IndexMarks__item\" href=\"https://auto.ru/moskovskaya_oblast/cars/puch/all/\"><div class=\"IndexMarks__item-name\">PUCH</div><div class=\"IndexMarks__item-count\">1</div></a><a class=\"IndexMarks__item\" href=\"https://auto.ru/moskovskaya_oblast/cars/packard/all/\"><div class=\"IndexMarks__item-name\">Packard</div><div class=\"IndexMarks__item-count\">2</div></a><a class=\"IndexMarks__item\" href=\"https://auto.ru/moskovskaya_oblast/cars/peugeot/all/\"><div class=\"IndexMarks__item-name\">Peugeot</div><div class=\"IndexMarks__item-count\">887</div></a><a class=\"IndexMarks__item\" href=\"https://auto.ru/moskovskaya_oblast/cars/plymouth/all/\"><div class=\"IndexMarks__item-name\">Plymouth</div><div class=\"IndexMarks__item-count\">11</div></a><a class=\"IndexMarks__item\" href=\"https://auto.ru/moskovskaya_oblast/cars/pontiac/all/\"><div class=\"IndexMarks__item-name\">Pontiac</div><div class=\"IndexMarks__item-count\">19</div></a><a class=\"IndexMarks__item\" href=\"https://auto.ru/moskovskaya_oblast/cars/porsche/all/\"><div class=\"IndexMarks__item-name\">Porsche</div><div class=\"IndexMarks__item-count\">612</div></a><a class=\"IndexMarks__item\" href=\"https://auto.ru/moskovskaya_oblast/cars/proton/all/\"><div class=\"IndexMarks__item-name\">Proton</div><div class=\"IndexMarks__item-count\">1</div></a><a class=\"IndexMarks__item\" href=\"https://auto.ru/moskovskaya_oblast/cars/ram/all/\"><div class=\"IndexMarks__item-name\">RAM</div><div class=\"IndexMarks__item-count\">9</div></a><a class=\"IndexMarks__item\" href=\"https://auto.ru/moskovskaya_oblast/cars/ravon/all/\"><div class=\"IndexMarks__item-name\">Ravon</div><div class=\"IndexMarks__item-count\">49</div></a><a class=\"IndexMarks__item\" href=\"https://auto.ru/moskovskaya_oblast/cars/renault/all/\"><div class=\"IndexMarks__item-name\">Renault</div><div class=\"IndexMarks__item-count\">3495</div></a><a class=\"IndexMarks__item\" href=\"https://auto.ru/moskovskaya_oblast/cars/rolls_royce/all/\"><div class=\"IndexMarks__item-name\">Rolls-Royce</div><div class=\"IndexMarks__item-count\">66</div></a><a class=\"IndexMarks__item\" href=\"https://auto.ru/moskovskaya_oblast/cars/rover/all/\"><div class=\"IndexMarks__item-name\">Rover</div><div class=\"IndexMarks__item-count\">35</div></a><a class=\"IndexMarks__item\" href=\"https://auto.ru/moskovskaya_oblast/cars/seat/all/\"><div class=\"IndexMarks__item-name\">SEAT</div><div class=\"IndexMarks__item-count\">57</div></a><a class=\"IndexMarks__item\" href=\"https://auto.ru/moskovskaya_oblast/cars/saab/all/\"><div class=\"IndexMarks__item-name\">Saab</div><div class=\"IndexMarks__item-count\">92</div></a><a class=\"IndexMarks__item\" href=\"https://auto.ru/moskovskaya_oblast/cars/saturn/all/\"><div class=\"IndexMarks__item-name\">Saturn</div><div class=\"IndexMarks__item-count\">3</div></a><a class=\"IndexMarks__item\" href=\"https://auto.ru/moskovskaya_oblast/cars/scion/all/\"><div class=\"IndexMarks__item-name\">Scion</div><div class=\"IndexMarks__item-count\">4</div></a><a class=\"IndexMarks__item\" href=\"https://auto.ru/moskovskaya_oblast/cars/skoda/all/\"><div class=\"IndexMarks__item-name\">Skoda</div><div class=\"IndexMarks__item-count\">2702</div></a></div><div class=\"IndexMarks__col\"><a class=\"IndexMarks__item\" href=\"https://auto.ru/moskovskaya_oblast/cars/smart/all/\"><div class=\"IndexMarks__item-name\">Smart</div><div class=\"IndexMarks__item-count\">64</div></a><a class=\"IndexMarks__item\" href=\"https://auto.ru/moskovskaya_oblast/cars/ssang_yong/all/\"><div class=\"IndexMarks__item-name\">SsangYong</div><div class=\"IndexMarks__item-count\">349</div></a><a class=\"IndexMarks__item\" href=\"https://auto.ru/moskovskaya_oblast/cars/subaru/all/\"><div class=\"IndexMarks__item-name\">Subaru</div><div class=\"IndexMarks__item-count\">543</div></a><a class=\"IndexMarks__item\" href=\"https://auto.ru/moskovskaya_oblast/cars/suzuki/all/\"><div class=\"IndexMarks__item-name\">Suzuki</div><div class=\"IndexMarks__item-count\">769</div></a><a class=\"IndexMarks__item\" href=\"https://auto.ru/moskovskaya_oblast/cars/tatra/all/\"><div class=\"IndexMarks__item-name\">Tatra</div><div class=\"IndexMarks__item-count\">1</div></a><a class=\"IndexMarks__item\" href=\"https://auto.ru/moskovskaya_oblast/cars/tesla/all/\"><div class=\"IndexMarks__item-name\">Tesla</div><div class=\"IndexMarks__item-count\">33</div></a><a class=\"IndexMarks__item\" href=\"https://auto.ru/moskovskaya_oblast/cars/toyota/all/\"><div class=\"IndexMarks__item-name\">Toyota</div><div class=\"IndexMarks__item-count\">2633</div></a><a class=\"IndexMarks__item\" href=\"https://auto.ru/moskovskaya_oblast/cars/triumph/all/\"><div class=\"IndexMarks__item-name\">Triumph</div><div class=\"IndexMarks__item-count\">1</div></a><a class=\"IndexMarks__item\" href=\"https://auto.ru/moskovskaya_oblast/cars/volkswagen/all/\"><div class=\"IndexMarks__item-name\">Volkswagen</div><div class=\"IndexMarks__item-count\">4874</div></a><a class=\"IndexMarks__item\" href=\"https://auto.ru/moskovskaya_oblast/cars/volvo/all/\"><div class=\"IndexMarks__item-name\">Volvo</div><div class=\"IndexMarks__item-count\">1377</div></a><a class=\"IndexMarks__item\" href=\"https://auto.ru/moskovskaya_oblast/cars/vortex/all/\"><div class=\"IndexMarks__item-name\">Vortex</div><div class=\"IndexMarks__item-count\">33</div></a><a class=\"IndexMarks__item\" href=\"https://auto.ru/moskovskaya_oblast/cars/willis/all/\"><div class=\"IndexMarks__item-name\">Willys</div><div class=\"IndexMarks__item-count\">2</div></a><a class=\"IndexMarks__item\" href=\"https://auto.ru/moskovskaya_oblast/cars/xinkai/all/\"><div class=\"IndexMarks__item-name\">Xin Kai</div><div class=\"IndexMarks__item-count\">1</div></a><a class=\"IndexMarks__item\" href=\"https://auto.ru/moskovskaya_oblast/cars/zx/all/\"><div class=\"IndexMarks__item-name\">ZX</div><div class=\"IndexMarks__item-count\">4</div></a><a class=\"IndexMarks__item\" href=\"https://auto.ru/moskovskaya_oblast/cars/zotye/all/\"><div class=\"IndexMarks__item-name\">Zotye</div><div class=\"IndexMarks__item-count\">10</div></a><a class=\"IndexMarks__item\" href=\"https://auto.ru/moskovskaya_oblast/cars/gaz/all/\"><div class=\"IndexMarks__item-name\">ГАЗ</div><div class=\"IndexMarks__item-count\">553</div></a><a class=\"IndexMarks__item\" href=\"https://auto.ru/moskovskaya_oblast/cars/promo_auto/all/\"><div class=\"IndexMarks__item-name\">Гоночный автомобиль</div><div class=\"IndexMarks__item-count\">3</div></a><a class=\"IndexMarks__item\" href=\"https://auto.ru/moskovskaya_oblast/cars/zaz/all/\"><div class=\"IndexMarks__item-name\">ЗАЗ</div><div class=\"IndexMarks__item-count\">110</div></a><a class=\"IndexMarks__item\" href=\"https://auto.ru/moskovskaya_oblast/cars/zil/all/\"><div class=\"IndexMarks__item-name\">ЗИЛ</div><div class=\"IndexMarks__item-count\">3</div></a><a class=\"IndexMarks__item\" href=\"https://auto.ru/moskovskaya_oblast/cars/ig/all/\"><div class=\"IndexMarks__item-name\">ИЖ</div><div class=\"IndexMarks__item-count\">65</div></a><a class=\"IndexMarks__item\" href=\"https://auto.ru/moskovskaya_oblast/cars/luaz/all/\"><div class=\"IndexMarks__item-name\">ЛуАЗ</div><div class=\"IndexMarks__item-count\">20</div></a><a class=\"IndexMarks__item\" href=\"https://auto.ru/moskovskaya_oblast/cars/moscvich/all/\"><div class=\"IndexMarks__item-name\">Москвич</div><div class=\"IndexMarks__item-count\">122</div></a><a class=\"IndexMarks__item\" href=\"https://auto.ru/moskovskaya_oblast/cars/smz/all/\"><div class=\"IndexMarks__item-name\">СМЗ</div><div class=\"IndexMarks__item-count\">1</div></a><a class=\"IndexMarks__item\" href=\"https://auto.ru/moskovskaya_oblast/cars/tagaz/all/\"><div class=\"IndexMarks__item-name\">ТагАЗ</div><div class=\"IndexMarks__item-count\">39</div></a><a class=\"IndexMarks__item\" href=\"https://auto.ru/moskovskaya_oblast/cars/uaz/all/\"><div class=\"IndexMarks__item-name\">УАЗ</div><div class=\"IndexMarks__item-count\">593</div></a></div></div>"
      ]
     },
     "execution_count": 4,
     "metadata": {},
     "output_type": "execute_result"
    }
   ],
   "source": [
    "#Ставим небольшую задержку, т.к. сайту нужно время, чтобы открыть ссылку\n",
    "time.sleep(2)\n",
    "\n",
    "#На странице изменился код, теперь можно получить полный список марок с объявлениями\n",
    "soup = BeautifulSoup(driver.page_source, 'html.parser')\n",
    "marks_to_sale= soup.find('div', class_='IndexMarks__marks-with-counts')\n",
    "driver.close()\n",
    "marks_to_sale"
   ]
  },
  {
   "cell_type": "code",
   "execution_count": 5,
   "metadata": {},
   "outputs": [
    {
     "data": {
      "text/plain": [
       "5"
      ]
     },
     "execution_count": 5,
     "metadata": {},
     "output_type": "execute_result"
    }
   ],
   "source": [
    "#Пока набор данных получен в выде списка из пяти записей\n",
    "len(marks_to_sale)"
   ]
  },
  {
   "cell_type": "code",
   "execution_count": 6,
   "metadata": {},
   "outputs": [
    {
     "data": {
      "text/plain": [
       "[[<a class=\"IndexMarks__item\" href=\"https://auto.ru/moskovskaya_oblast/cars/ac/all/\"><div class=\"IndexMarks__item-name\">AC</div><div class=\"IndexMarks__item-count\">3</div></a>,\n",
       "  <a class=\"IndexMarks__item\" href=\"https://auto.ru/moskovskaya_oblast/cars/amc/all/\"><div class=\"IndexMarks__item-name\">AMC</div><div class=\"IndexMarks__item-count\">2</div></a>,\n",
       "  <a class=\"IndexMarks__item\" href=\"https://auto.ru/moskovskaya_oblast/cars/acura/all/\"><div class=\"IndexMarks__item-name\">Acura</div><div class=\"IndexMarks__item-count\">53</div></a>,\n",
       "  <a class=\"IndexMarks__item\" href=\"https://auto.ru/moskovskaya_oblast/cars/alfa_romeo/all/\"><div class=\"IndexMarks__item-name\">Alfa Romeo</div><div class=\"IndexMarks__item-count\">34</div></a>,\n",
       "  <a class=\"IndexMarks__item\" href=\"https://auto.ru/moskovskaya_oblast/cars/alpina/all/\"><div class=\"IndexMarks__item-name\">Alpina</div><div class=\"IndexMarks__item-count\">2</div></a>,\n",
       "  <a class=\"IndexMarks__item\" href=\"https://auto.ru/moskovskaya_oblast/cars/ariel/all/\"><div class=\"IndexMarks__item-name\">Ariel</div><div class=\"IndexMarks__item-count\">1</div></a>,\n",
       "  <a class=\"IndexMarks__item\" href=\"https://auto.ru/moskovskaya_oblast/cars/aro/all/\"><div class=\"IndexMarks__item-name\">Aro</div><div class=\"IndexMarks__item-count\">1</div></a>,\n",
       "  <a class=\"IndexMarks__item\" href=\"https://auto.ru/moskovskaya_oblast/cars/asia/all/\"><div class=\"IndexMarks__item-name\">Asia</div><div class=\"IndexMarks__item-count\">1</div></a>,\n",
       "  <a class=\"IndexMarks__item\" href=\"https://auto.ru/moskovskaya_oblast/cars/aston_martin/all/\"><div class=\"IndexMarks__item-name\">Aston Martin</div><div class=\"IndexMarks__item-count\">16</div></a>,\n",
       "  <a class=\"IndexMarks__item\" href=\"https://auto.ru/moskovskaya_oblast/cars/audi/all/\"><div class=\"IndexMarks__item-name\">Audi</div><div class=\"IndexMarks__item-count\">3128</div></a>,\n",
       "  <a class=\"IndexMarks__item\" href=\"https://auto.ru/moskovskaya_oblast/cars/austin_healey/all/\"><div class=\"IndexMarks__item-name\">Austin Healey</div><div class=\"IndexMarks__item-count\">1</div></a>,\n",
       "  <a class=\"IndexMarks__item\" href=\"https://auto.ru/moskovskaya_oblast/cars/bmw/all/\"><div class=\"IndexMarks__item-name\">BMW</div><div class=\"IndexMarks__item-count\">5676</div></a>,\n",
       "  <a class=\"IndexMarks__item\" href=\"https://auto.ru/moskovskaya_oblast/cars/byd/all/\"><div class=\"IndexMarks__item-name\">BYD</div><div class=\"IndexMarks__item-count\">9</div></a>,\n",
       "  <a class=\"IndexMarks__item\" href=\"https://auto.ru/moskovskaya_oblast/cars/bentley/all/\"><div class=\"IndexMarks__item-name\">Bentley</div><div class=\"IndexMarks__item-count\">76</div></a>,\n",
       "  <a class=\"IndexMarks__item\" href=\"https://auto.ru/moskovskaya_oblast/cars/borgward/all/\"><div class=\"IndexMarks__item-name\">Borgward</div><div class=\"IndexMarks__item-count\">1</div></a>,\n",
       "  <a class=\"IndexMarks__item\" href=\"https://auto.ru/moskovskaya_oblast/cars/brilliance/all/\"><div class=\"IndexMarks__item-name\">Brilliance</div><div class=\"IndexMarks__item-count\">9</div></a>,\n",
       "  <a class=\"IndexMarks__item\" href=\"https://auto.ru/moskovskaya_oblast/cars/buick/all/\"><div class=\"IndexMarks__item-name\">Buick</div><div class=\"IndexMarks__item-count\">8</div></a>,\n",
       "  <a class=\"IndexMarks__item\" href=\"https://auto.ru/moskovskaya_oblast/cars/cheryexeed/all/\"><div class=\"IndexMarks__item-name\">CHERYEXEED</div><div class=\"IndexMarks__item-count\">5</div></a>,\n",
       "  <a class=\"IndexMarks__item\" href=\"https://auto.ru/moskovskaya_oblast/cars/cadillac/all/\"><div class=\"IndexMarks__item-name\">Cadillac</div><div class=\"IndexMarks__item-count\">348</div></a>,\n",
       "  <a class=\"IndexMarks__item\" href=\"https://auto.ru/moskovskaya_oblast/cars/changan/all/\"><div class=\"IndexMarks__item-name\">Changan</div><div class=\"IndexMarks__item-count\">146</div></a>,\n",
       "  <a class=\"IndexMarks__item\" href=\"https://auto.ru/moskovskaya_oblast/cars/chery/all/\"><div class=\"IndexMarks__item-name\">Chery</div><div class=\"IndexMarks__item-count\">457</div></a>,\n",
       "  <a class=\"IndexMarks__item\" href=\"https://auto.ru/moskovskaya_oblast/cars/chevrolet/all/\"><div class=\"IndexMarks__item-name\">Chevrolet</div><div class=\"IndexMarks__item-count\">1625</div></a>,\n",
       "  <a class=\"IndexMarks__item\" href=\"https://auto.ru/moskovskaya_oblast/cars/chrysler/all/\"><div class=\"IndexMarks__item-name\">Chrysler</div><div class=\"IndexMarks__item-count\">176</div></a>,\n",
       "  <a class=\"IndexMarks__item\" href=\"https://auto.ru/moskovskaya_oblast/cars/citroen/all/\"><div class=\"IndexMarks__item-name\">Citroen</div><div class=\"IndexMarks__item-count\">745</div></a>,\n",
       "  <a class=\"IndexMarks__item\" href=\"https://auto.ru/moskovskaya_oblast/cars/dkw/all/\"><div class=\"IndexMarks__item-name\">DKW</div><div class=\"IndexMarks__item-count\">2</div></a>],\n",
       " [<a class=\"IndexMarks__item\" href=\"https://auto.ru/moskovskaya_oblast/cars/dw_hower/all/\"><div class=\"IndexMarks__item-name\">DW Hower</div><div class=\"IndexMarks__item-count\">4</div></a>,\n",
       "  <a class=\"IndexMarks__item\" href=\"https://auto.ru/moskovskaya_oblast/cars/dacia/all/\"><div class=\"IndexMarks__item-name\">Dacia</div><div class=\"IndexMarks__item-count\">5</div></a>,\n",
       "  <a class=\"IndexMarks__item\" href=\"https://auto.ru/moskovskaya_oblast/cars/daewoo/all/\"><div class=\"IndexMarks__item-name\">Daewoo</div><div class=\"IndexMarks__item-count\">359</div></a>,\n",
       "  <a class=\"IndexMarks__item\" href=\"https://auto.ru/moskovskaya_oblast/cars/daihatsu/all/\"><div class=\"IndexMarks__item-name\">Daihatsu</div><div class=\"IndexMarks__item-count\">30</div></a>,\n",
       "  <a class=\"IndexMarks__item\" href=\"https://auto.ru/moskovskaya_oblast/cars/daimler/all/\"><div class=\"IndexMarks__item-name\">Daimler</div><div class=\"IndexMarks__item-count\">3</div></a>,\n",
       "  <a class=\"IndexMarks__item\" href=\"https://auto.ru/moskovskaya_oblast/cars/dallara/all/\"><div class=\"IndexMarks__item-name\">Dallara</div><div class=\"IndexMarks__item-count\">1</div></a>,\n",
       "  <a class=\"IndexMarks__item\" href=\"https://auto.ru/moskovskaya_oblast/cars/datsun/all/\"><div class=\"IndexMarks__item-name\">Datsun</div><div class=\"IndexMarks__item-count\">99</div></a>,\n",
       "  <a class=\"IndexMarks__item\" href=\"https://auto.ru/moskovskaya_oblast/cars/delage/all/\"><div class=\"IndexMarks__item-name\">Delage</div><div class=\"IndexMarks__item-count\">1</div></a>,\n",
       "  <a class=\"IndexMarks__item\" href=\"https://auto.ru/moskovskaya_oblast/cars/derways/all/\"><div class=\"IndexMarks__item-name\">Derways</div><div class=\"IndexMarks__item-count\">1</div></a>,\n",
       "  <a class=\"IndexMarks__item\" href=\"https://auto.ru/moskovskaya_oblast/cars/dodge/all/\"><div class=\"IndexMarks__item-name\">Dodge</div><div class=\"IndexMarks__item-count\">261</div></a>,\n",
       "  <a class=\"IndexMarks__item\" href=\"https://auto.ru/moskovskaya_oblast/cars/dongfeng/all/\"><div class=\"IndexMarks__item-name\">DongFeng</div><div class=\"IndexMarks__item-count\">9</div></a>,\n",
       "  <a class=\"IndexMarks__item\" href=\"https://auto.ru/moskovskaya_oblast/cars/eagle/all/\"><div class=\"IndexMarks__item-name\">Eagle</div><div class=\"IndexMarks__item-count\">2</div></a>,\n",
       "  <a class=\"IndexMarks__item\" href=\"https://auto.ru/moskovskaya_oblast/cars/excalibur/all/\"><div class=\"IndexMarks__item-name\">Excalibur</div><div class=\"IndexMarks__item-count\">1</div></a>,\n",
       "  <a class=\"IndexMarks__item\" href=\"https://auto.ru/moskovskaya_oblast/cars/faw/all/\"><div class=\"IndexMarks__item-name\">FAW</div><div class=\"IndexMarks__item-count\">45</div></a>,\n",
       "  <a class=\"IndexMarks__item\" href=\"https://auto.ru/moskovskaya_oblast/cars/ferrari/all/\"><div class=\"IndexMarks__item-name\">Ferrari</div><div class=\"IndexMarks__item-count\">25</div></a>,\n",
       "  <a class=\"IndexMarks__item\" href=\"https://auto.ru/moskovskaya_oblast/cars/fiat/all/\"><div class=\"IndexMarks__item-name\">Fiat</div><div class=\"IndexMarks__item-count\">123</div></a>,\n",
       "  <a class=\"IndexMarks__item\" href=\"https://auto.ru/moskovskaya_oblast/cars/ford/all/\"><div class=\"IndexMarks__item-name\">Ford</div><div class=\"IndexMarks__item-count\">2449</div></a>,\n",
       "  <a class=\"IndexMarks__item\" href=\"https://auto.ru/moskovskaya_oblast/cars/gmc/all/\"><div class=\"IndexMarks__item-name\">GMC</div><div class=\"IndexMarks__item-count\">20</div></a>,\n",
       "  <a class=\"IndexMarks__item\" href=\"https://auto.ru/moskovskaya_oblast/cars/geely/all/\"><div class=\"IndexMarks__item-name\">Geely</div><div class=\"IndexMarks__item-count\">220</div></a>,\n",
       "  <a class=\"IndexMarks__item\" href=\"https://auto.ru/moskovskaya_oblast/cars/genesis/all/\"><div class=\"IndexMarks__item-name\">Genesis</div><div class=\"IndexMarks__item-count\">40</div></a>,\n",
       "  <a class=\"IndexMarks__item\" href=\"https://auto.ru/moskovskaya_oblast/cars/great_wall/all/\"><div class=\"IndexMarks__item-name\">Great Wall</div><div class=\"IndexMarks__item-count\">221</div></a>,\n",
       "  <a class=\"IndexMarks__item\" href=\"https://auto.ru/moskovskaya_oblast/cars/hafei/all/\"><div class=\"IndexMarks__item-name\">Hafei</div><div class=\"IndexMarks__item-count\">2</div></a>,\n",
       "  <a class=\"IndexMarks__item\" href=\"https://auto.ru/moskovskaya_oblast/cars/haima/all/\"><div class=\"IndexMarks__item-name\">Haima</div><div class=\"IndexMarks__item-count\">5</div></a>,\n",
       "  <a class=\"IndexMarks__item\" href=\"https://auto.ru/moskovskaya_oblast/cars/haval/all/\"><div class=\"IndexMarks__item-name\">Haval</div><div class=\"IndexMarks__item-count\">363</div></a>,\n",
       "  <a class=\"IndexMarks__item\" href=\"https://auto.ru/moskovskaya_oblast/cars/hawtai/all/\"><div class=\"IndexMarks__item-name\">Hawtai</div><div class=\"IndexMarks__item-count\">3</div></a>],\n",
       " [<a class=\"IndexMarks__item\" href=\"https://auto.ru/moskovskaya_oblast/cars/heinkel/all/\"><div class=\"IndexMarks__item-name\">Heinkel</div><div class=\"IndexMarks__item-count\">1</div></a>,\n",
       "  <a class=\"IndexMarks__item\" href=\"https://auto.ru/moskovskaya_oblast/cars/honda/all/\"><div class=\"IndexMarks__item-name\">Honda</div><div class=\"IndexMarks__item-count\">667</div></a>,\n",
       "  <a class=\"IndexMarks__item\" href=\"https://auto.ru/moskovskaya_oblast/cars/hummer/all/\"><div class=\"IndexMarks__item-name\">Hummer</div><div class=\"IndexMarks__item-count\">38</div></a>,\n",
       "  <a class=\"IndexMarks__item\" href=\"https://auto.ru/moskovskaya_oblast/cars/hyundai/all/\"><div class=\"IndexMarks__item-name\">Hyundai</div><div class=\"IndexMarks__item-count\">4068</div></a>,\n",
       "  <a class=\"IndexMarks__item\" href=\"https://auto.ru/moskovskaya_oblast/cars/infiniti/all/\"><div class=\"IndexMarks__item-name\">Infiniti</div><div class=\"IndexMarks__item-count\">634</div></a>,\n",
       "  <a class=\"IndexMarks__item\" href=\"https://auto.ru/moskovskaya_oblast/cars/iran_khodro/all/\"><div class=\"IndexMarks__item-name\">Iran Khodro</div><div class=\"IndexMarks__item-count\">10</div></a>,\n",
       "  <a class=\"IndexMarks__item\" href=\"https://auto.ru/moskovskaya_oblast/cars/isuzu/all/\"><div class=\"IndexMarks__item-name\">Isuzu</div><div class=\"IndexMarks__item-count\">19</div></a>,\n",
       "  <a class=\"IndexMarks__item\" href=\"https://auto.ru/moskovskaya_oblast/cars/jac/all/\"><div class=\"IndexMarks__item-name\">JAC</div><div class=\"IndexMarks__item-count\">4</div></a>,\n",
       "  <a class=\"IndexMarks__item\" href=\"https://auto.ru/moskovskaya_oblast/cars/jaguar/all/\"><div class=\"IndexMarks__item-name\">Jaguar</div><div class=\"IndexMarks__item-count\">243</div></a>,\n",
       "  <a class=\"IndexMarks__item\" href=\"https://auto.ru/moskovskaya_oblast/cars/jeep/all/\"><div class=\"IndexMarks__item-name\">Jeep</div><div class=\"IndexMarks__item-count\">423</div></a>,\n",
       "  <a class=\"IndexMarks__item\" href=\"https://auto.ru/moskovskaya_oblast/cars/kia/all/\"><div class=\"IndexMarks__item-name\">Kia</div><div class=\"IndexMarks__item-count\">4647</div></a>,\n",
       "  <a class=\"IndexMarks__item\" href=\"https://auto.ru/moskovskaya_oblast/cars/vaz/all/\"><div class=\"IndexMarks__item-name\">LADA (ВАЗ)</div><div class=\"IndexMarks__item-count\">4487</div></a>,\n",
       "  <a class=\"IndexMarks__item\" href=\"https://auto.ru/moskovskaya_oblast/cars/lamborghini/all/\"><div class=\"IndexMarks__item-name\">Lamborghini</div><div class=\"IndexMarks__item-count\">10</div></a>,\n",
       "  <a class=\"IndexMarks__item\" href=\"https://auto.ru/moskovskaya_oblast/cars/lancia/all/\"><div class=\"IndexMarks__item-name\">Lancia</div><div class=\"IndexMarks__item-count\">3</div></a>,\n",
       "  <a class=\"IndexMarks__item\" href=\"https://auto.ru/moskovskaya_oblast/cars/land_rover/all/\"><div class=\"IndexMarks__item-name\">Land Rover</div><div class=\"IndexMarks__item-count\">1307</div></a>,\n",
       "  <a class=\"IndexMarks__item\" href=\"https://auto.ru/moskovskaya_oblast/cars/lexus/all/\"><div class=\"IndexMarks__item-name\">Lexus</div><div class=\"IndexMarks__item-count\">914</div></a>,\n",
       "  <a class=\"IndexMarks__item\" href=\"https://auto.ru/moskovskaya_oblast/cars/lifan/all/\"><div class=\"IndexMarks__item-name\">Lifan</div><div class=\"IndexMarks__item-count\">120</div></a>,\n",
       "  <a class=\"IndexMarks__item\" href=\"https://auto.ru/moskovskaya_oblast/cars/lincoln/all/\"><div class=\"IndexMarks__item-name\">Lincoln</div><div class=\"IndexMarks__item-count\">45</div></a>,\n",
       "  <a class=\"IndexMarks__item\" href=\"https://auto.ru/moskovskaya_oblast/cars/luxgen/all/\"><div class=\"IndexMarks__item-name\">Luxgen</div><div class=\"IndexMarks__item-count\">11</div></a>,\n",
       "  <a class=\"IndexMarks__item\" href=\"https://auto.ru/moskovskaya_oblast/cars/mg/all/\"><div class=\"IndexMarks__item-name\">MG</div><div class=\"IndexMarks__item-count\">3</div></a>,\n",
       "  <a class=\"IndexMarks__item\" href=\"https://auto.ru/moskovskaya_oblast/cars/mini/all/\"><div class=\"IndexMarks__item-name\">MINI</div><div class=\"IndexMarks__item-count\">513</div></a>,\n",
       "  <a class=\"IndexMarks__item\" href=\"https://auto.ru/moskovskaya_oblast/cars/maserati/all/\"><div class=\"IndexMarks__item-name\">Maserati</div><div class=\"IndexMarks__item-count\">40</div></a>,\n",
       "  <a class=\"IndexMarks__item\" href=\"https://auto.ru/moskovskaya_oblast/cars/maybach/all/\"><div class=\"IndexMarks__item-name\">Maybach</div><div class=\"IndexMarks__item-count\">6</div></a>,\n",
       "  <a class=\"IndexMarks__item\" href=\"https://auto.ru/moskovskaya_oblast/cars/mazda/all/\"><div class=\"IndexMarks__item-name\">Mazda</div><div class=\"IndexMarks__item-count\">1473</div></a>,\n",
       "  <a class=\"IndexMarks__item\" href=\"https://auto.ru/moskovskaya_oblast/cars/mclaren/all/\"><div class=\"IndexMarks__item-name\">McLaren</div><div class=\"IndexMarks__item-count\">1</div></a>],\n",
       " [<a class=\"IndexMarks__item\" href=\"https://auto.ru/moskovskaya_oblast/cars/mercedes/all/\"><div class=\"IndexMarks__item-name\">Mercedes-Benz</div><div class=\"IndexMarks__item-count\">9510</div></a>,\n",
       "  <a class=\"IndexMarks__item\" href=\"https://auto.ru/moskovskaya_oblast/cars/mercury/all/\"><div class=\"IndexMarks__item-name\">Mercury</div><div class=\"IndexMarks__item-count\">8</div></a>,\n",
       "  <a class=\"IndexMarks__item\" href=\"https://auto.ru/moskovskaya_oblast/cars/metrocab/all/\"><div class=\"IndexMarks__item-name\">Metrocab</div><div class=\"IndexMarks__item-count\">1</div></a>,\n",
       "  <a class=\"IndexMarks__item\" href=\"https://auto.ru/moskovskaya_oblast/cars/mitsubishi/all/\"><div class=\"IndexMarks__item-name\">Mitsubishi</div><div class=\"IndexMarks__item-count\">2664</div></a>,\n",
       "  <a class=\"IndexMarks__item\" href=\"https://auto.ru/moskovskaya_oblast/cars/mitsuoka/all/\"><div class=\"IndexMarks__item-name\">Mitsuoka</div><div class=\"IndexMarks__item-count\">1</div></a>,\n",
       "  <a class=\"IndexMarks__item\" href=\"https://auto.ru/moskovskaya_oblast/cars/nissan/all/\"><div class=\"IndexMarks__item-name\">Nissan</div><div class=\"IndexMarks__item-count\">4998</div></a>,\n",
       "  <a class=\"IndexMarks__item\" href=\"https://auto.ru/moskovskaya_oblast/cars/oldsmobile/all/\"><div class=\"IndexMarks__item-name\">Oldsmobile</div><div class=\"IndexMarks__item-count\">6</div></a>,\n",
       "  <a class=\"IndexMarks__item\" href=\"https://auto.ru/moskovskaya_oblast/cars/opel/all/\"><div class=\"IndexMarks__item-name\">Opel</div><div class=\"IndexMarks__item-count\">1570</div></a>,\n",
       "  <a class=\"IndexMarks__item\" href=\"https://auto.ru/moskovskaya_oblast/cars/puch/all/\"><div class=\"IndexMarks__item-name\">PUCH</div><div class=\"IndexMarks__item-count\">1</div></a>,\n",
       "  <a class=\"IndexMarks__item\" href=\"https://auto.ru/moskovskaya_oblast/cars/packard/all/\"><div class=\"IndexMarks__item-name\">Packard</div><div class=\"IndexMarks__item-count\">2</div></a>,\n",
       "  <a class=\"IndexMarks__item\" href=\"https://auto.ru/moskovskaya_oblast/cars/peugeot/all/\"><div class=\"IndexMarks__item-name\">Peugeot</div><div class=\"IndexMarks__item-count\">887</div></a>,\n",
       "  <a class=\"IndexMarks__item\" href=\"https://auto.ru/moskovskaya_oblast/cars/plymouth/all/\"><div class=\"IndexMarks__item-name\">Plymouth</div><div class=\"IndexMarks__item-count\">11</div></a>,\n",
       "  <a class=\"IndexMarks__item\" href=\"https://auto.ru/moskovskaya_oblast/cars/pontiac/all/\"><div class=\"IndexMarks__item-name\">Pontiac</div><div class=\"IndexMarks__item-count\">19</div></a>,\n",
       "  <a class=\"IndexMarks__item\" href=\"https://auto.ru/moskovskaya_oblast/cars/porsche/all/\"><div class=\"IndexMarks__item-name\">Porsche</div><div class=\"IndexMarks__item-count\">612</div></a>,\n",
       "  <a class=\"IndexMarks__item\" href=\"https://auto.ru/moskovskaya_oblast/cars/proton/all/\"><div class=\"IndexMarks__item-name\">Proton</div><div class=\"IndexMarks__item-count\">1</div></a>,\n",
       "  <a class=\"IndexMarks__item\" href=\"https://auto.ru/moskovskaya_oblast/cars/ram/all/\"><div class=\"IndexMarks__item-name\">RAM</div><div class=\"IndexMarks__item-count\">9</div></a>,\n",
       "  <a class=\"IndexMarks__item\" href=\"https://auto.ru/moskovskaya_oblast/cars/ravon/all/\"><div class=\"IndexMarks__item-name\">Ravon</div><div class=\"IndexMarks__item-count\">49</div></a>,\n",
       "  <a class=\"IndexMarks__item\" href=\"https://auto.ru/moskovskaya_oblast/cars/renault/all/\"><div class=\"IndexMarks__item-name\">Renault</div><div class=\"IndexMarks__item-count\">3495</div></a>,\n",
       "  <a class=\"IndexMarks__item\" href=\"https://auto.ru/moskovskaya_oblast/cars/rolls_royce/all/\"><div class=\"IndexMarks__item-name\">Rolls-Royce</div><div class=\"IndexMarks__item-count\">66</div></a>,\n",
       "  <a class=\"IndexMarks__item\" href=\"https://auto.ru/moskovskaya_oblast/cars/rover/all/\"><div class=\"IndexMarks__item-name\">Rover</div><div class=\"IndexMarks__item-count\">35</div></a>,\n",
       "  <a class=\"IndexMarks__item\" href=\"https://auto.ru/moskovskaya_oblast/cars/seat/all/\"><div class=\"IndexMarks__item-name\">SEAT</div><div class=\"IndexMarks__item-count\">57</div></a>,\n",
       "  <a class=\"IndexMarks__item\" href=\"https://auto.ru/moskovskaya_oblast/cars/saab/all/\"><div class=\"IndexMarks__item-name\">Saab</div><div class=\"IndexMarks__item-count\">92</div></a>,\n",
       "  <a class=\"IndexMarks__item\" href=\"https://auto.ru/moskovskaya_oblast/cars/saturn/all/\"><div class=\"IndexMarks__item-name\">Saturn</div><div class=\"IndexMarks__item-count\">3</div></a>,\n",
       "  <a class=\"IndexMarks__item\" href=\"https://auto.ru/moskovskaya_oblast/cars/scion/all/\"><div class=\"IndexMarks__item-name\">Scion</div><div class=\"IndexMarks__item-count\">4</div></a>,\n",
       "  <a class=\"IndexMarks__item\" href=\"https://auto.ru/moskovskaya_oblast/cars/skoda/all/\"><div class=\"IndexMarks__item-name\">Skoda</div><div class=\"IndexMarks__item-count\">2702</div></a>],\n",
       " [<a class=\"IndexMarks__item\" href=\"https://auto.ru/moskovskaya_oblast/cars/smart/all/\"><div class=\"IndexMarks__item-name\">Smart</div><div class=\"IndexMarks__item-count\">64</div></a>,\n",
       "  <a class=\"IndexMarks__item\" href=\"https://auto.ru/moskovskaya_oblast/cars/ssang_yong/all/\"><div class=\"IndexMarks__item-name\">SsangYong</div><div class=\"IndexMarks__item-count\">349</div></a>,\n",
       "  <a class=\"IndexMarks__item\" href=\"https://auto.ru/moskovskaya_oblast/cars/subaru/all/\"><div class=\"IndexMarks__item-name\">Subaru</div><div class=\"IndexMarks__item-count\">543</div></a>,\n",
       "  <a class=\"IndexMarks__item\" href=\"https://auto.ru/moskovskaya_oblast/cars/suzuki/all/\"><div class=\"IndexMarks__item-name\">Suzuki</div><div class=\"IndexMarks__item-count\">769</div></a>,\n",
       "  <a class=\"IndexMarks__item\" href=\"https://auto.ru/moskovskaya_oblast/cars/tatra/all/\"><div class=\"IndexMarks__item-name\">Tatra</div><div class=\"IndexMarks__item-count\">1</div></a>,\n",
       "  <a class=\"IndexMarks__item\" href=\"https://auto.ru/moskovskaya_oblast/cars/tesla/all/\"><div class=\"IndexMarks__item-name\">Tesla</div><div class=\"IndexMarks__item-count\">33</div></a>,\n",
       "  <a class=\"IndexMarks__item\" href=\"https://auto.ru/moskovskaya_oblast/cars/toyota/all/\"><div class=\"IndexMarks__item-name\">Toyota</div><div class=\"IndexMarks__item-count\">2633</div></a>,\n",
       "  <a class=\"IndexMarks__item\" href=\"https://auto.ru/moskovskaya_oblast/cars/triumph/all/\"><div class=\"IndexMarks__item-name\">Triumph</div><div class=\"IndexMarks__item-count\">1</div></a>,\n",
       "  <a class=\"IndexMarks__item\" href=\"https://auto.ru/moskovskaya_oblast/cars/volkswagen/all/\"><div class=\"IndexMarks__item-name\">Volkswagen</div><div class=\"IndexMarks__item-count\">4874</div></a>,\n",
       "  <a class=\"IndexMarks__item\" href=\"https://auto.ru/moskovskaya_oblast/cars/volvo/all/\"><div class=\"IndexMarks__item-name\">Volvo</div><div class=\"IndexMarks__item-count\">1377</div></a>,\n",
       "  <a class=\"IndexMarks__item\" href=\"https://auto.ru/moskovskaya_oblast/cars/vortex/all/\"><div class=\"IndexMarks__item-name\">Vortex</div><div class=\"IndexMarks__item-count\">33</div></a>,\n",
       "  <a class=\"IndexMarks__item\" href=\"https://auto.ru/moskovskaya_oblast/cars/willis/all/\"><div class=\"IndexMarks__item-name\">Willys</div><div class=\"IndexMarks__item-count\">2</div></a>,\n",
       "  <a class=\"IndexMarks__item\" href=\"https://auto.ru/moskovskaya_oblast/cars/xinkai/all/\"><div class=\"IndexMarks__item-name\">Xin Kai</div><div class=\"IndexMarks__item-count\">1</div></a>,\n",
       "  <a class=\"IndexMarks__item\" href=\"https://auto.ru/moskovskaya_oblast/cars/zx/all/\"><div class=\"IndexMarks__item-name\">ZX</div><div class=\"IndexMarks__item-count\">4</div></a>,\n",
       "  <a class=\"IndexMarks__item\" href=\"https://auto.ru/moskovskaya_oblast/cars/zotye/all/\"><div class=\"IndexMarks__item-name\">Zotye</div><div class=\"IndexMarks__item-count\">10</div></a>,\n",
       "  <a class=\"IndexMarks__item\" href=\"https://auto.ru/moskovskaya_oblast/cars/gaz/all/\"><div class=\"IndexMarks__item-name\">ГАЗ</div><div class=\"IndexMarks__item-count\">553</div></a>,\n",
       "  <a class=\"IndexMarks__item\" href=\"https://auto.ru/moskovskaya_oblast/cars/promo_auto/all/\"><div class=\"IndexMarks__item-name\">Гоночный автомобиль</div><div class=\"IndexMarks__item-count\">3</div></a>,\n",
       "  <a class=\"IndexMarks__item\" href=\"https://auto.ru/moskovskaya_oblast/cars/zaz/all/\"><div class=\"IndexMarks__item-name\">ЗАЗ</div><div class=\"IndexMarks__item-count\">110</div></a>,\n",
       "  <a class=\"IndexMarks__item\" href=\"https://auto.ru/moskovskaya_oblast/cars/zil/all/\"><div class=\"IndexMarks__item-name\">ЗИЛ</div><div class=\"IndexMarks__item-count\">3</div></a>,\n",
       "  <a class=\"IndexMarks__item\" href=\"https://auto.ru/moskovskaya_oblast/cars/ig/all/\"><div class=\"IndexMarks__item-name\">ИЖ</div><div class=\"IndexMarks__item-count\">65</div></a>,\n",
       "  <a class=\"IndexMarks__item\" href=\"https://auto.ru/moskovskaya_oblast/cars/luaz/all/\"><div class=\"IndexMarks__item-name\">ЛуАЗ</div><div class=\"IndexMarks__item-count\">20</div></a>,\n",
       "  <a class=\"IndexMarks__item\" href=\"https://auto.ru/moskovskaya_oblast/cars/moscvich/all/\"><div class=\"IndexMarks__item-name\">Москвич</div><div class=\"IndexMarks__item-count\">122</div></a>,\n",
       "  <a class=\"IndexMarks__item\" href=\"https://auto.ru/moskovskaya_oblast/cars/smz/all/\"><div class=\"IndexMarks__item-name\">СМЗ</div><div class=\"IndexMarks__item-count\">1</div></a>,\n",
       "  <a class=\"IndexMarks__item\" href=\"https://auto.ru/moskovskaya_oblast/cars/tagaz/all/\"><div class=\"IndexMarks__item-name\">ТагАЗ</div><div class=\"IndexMarks__item-count\">39</div></a>,\n",
       "  <a class=\"IndexMarks__item\" href=\"https://auto.ru/moskovskaya_oblast/cars/uaz/all/\"><div class=\"IndexMarks__item-name\">УАЗ</div><div class=\"IndexMarks__item-count\">593</div></a>]]"
      ]
     },
     "execution_count": 6,
     "metadata": {},
     "output_type": "execute_result"
    }
   ],
   "source": [
    "#Попробуем вынуть записи с ссылками\n",
    "marks = list(map(lambda x: x.find_all('a', class_='IndexMarks__item'), marks_to_sale))\n",
    "marks"
   ]
  },
  {
   "cell_type": "code",
   "execution_count": 7,
   "metadata": {},
   "outputs": [
    {
     "name": "stdout",
     "output_type": "stream",
     "text": [
      "125\n"
     ]
    }
   ],
   "source": [
    "#Пока данные всё ещё в виде списка перечней\n",
    "len(marks)\n",
    "marks1 = list(chain(*marks))\n",
    "print(len(marks1))"
   ]
  },
  {
   "cell_type": "code",
   "execution_count": 8,
   "metadata": {},
   "outputs": [
    {
     "data": {
      "text/plain": [
       "125"
      ]
     },
     "execution_count": 8,
     "metadata": {},
     "output_type": "execute_result"
    }
   ],
   "source": [
    "#Составим список из ссылок. При этом заменим  категорию \"все\" на \"подержанные\"\n",
    "ref = []\n",
    "for m in marks1:\n",
    "    r = m.get('href')\n",
    "    r = r.replace(\"/all/\", \"/used/\")\n",
    "    ref.append(r)\n",
    "len(ref)"
   ]
  },
  {
   "cell_type": "code",
   "execution_count": 9,
   "metadata": {},
   "outputs": [
    {
     "name": "stdout",
     "output_type": "stream",
     "text": [
      "<class 'str'> https://auto.ru/moskovskaya_oblast/cars/moscvich/used/\n"
     ]
    }
   ],
   "source": [
    "#Посмотрим, что же получилось\n",
    "print(type(ref[121]), ref[121])"
   ]
  },
  {
   "cell_type": "code",
   "execution_count": 10,
   "metadata": {},
   "outputs": [
    {
     "data": {
      "application/vnd.jupyter.widget-view+json": {
       "model_id": "6e3772eecc16422c99c12ad51d58a7b5",
       "version_major": 2,
       "version_minor": 0
      },
      "text/plain": [
       "HBox(children=(FloatProgress(value=0.0, max=125.0), HTML(value='')))"
      ]
     },
     "metadata": {},
     "output_type": "display_data"
    },
    {
     "name": "stdout",
     "output_type": "stream",
     "text": [
      "\n"
     ]
    }
   ],
   "source": [
    "ref_pages = []\n",
    "ref_pages = Parallel(n_jobs=6)(delayed(ads_pages)(page_link) for page_link in tqdm(ref))"
   ]
  },
  {
   "cell_type": "code",
   "execution_count": 11,
   "metadata": {},
   "outputs": [],
   "source": [
    "ref_pages_fin = list(chain(*ref_pages))\n",
    "#Сохраним список ссылок на страницы в файл \"про запас\"\n",
    "pd.Series(ref_pages_fin).to_csv('links_page.csv', index=False)\n"
   ]
  },
  {
   "cell_type": "code",
   "execution_count": 12,
   "metadata": {},
   "outputs": [],
   "source": [
    "ref_pages = list(pd.read_csv('links_page.csv').values.flatten())"
   ]
  },
  {
   "cell_type": "markdown",
   "metadata": {},
   "source": [
    "Получим список ссылок на все объявления о продаже подержанных машин"
   ]
  },
  {
   "cell_type": "code",
   "execution_count": 13,
   "metadata": {},
   "outputs": [
    {
     "data": {
      "application/vnd.jupyter.widget-view+json": {
       "model_id": "fcf9aa2017cc4091a133f3d83f88eb0d",
       "version_major": 2,
       "version_minor": 0
      },
      "text/plain": [
       "HBox(children=(FloatProgress(value=0.0, max=1454.0), HTML(value='')))"
      ]
     },
     "metadata": {},
     "output_type": "display_data"
    },
    {
     "name": "stdout",
     "output_type": "stream",
     "text": [
      "\n"
     ]
    }
   ],
   "source": [
    "ads = []\n",
    "ads = Parallel(n_jobs=10)(delayed(get_ad_url)(page_link) for page_link in tqdm(ref_pages))"
   ]
  },
  {
   "cell_type": "code",
   "execution_count": 14,
   "metadata": {},
   "outputs": [
    {
     "name": "stdout",
     "output_type": "stream",
     "text": [
      "51086 https://auto.ru/cars/used/sale/audi/q8/1101309177-08b855ef/\n"
     ]
    }
   ],
   "source": [
    "#Преобразуем список, посмотрим, что получилось на случайно выбранном примере\n",
    "ads_list = list(chain(*ads))\n",
    "print(len(ads_list), ads_list[115])"
   ]
  },
  {
   "cell_type": "code",
   "execution_count": 15,
   "metadata": {},
   "outputs": [],
   "source": [
    "#Также сохраним этот список в файл\n",
    "pd.Series(ads_list).to_csv('ads_links.csv', index=False)"
   ]
  },
  {
   "cell_type": "code",
   "execution_count": 16,
   "metadata": {},
   "outputs": [],
   "source": [
    "#Извлечём список из файла. Этот код можно закомментировать, если скрипт выполняется подряд.\n",
    "ads_list1 = list(pd.read_csv('ads_links.csv').values.flatten())"
   ]
  },
  {
   "cell_type": "code",
   "execution_count": 17,
   "metadata": {},
   "outputs": [
    {
     "data": {
      "application/vnd.jupyter.widget-view+json": {
       "model_id": "80cfe8ba83224c029672410de7c08d36",
       "version_major": 2,
       "version_minor": 0
      },
      "text/plain": [
       "HBox(children=(FloatProgress(value=0.0, max=51086.0), HTML(value='')))"
      ]
     },
     "metadata": {},
     "output_type": "display_data"
    },
    {
     "name": "stdout",
     "output_type": "stream",
     "text": [
      "\n"
     ]
    }
   ],
   "source": [
    "car_data_list1 = []\n",
    "car_data_list1 = Parallel(n_jobs=4)(delayed(car_data1)(ads) for ads in tqdm(ads_list1))\n",
    "\n",
    "    "
   ]
  },
  {
   "cell_type": "code",
   "execution_count": 18,
   "metadata": {},
   "outputs": [],
   "source": [
    "pd.Series(car_data_list1).to_csv('car_data0.csv', index=False)"
   ]
  },
  {
   "cell_type": "code",
   "execution_count": 19,
   "metadata": {},
   "outputs": [
    {
     "name": "stdout",
     "output_type": "stream",
     "text": [
      "51086 <class 'dict'> {'car_url': 'https://auto.ru/cars/used/sale/audi/q8/1101309177-08b855ef/', 'parsing_unixtime': 1609919289, 'complectation_dict': '{\"id\":\"21520421\",\"name\":\"45 TDI\",\"available_options\":[\"cruise-control\",\"multi-wheel\",\"airbag-passenger\",\"bas\",\"lock\",\"door-sill-panel\",\"electro-mirrors\",\"activ-suspension\",\"mirrors-heat\",\"glonass\",\"automatic-lighting-control\",\"passenger-seat-updown\",\"computer\",\"seat-transformation\",\"light-cleaner\",\"airbag-side\",\"electro-trunk\",\"abs\",\"wheel-leather\",\"climate-control-2\",\"auto-mirrors\",\"asr\",\"esp\",\"usb\",\"audiopreparation\",\"ashtray-and-cigarette-lighter\",\"front-centre-armrest\",\"20-inch-wheels\",\"servo\",\"steering-wheel-gear-shift-paddles\",\"electro-window-back\",\"reduce-spare-wheel\",\"body-mouldings\",\"combo-interior\",\"led-lights\",\"music-super\",\"park-assist-r\",\"airbag-driver\",\"isofix\",\"aux\",\"electro-window-front\",\"light-sensor\",\"hcc\",\"airbag-curtain\",\"keyless-entry\",\"passenger-seat-electric\",\"start-button\",\"rain-sensor\",\"tyre-pressure\",\"bluetooth\",\"wheel-configuration2\",\"wheel-configuration1\",\"immo\",\"12v-socket\",\"third-rear-headrest\"],\"vendor_colors\":[{\"body_color_id\":21455811,\"mark_color_id\":21455740,\"name_ru\":\"Dragon Orange\",\"hex_codes\":[\"ED7F01\"],\"color_type\":\"METALLIC\",\"stock_color\":{\"hex_code\":\"FF8649\",\"name_ru\":\"оранжевый\"}', 'equipment_dict': '{\"cruise-control\":true,\"asr\":true,\"esp\":true,\"adaptive-light\":true,\"usb\":true,\"multi-wheel\":true,\"ashtray-and-cigarette-lighter\":true,\"airbag-passenger\":true,\"front-centre-armrest\":true,\"navigation\":true,\"bas\":true,\"20-inch-wheels\":true,\"lock\":true,\"door-sill-panel\":true,\"servo\":true,\"steering-wheel-gear-shift-paddles\":true,\"drl\":true,\"electro-mirrors\":true,\"activ-suspension\":true,\"electro-window-back\":true,\"reduce-spare-wheel\":true,\"mirrors-heat\":true,\"body-mouldings\":true,\"combo-interior\":true,\"rear-seats-heat\":true,\"led-lights\":true,\"music-super\":true,\"park-assist-r\":true,\"glonass\":true,\"airbag-driver\":true,\"isofix\":true,\"aux\":true,\"electro-window-front\":true,\"light-sensor\":true,\"hcc\":true,\"automatic-lighting-control\":true,\"airbag-curtain\":true,\"passenger-seat-updown\":true,\"computer\":true,\"keyless-entry\":true,\"seat-transformation\":true,\"passenger-seat-electric\":true,\"light-cleaner\":true,\"start-button\":true,\"ptf\":true,\"rain-sensor\":true,\"airbag-side\":true,\"voice-recognition\":true,\"tyre-pressure\":true,\"electro-trunk\":true,\"abs\":true,\"front-seats-heat\":true,\"bluetooth\":true,\"wheel-leather\":true,\"wheel-configuration2\":true,\"wheel-configuration1\":true,\"immo\":true,\"climate-control-2\":true,\"auto-mirrors\":true,\"12v-socket\":true,\"third-rear-headrest\":true}', 'mileage': '5000', 'model_info': '{\"code\":\"Q8\",\"name\":\"Q8\",\"ru_name\":\"Ку8\",\"morphology\":{}', 'model_name': 'Q8', 'super_gen': '{\"id\":\"21315288\",\"name\":\"I\",\"ru_name\":\"1\",\"year_from\":2018,\"price_segment\":\"PREMIUM\"}', 'vendor': 'EUROPEAN', 'sell_id': '1101309177', 'bodyType': 'внедорожник 5 дв.', 'brand': 'AUDI', 'color': 'белый', 'fuelType': 'дизель', 'modelDate': '2018', 'name': '45 TDI 3.0d AT (249 л.с.) 4WD', 'numberOfDoors': '5', 'productionDate': '2019', 'vehicleConfiguration': 'ALLROAD_5_DOORS AUTOMATIC 3.0', 'vehicleTransmission': 'автоматическая', 'price': '5900000', 'priceCurrency': 'RUB', 'engineDisplacement': '3.0 LTR', 'enginePower': '249 N12', 'description': 'Отличная новая машина. Ездила женщина. Обращение бережное. Подземный паркинг. Дополнительно сделана шумоизоляция, бронепленка и недавно оплачено Каско. В наличии зимняя резина.', 'Привод': 'полный', 'Руль': 'Левый', 'Состояние': 'Не требует ремонта', 'Владельцы': '1 владелец', 'ПТС': 'Оригинал', 'Владение': '1 год и 3 месяца', 'Таможня': 'Растаможен'}\n"
     ]
    }
   ],
   "source": [
    "print(len(car_data_list1),type(car_data_list1[1]), car_data_list1[115])"
   ]
  },
  {
   "cell_type": "code",
   "execution_count": 20,
   "metadata": {},
   "outputs": [],
   "source": [
    "data1 = pd.DataFrame()\n",
    "for car in car_data_list1:\n",
    "    try:\n",
    "        data1 = data1.append(car, ignore_index=True)\n",
    "    except:\n",
    "        pass\n",
    "data1.to_csv('car_auto_ru_info_train.csv', encoding = 'utf-8', index=False)"
   ]
  },
  {
   "cell_type": "code",
   "execution_count": 21,
   "metadata": {},
   "outputs": [
    {
     "data": {
      "text/html": [
       "<div>\n",
       "<style scoped>\n",
       "    .dataframe tbody tr th:only-of-type {\n",
       "        vertical-align: middle;\n",
       "    }\n",
       "\n",
       "    .dataframe tbody tr th {\n",
       "        vertical-align: top;\n",
       "    }\n",
       "\n",
       "    .dataframe thead th {\n",
       "        text-align: right;\n",
       "    }\n",
       "</style>\n",
       "<table border=\"1\" class=\"dataframe\">\n",
       "  <thead>\n",
       "    <tr style=\"text-align: right;\">\n",
       "      <th></th>\n",
       "      <th>40796</th>\n",
       "      <th>14697</th>\n",
       "    </tr>\n",
       "  </thead>\n",
       "  <tbody>\n",
       "    <tr>\n",
       "      <th>bodyType</th>\n",
       "      <td>лифтбек</td>\n",
       "      <td>седан</td>\n",
       "    </tr>\n",
       "    <tr>\n",
       "      <th>brand</th>\n",
       "      <td>SKODA</td>\n",
       "      <td>HYUNDAI</td>\n",
       "    </tr>\n",
       "    <tr>\n",
       "      <th>car_url</th>\n",
       "      <td>https://auto.ru/cars/used/sale/skoda/rapid/110...</td>\n",
       "      <td>https://auto.ru/cars/used/sale/hyundai/solaris...</td>\n",
       "    </tr>\n",
       "    <tr>\n",
       "      <th>color</th>\n",
       "      <td>синий</td>\n",
       "      <td>чёрный</td>\n",
       "    </tr>\n",
       "    <tr>\n",
       "      <th>complectation_dict</th>\n",
       "      <td>{\"id\":\"0\"}</td>\n",
       "      <td>{\"id\":\"0\"}</td>\n",
       "    </tr>\n",
       "    <tr>\n",
       "      <th>description</th>\n",
       "      <td>В РОЛЬФ Вешки Вас ждут 1 000 автомобилей с про...</td>\n",
       "      <td>Комплектация автомобиля:\\n\\n• AUX\\n• USB\\n• ро...</td>\n",
       "    </tr>\n",
       "    <tr>\n",
       "      <th>engineDisplacement</th>\n",
       "      <td>1.6 LTR</td>\n",
       "      <td>1.6 LTR</td>\n",
       "    </tr>\n",
       "    <tr>\n",
       "      <th>enginePower</th>\n",
       "      <td>110 N12</td>\n",
       "      <td>123 N12</td>\n",
       "    </tr>\n",
       "    <tr>\n",
       "      <th>equipment_dict</th>\n",
       "      <td>{\"airbag-passenger\":true,\"abs\":true,\"ptf\":true...</td>\n",
       "      <td>{\"engine-proof\":true,\"tinted-glass\":true,\"aux\"...</td>\n",
       "    </tr>\n",
       "    <tr>\n",
       "      <th>fuelType</th>\n",
       "      <td>бензин</td>\n",
       "      <td>бензин</td>\n",
       "    </tr>\n",
       "    <tr>\n",
       "      <th>mileage</th>\n",
       "      <td>63477</td>\n",
       "      <td>83637</td>\n",
       "    </tr>\n",
       "    <tr>\n",
       "      <th>modelDate</th>\n",
       "      <td>2012</td>\n",
       "      <td>2014</td>\n",
       "    </tr>\n",
       "    <tr>\n",
       "      <th>model_info</th>\n",
       "      <td>{\"code\":\"RAPID\",\"name\":\"Rapid\",\"ru_name\":\"Рапи...</td>\n",
       "      <td>{\"code\":\"SOLARIS\",\"name\":\"Solaris\",\"ru_name\":\"...</td>\n",
       "    </tr>\n",
       "    <tr>\n",
       "      <th>model_name</th>\n",
       "      <td>RAPID</td>\n",
       "      <td>SOLARIS</td>\n",
       "    </tr>\n",
       "    <tr>\n",
       "      <th>name</th>\n",
       "      <td>1.6 AT (110 л.с.)</td>\n",
       "      <td>1.6 AT (123 л.с.)</td>\n",
       "    </tr>\n",
       "    <tr>\n",
       "      <th>numberOfDoors</th>\n",
       "      <td>5</td>\n",
       "      <td>4</td>\n",
       "    </tr>\n",
       "    <tr>\n",
       "      <th>parsing_unixtime</th>\n",
       "      <td>1.60993e+09</td>\n",
       "      <td>1.60992e+09</td>\n",
       "    </tr>\n",
       "    <tr>\n",
       "      <th>price</th>\n",
       "      <td>779000</td>\n",
       "      <td>694000</td>\n",
       "    </tr>\n",
       "    <tr>\n",
       "      <th>priceCurrency</th>\n",
       "      <td>RUB</td>\n",
       "      <td>RUB</td>\n",
       "    </tr>\n",
       "    <tr>\n",
       "      <th>productionDate</th>\n",
       "      <td>2016</td>\n",
       "      <td>2016</td>\n",
       "    </tr>\n",
       "    <tr>\n",
       "      <th>sell_id</th>\n",
       "      <td>1.10171e+09</td>\n",
       "      <td>1.10189e+09</td>\n",
       "    </tr>\n",
       "    <tr>\n",
       "      <th>super_gen</th>\n",
       "      <td>{\"id\":\"9275797\",\"name\":\"I\",\"ru_name\":\"1\",\"year...</td>\n",
       "      <td>{\"id\":\"20162370\",\"name\":\"I Рестайлинг\",\"ru_nam...</td>\n",
       "    </tr>\n",
       "    <tr>\n",
       "      <th>vehicleConfiguration</th>\n",
       "      <td>LIFTBACK AUTOMATIC 1.6</td>\n",
       "      <td>SEDAN AUTOMATIC 1.6</td>\n",
       "    </tr>\n",
       "    <tr>\n",
       "      <th>vehicleTransmission</th>\n",
       "      <td>автоматическая</td>\n",
       "      <td>автоматическая</td>\n",
       "    </tr>\n",
       "    <tr>\n",
       "      <th>vendor</th>\n",
       "      <td>EUROPEAN</td>\n",
       "      <td>KOREAN</td>\n",
       "    </tr>\n",
       "    <tr>\n",
       "      <th>Владельцы</th>\n",
       "      <td>1 владелец</td>\n",
       "      <td>1 владелец</td>\n",
       "    </tr>\n",
       "    <tr>\n",
       "      <th>ПТС</th>\n",
       "      <td>Оригинал</td>\n",
       "      <td>Оригинал</td>\n",
       "    </tr>\n",
       "    <tr>\n",
       "      <th>Привод</th>\n",
       "      <td>передний</td>\n",
       "      <td>передний</td>\n",
       "    </tr>\n",
       "    <tr>\n",
       "      <th>Руль</th>\n",
       "      <td>Левый</td>\n",
       "      <td>Левый</td>\n",
       "    </tr>\n",
       "    <tr>\n",
       "      <th>Состояние</th>\n",
       "      <td>Не требует ремонта</td>\n",
       "      <td>Не требует ремонта</td>\n",
       "    </tr>\n",
       "    <tr>\n",
       "      <th>Таможня</th>\n",
       "      <td>Растаможен</td>\n",
       "      <td>Растаможен</td>\n",
       "    </tr>\n",
       "    <tr>\n",
       "      <th>Владение</th>\n",
       "      <td>NaN</td>\n",
       "      <td>NaN</td>\n",
       "    </tr>\n",
       "  </tbody>\n",
       "</table>\n",
       "</div>"
      ],
      "text/plain": [
       "                                                                  40796  \\\n",
       "bodyType                                                        лифтбек   \n",
       "brand                                                             SKODA   \n",
       "car_url               https://auto.ru/cars/used/sale/skoda/rapid/110...   \n",
       "color                                                             синий   \n",
       "complectation_dict                                           {\"id\":\"0\"}   \n",
       "description           В РОЛЬФ Вешки Вас ждут 1 000 автомобилей с про...   \n",
       "engineDisplacement                                              1.6 LTR   \n",
       "enginePower                                                     110 N12   \n",
       "equipment_dict        {\"airbag-passenger\":true,\"abs\":true,\"ptf\":true...   \n",
       "fuelType                                                         бензин   \n",
       "mileage                                                           63477   \n",
       "modelDate                                                          2012   \n",
       "model_info            {\"code\":\"RAPID\",\"name\":\"Rapid\",\"ru_name\":\"Рапи...   \n",
       "model_name                                                        RAPID   \n",
       "name                                                  1.6 AT (110 л.с.)   \n",
       "numberOfDoors                                                         5   \n",
       "parsing_unixtime                                            1.60993e+09   \n",
       "price                                                            779000   \n",
       "priceCurrency                                                       RUB   \n",
       "productionDate                                                     2016   \n",
       "sell_id                                                     1.10171e+09   \n",
       "super_gen             {\"id\":\"9275797\",\"name\":\"I\",\"ru_name\":\"1\",\"year...   \n",
       "vehicleConfiguration                             LIFTBACK AUTOMATIC 1.6   \n",
       "vehicleTransmission                                      автоматическая   \n",
       "vendor                                                         EUROPEAN   \n",
       "Владельцы                                                    1 владелец   \n",
       "ПТС                                                            Оригинал   \n",
       "Привод                                                         передний   \n",
       "Руль                                                              Левый   \n",
       "Состояние                                            Не требует ремонта   \n",
       "Таможня                                                      Растаможен   \n",
       "Владение                                                            NaN   \n",
       "\n",
       "                                                                  14697  \n",
       "bodyType                                                          седан  \n",
       "brand                                                           HYUNDAI  \n",
       "car_url               https://auto.ru/cars/used/sale/hyundai/solaris...  \n",
       "color                                                            чёрный  \n",
       "complectation_dict                                           {\"id\":\"0\"}  \n",
       "description           Комплектация автомобиля:\\n\\n• AUX\\n• USB\\n• ро...  \n",
       "engineDisplacement                                              1.6 LTR  \n",
       "enginePower                                                     123 N12  \n",
       "equipment_dict        {\"engine-proof\":true,\"tinted-glass\":true,\"aux\"...  \n",
       "fuelType                                                         бензин  \n",
       "mileage                                                           83637  \n",
       "modelDate                                                          2014  \n",
       "model_info            {\"code\":\"SOLARIS\",\"name\":\"Solaris\",\"ru_name\":\"...  \n",
       "model_name                                                      SOLARIS  \n",
       "name                                                  1.6 AT (123 л.с.)  \n",
       "numberOfDoors                                                         4  \n",
       "parsing_unixtime                                            1.60992e+09  \n",
       "price                                                            694000  \n",
       "priceCurrency                                                       RUB  \n",
       "productionDate                                                     2016  \n",
       "sell_id                                                     1.10189e+09  \n",
       "super_gen             {\"id\":\"20162370\",\"name\":\"I Рестайлинг\",\"ru_nam...  \n",
       "vehicleConfiguration                                SEDAN AUTOMATIC 1.6  \n",
       "vehicleTransmission                                      автоматическая  \n",
       "vendor                                                           KOREAN  \n",
       "Владельцы                                                    1 владелец  \n",
       "ПТС                                                            Оригинал  \n",
       "Привод                                                         передний  \n",
       "Руль                                                              Левый  \n",
       "Состояние                                            Не требует ремонта  \n",
       "Таможня                                                      Растаможен  \n",
       "Владение                                                            NaN  "
      ]
     },
     "execution_count": 21,
     "metadata": {},
     "output_type": "execute_result"
    }
   ],
   "source": [
    "df = pd.read_csv('car_auto_ru_info_train.csv')\n",
    "df.sample(2).T"
   ]
  },
  {
   "cell_type": "code",
   "execution_count": null,
   "metadata": {},
   "outputs": [],
   "source": []
  }
 ],
 "metadata": {
  "kernelspec": {
   "display_name": "Python 3",
   "language": "python",
   "name": "python3"
  },
  "language_info": {
   "codemirror_mode": {
    "name": "ipython",
    "version": 3
   },
   "file_extension": ".py",
   "mimetype": "text/x-python",
   "name": "python",
   "nbconvert_exporter": "python",
   "pygments_lexer": "ipython3",
   "version": "3.8.3"
  }
 },
 "nbformat": 4,
 "nbformat_minor": 4
}
